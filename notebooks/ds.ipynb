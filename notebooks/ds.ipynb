{
 "cells": [
  {
   "cell_type": "code",
   "execution_count": 1,
   "id": "systematic-floor",
   "metadata": {},
   "outputs": [],
   "source": [
    "import os\n",
    "import sys\n",
    "module_path = os.path.abspath(os.path.join('..'))\n",
    "if module_path not in sys.path:\n",
    "    sys.path.append(module_path)\n"
   ]
  },
  {
   "cell_type": "code",
   "execution_count": 2,
   "id": "cloudy-matter",
   "metadata": {},
   "outputs": [],
   "source": [
    "import numpy as np\n",
    "import pandas as pd\n",
    "from data_util import *\n",
    "\n",
    "independents = [\"dew\", \"temp\", \"press\", \"wind_direction\", \"wind_speed\", \"snow\", \"rain\"]\n",
    "dependent = \"pollution\"\n",
    "\n",
    "# Global param\n",
    "n_steps = 128\n",
    "window_size = 8\n",
    "n_variables = len(independents)\n",
    "samples_size = 100\n",
    "\n",
    "df = load_data_set_bejin()\n",
    "x_scaler, y_scaler = get_xy_scalers(df, independents, dependent)\n",
    "df[independents] = x_scaler.transform(df[independents].values)\n",
    "df[dependent] = y_scaler.transform(df[dependent].values.reshape(-1, 1))"
   ]
  },
  {
   "cell_type": "code",
   "execution_count": 3,
   "id": "protecting-stroke",
   "metadata": {},
   "outputs": [
    {
     "output_type": "stream",
     "name": "stdout",
     "text": [
      "(34936, 128, 7) (34936,)\n",
      "(8735, 128, 7) (8735,)\n"
     ]
    }
   ],
   "source": [
    "from random import shuffle\n",
    "\n",
    "indices = [i for i in range(len(df) - 129)]\n",
    "train, test = np.split(indices, [int(len(indices)*0.8)])\n",
    "\n",
    "X = []\n",
    "y = []\n",
    "for index in train:\n",
    "    X.append(df.iloc[index:index+n_steps][independents].values)\n",
    "    y.append(df.iloc[index+n_steps][dependent])\n",
    "    \n",
    "X = np.array(X)\n",
    "y = np.array(y)\n",
    "print(X.shape, y.shape)\n",
    "\n",
    "\n",
    "X_test = []\n",
    "y_test = []\n",
    "for index in test:\n",
    "    X_test.append(df.iloc[index:index+n_steps][independents].values)\n",
    "    y_test.append(df.iloc[index+n_steps][dependent])\n",
    "    \n",
    "X_test = np.array(X_test)\n",
    "y_test = np.array(y_test)\n",
    "print(X_test.shape, y_test.shape)"
   ]
  },
  {
   "cell_type": "code",
   "execution_count": 4,
   "id": "alternative-campaign",
   "metadata": {},
   "outputs": [],
   "source": [
    "# from tensorflow.keras.models import Sequential\n",
    "# from tensorflow.keras.layers import LSTM\n",
    "# from tensorflow.keras.layers import Dense\n",
    "# from tensorflow.keras.optimizers import Adam\n",
    "import tensorflow as tf\n",
    "model = tf.keras.models.load_model(\"data/lstm_mts_128_1.h5\")\n",
    "# define model\n",
    "# model = Sequential()\n",
    "# model.add(LSTM(50, activation='relu', input_shape=(128, 7)))\n",
    "# model.add(Dense(1))\n",
    "# model.compile(optimizer=Adam(clipnorm=1.), loss='mse')\n",
    "# model.fit(X, y, epochs=20, verbose=1)\n",
    "# model.save('daniels_lstm_mts_128_1.h5')"
   ]
  },
  {
   "cell_type": "code",
   "execution_count": 27,
   "id": "amazing-oxygen",
   "metadata": {},
   "outputs": [
    {
     "output_type": "stream",
     "name": "stderr",
     "text": [
      "100%|██████████| 100/100 [12:02<00:00,  7.23s/it]\n"
     ]
    }
   ],
   "source": [
    "from tsx.xai.lime import LIMETimeSeries\n",
    "import tqdm\n",
    "def predict_fn(z, model=model):\n",
    "    z_reshaped = z.T.reshape(1, 128, 7)\n",
    "    z_hat = model.predict(z_reshaped)\n",
    "    # to avoid zero coef_ for z_hat in[0, 1]\n",
    "    z_hat = y_scaler.inverse_transform(z_hat.reshape(-1, 1))  \n",
    "    z_hat = z_hat.ravel()   # z_hat will arround 50 - 150\n",
    "    return z_hat[0]\n",
    "\n",
    "X_lime = []\n",
    "X_random = []\n",
    "\n",
    "N=100\n",
    "for i in tqdm.tqdm(range(N)):\n",
    "    # create local lime explanation\n",
    "    sample = np.array(X_test[i], copy=True)\n",
    "    ts_x = sample.T # (n_features, n_steps) \n",
    "    ts_lime = LIMETimeSeries(scale=\"sync\", window_size=1, sample_size=100)\n",
    "    ts_lime = ts_lime.explain(ts_x, predict_fn=predict_fn)\n",
    "\n",
    "    # convert coef to original shape of ts_x\n",
    "    x_coef = ts_lime.perturb_obj._x_masked(ts_x, ts_lime.coef)\n",
    "    \n",
    "    # create random values\n",
    "    # r = np.random.rand(*sample.shape)\n",
    "    r = np.zeros_like(sample)\n",
    "\n",
    "    # find the most important values and replace them with random values\n",
    "    important_coef = ts_lime.coef[ts_lime.coef != 0]\n",
    "    mask = np.ma.masked_where(np.logical_or(x_coef < np.percentile(important_coef, 10), \n",
    "                                            x_coef > np.percentile(important_coef, 90))\n",
    "                              , x_coef).mask\n",
    "    mask = mask.reshape(n_variables, -1).T\n",
    "    sample[mask] = r[mask]\n",
    "    X_lime.append(sample)\n",
    "\n",
    "    # shuffle the mask to randomly change the same amount of features\n",
    "    sample = np.array(X_test[i], copy=True)\n",
    "    np.random.shuffle(mask)\n",
    "    sample[mask] = r[mask]\n",
    "    X_random.append(sample)"
   ]
  },
  {
   "cell_type": "code",
   "execution_count": 28,
   "id": "recreational-parish",
   "metadata": {},
   "outputs": [
    {
     "output_type": "stream",
     "name": "stdout",
     "text": [
      "MSE 0.0032, MSE (random) 0.0033, MSE (LIME) 0.0056\nMSE vs Random -0.0000\nMSE vs LIME -0.0023\nRandom vs LIME -0.0023\n"
     ]
    }
   ],
   "source": [
    "\n",
    "from sklearn.metrics import mean_squared_error\n",
    "X_lime = np.array(X_lime)\n",
    "X_random = np.array(X_random)\n",
    "predictions_test = model.predict(X_test[:N])\n",
    "predictions_random = model.predict(X_random)\n",
    "predictions_lime = model.predict(X_lime)\n",
    "test_subset = y_test[:N]\n",
    "\n",
    "print(f\"MSE {mean_squared_error(predictions_test, test_subset):.4f}, MSE (random) {mean_squared_error(predictions_random, test_subset):.4f}, MSE (LIME) {mean_squared_error(predictions_lime, test_subset):.4f}\")\n",
    "print(f\"MSE vs Random {mean_squared_error(predictions_test, test_subset) - mean_squared_error(predictions_random, test_subset):.4f}\")\n",
    "print(f\"MSE vs LIME {mean_squared_error(predictions_test, test_subset) - mean_squared_error(predictions_lime, test_subset):.4f}\")\n",
    "print(f\"Random vs LIME {mean_squared_error(predictions_random, test_subset) - mean_squared_error(predictions_lime, test_subset):.4f}\")"
   ]
  },
  {
   "source": [
    "### Attemp: (scale=async, wsize=1, r=random)\n",
    "MSE 0.0032, MSE (random) 0.0045, MSE (LIME) 0.0068\n",
    "\n",
    "- MSE vs Random -0.0013\n",
    "- MSE vs LIME -0.0036\n",
    "- Random vs LIME -0.0023\n",
    "\n",
    "### Attemp: (scale=async, wsize=1, r=zeros)\n",
    "MSE 0.0032, MSE (random) 0.0034, MSE (LIME) 0.0136\n",
    "\n",
    "- MSE vs Random -0.0001\n",
    "- MSE vs LIME -0.0104\n",
    "- Random vs LIME -0.0103\n",
    "\n",
    "### Attemp: (scale=async, wsize=8, r=zeros)\n",
    "MSE 0.0032, MSE (random) 0.0057, MSE (LIME) 0.0154\n",
    "\n",
    "- MSE vs Random -0.0025\n",
    "- MSE vs LIME -0.0121\n",
    "- Random vs LIME -0.0096\n",
    "\n",
    "\n",
    "### Attemp: (scale=sync, wsize=8, r=zeros)\n",
    "MSE 0.0032, MSE (random) 0.0037, MSE (LIME) 0.0110\n",
    "\n",
    "- MSE vs Random -0.0005\n",
    "- MSE vs LIME -0.0077\n",
    "- Random vs LIME -0.0073\n",
    "\n",
    "### Attemp: (scale=sync, wsize=1, r=zeros)\n",
    "MSE 0.0032, MSE (random) 0.0033, MSE (LIME) 0.0056\n",
    "\n",
    "- MSE vs Random -0.0000\n",
    "- MSE vs LIME -0.0023\n",
    "- Random vs LIME -0.0023"
   ],
   "cell_type": "markdown",
   "metadata": {}
  },
  {
   "cell_type": "code",
   "execution_count": null,
   "metadata": {},
   "outputs": [],
   "source": [
    "for i in [ts_lime, predictions_lime, predictions_random, predictions_test, X_lime, X_random, x_coef, ts_x, mask, sample, ]:\n",
    "    del i"
   ]
  },
  {
   "cell_type": "code",
   "execution_count": null,
   "metadata": {},
   "outputs": [],
   "source": []
  }
 ],
 "metadata": {
  "kernelspec": {
   "name": "python3",
   "display_name": "Python 3.7.7 64-bit ('dev37': conda)",
   "metadata": {
    "interpreter": {
     "hash": "76fdbec98d1ff00acce9daf8fa18366555273267a59abb67ea09584c9e70ea1a"
    }
   }
  },
  "language_info": {
   "codemirror_mode": {
    "name": "ipython",
    "version": 3
   },
   "file_extension": ".py",
   "mimetype": "text/x-python",
   "name": "python",
   "nbconvert_exporter": "python",
   "pygments_lexer": "ipython3",
   "version": "3.7.7-final"
  }
 },
 "nbformat": 4,
 "nbformat_minor": 5
}