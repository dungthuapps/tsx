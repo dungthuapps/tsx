{
 "cells": [
  {
   "cell_type": "code",
   "execution_count": 1,
   "metadata": {},
   "outputs": [],
   "source": [
    "import os\n",
    "import sys\n",
    "module_path = os.path.abspath(os.path.join('..'))\n",
    "if module_path not in sys.path:\n",
    "    sys.path.append(module_path)\n"
   ]
  },
  {
   "cell_type": "code",
   "execution_count": 2,
   "metadata": {},
   "outputs": [],
   "source": [
    "import numpy as np\n",
    "import pandas as pd\n",
    "import tensorflow as tf\n",
    "\n",
    "from matplotlib import pyplot as plt\n",
    "from matplotlib.colors import LinearSegmentedColormap\n",
    "from matplotlib.patches import Patch\n",
    "\n",
    "from tsx.perturbation import TimeSeriesPerturbation\n",
    "from tsx.xai.lime import LIMETimeSeries, XAIModels\n",
    "from tsx.xai import evaluation as eva\n",
    "\n",
    "from data_util import *\n",
    "from viz import *\n",
    "\n",
    "import itertools\n",
    "import pandas as pd\n",
    "from biokit.viz import corrplot"
   ]
  },
  {
   "source": [
    "# Load Data set\n",
    "- Dataset of Beijin pollution\n",
    "- Learns pollution for 128 historical steps\n",
    "- Data is normalized when fitting into the model."
   ],
   "cell_type": "markdown",
   "metadata": {}
  },
  {
   "cell_type": "code",
   "execution_count": 3,
   "metadata": {},
   "outputs": [],
   "source": [
    "independents = [\"dew\", \"temp\", \"press\", \"wind_direction\", \"wind_speed\", \"snow\", \"rain\"]\n",
    "dependent = \"pollution\"\n",
    "\n",
    "# Load data\n",
    "df = load_data_set_bejin()\n",
    "x_scaler, y_scaler = get_xy_scalers(df, independents, dependent)\n",
    "\n",
    "# Normalize data \n",
    "df_norm = df.copy()\n",
    "df_norm[independents] = x_scaler.transform(df[independents].values)\n",
    "df_norm[dependent] = y_scaler.transform(df[dependent].values.reshape(-1, 1))\n",
    "\n",
    "# Global param\n",
    "n_steps = 128\n",
    "window_size = 8\n",
    "n_variables = len(independents)\n",
    "samples_size = 100"
   ]
  },
  {
   "source": [
    "## Test set prepare\n",
    "- We test here for sample size of 1000 instance in test set.\n",
    "- Test-set include tuples of (X, y)\n"
   ],
   "cell_type": "markdown",
   "metadata": {}
  },
  {
   "cell_type": "code",
   "execution_count": 4,
   "metadata": {},
   "outputs": [],
   "source": [
    "# Test set (random)\n",
    "test_set = []\n",
    "n_instances = 1000\n",
    "for i in range(n_instances):\n",
    "    i_df = get_instance_x(df_norm, n_steps + 1, independents + \n",
    "    [dependent])\n",
    "    _x = i_df.loc[:n_steps-1, independents]\n",
    "    _y = i_df[dependent]   \n",
    "    test_set.append((_x.values.T, _y.to_numpy()[-1]))"
   ]
  },
  {
   "source": [
    "# Load Explanations and Models from File\n",
    "\n",
    "The explanations was generated for each options in:\n",
    "- Scales (Synchronous, Asynchronos )\n",
    "- Replacement Methods for perturbation (zeros, local_mean, global_mean)\n",
    "- Models (lstm, wavenet) as (rnn, cnn) based line models\n",
    "\n",
    "Notice:\n",
    "- An option is an XAI model, e.g. async-zeros as asynchronous with zeros replacement for perturbation\n",
    "- An explanation is a averaging over 10 random instances"
   ],
   "cell_type": "markdown",
   "metadata": {}
  },
  {
   "cell_type": "code",
   "execution_count": 5,
   "metadata": {},
   "outputs": [],
   "source": [
    "# Explanations\n",
    "explanations = np.load('data/explanations.npy', allow_pickle=True)\n",
    "\n",
    "# Models\n",
    "wavenet = tf.keras.models.load_model(f\"{DATA_DIR}/wavenet_mts_128_1.h5\")\n",
    "lstm = tf.keras.models.load_model(f\"{DATA_DIR}/lstm_mts_128_1.h5\")"
   ]
  },
  {
   "cell_type": "code",
   "execution_count": 6,
   "metadata": {},
   "outputs": [],
   "source": [
    "# Functions to perturb test set\n",
    "def replacements(t, method='zeros'):    \n",
    "    if method == 'zeros':\n",
    "        # Calculate zeros replacements\n",
    "        r = np.zeros_like(t)\n",
    "    if method == 'mean':\n",
    "        # Calculate means replacements\n",
    "        m = t.mean(axis=1)\n",
    "        r = np.ones_like(t) * m.reshape(t.shape[0], -1)\n",
    "    \n",
    "    return r\n",
    "\n",
    "def mask_percentile(t, percentile=90, axis=1, interpolation='higher', random=False):\n",
    "    # Create a mask based on 90 percentile of x_coef\n",
    "    #   > 1 mean on , 0 means off (disabled)\n",
    "    perc = np.percentile(t, percentile, axis=axis, interpolation=interpolation)\n",
    "\n",
    "    # This is a mask for x based on 90 percentile of x_coef\n",
    "    if perc.ndim == 1: \n",
    "        perc = perc.reshape(t.shape[0], -1)\n",
    "\n",
    "    m = 1 - (t >= perc)\n",
    "    \n",
    "    # Random and ensure the same number of changed in percentile.\n",
    "    if random:\n",
    "        m = m.ravel()\n",
    "        np.random.shuffle(m)\n",
    "        m = m.reshape(t.shape)\n",
    "    return m\n",
    "\n",
    "def perturb(t, m=None, r=None):\n",
    "    if m is None:\n",
    "        m = np.ones_like(t)\n",
    "    if r is None:\n",
    "        r = replacements(t, 'zeros')\n",
    "    # new perturbed x \n",
    "    z = t * m + r * (1 - m)\n",
    "    return z\n",
    "\n",
    "def perturb_X(X, x_coef, method=\"zeros\", axis=1, percentile=90, random=False):\n",
    "    \"\"\" Perturb X based on coefficient or explanations.\n",
    "        param x_coef: if it is None, then randome used.\n",
    "        param axis: \n",
    "            - 1 : get percentile rowwise -> get 90 percentile per feature\n",
    "            - None: consider x_coef as an array -> get 90 percentile overall\n",
    "    \"\"\"\n",
    "    m = mask_percentile(x_coef, percentile, \n",
    "                        axis=axis, interpolation=\"higher\", random=random)\n",
    "\n",
    "    def _f(x):\n",
    "        r = replacements(x, method=method)\n",
    "        z = perturb(x, m, r)\n",
    "        return z\n",
    "\n",
    "    Z = [_f(x_i) for x_i in X]\n",
    "\n",
    "    return Z"
   ]
  },
  {
   "cell_type": "code",
   "execution_count": 7,
   "metadata": {},
   "outputs": [
    {
     "output_type": "display_data",
     "data": {
      "text/plain": "<Figure size 432x288 with 4 Axes>",
      "image/svg+xml": "<?xml version=\"1.0\" encoding=\"utf-8\" standalone=\"no\"?>\n<!DOCTYPE svg PUBLIC \"-//W3C//DTD SVG 1.1//EN\"\n  \"http://www.w3.org/Graphics/SVG/1.1/DTD/svg11.dtd\">\n<!-- Created with matplotlib (https://matplotlib.org/) -->\n<svg height=\"263.8955pt\" version=\"1.1\" viewBox=\"0 0 389.47875 263.8955\" width=\"389.47875pt\" xmlns=\"http://www.w3.org/2000/svg\" xmlns:xlink=\"http://www.w3.org/1999/xlink\">\n <metadata>\n  <rdf:RDF xmlns:cc=\"http://creativecommons.org/ns#\" xmlns:dc=\"http://purl.org/dc/elements/1.1/\" xmlns:rdf=\"http://www.w3.org/1999/02/22-rdf-syntax-ns#\">\n   <cc:Work>\n    <dc:type rdf:resource=\"http://purl.org/dc/dcmitype/StillImage\"/>\n    <dc:date>2021-02-24T13:39:03.845243</dc:date>\n    <dc:format>image/svg+xml</dc:format>\n    <dc:creator>\n     <cc:Agent>\n      <dc:title>Matplotlib v3.3.2, https://matplotlib.org/</dc:title>\n     </cc:Agent>\n    </dc:creator>\n   </cc:Work>\n  </rdf:RDF>\n </metadata>\n <defs>\n  <style type=\"text/css\">*{stroke-linecap:butt;stroke-linejoin:round;}</style>\n </defs>\n <g id=\"figure_1\">\n  <g id=\"patch_1\">\n   <path d=\"M -0 263.8955 \nL 389.47875 263.8955 \nL 389.47875 -0 \nL -0 -0 \nz\n\" style=\"fill:none;\"/>\n  </g>\n  <g id=\"axes_1\">\n   <g id=\"patch_2\">\n    <path d=\"M 26.385937 108.2355 \nL 137.985938 108.2355 \nL 137.985938 35.7555 \nL 26.385937 35.7555 \nz\n\" style=\"fill:#ffffff;\"/>\n   </g>\n   <g clip-path=\"url(#p8359e2e5d0)\">\n    <image height=\"73\" id=\"image773bd114f6\" transform=\"scale(1 -1)translate(0 -73)\" width=\"112\" x=\"26.385937\" xlink:href=\"data:image/png;base64,\niVBORw0KGgoAAAANSUhEUgAAAHAAAABJCAYAAADllaIuAAADU0lEQVR4nO2cz2sTQRTHv7ObBKtpUqVYQkXbJqCHePHek+DFf8C/zf9DPCiiFw+eBEEoNrFGRFqrpr8kdTvzPBRv8zY4yU7nyfsc8/g+lnw6m9nZmRr7tUdQxJJd9AUos6EChaMChaMChaMChaMChaMChaMChaMChaMChaMChaMChaMChaMChaMChVO76AtQpnNKBVtTgQLYKiwcGW9NBQrg1cltWKhAsTzZ7YN0BMpla6cDMDuXVGDiWHK4/KHB1lWgANpDB6MjUC6twTFg/QZVYOI4ELLPe4BTgWJxP8Yga701FSgAshZwKlAsebsF6AiUSQYDWl2BIf0NFMtJtwXjH4AqUALjXg3G+WsqUABH3TMYXQuVSW4yrG7sc0uhKlAC9ztbbE0FCuDB4ju2pgIF0G+csjUVKIB2tsDWVKAAjt2EralAAbwvcramAgXw/KgPp5ua5PJs945uapKKJYedwQpbV4ECaA5rgK6FymVp28Lolgq5NAeHgL4PlIkDwXzZA6z/HqoCBeDGBzI2NVlifqlx/lolZs+yXEwc3Lk8CbfQ0dkvtrZeb0btWZaLScE8wP8lKYGvJ7e8n+dwWK//jNqTy8WmIH4ZDUhM4NPvd70HGTNDeLT4MmpPLheb8yU0/g8tKYFvRjcB35dmCFiL25PNRYbIYEOCQEsOZvuK/xycAeym++eJTGjP0lxkMgI7gQESEggArQG8x6hmGQihPblcdKZcQ1ICl7Yn3iUjysINhvbkcqmRjEAHQmO0719xyMOeAUN7luYugLOSWjICAcDtfgN5vjQTKHCWnlwuNdIS+LvwHqMiW/4sVEVPLpcaSQnMFi75j1HV69F7srmKcBN+41IZSQk0nev+CccMt9DQnlyuEojgPn4KiiYjMIPBZO2a9xQOBfoL7VmWq4qadIEAMO415v4cGNqTy1UCAcsvwqJJCTzszv9BPrQnl6sEApYDo8kIzE2Ghd5BaT1Wz2m5eeOcAYwpXTLjSEYgAGzeGHo/z2ZYlAztyeWqoHA5RoHZpAQ+vPoW1jO7yGeYTYT25HJVUFANj9ENyiYl8F5jv6Qa9kY+tGd5br4UwP8hsFMLk1RFzyquhaOg8AUD/afnwlGBwlGBwlGBwlGBwvkDJWhrjdCOLn4AAAAASUVORK5CYII=\" y=\"-35.2355\"/>\n   </g>\n   <g id=\"matplotlib.axis_1\"/>\n   <g id=\"matplotlib.axis_2\"/>\n   <g id=\"patch_3\">\n    <path d=\"M 26.385937 108.2355 \nL 26.385937 35.7555 \n\" style=\"fill:none;stroke:#000000;stroke-linecap:square;stroke-linejoin:miter;stroke-width:0.8;\"/>\n   </g>\n   <g id=\"patch_4\">\n    <path d=\"M 137.985938 108.2355 \nL 137.985938 35.7555 \n\" style=\"fill:none;stroke:#000000;stroke-linecap:square;stroke-linejoin:miter;stroke-width:0.8;\"/>\n   </g>\n   <g id=\"patch_5\">\n    <path d=\"M 26.385937 108.2355 \nL 137.985938 108.2355 \n\" style=\"fill:none;stroke:#000000;stroke-linecap:square;stroke-linejoin:miter;stroke-width:0.8;\"/>\n   </g>\n   <g id=\"patch_6\">\n    <path d=\"M 26.385937 35.7555 \nL 137.985938 35.7555 \n\" style=\"fill:none;stroke:#000000;stroke-linecap:square;stroke-linejoin:miter;stroke-width:0.8;\"/>\n   </g>\n   <g id=\"text_1\">\n    <!-- overall 90 percentile -->\n    <g transform=\"translate(20.341875 16.318125)scale(0.12 -0.12)\">\n     <defs>\n      <path d=\"M 30.609375 48.390625 \nQ 23.390625 48.390625 19.1875 42.75 \nQ 14.984375 37.109375 14.984375 27.296875 \nQ 14.984375 17.484375 19.15625 11.84375 \nQ 23.34375 6.203125 30.609375 6.203125 \nQ 37.796875 6.203125 41.984375 11.859375 \nQ 46.1875 17.53125 46.1875 27.296875 \nQ 46.1875 37.015625 41.984375 42.703125 \nQ 37.796875 48.390625 30.609375 48.390625 \nz\nM 30.609375 56 \nQ 42.328125 56 49.015625 48.375 \nQ 55.71875 40.765625 55.71875 27.296875 \nQ 55.71875 13.875 49.015625 6.21875 \nQ 42.328125 -1.421875 30.609375 -1.421875 \nQ 18.84375 -1.421875 12.171875 6.21875 \nQ 5.515625 13.875 5.515625 27.296875 \nQ 5.515625 40.765625 12.171875 48.375 \nQ 18.84375 56 30.609375 56 \nz\n\" id=\"DejaVuSans-111\"/>\n      <path d=\"M 2.984375 54.6875 \nL 12.5 54.6875 \nL 29.59375 8.796875 \nL 46.6875 54.6875 \nL 56.203125 54.6875 \nL 35.6875 0 \nL 23.484375 0 \nz\n\" id=\"DejaVuSans-118\"/>\n      <path d=\"M 56.203125 29.59375 \nL 56.203125 25.203125 \nL 14.890625 25.203125 \nQ 15.484375 15.921875 20.484375 11.0625 \nQ 25.484375 6.203125 34.421875 6.203125 \nQ 39.59375 6.203125 44.453125 7.46875 \nQ 49.3125 8.734375 54.109375 11.28125 \nL 54.109375 2.78125 \nQ 49.265625 0.734375 44.1875 -0.34375 \nQ 39.109375 -1.421875 33.890625 -1.421875 \nQ 20.796875 -1.421875 13.15625 6.1875 \nQ 5.515625 13.8125 5.515625 26.8125 \nQ 5.515625 40.234375 12.765625 48.109375 \nQ 20.015625 56 32.328125 56 \nQ 43.359375 56 49.78125 48.890625 \nQ 56.203125 41.796875 56.203125 29.59375 \nz\nM 47.21875 32.234375 \nQ 47.125 39.59375 43.09375 43.984375 \nQ 39.0625 48.390625 32.421875 48.390625 \nQ 24.90625 48.390625 20.390625 44.140625 \nQ 15.875 39.890625 15.1875 32.171875 \nz\n\" id=\"DejaVuSans-101\"/>\n      <path d=\"M 41.109375 46.296875 \nQ 39.59375 47.171875 37.8125 47.578125 \nQ 36.03125 48 33.890625 48 \nQ 26.265625 48 22.1875 43.046875 \nQ 18.109375 38.09375 18.109375 28.8125 \nL 18.109375 0 \nL 9.078125 0 \nL 9.078125 54.6875 \nL 18.109375 54.6875 \nL 18.109375 46.1875 \nQ 20.953125 51.171875 25.484375 53.578125 \nQ 30.03125 56 36.53125 56 \nQ 37.453125 56 38.578125 55.875 \nQ 39.703125 55.765625 41.0625 55.515625 \nz\n\" id=\"DejaVuSans-114\"/>\n      <path d=\"M 34.28125 27.484375 \nQ 23.390625 27.484375 19.1875 25 \nQ 14.984375 22.515625 14.984375 16.5 \nQ 14.984375 11.71875 18.140625 8.90625 \nQ 21.296875 6.109375 26.703125 6.109375 \nQ 34.1875 6.109375 38.703125 11.40625 \nQ 43.21875 16.703125 43.21875 25.484375 \nL 43.21875 27.484375 \nz\nM 52.203125 31.203125 \nL 52.203125 0 \nL 43.21875 0 \nL 43.21875 8.296875 \nQ 40.140625 3.328125 35.546875 0.953125 \nQ 30.953125 -1.421875 24.3125 -1.421875 \nQ 15.921875 -1.421875 10.953125 3.296875 \nQ 6 8.015625 6 15.921875 \nQ 6 25.140625 12.171875 29.828125 \nQ 18.359375 34.515625 30.609375 34.515625 \nL 43.21875 34.515625 \nL 43.21875 35.40625 \nQ 43.21875 41.609375 39.140625 45 \nQ 35.0625 48.390625 27.6875 48.390625 \nQ 23 48.390625 18.546875 47.265625 \nQ 14.109375 46.140625 10.015625 43.890625 \nL 10.015625 52.203125 \nQ 14.9375 54.109375 19.578125 55.046875 \nQ 24.21875 56 28.609375 56 \nQ 40.484375 56 46.34375 49.84375 \nQ 52.203125 43.703125 52.203125 31.203125 \nz\n\" id=\"DejaVuSans-97\"/>\n      <path d=\"M 9.421875 75.984375 \nL 18.40625 75.984375 \nL 18.40625 0 \nL 9.421875 0 \nz\n\" id=\"DejaVuSans-108\"/>\n      <path id=\"DejaVuSans-32\"/>\n      <path d=\"M 10.984375 1.515625 \nL 10.984375 10.5 \nQ 14.703125 8.734375 18.5 7.8125 \nQ 22.3125 6.890625 25.984375 6.890625 \nQ 35.75 6.890625 40.890625 13.453125 \nQ 46.046875 20.015625 46.78125 33.40625 \nQ 43.953125 29.203125 39.59375 26.953125 \nQ 35.25 24.703125 29.984375 24.703125 \nQ 19.046875 24.703125 12.671875 31.3125 \nQ 6.296875 37.9375 6.296875 49.421875 \nQ 6.296875 60.640625 12.9375 67.421875 \nQ 19.578125 74.21875 30.609375 74.21875 \nQ 43.265625 74.21875 49.921875 64.515625 \nQ 56.59375 54.828125 56.59375 36.375 \nQ 56.59375 19.140625 48.40625 8.859375 \nQ 40.234375 -1.421875 26.421875 -1.421875 \nQ 22.703125 -1.421875 18.890625 -0.6875 \nQ 15.09375 0.046875 10.984375 1.515625 \nz\nM 30.609375 32.421875 \nQ 37.25 32.421875 41.125 36.953125 \nQ 45.015625 41.5 45.015625 49.421875 \nQ 45.015625 57.28125 41.125 61.84375 \nQ 37.25 66.40625 30.609375 66.40625 \nQ 23.96875 66.40625 20.09375 61.84375 \nQ 16.21875 57.28125 16.21875 49.421875 \nQ 16.21875 41.5 20.09375 36.953125 \nQ 23.96875 32.421875 30.609375 32.421875 \nz\n\" id=\"DejaVuSans-57\"/>\n      <path d=\"M 31.78125 66.40625 \nQ 24.171875 66.40625 20.328125 58.90625 \nQ 16.5 51.421875 16.5 36.375 \nQ 16.5 21.390625 20.328125 13.890625 \nQ 24.171875 6.390625 31.78125 6.390625 \nQ 39.453125 6.390625 43.28125 13.890625 \nQ 47.125 21.390625 47.125 36.375 \nQ 47.125 51.421875 43.28125 58.90625 \nQ 39.453125 66.40625 31.78125 66.40625 \nz\nM 31.78125 74.21875 \nQ 44.046875 74.21875 50.515625 64.515625 \nQ 56.984375 54.828125 56.984375 36.375 \nQ 56.984375 17.96875 50.515625 8.265625 \nQ 44.046875 -1.421875 31.78125 -1.421875 \nQ 19.53125 -1.421875 13.0625 8.265625 \nQ 6.59375 17.96875 6.59375 36.375 \nQ 6.59375 54.828125 13.0625 64.515625 \nQ 19.53125 74.21875 31.78125 74.21875 \nz\n\" id=\"DejaVuSans-48\"/>\n      <path d=\"M 18.109375 8.203125 \nL 18.109375 -20.796875 \nL 9.078125 -20.796875 \nL 9.078125 54.6875 \nL 18.109375 54.6875 \nL 18.109375 46.390625 \nQ 20.953125 51.265625 25.265625 53.625 \nQ 29.59375 56 35.59375 56 \nQ 45.5625 56 51.78125 48.09375 \nQ 58.015625 40.1875 58.015625 27.296875 \nQ 58.015625 14.40625 51.78125 6.484375 \nQ 45.5625 -1.421875 35.59375 -1.421875 \nQ 29.59375 -1.421875 25.265625 0.953125 \nQ 20.953125 3.328125 18.109375 8.203125 \nz\nM 48.6875 27.296875 \nQ 48.6875 37.203125 44.609375 42.84375 \nQ 40.53125 48.484375 33.40625 48.484375 \nQ 26.265625 48.484375 22.1875 42.84375 \nQ 18.109375 37.203125 18.109375 27.296875 \nQ 18.109375 17.390625 22.1875 11.75 \nQ 26.265625 6.109375 33.40625 6.109375 \nQ 40.53125 6.109375 44.609375 11.75 \nQ 48.6875 17.390625 48.6875 27.296875 \nz\n\" id=\"DejaVuSans-112\"/>\n      <path d=\"M 48.78125 52.59375 \nL 48.78125 44.1875 \nQ 44.96875 46.296875 41.140625 47.34375 \nQ 37.3125 48.390625 33.40625 48.390625 \nQ 24.65625 48.390625 19.8125 42.84375 \nQ 14.984375 37.3125 14.984375 27.296875 \nQ 14.984375 17.28125 19.8125 11.734375 \nQ 24.65625 6.203125 33.40625 6.203125 \nQ 37.3125 6.203125 41.140625 7.25 \nQ 44.96875 8.296875 48.78125 10.40625 \nL 48.78125 2.09375 \nQ 45.015625 0.34375 40.984375 -0.53125 \nQ 36.96875 -1.421875 32.421875 -1.421875 \nQ 20.0625 -1.421875 12.78125 6.34375 \nQ 5.515625 14.109375 5.515625 27.296875 \nQ 5.515625 40.671875 12.859375 48.328125 \nQ 20.21875 56 33.015625 56 \nQ 37.15625 56 41.109375 55.140625 \nQ 45.0625 54.296875 48.78125 52.59375 \nz\n\" id=\"DejaVuSans-99\"/>\n      <path d=\"M 54.890625 33.015625 \nL 54.890625 0 \nL 45.90625 0 \nL 45.90625 32.71875 \nQ 45.90625 40.484375 42.875 44.328125 \nQ 39.84375 48.1875 33.796875 48.1875 \nQ 26.515625 48.1875 22.3125 43.546875 \nQ 18.109375 38.921875 18.109375 30.90625 \nL 18.109375 0 \nL 9.078125 0 \nL 9.078125 54.6875 \nL 18.109375 54.6875 \nL 18.109375 46.1875 \nQ 21.34375 51.125 25.703125 53.5625 \nQ 30.078125 56 35.796875 56 \nQ 45.21875 56 50.046875 50.171875 \nQ 54.890625 44.34375 54.890625 33.015625 \nz\n\" id=\"DejaVuSans-110\"/>\n      <path d=\"M 18.3125 70.21875 \nL 18.3125 54.6875 \nL 36.8125 54.6875 \nL 36.8125 47.703125 \nL 18.3125 47.703125 \nL 18.3125 18.015625 \nQ 18.3125 11.328125 20.140625 9.421875 \nQ 21.96875 7.515625 27.59375 7.515625 \nL 36.8125 7.515625 \nL 36.8125 0 \nL 27.59375 0 \nQ 17.1875 0 13.234375 3.875 \nQ 9.28125 7.765625 9.28125 18.015625 \nL 9.28125 47.703125 \nL 2.6875 47.703125 \nL 2.6875 54.6875 \nL 9.28125 54.6875 \nL 9.28125 70.21875 \nz\n\" id=\"DejaVuSans-116\"/>\n      <path d=\"M 9.421875 54.6875 \nL 18.40625 54.6875 \nL 18.40625 0 \nL 9.421875 0 \nz\nM 9.421875 75.984375 \nL 18.40625 75.984375 \nL 18.40625 64.59375 \nL 9.421875 64.59375 \nz\n\" id=\"DejaVuSans-105\"/>\n     </defs>\n     <use xlink:href=\"#DejaVuSans-111\"/>\n     <use x=\"61.181641\" xlink:href=\"#DejaVuSans-118\"/>\n     <use x=\"120.361328\" xlink:href=\"#DejaVuSans-101\"/>\n     <use x=\"181.884766\" xlink:href=\"#DejaVuSans-114\"/>\n     <use x=\"222.998047\" xlink:href=\"#DejaVuSans-97\"/>\n     <use x=\"284.277344\" xlink:href=\"#DejaVuSans-108\"/>\n     <use x=\"312.060547\" xlink:href=\"#DejaVuSans-108\"/>\n     <use x=\"339.84375\" xlink:href=\"#DejaVuSans-32\"/>\n     <use x=\"371.630859\" xlink:href=\"#DejaVuSans-57\"/>\n     <use x=\"435.253906\" xlink:href=\"#DejaVuSans-48\"/>\n     <use x=\"498.876953\" xlink:href=\"#DejaVuSans-32\"/>\n     <use x=\"530.664062\" xlink:href=\"#DejaVuSans-112\"/>\n     <use x=\"594.140625\" xlink:href=\"#DejaVuSans-101\"/>\n     <use x=\"655.664062\" xlink:href=\"#DejaVuSans-114\"/>\n     <use x=\"694.527344\" xlink:href=\"#DejaVuSans-99\"/>\n     <use x=\"749.507812\" xlink:href=\"#DejaVuSans-101\"/>\n     <use x=\"811.03125\" xlink:href=\"#DejaVuSans-110\"/>\n     <use x=\"874.410156\" xlink:href=\"#DejaVuSans-116\"/>\n     <use x=\"913.619141\" xlink:href=\"#DejaVuSans-105\"/>\n     <use x=\"941.402344\" xlink:href=\"#DejaVuSans-108\"/>\n     <use x=\"969.185547\" xlink:href=\"#DejaVuSans-101\"/>\n    </g>\n    <!--  -->\n    <g transform=\"translate(82.185937 29.7555)scale(0.12 -0.12)\"/>\n   </g>\n  </g>\n  <g id=\"axes_2\">\n   <g id=\"patch_7\">\n    <path d=\"M 249.585938 108.2355 \nL 361.185938 108.2355 \nL 361.185938 35.7555 \nL 249.585938 35.7555 \nz\n\" style=\"fill:#ffffff;\"/>\n   </g>\n   <g clip-path=\"url(#p481baf7922)\">\n    <image height=\"73\" id=\"image9276ecee3d\" transform=\"scale(1 -1)translate(0 -73)\" width=\"112\" x=\"249.585938\" xlink:href=\"data:image/png;base64,\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\" y=\"-35.2355\"/>\n   </g>\n   <g id=\"matplotlib.axis_3\"/>\n   <g id=\"matplotlib.axis_4\"/>\n   <g id=\"patch_8\">\n    <path d=\"M 249.585938 108.2355 \nL 249.585938 35.7555 \n\" style=\"fill:none;stroke:#000000;stroke-linecap:square;stroke-linejoin:miter;stroke-width:0.8;\"/>\n   </g>\n   <g id=\"patch_9\">\n    <path d=\"M 361.185938 108.2355 \nL 361.185938 35.7555 \n\" style=\"fill:none;stroke:#000000;stroke-linecap:square;stroke-linejoin:miter;stroke-width:0.8;\"/>\n   </g>\n   <g id=\"patch_10\">\n    <path d=\"M 249.585938 108.2355 \nL 361.185938 108.2355 \n\" style=\"fill:none;stroke:#000000;stroke-linecap:square;stroke-linejoin:miter;stroke-width:0.8;\"/>\n   </g>\n   <g id=\"patch_11\">\n    <path d=\"M 249.585938 35.7555 \nL 361.185938 35.7555 \n\" style=\"fill:none;stroke:#000000;stroke-linecap:square;stroke-linejoin:miter;stroke-width:0.8;\"/>\n   </g>\n   <g id=\"text_2\">\n    <!-- overall 90 percentile  -->\n    <g transform=\"translate(241.635 16.318125)scale(0.12 -0.12)\">\n     <use xlink:href=\"#DejaVuSans-111\"/>\n     <use x=\"61.181641\" xlink:href=\"#DejaVuSans-118\"/>\n     <use x=\"120.361328\" xlink:href=\"#DejaVuSans-101\"/>\n     <use x=\"181.884766\" xlink:href=\"#DejaVuSans-114\"/>\n     <use x=\"222.998047\" xlink:href=\"#DejaVuSans-97\"/>\n     <use x=\"284.277344\" xlink:href=\"#DejaVuSans-108\"/>\n     <use x=\"312.060547\" xlink:href=\"#DejaVuSans-108\"/>\n     <use x=\"339.84375\" xlink:href=\"#DejaVuSans-32\"/>\n     <use x=\"371.630859\" xlink:href=\"#DejaVuSans-57\"/>\n     <use x=\"435.253906\" xlink:href=\"#DejaVuSans-48\"/>\n     <use x=\"498.876953\" xlink:href=\"#DejaVuSans-32\"/>\n     <use x=\"530.664062\" xlink:href=\"#DejaVuSans-112\"/>\n     <use x=\"594.140625\" xlink:href=\"#DejaVuSans-101\"/>\n     <use x=\"655.664062\" xlink:href=\"#DejaVuSans-114\"/>\n     <use x=\"694.527344\" xlink:href=\"#DejaVuSans-99\"/>\n     <use x=\"749.507812\" xlink:href=\"#DejaVuSans-101\"/>\n     <use x=\"811.03125\" xlink:href=\"#DejaVuSans-110\"/>\n     <use x=\"874.410156\" xlink:href=\"#DejaVuSans-116\"/>\n     <use x=\"913.619141\" xlink:href=\"#DejaVuSans-105\"/>\n     <use x=\"941.402344\" xlink:href=\"#DejaVuSans-108\"/>\n     <use x=\"969.185547\" xlink:href=\"#DejaVuSans-101\"/>\n     <use x=\"1030.708984\" xlink:href=\"#DejaVuSans-32\"/>\n    </g>\n    <!-- with random -->\n    <g transform=\"translate(267.48 29.7555)scale(0.12 -0.12)\">\n     <defs>\n      <path d=\"M 4.203125 54.6875 \nL 13.1875 54.6875 \nL 24.421875 12.015625 \nL 35.59375 54.6875 \nL 46.1875 54.6875 \nL 57.421875 12.015625 \nL 68.609375 54.6875 \nL 77.59375 54.6875 \nL 63.28125 0 \nL 52.6875 0 \nL 40.921875 44.828125 \nL 29.109375 0 \nL 18.5 0 \nz\n\" id=\"DejaVuSans-119\"/>\n      <path d=\"M 54.890625 33.015625 \nL 54.890625 0 \nL 45.90625 0 \nL 45.90625 32.71875 \nQ 45.90625 40.484375 42.875 44.328125 \nQ 39.84375 48.1875 33.796875 48.1875 \nQ 26.515625 48.1875 22.3125 43.546875 \nQ 18.109375 38.921875 18.109375 30.90625 \nL 18.109375 0 \nL 9.078125 0 \nL 9.078125 75.984375 \nL 18.109375 75.984375 \nL 18.109375 46.1875 \nQ 21.34375 51.125 25.703125 53.5625 \nQ 30.078125 56 35.796875 56 \nQ 45.21875 56 50.046875 50.171875 \nQ 54.890625 44.34375 54.890625 33.015625 \nz\n\" id=\"DejaVuSans-104\"/>\n      <path d=\"M 45.40625 46.390625 \nL 45.40625 75.984375 \nL 54.390625 75.984375 \nL 54.390625 0 \nL 45.40625 0 \nL 45.40625 8.203125 \nQ 42.578125 3.328125 38.25 0.953125 \nQ 33.9375 -1.421875 27.875 -1.421875 \nQ 17.96875 -1.421875 11.734375 6.484375 \nQ 5.515625 14.40625 5.515625 27.296875 \nQ 5.515625 40.1875 11.734375 48.09375 \nQ 17.96875 56 27.875 56 \nQ 33.9375 56 38.25 53.625 \nQ 42.578125 51.265625 45.40625 46.390625 \nz\nM 14.796875 27.296875 \nQ 14.796875 17.390625 18.875 11.75 \nQ 22.953125 6.109375 30.078125 6.109375 \nQ 37.203125 6.109375 41.296875 11.75 \nQ 45.40625 17.390625 45.40625 27.296875 \nQ 45.40625 37.203125 41.296875 42.84375 \nQ 37.203125 48.484375 30.078125 48.484375 \nQ 22.953125 48.484375 18.875 42.84375 \nQ 14.796875 37.203125 14.796875 27.296875 \nz\n\" id=\"DejaVuSans-100\"/>\n      <path d=\"M 52 44.1875 \nQ 55.375 50.25 60.0625 53.125 \nQ 64.75 56 71.09375 56 \nQ 79.640625 56 84.28125 50.015625 \nQ 88.921875 44.046875 88.921875 33.015625 \nL 88.921875 0 \nL 79.890625 0 \nL 79.890625 32.71875 \nQ 79.890625 40.578125 77.09375 44.375 \nQ 74.3125 48.1875 68.609375 48.1875 \nQ 61.625 48.1875 57.5625 43.546875 \nQ 53.515625 38.921875 53.515625 30.90625 \nL 53.515625 0 \nL 44.484375 0 \nL 44.484375 32.71875 \nQ 44.484375 40.625 41.703125 44.40625 \nQ 38.921875 48.1875 33.109375 48.1875 \nQ 26.21875 48.1875 22.15625 43.53125 \nQ 18.109375 38.875 18.109375 30.90625 \nL 18.109375 0 \nL 9.078125 0 \nL 9.078125 54.6875 \nL 18.109375 54.6875 \nL 18.109375 46.1875 \nQ 21.1875 51.21875 25.484375 53.609375 \nQ 29.78125 56 35.6875 56 \nQ 41.65625 56 45.828125 52.96875 \nQ 50 49.953125 52 44.1875 \nz\n\" id=\"DejaVuSans-109\"/>\n     </defs>\n     <use xlink:href=\"#DejaVuSans-119\"/>\n     <use x=\"81.787109\" xlink:href=\"#DejaVuSans-105\"/>\n     <use x=\"109.570312\" xlink:href=\"#DejaVuSans-116\"/>\n     <use x=\"148.779297\" xlink:href=\"#DejaVuSans-104\"/>\n     <use x=\"212.158203\" xlink:href=\"#DejaVuSans-32\"/>\n     <use x=\"243.945312\" xlink:href=\"#DejaVuSans-114\"/>\n     <use x=\"285.058594\" xlink:href=\"#DejaVuSans-97\"/>\n     <use x=\"346.337891\" xlink:href=\"#DejaVuSans-110\"/>\n     <use x=\"409.716797\" xlink:href=\"#DejaVuSans-100\"/>\n     <use x=\"473.193359\" xlink:href=\"#DejaVuSans-111\"/>\n     <use x=\"534.375\" xlink:href=\"#DejaVuSans-109\"/>\n    </g>\n   </g>\n  </g>\n  <g id=\"axes_3\">\n   <g id=\"patch_12\">\n    <path d=\"M 26.385937 253.1955 \nL 137.985938 253.1955 \nL 137.985938 180.7155 \nL 26.385937 180.7155 \nz\n\" style=\"fill:#ffffff;\"/>\n   </g>\n   <g clip-path=\"url(#p019cd1682f)\">\n    <image height=\"73\" id=\"image9dd18a0c4d\" transform=\"scale(1 -1)translate(0 -73)\" width=\"112\" x=\"26.385937\" xlink:href=\"data:image/png;base64,\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\" y=\"-180.1955\"/>\n   </g>\n   <g id=\"matplotlib.axis_5\"/>\n   <g id=\"matplotlib.axis_6\"/>\n   <g id=\"patch_13\">\n    <path d=\"M 26.385937 253.1955 \nL 26.385937 180.7155 \n\" style=\"fill:none;stroke:#000000;stroke-linecap:square;stroke-linejoin:miter;stroke-width:0.8;\"/>\n   </g>\n   <g id=\"patch_14\">\n    <path d=\"M 137.985938 253.1955 \nL 137.985938 180.7155 \n\" style=\"fill:none;stroke:#000000;stroke-linecap:square;stroke-linejoin:miter;stroke-width:0.8;\"/>\n   </g>\n   <g id=\"patch_15\">\n    <path d=\"M 26.385937 253.1955 \nL 137.985938 253.1955 \n\" style=\"fill:none;stroke:#000000;stroke-linecap:square;stroke-linejoin:miter;stroke-width:0.8;\"/>\n   </g>\n   <g id=\"patch_16\">\n    <path d=\"M 26.385937 180.7155 \nL 137.985938 180.7155 \n\" style=\"fill:none;stroke:#000000;stroke-linecap:square;stroke-linejoin:miter;stroke-width:0.8;\"/>\n   </g>\n   <g id=\"text_3\">\n    <!-- per feature 90 percentile -->\n    <g transform=\"translate(7.2 161.278125)scale(0.12 -0.12)\">\n     <defs>\n      <path d=\"M 37.109375 75.984375 \nL 37.109375 68.5 \nL 28.515625 68.5 \nQ 23.6875 68.5 21.796875 66.546875 \nQ 19.921875 64.59375 19.921875 59.515625 \nL 19.921875 54.6875 \nL 34.71875 54.6875 \nL 34.71875 47.703125 \nL 19.921875 47.703125 \nL 19.921875 0 \nL 10.890625 0 \nL 10.890625 47.703125 \nL 2.296875 47.703125 \nL 2.296875 54.6875 \nL 10.890625 54.6875 \nL 10.890625 58.5 \nQ 10.890625 67.625 15.140625 71.796875 \nQ 19.390625 75.984375 28.609375 75.984375 \nz\n\" id=\"DejaVuSans-102\"/>\n      <path d=\"M 8.5 21.578125 \nL 8.5 54.6875 \nL 17.484375 54.6875 \nL 17.484375 21.921875 \nQ 17.484375 14.15625 20.5 10.265625 \nQ 23.53125 6.390625 29.59375 6.390625 \nQ 36.859375 6.390625 41.078125 11.03125 \nQ 45.3125 15.671875 45.3125 23.6875 \nL 45.3125 54.6875 \nL 54.296875 54.6875 \nL 54.296875 0 \nL 45.3125 0 \nL 45.3125 8.40625 \nQ 42.046875 3.421875 37.71875 1 \nQ 33.40625 -1.421875 27.6875 -1.421875 \nQ 18.265625 -1.421875 13.375 4.4375 \nQ 8.5 10.296875 8.5 21.578125 \nz\nM 31.109375 56 \nz\n\" id=\"DejaVuSans-117\"/>\n     </defs>\n     <use xlink:href=\"#DejaVuSans-112\"/>\n     <use x=\"63.476562\" xlink:href=\"#DejaVuSans-101\"/>\n     <use x=\"125\" xlink:href=\"#DejaVuSans-114\"/>\n     <use x=\"166.113281\" xlink:href=\"#DejaVuSans-32\"/>\n     <use x=\"197.900391\" xlink:href=\"#DejaVuSans-102\"/>\n     <use x=\"233.105469\" xlink:href=\"#DejaVuSans-101\"/>\n     <use x=\"294.628906\" xlink:href=\"#DejaVuSans-97\"/>\n     <use x=\"355.908203\" xlink:href=\"#DejaVuSans-116\"/>\n     <use x=\"395.117188\" xlink:href=\"#DejaVuSans-117\"/>\n     <use x=\"458.496094\" xlink:href=\"#DejaVuSans-114\"/>\n     <use x=\"497.359375\" xlink:href=\"#DejaVuSans-101\"/>\n     <use x=\"558.882812\" xlink:href=\"#DejaVuSans-32\"/>\n     <use x=\"590.669922\" xlink:href=\"#DejaVuSans-57\"/>\n     <use x=\"654.292969\" xlink:href=\"#DejaVuSans-48\"/>\n     <use x=\"717.916016\" xlink:href=\"#DejaVuSans-32\"/>\n     <use x=\"749.703125\" xlink:href=\"#DejaVuSans-112\"/>\n     <use x=\"813.179688\" xlink:href=\"#DejaVuSans-101\"/>\n     <use x=\"874.703125\" xlink:href=\"#DejaVuSans-114\"/>\n     <use x=\"913.566406\" xlink:href=\"#DejaVuSans-99\"/>\n     <use x=\"968.546875\" xlink:href=\"#DejaVuSans-101\"/>\n     <use x=\"1030.070312\" xlink:href=\"#DejaVuSans-110\"/>\n     <use x=\"1093.449219\" xlink:href=\"#DejaVuSans-116\"/>\n     <use x=\"1132.658203\" xlink:href=\"#DejaVuSans-105\"/>\n     <use x=\"1160.441406\" xlink:href=\"#DejaVuSans-108\"/>\n     <use x=\"1188.224609\" xlink:href=\"#DejaVuSans-101\"/>\n    </g>\n    <!--  -->\n    <g transform=\"translate(82.185937 174.7155)scale(0.12 -0.12)\"/>\n   </g>\n  </g>\n  <g id=\"axes_4\">\n   <g id=\"patch_17\">\n    <path d=\"M 249.585938 253.1955 \nL 361.185938 253.1955 \nL 361.185938 180.7155 \nL 249.585938 180.7155 \nz\n\" style=\"fill:#ffffff;\"/>\n   </g>\n   <g clip-path=\"url(#ped2375d39f)\">\n    <image height=\"73\" id=\"image463ad7c696\" transform=\"scale(1 -1)translate(0 -73)\" width=\"112\" x=\"249.585938\" xlink:href=\"data:image/png;base64,\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\" y=\"-180.1955\"/>\n   </g>\n   <g id=\"matplotlib.axis_7\"/>\n   <g id=\"matplotlib.axis_8\"/>\n   <g id=\"patch_18\">\n    <path d=\"M 249.585938 253.1955 \nL 249.585938 180.7155 \n\" style=\"fill:none;stroke:#000000;stroke-linecap:square;stroke-linejoin:miter;stroke-width:0.8;\"/>\n   </g>\n   <g id=\"patch_19\">\n    <path d=\"M 361.185938 253.1955 \nL 361.185938 180.7155 \n\" style=\"fill:none;stroke:#000000;stroke-linecap:square;stroke-linejoin:miter;stroke-width:0.8;\"/>\n   </g>\n   <g id=\"patch_20\">\n    <path d=\"M 249.585938 253.1955 \nL 361.185938 253.1955 \n\" style=\"fill:none;stroke:#000000;stroke-linecap:square;stroke-linejoin:miter;stroke-width:0.8;\"/>\n   </g>\n   <g id=\"patch_21\">\n    <path d=\"M 249.585938 180.7155 \nL 361.185938 180.7155 \n\" style=\"fill:none;stroke:#000000;stroke-linecap:square;stroke-linejoin:miter;stroke-width:0.8;\"/>\n   </g>\n   <g id=\"text_4\">\n    <!-- per feature 90 percentile  -->\n    <g transform=\"translate(228.493125 161.278125)scale(0.12 -0.12)\">\n     <use xlink:href=\"#DejaVuSans-112\"/>\n     <use x=\"63.476562\" xlink:href=\"#DejaVuSans-101\"/>\n     <use x=\"125\" xlink:href=\"#DejaVuSans-114\"/>\n     <use x=\"166.113281\" xlink:href=\"#DejaVuSans-32\"/>\n     <use x=\"197.900391\" xlink:href=\"#DejaVuSans-102\"/>\n     <use x=\"233.105469\" xlink:href=\"#DejaVuSans-101\"/>\n     <use x=\"294.628906\" xlink:href=\"#DejaVuSans-97\"/>\n     <use x=\"355.908203\" xlink:href=\"#DejaVuSans-116\"/>\n     <use x=\"395.117188\" xlink:href=\"#DejaVuSans-117\"/>\n     <use x=\"458.496094\" xlink:href=\"#DejaVuSans-114\"/>\n     <use x=\"497.359375\" xlink:href=\"#DejaVuSans-101\"/>\n     <use x=\"558.882812\" xlink:href=\"#DejaVuSans-32\"/>\n     <use x=\"590.669922\" xlink:href=\"#DejaVuSans-57\"/>\n     <use x=\"654.292969\" xlink:href=\"#DejaVuSans-48\"/>\n     <use x=\"717.916016\" xlink:href=\"#DejaVuSans-32\"/>\n     <use x=\"749.703125\" xlink:href=\"#DejaVuSans-112\"/>\n     <use x=\"813.179688\" xlink:href=\"#DejaVuSans-101\"/>\n     <use x=\"874.703125\" xlink:href=\"#DejaVuSans-114\"/>\n     <use x=\"913.566406\" xlink:href=\"#DejaVuSans-99\"/>\n     <use x=\"968.546875\" xlink:href=\"#DejaVuSans-101\"/>\n     <use x=\"1030.070312\" xlink:href=\"#DejaVuSans-110\"/>\n     <use x=\"1093.449219\" xlink:href=\"#DejaVuSans-116\"/>\n     <use x=\"1132.658203\" xlink:href=\"#DejaVuSans-105\"/>\n     <use x=\"1160.441406\" xlink:href=\"#DejaVuSans-108\"/>\n     <use x=\"1188.224609\" xlink:href=\"#DejaVuSans-101\"/>\n     <use x=\"1249.748047\" xlink:href=\"#DejaVuSans-32\"/>\n    </g>\n    <!-- with random -->\n    <g transform=\"translate(267.48 174.7155)scale(0.12 -0.12)\">\n     <use xlink:href=\"#DejaVuSans-119\"/>\n     <use x=\"81.787109\" xlink:href=\"#DejaVuSans-105\"/>\n     <use x=\"109.570312\" xlink:href=\"#DejaVuSans-116\"/>\n     <use x=\"148.779297\" xlink:href=\"#DejaVuSans-104\"/>\n     <use x=\"212.158203\" xlink:href=\"#DejaVuSans-32\"/>\n     <use x=\"243.945312\" xlink:href=\"#DejaVuSans-114\"/>\n     <use x=\"285.058594\" xlink:href=\"#DejaVuSans-97\"/>\n     <use x=\"346.337891\" xlink:href=\"#DejaVuSans-110\"/>\n     <use x=\"409.716797\" xlink:href=\"#DejaVuSans-100\"/>\n     <use x=\"473.193359\" xlink:href=\"#DejaVuSans-111\"/>\n     <use x=\"534.375\" xlink:href=\"#DejaVuSans-109\"/>\n    </g>\n   </g>\n  </g>\n </g>\n <defs>\n  <clipPath id=\"p8359e2e5d0\">\n   <rect height=\"72.48\" width=\"111.6\" x=\"26.385937\" y=\"35.7555\"/>\n  </clipPath>\n  <clipPath id=\"p481baf7922\">\n   <rect height=\"72.48\" width=\"111.6\" x=\"249.585938\" y=\"35.7555\"/>\n  </clipPath>\n  <clipPath id=\"p019cd1682f\">\n   <rect height=\"72.48\" width=\"111.6\" x=\"26.385937\" y=\"180.7155\"/>\n  </clipPath>\n  <clipPath id=\"ped2375d39f\">\n   <rect height=\"72.48\" width=\"111.6\" x=\"249.585938\" y=\"180.7155\"/>\n  </clipPath>\n </defs>\n</svg>\n",
      "image/png": "[encoded data removed]"
     },
     "metadata": {}
    }
   ],
   "source": [
    "# Compare the difference between overall percentile and percentile per feature w/wo random\n",
    "\n",
    "# Test:\n",
    "e = explanations[0]\n",
    "x_coef = e[\"xcoef\"]\n",
    "X, y_true = zip(*test_set)\n",
    "x_arr = X[0]\n",
    "\n",
    "# Get absolute value for weight, because LIME could be negative -> 90 percentile might not work.\n",
    "m1 = mask_percentile(np.abs(x_coef), axis=None, interpolation=\"higher\")\n",
    "m2 = mask_percentile(np.abs(x_coef), axis=None, interpolation=\"higher\", random=True)\n",
    "m3 = mask_percentile(np.abs(x_coef), axis=1, interpolation=\"higher\")\n",
    "m4 = mask_percentile(np.abs(x_coef), axis=1, interpolation=\"higher\", random=True)\n",
    "\n",
    "fig, axes = plt.subplots(2, 2)\n",
    "ax = axes[0, 0]\n",
    "ax.imshow(m1, aspect='auto')\n",
    "ax.set_title(\"overall 90 percentile\\n\")\n",
    "ax = axes[0, 1]\n",
    "ax.imshow(m2, aspect='auto')\n",
    "ax.set_title(\"overall 90 percentile \\nwith random\")\n",
    "ax = axes[1, 0]\n",
    "ax.imshow(m3, aspect='auto')\n",
    "ax.set_title(\"per feature 90 percentile\\n\")\n",
    "ax = axes[1, 1]\n",
    "ax.imshow(m4, aspect='auto')\n",
    "ax.set_title(\"per feature 90 percentile \\nwith random\")\n",
    "plt.subplots_adjust(hspace=1, wspace=1)\n",
    "\n",
    "plt_hide_ticks(fig)\n",
    "# Test perturb_X\n",
    "#r = replacements(x_arr, method=\"zeros\")\n",
    "#z = perturb(x_arr, m, r)\n",
    "\n",
    "#e = explanations[0]\n",
    "#xcoef = e[\"xcoef\"]\n",
    "#X_perturbed = perturb_X(X, xcoef, method=\"zeros\")\n"
   ]
  },
  {
   "source": [
    "# Methodology for experiments.\n",
    "\n",
    "## Root Mean Squared Error in original as base line\n",
    "1. Fit directy X, y_true, y_pred to f(x) to get the baseline score\n",
    "\n",
    "## rmse in 90 percentile of explanations\n",
    "1. For each XAI model we generate a perturbed test set\n",
    "1. Fit to model and record rmse of perturbed test to the dict\n",
    "1. Save all scores to the dict {\"scale\": ..., \"model\": ...., \"method\": ...., \"xcoef\": ....., \"rmse\": ....}\n",
    "    - xcoef as explanations.\n",
    "    - rmse as root mean squared error score (lower better)\n",
    "\n",
    "## rmse in random perturbed\n",
    "1. Generate a random perturbed set, notice that:\n",
    "    - the number of changes =  perturbed test set"
   ],
   "cell_type": "markdown",
   "metadata": {}
  },
  {
   "source": [
    "## Step 1: RMSE of original Test Set X\n",
    "## Step 2: RMSE of overall 90 percentile of explanations\n",
    "## Step 3: RMSE of overall Random\n",
    "- number of changes in random = overall 90 percentile of explanations (in step 1)"
   ],
   "cell_type": "markdown",
   "metadata": {}
  },
  {
   "cell_type": "code",
   "execution_count": 8,
   "metadata": {},
   "outputs": [],
   "source": [
    "import copy\n",
    "import tqdm\n",
    "from sklearn.metrics import mean_squared_error\n",
    "\n",
    "def get_rmse(x, fn, y_true):\n",
    "    x_test = np.stack([x_i.T for x_i in x])\n",
    "    y_pred = fn.predict(x_test).ravel()\n",
    "\n",
    "    mse = mean_squared_error(y_true, y_pred)\n",
    "    return np.sqrt(mse)\n",
    "\n",
    "def qm_rmse_exp(X, ytrue, explanations, axis=None, absolute=False):\n",
    "    exp = copy.deepcopy(explanations)\n",
    "\n",
    "    # Calculate quality measure for each explanation\n",
    "    for e in tqdm.tqdm(exp):\n",
    "        x_coef = e[\"xcoef\"]\n",
    "        fn = eval(e[\"model\"].replace(\"_fn\", \"\"))    # remove \"_fn\" from lstm_fn (custom)\n",
    "\n",
    "        if absolute:\n",
    "            x_coef = np.abs(x_coef)\n",
    "        \n",
    "        #1 Get original rmse for X\n",
    "        e.update({\"rmse_original\": get_rmse(X, fn, y_true)})\n",
    "\n",
    "        #2 Create perturbed test set + rmse\n",
    "        X_p90 = perturb_X(X, x_coef=x_coef, percentile=90, axis=axis) # overall case by set axis=None\n",
    "        e.update({\"rmse_p90\": get_rmse(X_p90, fn, y_true)})\n",
    "\n",
    "        #3 Random - same x-coef to get number of changes.\n",
    "        X_random = perturb_X(X, x_coef=x_coef, percentile=90, axis=axis, random=True)\n",
    "        e.update({\"rmse_random\": get_rmse(X_random, fn, y_true)})\n",
    "    return exp\n",
    "\n",
    "def eva_explainations(exp, m='lstm_fn'):\n",
    "    eva_df = pd.DataFrame(list(exp))\n",
    "    eva_df = eva_df.drop(\"xcoef\", axis=1)\n",
    "    eva_df[\"rmse_diff_random\"] = eva_df.eval(\"rmse_random - rmse_original\")\n",
    "    eva_df[\"rmse_diff_p90\"] = eva_df.eval(\"rmse_p90 - rmse_original\")\n",
    "    eva_df[\"diff\"] = eva_df.eval(\"rmse_diff_p90 - rmse_diff_random\")\n",
    "    eva_df[\"assumption_hold\"] = eva_df.eval(\"rmse_diff_random > 0 and rmse_diff_p90 > 0 and diff > 0\")\n",
    "\n",
    "    # Select columns to presents\n",
    "    c =[\"scale\", \"model\", \"method\", \"rmse_original\",\"rmse_diff_random\", \"rmse_diff_p90\", \"diff\", \"assumption_hold\"]\n",
    "    tt = eva_df.loc[:, c]\n",
    "    result = tt.query(f\"model == '{m}' \")\n",
    "    return result"
   ]
  },
  {
   "source": [
    "# Evaluation quality for Regression task\n",
    "\n",
    "Assumptions to be used: \n",
    "\\begin{equation}\n",
    "    err(X) < err(X_{random}) < err(X_{p90})\n",
    "\\end{equation}\n",
    "- with X: Original test set\n",
    "- $X_{random}$: Randomly perturbed X, based on number of changes in $X_p90$\n",
    "- $X_{p90}$: Perturbed based on values larger than 90 percentile threshold.\n",
    "\n",
    "We expect to see:\n",
    "- $rmse(X) < rmse(X_{random}) < rmse(X_{p90})$\n",
    "- alternative $0 <= diff_{random} < diff_{p90}$ in comparison with rmse X\n",
    "    - $diff_{random} = rmse_{random} - rmse_{origingal}$\n",
    "    - $diff_{p90} = rmse_{p90} - rmse_{origingal}$\n",
    "    - $diff = diff_{p90} - diff_{random} $\n",
    "\n",
    "### Assumption would be hold only if: $0 <= diff_{random} < diff_{p90}  \\land  diff > 0 $ "
   ],
   "cell_type": "markdown",
   "metadata": {}
  },
  {
   "cell_type": "code",
   "execution_count": 9,
   "metadata": {},
   "outputs": [],
   "source": [
    "# Evaluation Result for lstm\n",
    "from IPython.display import Math, display\n",
    "_math_text_ = r\"\"\"$\\text{Expect to see: } 0 <= diff_{random} < diff_{p90}  \\land  diff > 0 $\"\"\"\n",
    "X, y_true = zip(*test_set)"
   ]
  },
  {
   "cell_type": "code",
   "execution_count": 10,
   "metadata": {},
   "outputs": [
    {
     "output_type": "stream",
     "name": "stderr",
     "text": [
      "100%|██████████| 12/12 [01:14<00:00,  6.21s/it]\n"
     ]
    }
   ],
   "source": [
    "test_case_1 = \"Overall 90 percentile\"\n",
    "exp1 = qm_rmse_exp(X, y_true, explanations, axis=None)"
   ]
  },
  {
   "cell_type": "code",
   "execution_count": 11,
   "metadata": {},
   "outputs": [
    {
     "output_type": "display_data",
     "data": {
      "text/plain": "<IPython.core.display.Math object>",
      "text/latex": "$\\displaystyle \\text{Expect to see: } 0 <= diff_{random} < diff_{p90}  \\land  diff > 0 $"
     },
     "metadata": {}
    },
    {
     "output_type": "stream",
     "name": "stdout",
     "text": [
      "Overall 90 percentile\n"
     ]
    },
    {
     "output_type": "execute_result",
     "data": {
      "text/plain": [
       "    scale    model       method  rmse_original  rmse_diff_random  \\\n",
       "0   async  lstm_fn        zeros       0.138016         -0.039237   \n",
       "2   async  lstm_fn   local_mean       0.138016         -0.030417   \n",
       "4   async  lstm_fn  global_mean       0.138016         -0.034095   \n",
       "6    sync  lstm_fn        zeros       0.138016         -0.057889   \n",
       "8    sync  lstm_fn   local_mean       0.138016         -0.036356   \n",
       "10   sync  lstm_fn  global_mean       0.138016          0.011589   \n",
       "\n",
       "    rmse_diff_p90      diff  assumption_hold  \n",
       "0        0.278884  0.318121            False  \n",
       "2        0.981376  1.011792            False  \n",
       "4        0.302969  0.337064            False  \n",
       "6       -0.009606  0.048283            False  \n",
       "8       -0.046823 -0.010468            False  \n",
       "10       0.008494 -0.003095            False  "
      ],
      "text/html": "<div>\n<style scoped>\n    .dataframe tbody tr th:only-of-type {\n        vertical-align: middle;\n    }\n\n    .dataframe tbody tr th {\n        vertical-align: top;\n    }\n\n    .dataframe thead th {\n        text-align: right;\n    }\n</style>\n<table border=\"1\" class=\"dataframe\">\n  <thead>\n    <tr style=\"text-align: right;\">\n      <th></th>\n      <th>scale</th>\n      <th>model</th>\n      <th>method</th>\n      <th>rmse_original</th>\n      <th>rmse_diff_random</th>\n      <th>rmse_diff_p90</th>\n      <th>diff</th>\n      <th>assumption_hold</th>\n    </tr>\n  </thead>\n  <tbody>\n    <tr>\n      <th>0</th>\n      <td>async</td>\n      <td>lstm_fn</td>\n      <td>zeros</td>\n      <td>0.138016</td>\n      <td>-0.039237</td>\n      <td>0.278884</td>\n      <td>0.318121</td>\n      <td>False</td>\n    </tr>\n    <tr>\n      <th>2</th>\n      <td>async</td>\n      <td>lstm_fn</td>\n      <td>local_mean</td>\n      <td>0.138016</td>\n      <td>-0.030417</td>\n      <td>0.981376</td>\n      <td>1.011792</td>\n      <td>False</td>\n    </tr>\n    <tr>\n      <th>4</th>\n      <td>async</td>\n      <td>lstm_fn</td>\n      <td>global_mean</td>\n      <td>0.138016</td>\n      <td>-0.034095</td>\n      <td>0.302969</td>\n      <td>0.337064</td>\n      <td>False</td>\n    </tr>\n    <tr>\n      <th>6</th>\n      <td>sync</td>\n      <td>lstm_fn</td>\n      <td>zeros</td>\n      <td>0.138016</td>\n      <td>-0.057889</td>\n      <td>-0.009606</td>\n      <td>0.048283</td>\n      <td>False</td>\n    </tr>\n    <tr>\n      <th>8</th>\n      <td>sync</td>\n      <td>lstm_fn</td>\n      <td>local_mean</td>\n      <td>0.138016</td>\n      <td>-0.036356</td>\n      <td>-0.046823</td>\n      <td>-0.010468</td>\n      <td>False</td>\n    </tr>\n    <tr>\n      <th>10</th>\n      <td>sync</td>\n      <td>lstm_fn</td>\n      <td>global_mean</td>\n      <td>0.138016</td>\n      <td>0.011589</td>\n      <td>0.008494</td>\n      <td>-0.003095</td>\n      <td>False</td>\n    </tr>\n  </tbody>\n</table>\n</div>"
     },
     "metadata": {},
     "execution_count": 11
    }
   ],
   "source": [
    "# Case 1\n",
    "display(Math(_math_text_))\n",
    "print(test_case_1)\n",
    "eva_explainations(exp1)"
   ]
  },
  {
   "source": [
    "## Discussion\n",
    "\n",
    "The result show the diference in rmse based on the rmse_original. the random have more error than the original then it satisfy the assumption. However the unexpected rmse_diff_p90 is unstable, that does not statisfy the assumption. All async methods turns to better quality with lower rmse after being perturbed. The sync does in the oposite way except for global mean perturbation."
   ],
   "cell_type": "markdown",
   "metadata": {}
  },
  {
   "source": [
    "# Per feature 90 percentile \n",
    "Previously we use overall 90 percentile -> now we experiment on perturbing values over 90 percentile per feature.\n",
    "- repeat the whole process above, but uses per feature by set $\\textbf{axis=1}$\n",
    "- the rmse for the original X does not change, we could skip this.\n"
   ],
   "cell_type": "markdown",
   "metadata": {}
  },
  {
   "cell_type": "code",
   "execution_count": 12,
   "metadata": {},
   "outputs": [
    {
     "output_type": "stream",
     "name": "stderr",
     "text": [
      "100%|██████████| 12/12 [01:13<00:00,  6.16s/it]\n"
     ]
    }
   ],
   "source": [
    "test_case_2 = \"Per-feature 90 percentile\"\n",
    "exp2 = qm_rmse_exp(X, y_true, explanations, axis=1)\n"
   ]
  },
  {
   "cell_type": "code",
   "execution_count": 13,
   "metadata": {},
   "outputs": [
    {
     "output_type": "display_data",
     "data": {
      "text/plain": "<IPython.core.display.Math object>",
      "text/latex": "$\\displaystyle \\text{Expect to see: } 0 <= diff_{random} < diff_{p90}  \\land  diff > 0 $"
     },
     "metadata": {}
    },
    {
     "output_type": "stream",
     "name": "stdout",
     "text": [
      "Per-feature 90 percentile\n"
     ]
    },
    {
     "output_type": "execute_result",
     "data": {
      "text/plain": [
       "    scale    model       method  rmse_original  rmse_diff_random  \\\n",
       "0   async  lstm_fn        zeros       0.138016         -0.032866   \n",
       "2   async  lstm_fn   local_mean       0.138016         -0.031440   \n",
       "4   async  lstm_fn  global_mean       0.138016         -0.036441   \n",
       "6    sync  lstm_fn        zeros       0.138016         -0.039063   \n",
       "8    sync  lstm_fn   local_mean       0.138016         -0.030002   \n",
       "10   sync  lstm_fn  global_mean       0.138016         -0.024843   \n",
       "\n",
       "    rmse_diff_p90      diff  assumption_hold  \n",
       "0       -0.003803  0.029063            False  \n",
       "2        0.036889  0.068329            False  \n",
       "4       -0.011381  0.025060            False  \n",
       "6       -0.009606  0.029457            False  \n",
       "8       -0.046823 -0.016822            False  \n",
       "10       0.008494  0.033337            False  "
      ],
      "text/html": "<div>\n<style scoped>\n    .dataframe tbody tr th:only-of-type {\n        vertical-align: middle;\n    }\n\n    .dataframe tbody tr th {\n        vertical-align: top;\n    }\n\n    .dataframe thead th {\n        text-align: right;\n    }\n</style>\n<table border=\"1\" class=\"dataframe\">\n  <thead>\n    <tr style=\"text-align: right;\">\n      <th></th>\n      <th>scale</th>\n      <th>model</th>\n      <th>method</th>\n      <th>rmse_original</th>\n      <th>rmse_diff_random</th>\n      <th>rmse_diff_p90</th>\n      <th>diff</th>\n      <th>assumption_hold</th>\n    </tr>\n  </thead>\n  <tbody>\n    <tr>\n      <th>0</th>\n      <td>async</td>\n      <td>lstm_fn</td>\n      <td>zeros</td>\n      <td>0.138016</td>\n      <td>-0.032866</td>\n      <td>-0.003803</td>\n      <td>0.029063</td>\n      <td>False</td>\n    </tr>\n    <tr>\n      <th>2</th>\n      <td>async</td>\n      <td>lstm_fn</td>\n      <td>local_mean</td>\n      <td>0.138016</td>\n      <td>-0.031440</td>\n      <td>0.036889</td>\n      <td>0.068329</td>\n      <td>False</td>\n    </tr>\n    <tr>\n      <th>4</th>\n      <td>async</td>\n      <td>lstm_fn</td>\n      <td>global_mean</td>\n      <td>0.138016</td>\n      <td>-0.036441</td>\n      <td>-0.011381</td>\n      <td>0.025060</td>\n      <td>False</td>\n    </tr>\n    <tr>\n      <th>6</th>\n      <td>sync</td>\n      <td>lstm_fn</td>\n      <td>zeros</td>\n      <td>0.138016</td>\n      <td>-0.039063</td>\n      <td>-0.009606</td>\n      <td>0.029457</td>\n      <td>False</td>\n    </tr>\n    <tr>\n      <th>8</th>\n      <td>sync</td>\n      <td>lstm_fn</td>\n      <td>local_mean</td>\n      <td>0.138016</td>\n      <td>-0.030002</td>\n      <td>-0.046823</td>\n      <td>-0.016822</td>\n      <td>False</td>\n    </tr>\n    <tr>\n      <th>10</th>\n      <td>sync</td>\n      <td>lstm_fn</td>\n      <td>global_mean</td>\n      <td>0.138016</td>\n      <td>-0.024843</td>\n      <td>0.008494</td>\n      <td>0.033337</td>\n      <td>False</td>\n    </tr>\n  </tbody>\n</table>\n</div>"
     },
     "metadata": {},
     "execution_count": 13
    }
   ],
   "source": [
    "# Case 2\n",
    "display(Math(_math_text_))\n",
    "print(test_case_2)\n",
    "eva_explainations(exp2)"
   ]
  },
  {
   "source": [
    "## Discussion\n",
    "In this per-feature 90 percentile, the assumption above does not hold for both. However, the score is very close with difference close to zeros."
   ],
   "cell_type": "markdown",
   "metadata": {}
  },
  {
   "source": [
    "# Absolute value for coeficiencts\n",
    "\n",
    "Experiments above was done when coefs is not get absolute. For LIME in regression the weight could be significant negative or positive. In this case, we would like to run it to check if the absolute Weight will hold the assumption\n",
    "- Again we do not need to calculate rmse for the original X"
   ],
   "cell_type": "markdown",
   "metadata": {}
  },
  {
   "cell_type": "code",
   "execution_count": 14,
   "metadata": {},
   "outputs": [
    {
     "output_type": "stream",
     "name": "stderr",
     "text": [
      "100%|██████████| 12/12 [01:13<00:00,  6.14s/it]\n"
     ]
    }
   ],
   "source": [
    "test_case_3 = \"Overall 90 percentile + absolute\"\n",
    "exp3 = qm_rmse_exp(X, y_true, explanations, axis=None, absolute=True)"
   ]
  },
  {
   "cell_type": "code",
   "execution_count": 15,
   "metadata": {},
   "outputs": [
    {
     "output_type": "display_data",
     "data": {
      "text/plain": "<IPython.core.display.Math object>",
      "text/latex": "$\\displaystyle \\text{Expect to see: } 0 <= diff_{random} < diff_{p90}  \\land  diff > 0 $"
     },
     "metadata": {}
    },
    {
     "output_type": "stream",
     "name": "stdout",
     "text": [
      "Overall 90 percentile + absolute\n"
     ]
    },
    {
     "output_type": "execute_result",
     "data": {
      "text/plain": [
       "    scale    model       method  rmse_original  rmse_diff_random  \\\n",
       "0   async  lstm_fn        zeros       0.138016          0.061724   \n",
       "2   async  lstm_fn   local_mean       0.138016         -0.058363   \n",
       "4   async  lstm_fn  global_mean       0.138016         -0.003285   \n",
       "6    sync  lstm_fn        zeros       0.138016         -0.049444   \n",
       "8    sync  lstm_fn   local_mean       0.138016          0.030893   \n",
       "10   sync  lstm_fn  global_mean       0.138016         -0.043846   \n",
       "\n",
       "    rmse_diff_p90      diff  assumption_hold  \n",
       "0       -0.034624 -0.096348            False  \n",
       "2        0.437125  0.495488            False  \n",
       "4        0.303997  0.307282            False  \n",
       "6        0.008554  0.057998            False  \n",
       "8       -0.046823 -0.077716            False  \n",
       "10       0.008494  0.052340            False  "
      ],
      "text/html": "<div>\n<style scoped>\n    .dataframe tbody tr th:only-of-type {\n        vertical-align: middle;\n    }\n\n    .dataframe tbody tr th {\n        vertical-align: top;\n    }\n\n    .dataframe thead th {\n        text-align: right;\n    }\n</style>\n<table border=\"1\" class=\"dataframe\">\n  <thead>\n    <tr style=\"text-align: right;\">\n      <th></th>\n      <th>scale</th>\n      <th>model</th>\n      <th>method</th>\n      <th>rmse_original</th>\n      <th>rmse_diff_random</th>\n      <th>rmse_diff_p90</th>\n      <th>diff</th>\n      <th>assumption_hold</th>\n    </tr>\n  </thead>\n  <tbody>\n    <tr>\n      <th>0</th>\n      <td>async</td>\n      <td>lstm_fn</td>\n      <td>zeros</td>\n      <td>0.138016</td>\n      <td>0.061724</td>\n      <td>-0.034624</td>\n      <td>-0.096348</td>\n      <td>False</td>\n    </tr>\n    <tr>\n      <th>2</th>\n      <td>async</td>\n      <td>lstm_fn</td>\n      <td>local_mean</td>\n      <td>0.138016</td>\n      <td>-0.058363</td>\n      <td>0.437125</td>\n      <td>0.495488</td>\n      <td>False</td>\n    </tr>\n    <tr>\n      <th>4</th>\n      <td>async</td>\n      <td>lstm_fn</td>\n      <td>global_mean</td>\n      <td>0.138016</td>\n      <td>-0.003285</td>\n      <td>0.303997</td>\n      <td>0.307282</td>\n      <td>False</td>\n    </tr>\n    <tr>\n      <th>6</th>\n      <td>sync</td>\n      <td>lstm_fn</td>\n      <td>zeros</td>\n      <td>0.138016</td>\n      <td>-0.049444</td>\n      <td>0.008554</td>\n      <td>0.057998</td>\n      <td>False</td>\n    </tr>\n    <tr>\n      <th>8</th>\n      <td>sync</td>\n      <td>lstm_fn</td>\n      <td>local_mean</td>\n      <td>0.138016</td>\n      <td>0.030893</td>\n      <td>-0.046823</td>\n      <td>-0.077716</td>\n      <td>False</td>\n    </tr>\n    <tr>\n      <th>10</th>\n      <td>sync</td>\n      <td>lstm_fn</td>\n      <td>global_mean</td>\n      <td>0.138016</td>\n      <td>-0.043846</td>\n      <td>0.008494</td>\n      <td>0.052340</td>\n      <td>False</td>\n    </tr>\n  </tbody>\n</table>\n</div>"
     },
     "metadata": {},
     "execution_count": 15
    }
   ],
   "source": [
    "# Case 3\n",
    "display(Math(_math_text_))\n",
    "print(test_case_3)\n",
    "eva_explainations(exp3)"
   ]
  },
  {
   "source": [
    "## Conclusion\n",
    "- The absolute overall 90 percentile for explanations does similarly. The assumption does not hold for percentile 90 (overall), but it holds for random"
   ],
   "cell_type": "markdown",
   "metadata": {}
  },
  {
   "source": [
    "# Absolute value for coeficiencts per feature (90 percentile)\n",
    "\n",
    "Continue the exp 3, but with each feature for threshold 90 percentile."
   ],
   "cell_type": "markdown",
   "metadata": {}
  },
  {
   "cell_type": "code",
   "execution_count": 16,
   "metadata": {},
   "outputs": [
    {
     "output_type": "stream",
     "name": "stderr",
     "text": [
      "100%|██████████| 12/12 [01:13<00:00,  6.14s/it]\n"
     ]
    }
   ],
   "source": [
    "test_case_4 = \"Per-feature 90 percentile + absolute\"\n",
    "exp4 = qm_rmse_exp(X, y_true, explanations, axis=1, absolute=True)"
   ]
  },
  {
   "cell_type": "code",
   "execution_count": 17,
   "metadata": {},
   "outputs": [
    {
     "output_type": "display_data",
     "data": {
      "text/plain": "<IPython.core.display.Math object>",
      "text/latex": "$\\displaystyle \\text{Expect to see: } 0 <= diff_{random} < diff_{p90}  \\land  diff > 0 $"
     },
     "metadata": {}
    },
    {
     "output_type": "stream",
     "name": "stdout",
     "text": [
      "Per-feature 90 percentile + absolute\n"
     ]
    },
    {
     "output_type": "execute_result",
     "data": {
      "text/plain": [
       "    scale    model       method  rmse_original  rmse_diff_random  \\\n",
       "0   async  lstm_fn        zeros       0.138016         -0.019859   \n",
       "2   async  lstm_fn   local_mean       0.138016         -0.046906   \n",
       "4   async  lstm_fn  global_mean       0.138016         -0.036772   \n",
       "6    sync  lstm_fn        zeros       0.138016         -0.039360   \n",
       "8    sync  lstm_fn   local_mean       0.138016         -0.043106   \n",
       "10   sync  lstm_fn  global_mean       0.138016         -0.010349   \n",
       "\n",
       "    rmse_diff_p90      diff  assumption_hold  \n",
       "0        0.017749  0.037608            False  \n",
       "2        0.007007  0.053912            False  \n",
       "4        0.021012  0.057783            False  \n",
       "6        0.008554  0.047914            False  \n",
       "8       -0.046823 -0.003717            False  \n",
       "10       0.008494  0.018843            False  "
      ],
      "text/html": "<div>\n<style scoped>\n    .dataframe tbody tr th:only-of-type {\n        vertical-align: middle;\n    }\n\n    .dataframe tbody tr th {\n        vertical-align: top;\n    }\n\n    .dataframe thead th {\n        text-align: right;\n    }\n</style>\n<table border=\"1\" class=\"dataframe\">\n  <thead>\n    <tr style=\"text-align: right;\">\n      <th></th>\n      <th>scale</th>\n      <th>model</th>\n      <th>method</th>\n      <th>rmse_original</th>\n      <th>rmse_diff_random</th>\n      <th>rmse_diff_p90</th>\n      <th>diff</th>\n      <th>assumption_hold</th>\n    </tr>\n  </thead>\n  <tbody>\n    <tr>\n      <th>0</th>\n      <td>async</td>\n      <td>lstm_fn</td>\n      <td>zeros</td>\n      <td>0.138016</td>\n      <td>-0.019859</td>\n      <td>0.017749</td>\n      <td>0.037608</td>\n      <td>False</td>\n    </tr>\n    <tr>\n      <th>2</th>\n      <td>async</td>\n      <td>lstm_fn</td>\n      <td>local_mean</td>\n      <td>0.138016</td>\n      <td>-0.046906</td>\n      <td>0.007007</td>\n      <td>0.053912</td>\n      <td>False</td>\n    </tr>\n    <tr>\n      <th>4</th>\n      <td>async</td>\n      <td>lstm_fn</td>\n      <td>global_mean</td>\n      <td>0.138016</td>\n      <td>-0.036772</td>\n      <td>0.021012</td>\n      <td>0.057783</td>\n      <td>False</td>\n    </tr>\n    <tr>\n      <th>6</th>\n      <td>sync</td>\n      <td>lstm_fn</td>\n      <td>zeros</td>\n      <td>0.138016</td>\n      <td>-0.039360</td>\n      <td>0.008554</td>\n      <td>0.047914</td>\n      <td>False</td>\n    </tr>\n    <tr>\n      <th>8</th>\n      <td>sync</td>\n      <td>lstm_fn</td>\n      <td>local_mean</td>\n      <td>0.138016</td>\n      <td>-0.043106</td>\n      <td>-0.046823</td>\n      <td>-0.003717</td>\n      <td>False</td>\n    </tr>\n    <tr>\n      <th>10</th>\n      <td>sync</td>\n      <td>lstm_fn</td>\n      <td>global_mean</td>\n      <td>0.138016</td>\n      <td>-0.010349</td>\n      <td>0.008494</td>\n      <td>0.018843</td>\n      <td>False</td>\n    </tr>\n  </tbody>\n</table>\n</div>"
     },
     "metadata": {},
     "execution_count": 17
    }
   ],
   "source": [
    "# Case 4\n",
    "display(Math(_math_text_))\n",
    "print(test_case_4)\n",
    "eva_explainations(exp4)"
   ]
  },
  {
   "source": [
    "## Conclusion:\n",
    "The assumption does not hold also for the both cases. However the result is very close to the original. (diff close to zeros)"
   ],
   "cell_type": "markdown",
   "metadata": {}
  },
  {
   "cell_type": "code",
   "execution_count": null,
   "metadata": {},
   "outputs": [],
   "source": []
  }
 ],
 "metadata": {
  "language_info": {
   "codemirror_mode": {
    "name": "ipython",
    "version": 3
   },
   "file_extension": ".py",
   "mimetype": "text/x-python",
   "name": "python",
   "nbconvert_exporter": "python",
   "pygments_lexer": "ipython3",
   "version": "3.7.7-final"
  },
  "orig_nbformat": 2,
  "kernelspec": {
   "name": "python3",
   "display_name": "Python 3.7.7 64-bit ('dev37': conda)",
   "metadata": {
    "interpreter": {
     "hash": "76fdbec98d1ff00acce9daf8fa18366555273267a59abb67ea09584c9e70ea1a"
    }
   }
  }
 },
 "nbformat": 4,
 "nbformat_minor": 2
}