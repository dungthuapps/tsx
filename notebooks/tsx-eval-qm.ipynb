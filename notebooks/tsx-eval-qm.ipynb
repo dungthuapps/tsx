{
 "cells": [
  {
   "cell_type": "code",
   "execution_count": 1,
   "metadata": {},
   "outputs": [],
   "source": [
    "import os\n",
    "import sys\n",
    "import pyts\n",
    "module_path = os.path.abspath(os.path.join('..'))\n",
    "if module_path not in sys.path:\n",
    "    sys.path.append(module_path)\n"
   ]
  },
  {
   "cell_type": "code",
   "execution_count": 2,
   "metadata": {},
   "outputs": [],
   "source": [
    "import numpy as np\n",
    "import pandas as pd\n",
    "import tensorflow as tf\n",
    "\n",
    "from matplotlib import pyplot as plt\n",
    "from matplotlib.colors import LinearSegmentedColormap\n",
    "from matplotlib.patches import Patch\n",
    "\n",
    "from tsx.perturbation import TimeSeriesPerturbation\n",
    "from tsx.xai.lime import LIMETimeSeries, XAIModels\n",
    "from tsx.xai import evaluation as eva\n",
    "\n",
    "from data_util import *\n",
    "from viz import *\n",
    "\n",
    "import itertools\n",
    "import pandas as pd\n",
    "from biokit.viz import corrplot"
   ]
  },
  {
   "source": [
    "### Objectives\n",
    "1. Evaluate between different XAI models but same family (Ridge, for example)\n",
    "1. Evaluate between different DL model, but same XAI model\n",
    "1. Evaluate the same on Multivariate Time Series\n",
    "1. (Todo) -> Evaluate the same on Univariate Time Series\n",
    "\n",
    "### Metrics to Evaluation\n",
    "1. coef correlations\n",
    "1. r2-scores\n",
    "    the scores when building XAI model in approximation process $f(z) ~ g(z') = w * z'$\n"
   ],
   "cell_type": "markdown",
   "metadata": {}
  },
  {
   "source": [
    "## Prepare Data Set"
   ],
   "cell_type": "markdown",
   "metadata": {}
  },
  {
   "cell_type": "code",
   "execution_count": 3,
   "metadata": {},
   "outputs": [],
   "source": [
    "independents = [\"dew\", \"temp\", \"press\", \"wind_direction\", \"wind_speed\", \"snow\", \"rain\"]\n",
    "dependent = \"pollution\"\n",
    "\n",
    "# Load data\n",
    "df = load_data_set_bejin()\n",
    "x_scaler, y_scaler = get_xy_scalers(df, independents, dependent)\n",
    "\n",
    "# Normalize data \n",
    "df_norm = df.copy()\n",
    "df_norm[independents] = x_scaler.transform(df[independents].values)\n",
    "df_norm[dependent] = y_scaler.transform(df[dependent].values.reshape(-1, 1))\n",
    "\n",
    "# Global param\n",
    "n_steps = 128\n",
    "window_size = 8\n",
    "n_variables = len(independents)\n",
    "samples_size = 100"
   ]
  },
  {
   "cell_type": "code",
   "execution_count": 4,
   "metadata": {},
   "outputs": [],
   "source": [
    "# Prepare predict function\n",
    "wavenet = tf.keras.models.load_model(f\"{DATA_DIR}/wavenet_mts_128_1.h5\")\n",
    "lstm = tf.keras.models.load_model(f\"{DATA_DIR}/lstm_mts_128_1.h5\")\n",
    "\n",
    "def predict_fn(z, model=lstm):\n",
    "    z_reshaped = z.T.reshape(1, 128, 7)\n",
    "    z_hat = model.predict(z_reshaped)\n",
    "    # to avoid zero coef_ for z_hat in[0, 1]\n",
    "    z_hat = y_scaler.inverse_transform(z_hat.reshape(-1, 1))  \n",
    "    z_hat = z_hat.ravel()   # z_hat will arround 50 - 150\n",
    "    return z_hat[0]\n",
    "\n",
    "def lstm_fn(z):\n",
    "    return predict_fn(z, model=lstm)\n",
    "\n",
    "def wavenet_fn(z):\n",
    "    return predict_fn(z, model=wavenet)"
   ]
  },
  {
   "cell_type": "code",
   "execution_count": 5,
   "metadata": {},
   "outputs": [],
   "source": [
    "# Test set (random)\n",
    "test_set = []\n",
    "n_instances = 1000\n",
    "for i in range(n_instances):\n",
    "    i_df = get_instance_x(df_norm, n_steps + 1, independents + \n",
    "    [dependent])\n",
    "    _x = i_df.loc[:n_steps-1, independents]\n",
    "    _y = i_df[dependent]   \n",
    "    test_set.append((_x.values.T, _y.to_numpy()[-1]))"
   ]
  },
  {
   "cell_type": "code",
   "execution_count": 6,
   "metadata": {},
   "outputs": [
    {
     "output_type": "execute_result",
     "data": {
      "text/plain": [
       "<pandas.io.formats.style.Styler at 0x7fe1297c6a10>"
      ],
      "text/html": "<style  type=\"text/css\" >\n#T_c62ed_row0_col0,#T_c62ed_row1_col0,#T_c62ed_row2_col0,#T_c62ed_row3_col0,#T_c62ed_row4_col0,#T_c62ed_row5_col0{\n            background-color:  grey;\n            background-color:  ;\n            color:  ;\n            color:  ;\n        }#T_c62ed_row0_col1,#T_c62ed_row1_col1,#T_c62ed_row2_col1,#T_c62ed_row3_col1,#T_c62ed_row4_col1,#T_c62ed_row5_col1,#T_c62ed_row6_col1,#T_c62ed_row7_col1,#T_c62ed_row8_col1,#T_c62ed_row9_col1,#T_c62ed_row10_col1,#T_c62ed_row11_col1{\n            background-color:  ;\n            background-color:  ;\n            color:  ;\n            color:  ;\n        }#T_c62ed_row0_col2,#T_c62ed_row2_col2,#T_c62ed_row4_col2,#T_c62ed_row6_col2,#T_c62ed_row8_col2,#T_c62ed_row10_col2{\n            background-color:  ;\n            background-color:  ;\n            color:  cyan;\n            color:  ;\n        }#T_c62ed_row1_col2,#T_c62ed_row3_col2,#T_c62ed_row5_col2,#T_c62ed_row7_col2,#T_c62ed_row9_col2,#T_c62ed_row11_col2{\n            background-color:  ;\n            background-color:  ;\n            color:  ;\n            color:  orange;\n        }#T_c62ed_row6_col0,#T_c62ed_row7_col0,#T_c62ed_row8_col0,#T_c62ed_row9_col0,#T_c62ed_row10_col0,#T_c62ed_row11_col0{\n            background-color:  ;\n            background-color:  green;\n            color:  ;\n            color:  ;\n        }</style><table id=\"T_c62ed_\" ><thead>    <tr>        <th class=\"blank level0\" ></th>        <th class=\"col_heading level0 col0\" >scale</th>        <th class=\"col_heading level0 col1\" >method</th>        <th class=\"col_heading level0 col2\" >model</th>    </tr></thead><tbody>\n                <tr>\n                        <th id=\"T_c62ed_level0_row0\" class=\"row_heading level0 row0\" >0</th>\n                        <td id=\"T_c62ed_row0_col0\" class=\"data row0 col0\" >async</td>\n                        <td id=\"T_c62ed_row0_col1\" class=\"data row0 col1\" >zeros</td>\n                        <td id=\"T_c62ed_row0_col2\" class=\"data row0 col2\" >lstm_fn</td>\n            </tr>\n            <tr>\n                        <th id=\"T_c62ed_level0_row1\" class=\"row_heading level0 row1\" >1</th>\n                        <td id=\"T_c62ed_row1_col0\" class=\"data row1 col0\" >async</td>\n                        <td id=\"T_c62ed_row1_col1\" class=\"data row1 col1\" >zeros</td>\n                        <td id=\"T_c62ed_row1_col2\" class=\"data row1 col2\" >wavenet_fn</td>\n            </tr>\n            <tr>\n                        <th id=\"T_c62ed_level0_row2\" class=\"row_heading level0 row2\" >2</th>\n                        <td id=\"T_c62ed_row2_col0\" class=\"data row2 col0\" >async</td>\n                        <td id=\"T_c62ed_row2_col1\" class=\"data row2 col1\" >local_mean</td>\n                        <td id=\"T_c62ed_row2_col2\" class=\"data row2 col2\" >lstm_fn</td>\n            </tr>\n            <tr>\n                        <th id=\"T_c62ed_level0_row3\" class=\"row_heading level0 row3\" >3</th>\n                        <td id=\"T_c62ed_row3_col0\" class=\"data row3 col0\" >async</td>\n                        <td id=\"T_c62ed_row3_col1\" class=\"data row3 col1\" >local_mean</td>\n                        <td id=\"T_c62ed_row3_col2\" class=\"data row3 col2\" >wavenet_fn</td>\n            </tr>\n            <tr>\n                        <th id=\"T_c62ed_level0_row4\" class=\"row_heading level0 row4\" >4</th>\n                        <td id=\"T_c62ed_row4_col0\" class=\"data row4 col0\" >async</td>\n                        <td id=\"T_c62ed_row4_col1\" class=\"data row4 col1\" >global_mean</td>\n                        <td id=\"T_c62ed_row4_col2\" class=\"data row4 col2\" >lstm_fn</td>\n            </tr>\n            <tr>\n                        <th id=\"T_c62ed_level0_row5\" class=\"row_heading level0 row5\" >5</th>\n                        <td id=\"T_c62ed_row5_col0\" class=\"data row5 col0\" >async</td>\n                        <td id=\"T_c62ed_row5_col1\" class=\"data row5 col1\" >global_mean</td>\n                        <td id=\"T_c62ed_row5_col2\" class=\"data row5 col2\" >wavenet_fn</td>\n            </tr>\n            <tr>\n                        <th id=\"T_c62ed_level0_row6\" class=\"row_heading level0 row6\" >6</th>\n                        <td id=\"T_c62ed_row6_col0\" class=\"data row6 col0\" >sync</td>\n                        <td id=\"T_c62ed_row6_col1\" class=\"data row6 col1\" >zeros</td>\n                        <td id=\"T_c62ed_row6_col2\" class=\"data row6 col2\" >lstm_fn</td>\n            </tr>\n            <tr>\n                        <th id=\"T_c62ed_level0_row7\" class=\"row_heading level0 row7\" >7</th>\n                        <td id=\"T_c62ed_row7_col0\" class=\"data row7 col0\" >sync</td>\n                        <td id=\"T_c62ed_row7_col1\" class=\"data row7 col1\" >zeros</td>\n                        <td id=\"T_c62ed_row7_col2\" class=\"data row7 col2\" >wavenet_fn</td>\n            </tr>\n            <tr>\n                        <th id=\"T_c62ed_level0_row8\" class=\"row_heading level0 row8\" >8</th>\n                        <td id=\"T_c62ed_row8_col0\" class=\"data row8 col0\" >sync</td>\n                        <td id=\"T_c62ed_row8_col1\" class=\"data row8 col1\" >local_mean</td>\n                        <td id=\"T_c62ed_row8_col2\" class=\"data row8 col2\" >lstm_fn</td>\n            </tr>\n            <tr>\n                        <th id=\"T_c62ed_level0_row9\" class=\"row_heading level0 row9\" >9</th>\n                        <td id=\"T_c62ed_row9_col0\" class=\"data row9 col0\" >sync</td>\n                        <td id=\"T_c62ed_row9_col1\" class=\"data row9 col1\" >local_mean</td>\n                        <td id=\"T_c62ed_row9_col2\" class=\"data row9 col2\" >wavenet_fn</td>\n            </tr>\n            <tr>\n                        <th id=\"T_c62ed_level0_row10\" class=\"row_heading level0 row10\" >10</th>\n                        <td id=\"T_c62ed_row10_col0\" class=\"data row10 col0\" >sync</td>\n                        <td id=\"T_c62ed_row10_col1\" class=\"data row10 col1\" >global_mean</td>\n                        <td id=\"T_c62ed_row10_col2\" class=\"data row10 col2\" >lstm_fn</td>\n            </tr>\n            <tr>\n                        <th id=\"T_c62ed_level0_row11\" class=\"row_heading level0 row11\" >11</th>\n                        <td id=\"T_c62ed_row11_col0\" class=\"data row11 col0\" >sync</td>\n                        <td id=\"T_c62ed_row11_col1\" class=\"data row11 col1\" >global_mean</td>\n                        <td id=\"T_c62ed_row11_col2\" class=\"data row11 col2\" >wavenet_fn</td>\n            </tr>\n    </tbody></table>"
     },
     "metadata": {},
     "execution_count": 6
    }
   ],
   "source": [
    "# Prepare Params for different models\n",
    "scales = [\"async\", \"sync\"]\n",
    "repl_fn = [\"zeros\", \"local_mean\", \"global_mean\"]\n",
    "model_fn = [\"lstm_fn\", \"wavenet_fn\"]\n",
    "\n",
    "params = list(itertools.product(scales, repl_fn, model_fn))\n",
    "params_df = pd.DataFrame([{\"scale\": s, \"method\": m, \"model\":model} for s, m, model in params])\n",
    "# print(params_df)\n",
    "params_df.style\\\n",
    "    .apply(lambda s: ['background-color: %s' % ('grey' if v else '') for v in s == \"async\"]) \\\n",
    "    .apply(lambda s: ['background-color: %s' % ('green' if v else '') for v in s == \"sync\"]) \\\n",
    "    .applymap(lambda s: 'color: %s' % ('cyan' if s == \"lstm_fn\" else '' )) \\\n",
    "    .applymap(lambda s: 'color: %s' % ('orange' if s == \"wavenet_fn\" else '' ))"
   ]
  },
  {
   "cell_type": "code",
   "execution_count": 7,
   "metadata": {},
   "outputs": [],
   "source": [
    "# Multinrun average explains for different xai models (# dl model)\n",
    "\n",
    "# Todo: add this function to lime.py\n",
    "#   coef_to_original = m.perturb_obj._x_masked\n",
    "# x_df = get_instance_x(df_norm, n_steps, independents)\n",
    "# x_arr = X[0]\n",
    "\n",
    "# Generate Explanations over 10 instances\n",
    "def get_xcoef(model, \n",
    "              instances,\n",
    "              scale=\"sync\", \n",
    "              r_fn='zeros',\n",
    "              window_size=window_size, \n",
    "              sample_size=samples_size):\n",
    "   \n",
    "    lime_ts = LIMETimeSeries(\n",
    "            scale=scale, \n",
    "            window_size=window_size,                                \n",
    "            sample_size=sample_size, \n",
    "            perturb_method=r_fn\n",
    "        )\n",
    "    lime_ts.xai_estimator = XAIModels.Ridge\n",
    "    lime_ts.explain_instances(instances, predict_fn=eval(model))\n",
    "\n",
    "    coef = lime_ts.coef\n",
    "    x_arr = instances[0]    # this to get x-coef in original format\n",
    "    x_coef = lime_ts.perturb_obj._x_masked(x_arr, coef)\n",
    "\n",
    "    return x_coef"
   ]
  },
  {
   "cell_type": "code",
   "execution_count": 8,
   "metadata": {},
   "outputs": [],
   "source": [
    "# Generate explanations for each option\n",
    "def generate_explanations():\n",
    "    X, y_true = zip(*test_set)\n",
    "    explanations = []\n",
    "    for scale, method, model in params:\n",
    "        sample_size = 200 if scale == 'sync' else 500\n",
    "        x_coef = get_xcoef(model, X[:10], scale, method, \n",
    "                        window_size=window_size, \n",
    "                        sample_size=sample_size)\n",
    "        d = {\"model\": model, \"scale\": scale, \"method\": method, \"xcoef\":x_coef}\n",
    "        explanations.append(d)\n",
    "    return explanations\n",
    "# Skip if explanations already generated:\n",
    "# explanations = generate_explanations()\n",
    "# np.save('data/explanations.npy',explanations)"
   ]
  },
  {
   "cell_type": "code",
   "execution_count": 9,
   "metadata": {},
   "outputs": [],
   "source": [
    "explanations = np.load('data/explanations.npy', allow_pickle=True)"
   ]
  },
  {
   "cell_type": "code",
   "execution_count": 10,
   "metadata": {},
   "outputs": [],
   "source": [
    "# Functions to perturb test set\n",
    "def replacements(t, method='zeros'):    \n",
    "    if method == 'zeros':\n",
    "        # Calculate zeros replacements\n",
    "        r = np.zeros_like(t)\n",
    "    if method == 'mean':\n",
    "        # Calculate means replacements\n",
    "        m = x_arr.mean(axis=1)\n",
    "        r = np.ones_like(x_arr) * m.reshape(t.shape[0], -1)\n",
    "    \n",
    "    return r\n",
    "\n",
    "def mask(t, percentile=90, axis=1, interpolation='higher'):\n",
    "    # Create a mask based on 90 percentile of x_coef\n",
    "    #   > 1 mean on , 0 means off (disabled)\n",
    "    perc = np.percentile(t, percentile, axis=axis, interpolation=interpolation)\n",
    "\n",
    "    # This is a mask for x based on 90 percentile of x_coef\n",
    "    mask = 1 - (t >= perc.reshape(t.shape[0], -1))\n",
    "    return mask\n",
    "\n",
    "def perturb(t, m=None, r=None):\n",
    "    if m is None:\n",
    "        m = np.ones_like(t)\n",
    "    if r is None:\n",
    "        r = replacements(t, 'zeros')\n",
    "    # new perturbed x \n",
    "    z = t * m + r * (1 - m)\n",
    "    return z\n",
    "\n",
    "# Test:\n",
    "# Get absolute value for weight\n",
    "# m = mask(np.abs(x_coef), axis=1, interpolation=\"higher\")\n",
    "# r = replacements(x_arr, method=\"zeros\")\n",
    "# z = perturb(x_arr, m, r)"
   ]
  },
  {
   "source": [
    "1. Generate explanations per option. Each use 10 instances\n",
    "1. Record the explanations to dict (Optional: store to file)\n",
    "1. For each option (or XAI model), generate a perturbed test set\n",
    "1. Fit to model and record mse of perturbed test to the dict\n",
    "1. Repeat to save all options -> the dict\n",
    "1. Repeat the same but with mask is random \n",
    "1. compare mse betweet original <-> random <-> percentile-perturbed"
   ],
   "cell_type": "markdown",
   "metadata": {}
  },
  {
   "cell_type": "code",
   "execution_count": 11,
   "metadata": {
    "tags": []
   },
   "outputs": [],
   "source": [
    "X, y_true = zip(*test_set)\n",
    "\n",
    "def perturb_X(X, x_coef=None, method=\"zeros\", absolute=True):\n",
    "    \"\"\" x_coef: if it is None, then randome used.\"\"\"\n",
    "    if x_coef is not None:\n",
    "        if absolute:\n",
    "            x_coef = np.abs(x_coef)\n",
    "        m = mask(x_coef, axis=1, interpolation=\"higher\")\n",
    "    else:\n",
    "        m = np.random.randint(2, size=X[0].shape)\n",
    "    def _f(x):\n",
    "        r = replacements(x, method=method)\n",
    "        z = perturb(x, m, r)\n",
    "        return z\n",
    "\n",
    "    Z = [_f(x_i) for x_i in X]\n",
    "\n",
    "    return Z\n",
    "\n",
    "# Test \n",
    "e = explanations[0]\n",
    "xcoef = e[\"xcoef\"]\n",
    "X_perturbed = perturb_X(X, xcoef, method=\"zeros\")\n"
   ]
  },
  {
   "cell_type": "code",
   "execution_count": 12,
   "metadata": {},
   "outputs": [],
   "source": [
    "# Calculate quality measure for each explanation\n",
    "from sklearn.metrics import mean_squared_error, r2_score\n",
    "for e in explanations:\n",
    "    # Create perturbed test set\n",
    "    X_pert = perturb_X(X, x_coef=e[\"xcoef\"], method=\"zeros\")\n",
    "    X_test = np.stack([x.T for x in X_pert])\n",
    "    \n",
    "    fn = eval(e[\"model\"].replace(\"_fn\", \"\"))    # remove \"_fn\" from lstm_fn\n",
    "    y_pred = fn.predict(X_test).ravel()\n",
    "\n",
    "    mse = mean_squared_error(y_true, y_pred)\n",
    "    r2 = r2_score(y_true, y_pred)\n",
    "    e.update({\"mse\": mse, \"r2\":r2})"
   ]
  },
  {
   "cell_type": "code",
   "execution_count": 13,
   "metadata": {},
   "outputs": [],
   "source": [
    "# Now calculate quality measure for random\n",
    "# X, y_true = zip(*test_set)\n",
    "X_pert = perturb_X(X, method=\"zeros\")   # x_coef = None ~ random masked\n",
    "X_test = np.stack([x.T for x in X_pert])\n",
    "for e in explanations:  \n",
    "    fn = eval(e[\"model\"].replace(\"_fn\", \"\"))\n",
    "    y_pred = fn.predict(X_test).ravel()\n",
    "    \n",
    "    mse = mean_squared_error(y_true, y_pred)\n",
    "    r2 = r2_score(y_true, y_pred)\n",
    "    e.update({\"mse_random\": mse, \"r2_random\":r2})"
   ]
  },
  {
   "cell_type": "code",
   "execution_count": 14,
   "metadata": {},
   "outputs": [],
   "source": [
    "# Now calculate quality measure for original\n",
    "# X, y_true = zip(*test_set)\n",
    "X_test = np.stack([x.T for x in X])\n",
    "for e in explanations:  \n",
    "    fn = eval(e[\"model\"].replace(\"_fn\", \"\"))\n",
    "    y_pred = fn.predict(X_test).ravel()\n",
    "    \n",
    "    mse = mean_squared_error(y_true, y_pred)\n",
    "    r2 = r2_score(y_true, y_pred)\n",
    "    e.update({\"mse_original\": mse, \"r2_original\":r2})"
   ]
  },
  {
   "cell_type": "code",
   "execution_count": 15,
   "metadata": {},
   "outputs": [],
   "source": [
    "eva_df = pd.DataFrame(list(explanations))\n",
    "eva_df = eva_df.drop(\"xcoef\", axis=1)\n",
    "eva_df[\"mse_diff\"] = eva_df.eval(\"mse_original - mse\")\n",
    "eva_df[\"r2_diff\"] = eva_df.eval(\"r2_original - r2\")"
   ]
  },
  {
   "source": [
    "The quality measure in this experiment: \n",
    "- $r^2$: the higher the better (max 1.0) and possibly negative\n",
    "- mean squared error (mse): the lower the better\n",
    "\n",
    "Columns name\n",
    "- mse: is the mse of the perturbed relevance based on 90 percentile of absolute coefficient (because weights could be negative)\n",
    "- r2: like mse column, but for $r^2$ score\n",
    "- mse_original: the original mse of test set without perturbing\n",
    "- r2_original: like mse_original\n",
    "- mse_random: the mse of randomly perturbation for test set\n",
    "- r2_random: like mse_random\n",
    "- mse_diff = mse_original - mse\n",
    "    - not like accuracy in classification, in regression, mse_original is expected to be lower than perturbed mse. hence if this metric is negative, that means the after perturbation, the error increase, then the explanation is good.\n",
    "- r2_diff = r2_original - r2\n",
    "    - opposite the mse_diff, this metrics show how good the metrics is. If it is postive, then the original explain better the variance in regression than when we perturbed test_set to zeros."
   ],
   "cell_type": "markdown",
   "metadata": {}
  },
  {
   "cell_type": "code",
   "execution_count": 16,
   "metadata": {},
   "outputs": [
    {
     "output_type": "execute_result",
     "data": {
      "text/plain": [
       "<pandas.io.formats.style.Styler at 0x7fe11bf39d50>"
      ],
      "text/html": "<style  type=\"text/css\" >\n#T_b5d3f_row4_col4{\n            color:  red;\n        }#T_b5d3f_row4_col5{\n            background-color:  yellow;\n        }</style><table id=\"T_b5d3f_\" ><thead>    <tr>        <th class=\"blank level0\" ></th>        <th class=\"col_heading level0 col0\" >scale</th>        <th class=\"col_heading level0 col1\" >model</th>        <th class=\"col_heading level0 col2\" >method</th>        <th class=\"col_heading level0 col3\" >mse</th>        <th class=\"col_heading level0 col4\" >mse_diff</th>        <th class=\"col_heading level0 col5\" >r2_diff</th>    </tr></thead><tbody>\n                <tr>\n                        <th id=\"T_b5d3f_level0_row0\" class=\"row_heading level0 row0\" >0</th>\n                        <td id=\"T_b5d3f_row0_col0\" class=\"data row0 col0\" >async</td>\n                        <td id=\"T_b5d3f_row0_col1\" class=\"data row0 col1\" >lstm_fn</td>\n                        <td id=\"T_b5d3f_row0_col2\" class=\"data row0 col2\" >zeros</td>\n                        <td id=\"T_b5d3f_row0_col3\" class=\"data row0 col3\" >0.022326</td>\n                        <td id=\"T_b5d3f_row0_col4\" class=\"data row0 col4\" >-0.000643</td>\n                        <td id=\"T_b5d3f_row0_col5\" class=\"data row0 col5\" >0.081504</td>\n            </tr>\n            <tr>\n                        <th id=\"T_b5d3f_level0_row1\" class=\"row_heading level0 row1\" >1</th>\n                        <td id=\"T_b5d3f_row1_col0\" class=\"data row1 col0\" >async</td>\n                        <td id=\"T_b5d3f_row1_col1\" class=\"data row1 col1\" >wavenet_fn</td>\n                        <td id=\"T_b5d3f_row1_col2\" class=\"data row1 col2\" >zeros</td>\n                        <td id=\"T_b5d3f_row1_col3\" class=\"data row1 col3\" >0.009315</td>\n                        <td id=\"T_b5d3f_row1_col4\" class=\"data row1 col4\" >0.002291</td>\n                        <td id=\"T_b5d3f_row1_col5\" class=\"data row1 col5\" >-0.290316</td>\n            </tr>\n            <tr>\n                        <th id=\"T_b5d3f_level0_row2\" class=\"row_heading level0 row2\" >2</th>\n                        <td id=\"T_b5d3f_row2_col0\" class=\"data row2 col0\" >async</td>\n                        <td id=\"T_b5d3f_row2_col1\" class=\"data row2 col1\" >lstm_fn</td>\n                        <td id=\"T_b5d3f_row2_col2\" class=\"data row2 col2\" >local_mean</td>\n                        <td id=\"T_b5d3f_row2_col3\" class=\"data row2 col3\" >0.019943</td>\n                        <td id=\"T_b5d3f_row2_col4\" class=\"data row2 col4\" >0.001740</td>\n                        <td id=\"T_b5d3f_row2_col5\" class=\"data row2 col5\" >-0.220535</td>\n            </tr>\n            <tr>\n                        <th id=\"T_b5d3f_level0_row3\" class=\"row_heading level0 row3\" >3</th>\n                        <td id=\"T_b5d3f_row3_col0\" class=\"data row3 col0\" >async</td>\n                        <td id=\"T_b5d3f_row3_col1\" class=\"data row3 col1\" >wavenet_fn</td>\n                        <td id=\"T_b5d3f_row3_col2\" class=\"data row3 col2\" >local_mean</td>\n                        <td id=\"T_b5d3f_row3_col3\" class=\"data row3 col3\" >0.013827</td>\n                        <td id=\"T_b5d3f_row3_col4\" class=\"data row3 col4\" >-0.002222</td>\n                        <td id=\"T_b5d3f_row3_col5\" class=\"data row3 col5\" >0.281590</td>\n            </tr>\n            <tr>\n                        <th id=\"T_b5d3f_level0_row4\" class=\"row_heading level0 row4\" >4</th>\n                        <td id=\"T_b5d3f_row4_col0\" class=\"data row4 col0\" >async</td>\n                        <td id=\"T_b5d3f_row4_col1\" class=\"data row4 col1\" >lstm_fn</td>\n                        <td id=\"T_b5d3f_row4_col2\" class=\"data row4 col2\" >global_mean</td>\n                        <td id=\"T_b5d3f_row4_col3\" class=\"data row4 col3\" >0.025435</td>\n                        <td id=\"T_b5d3f_row4_col4\" class=\"data row4 col4\" >-0.003753</td>\n                        <td id=\"T_b5d3f_row4_col5\" class=\"data row4 col5\" >0.475666</td>\n            </tr>\n            <tr>\n                        <th id=\"T_b5d3f_level0_row5\" class=\"row_heading level0 row5\" >5</th>\n                        <td id=\"T_b5d3f_row5_col0\" class=\"data row5 col0\" >async</td>\n                        <td id=\"T_b5d3f_row5_col1\" class=\"data row5 col1\" >wavenet_fn</td>\n                        <td id=\"T_b5d3f_row5_col2\" class=\"data row5 col2\" >global_mean</td>\n                        <td id=\"T_b5d3f_row5_col3\" class=\"data row5 col3\" >0.008627</td>\n                        <td id=\"T_b5d3f_row5_col4\" class=\"data row5 col4\" >0.002978</td>\n                        <td id=\"T_b5d3f_row5_col5\" class=\"data row5 col5\" >-0.377452</td>\n            </tr>\n            <tr>\n                        <th id=\"T_b5d3f_level0_row6\" class=\"row_heading level0 row6\" >6</th>\n                        <td id=\"T_b5d3f_row6_col0\" class=\"data row6 col0\" >sync</td>\n                        <td id=\"T_b5d3f_row6_col1\" class=\"data row6 col1\" >lstm_fn</td>\n                        <td id=\"T_b5d3f_row6_col2\" class=\"data row6 col2\" >zeros</td>\n                        <td id=\"T_b5d3f_row6_col3\" class=\"data row6 col3\" >0.021760</td>\n                        <td id=\"T_b5d3f_row6_col4\" class=\"data row6 col4\" >-0.000078</td>\n                        <td id=\"T_b5d3f_row6_col5\" class=\"data row6 col5\" >0.009855</td>\n            </tr>\n            <tr>\n                        <th id=\"T_b5d3f_level0_row7\" class=\"row_heading level0 row7\" >7</th>\n                        <td id=\"T_b5d3f_row7_col0\" class=\"data row7 col0\" >sync</td>\n                        <td id=\"T_b5d3f_row7_col1\" class=\"data row7 col1\" >wavenet_fn</td>\n                        <td id=\"T_b5d3f_row7_col2\" class=\"data row7 col2\" >zeros</td>\n                        <td id=\"T_b5d3f_row7_col3\" class=\"data row7 col3\" >0.007984</td>\n                        <td id=\"T_b5d3f_row7_col4\" class=\"data row7 col4\" >0.003621</td>\n                        <td id=\"T_b5d3f_row7_col5\" class=\"data row7 col5\" >-0.458976</td>\n            </tr>\n            <tr>\n                        <th id=\"T_b5d3f_level0_row8\" class=\"row_heading level0 row8\" >8</th>\n                        <td id=\"T_b5d3f_row8_col0\" class=\"data row8 col0\" >sync</td>\n                        <td id=\"T_b5d3f_row8_col1\" class=\"data row8 col1\" >lstm_fn</td>\n                        <td id=\"T_b5d3f_row8_col2\" class=\"data row8 col2\" >local_mean</td>\n                        <td id=\"T_b5d3f_row8_col3\" class=\"data row8 col3\" >0.008642</td>\n                        <td id=\"T_b5d3f_row8_col4\" class=\"data row8 col4\" >0.013041</td>\n                        <td id=\"T_b5d3f_row8_col5\" class=\"data row8 col5\" >-1.652855</td>\n            </tr>\n            <tr>\n                        <th id=\"T_b5d3f_level0_row9\" class=\"row_heading level0 row9\" >9</th>\n                        <td id=\"T_b5d3f_row9_col0\" class=\"data row9 col0\" >sync</td>\n                        <td id=\"T_b5d3f_row9_col1\" class=\"data row9 col1\" >wavenet_fn</td>\n                        <td id=\"T_b5d3f_row9_col2\" class=\"data row9 col2\" >local_mean</td>\n                        <td id=\"T_b5d3f_row9_col3\" class=\"data row9 col3\" >0.010094</td>\n                        <td id=\"T_b5d3f_row9_col4\" class=\"data row9 col4\" >0.001511</td>\n                        <td id=\"T_b5d3f_row9_col5\" class=\"data row9 col5\" >-0.191567</td>\n            </tr>\n            <tr>\n                        <th id=\"T_b5d3f_level0_row10\" class=\"row_heading level0 row10\" >10</th>\n                        <td id=\"T_b5d3f_row10_col0\" class=\"data row10 col0\" >sync</td>\n                        <td id=\"T_b5d3f_row10_col1\" class=\"data row10 col1\" >lstm_fn</td>\n                        <td id=\"T_b5d3f_row10_col2\" class=\"data row10 col2\" >global_mean</td>\n                        <td id=\"T_b5d3f_row10_col3\" class=\"data row10 col3\" >0.022175</td>\n                        <td id=\"T_b5d3f_row10_col4\" class=\"data row10 col4\" >-0.000493</td>\n                        <td id=\"T_b5d3f_row10_col5\" class=\"data row10 col5\" >0.062434</td>\n            </tr>\n            <tr>\n                        <th id=\"T_b5d3f_level0_row11\" class=\"row_heading level0 row11\" >11</th>\n                        <td id=\"T_b5d3f_row11_col0\" class=\"data row11 col0\" >sync</td>\n                        <td id=\"T_b5d3f_row11_col1\" class=\"data row11 col1\" >wavenet_fn</td>\n                        <td id=\"T_b5d3f_row11_col2\" class=\"data row11 col2\" >global_mean</td>\n                        <td id=\"T_b5d3f_row11_col3\" class=\"data row11 col3\" >0.009126</td>\n                        <td id=\"T_b5d3f_row11_col4\" class=\"data row11 col4\" >0.002479</td>\n                        <td id=\"T_b5d3f_row11_col5\" class=\"data row11 col5\" >-0.314180</td>\n            </tr>\n    </tbody></table>"
     },
     "metadata": {},
     "execution_count": 16
    }
   ],
   "source": [
    "def highlight_max(s):\n",
    "    is_max = (s == s.max())\n",
    "    return ['background-color: yellow' if v else '' for v in is_max]\n",
    "\n",
    "def highlight_min(s):\n",
    "    is_min = s == s.min()\n",
    "    return ['color: %s' % 'red' if v else 'black' for v in is_min]\n",
    "    \n",
    "tt = eva_df.loc[:, [\"scale\", \"model\", \"method\", \"mse\",\"mse_diff\", \"r2_diff\"]]\n",
    "tt.style\\\n",
    "    .apply(highlight_max, subset=['r2_diff'])\\\n",
    "    .apply(highlight_min, subset=['mse_diff'])"
   ]
  },
  {
   "cell_type": "code",
   "execution_count": 17,
   "metadata": {},
   "outputs": [
    {
     "output_type": "execute_result",
     "data": {
      "text/plain": [
       "<pandas.io.formats.style.Styler at 0x7fe109c7e210>"
      ],
      "text/html": "<style  type=\"text/css\" >\n#T_387ca_row0_col4,#T_387ca_row1_col5,#T_387ca_row2_col4,#T_387ca_row3_col3,#T_387ca_row4_col4,#T_387ca_row5_col5,#T_387ca_row6_col4,#T_387ca_row7_col5,#T_387ca_row8_col4,#T_387ca_row9_col5,#T_387ca_row10_col4,#T_387ca_row11_col5{\n            color:  red;\n        }#T_387ca_row0_col5,#T_387ca_row1_col4,#T_387ca_row2_col3,#T_387ca_row3_col4,#T_387ca_row4_col5,#T_387ca_row5_col4,#T_387ca_row6_col5,#T_387ca_row7_col4,#T_387ca_row8_col3,#T_387ca_row9_col4,#T_387ca_row10_col5,#T_387ca_row11_col4{\n            background-color:  yellow;\n            : ;\n        }</style><table id=\"T_387ca_\" ><thead>    <tr>        <th class=\"blank level0\" ></th>        <th class=\"col_heading level0 col0\" >scale</th>        <th class=\"col_heading level0 col1\" >model</th>        <th class=\"col_heading level0 col2\" >method</th>        <th class=\"col_heading level0 col3\" >mse_original</th>        <th class=\"col_heading level0 col4\" >mse_random</th>        <th class=\"col_heading level0 col5\" >mse</th>    </tr></thead><tbody>\n                <tr>\n                        <th id=\"T_387ca_level0_row0\" class=\"row_heading level0 row0\" >0</th>\n                        <td id=\"T_387ca_row0_col0\" class=\"data row0 col0\" >async</td>\n                        <td id=\"T_387ca_row0_col1\" class=\"data row0 col1\" >lstm_fn</td>\n                        <td id=\"T_387ca_row0_col2\" class=\"data row0 col2\" >zeros</td>\n                        <td id=\"T_387ca_row0_col3\" class=\"data row0 col3\" >0.021683</td>\n                        <td id=\"T_387ca_row0_col4\" class=\"data row0 col4\" >0.006783</td>\n                        <td id=\"T_387ca_row0_col5\" class=\"data row0 col5\" >0.022326</td>\n            </tr>\n            <tr>\n                        <th id=\"T_387ca_level0_row1\" class=\"row_heading level0 row1\" >1</th>\n                        <td id=\"T_387ca_row1_col0\" class=\"data row1 col0\" >async</td>\n                        <td id=\"T_387ca_row1_col1\" class=\"data row1 col1\" >wavenet_fn</td>\n                        <td id=\"T_387ca_row1_col2\" class=\"data row1 col2\" >zeros</td>\n                        <td id=\"T_387ca_row1_col3\" class=\"data row1 col3\" >0.011605</td>\n                        <td id=\"T_387ca_row1_col4\" class=\"data row1 col4\" >0.015167</td>\n                        <td id=\"T_387ca_row1_col5\" class=\"data row1 col5\" >0.009315</td>\n            </tr>\n            <tr>\n                        <th id=\"T_387ca_level0_row2\" class=\"row_heading level0 row2\" >2</th>\n                        <td id=\"T_387ca_row2_col0\" class=\"data row2 col0\" >async</td>\n                        <td id=\"T_387ca_row2_col1\" class=\"data row2 col1\" >lstm_fn</td>\n                        <td id=\"T_387ca_row2_col2\" class=\"data row2 col2\" >local_mean</td>\n                        <td id=\"T_387ca_row2_col3\" class=\"data row2 col3\" >0.021683</td>\n                        <td id=\"T_387ca_row2_col4\" class=\"data row2 col4\" >0.006783</td>\n                        <td id=\"T_387ca_row2_col5\" class=\"data row2 col5\" >0.019943</td>\n            </tr>\n            <tr>\n                        <th id=\"T_387ca_level0_row3\" class=\"row_heading level0 row3\" >3</th>\n                        <td id=\"T_387ca_row3_col0\" class=\"data row3 col0\" >async</td>\n                        <td id=\"T_387ca_row3_col1\" class=\"data row3 col1\" >wavenet_fn</td>\n                        <td id=\"T_387ca_row3_col2\" class=\"data row3 col2\" >local_mean</td>\n                        <td id=\"T_387ca_row3_col3\" class=\"data row3 col3\" >0.011605</td>\n                        <td id=\"T_387ca_row3_col4\" class=\"data row3 col4\" >0.015167</td>\n                        <td id=\"T_387ca_row3_col5\" class=\"data row3 col5\" >0.013827</td>\n            </tr>\n            <tr>\n                        <th id=\"T_387ca_level0_row4\" class=\"row_heading level0 row4\" >4</th>\n                        <td id=\"T_387ca_row4_col0\" class=\"data row4 col0\" >async</td>\n                        <td id=\"T_387ca_row4_col1\" class=\"data row4 col1\" >lstm_fn</td>\n                        <td id=\"T_387ca_row4_col2\" class=\"data row4 col2\" >global_mean</td>\n                        <td id=\"T_387ca_row4_col3\" class=\"data row4 col3\" >0.021683</td>\n                        <td id=\"T_387ca_row4_col4\" class=\"data row4 col4\" >0.006783</td>\n                        <td id=\"T_387ca_row4_col5\" class=\"data row4 col5\" >0.025435</td>\n            </tr>\n            <tr>\n                        <th id=\"T_387ca_level0_row5\" class=\"row_heading level0 row5\" >5</th>\n                        <td id=\"T_387ca_row5_col0\" class=\"data row5 col0\" >async</td>\n                        <td id=\"T_387ca_row5_col1\" class=\"data row5 col1\" >wavenet_fn</td>\n                        <td id=\"T_387ca_row5_col2\" class=\"data row5 col2\" >global_mean</td>\n                        <td id=\"T_387ca_row5_col3\" class=\"data row5 col3\" >0.011605</td>\n                        <td id=\"T_387ca_row5_col4\" class=\"data row5 col4\" >0.015167</td>\n                        <td id=\"T_387ca_row5_col5\" class=\"data row5 col5\" >0.008627</td>\n            </tr>\n            <tr>\n                        <th id=\"T_387ca_level0_row6\" class=\"row_heading level0 row6\" >6</th>\n                        <td id=\"T_387ca_row6_col0\" class=\"data row6 col0\" >sync</td>\n                        <td id=\"T_387ca_row6_col1\" class=\"data row6 col1\" >lstm_fn</td>\n                        <td id=\"T_387ca_row6_col2\" class=\"data row6 col2\" >zeros</td>\n                        <td id=\"T_387ca_row6_col3\" class=\"data row6 col3\" >0.021683</td>\n                        <td id=\"T_387ca_row6_col4\" class=\"data row6 col4\" >0.006783</td>\n                        <td id=\"T_387ca_row6_col5\" class=\"data row6 col5\" >0.021760</td>\n            </tr>\n            <tr>\n                        <th id=\"T_387ca_level0_row7\" class=\"row_heading level0 row7\" >7</th>\n                        <td id=\"T_387ca_row7_col0\" class=\"data row7 col0\" >sync</td>\n                        <td id=\"T_387ca_row7_col1\" class=\"data row7 col1\" >wavenet_fn</td>\n                        <td id=\"T_387ca_row7_col2\" class=\"data row7 col2\" >zeros</td>\n                        <td id=\"T_387ca_row7_col3\" class=\"data row7 col3\" >0.011605</td>\n                        <td id=\"T_387ca_row7_col4\" class=\"data row7 col4\" >0.015167</td>\n                        <td id=\"T_387ca_row7_col5\" class=\"data row7 col5\" >0.007984</td>\n            </tr>\n            <tr>\n                        <th id=\"T_387ca_level0_row8\" class=\"row_heading level0 row8\" >8</th>\n                        <td id=\"T_387ca_row8_col0\" class=\"data row8 col0\" >sync</td>\n                        <td id=\"T_387ca_row8_col1\" class=\"data row8 col1\" >lstm_fn</td>\n                        <td id=\"T_387ca_row8_col2\" class=\"data row8 col2\" >local_mean</td>\n                        <td id=\"T_387ca_row8_col3\" class=\"data row8 col3\" >0.021683</td>\n                        <td id=\"T_387ca_row8_col4\" class=\"data row8 col4\" >0.006783</td>\n                        <td id=\"T_387ca_row8_col5\" class=\"data row8 col5\" >0.008642</td>\n            </tr>\n            <tr>\n                        <th id=\"T_387ca_level0_row9\" class=\"row_heading level0 row9\" >9</th>\n                        <td id=\"T_387ca_row9_col0\" class=\"data row9 col0\" >sync</td>\n                        <td id=\"T_387ca_row9_col1\" class=\"data row9 col1\" >wavenet_fn</td>\n                        <td id=\"T_387ca_row9_col2\" class=\"data row9 col2\" >local_mean</td>\n                        <td id=\"T_387ca_row9_col3\" class=\"data row9 col3\" >0.011605</td>\n                        <td id=\"T_387ca_row9_col4\" class=\"data row9 col4\" >0.015167</td>\n                        <td id=\"T_387ca_row9_col5\" class=\"data row9 col5\" >0.010094</td>\n            </tr>\n            <tr>\n                        <th id=\"T_387ca_level0_row10\" class=\"row_heading level0 row10\" >10</th>\n                        <td id=\"T_387ca_row10_col0\" class=\"data row10 col0\" >sync</td>\n                        <td id=\"T_387ca_row10_col1\" class=\"data row10 col1\" >lstm_fn</td>\n                        <td id=\"T_387ca_row10_col2\" class=\"data row10 col2\" >global_mean</td>\n                        <td id=\"T_387ca_row10_col3\" class=\"data row10 col3\" >0.021683</td>\n                        <td id=\"T_387ca_row10_col4\" class=\"data row10 col4\" >0.006783</td>\n                        <td id=\"T_387ca_row10_col5\" class=\"data row10 col5\" >0.022175</td>\n            </tr>\n            <tr>\n                        <th id=\"T_387ca_level0_row11\" class=\"row_heading level0 row11\" >11</th>\n                        <td id=\"T_387ca_row11_col0\" class=\"data row11 col0\" >sync</td>\n                        <td id=\"T_387ca_row11_col1\" class=\"data row11 col1\" >wavenet_fn</td>\n                        <td id=\"T_387ca_row11_col2\" class=\"data row11 col2\" >global_mean</td>\n                        <td id=\"T_387ca_row11_col3\" class=\"data row11 col3\" >0.011605</td>\n                        <td id=\"T_387ca_row11_col4\" class=\"data row11 col4\" >0.015167</td>\n                        <td id=\"T_387ca_row11_col5\" class=\"data row11 col5\" >0.009126</td>\n            </tr>\n    </tbody></table>"
     },
     "metadata": {},
     "execution_count": 17
    }
   ],
   "source": [
    "eva_df.loc[:, [\"scale\", \"model\", \"method\", \"mse_original\", \"mse_random\", \"mse\"]].style.apply(highlight_max, axis=1, subset=['mse_original', \"mse_random\", \"mse\"])\\\n",
    "    .apply(highlight_min, axis=1, subset=['mse_original', \"mse_random\", \"mse\"])"
   ]
  },
  {
   "cell_type": "code",
   "execution_count": null,
   "metadata": {},
   "outputs": [],
   "source": []
  }
 ],
 "metadata": {
  "language_info": {
   "codemirror_mode": {
    "name": "ipython",
    "version": 3
   },
   "file_extension": ".py",
   "mimetype": "text/x-python",
   "name": "python",
   "nbconvert_exporter": "python",
   "pygments_lexer": "ipython3",
   "version": "3.7.7-final"
  },
  "orig_nbformat": 2,
  "kernelspec": {
   "name": "python3",
   "display_name": "Python 3.7.7 64-bit ('dev37': conda)",
   "metadata": {
    "interpreter": {
     "hash": "76fdbec98d1ff00acce9daf8fa18366555273267a59abb67ea09584c9e70ea1a"
    }
   }
  }
 },
 "nbformat": 4,
 "nbformat_minor": 2
}