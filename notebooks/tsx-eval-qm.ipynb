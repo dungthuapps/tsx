{
 "cells": [
  {
   "cell_type": "code",
   "execution_count": 1,
   "metadata": {},
   "outputs": [],
   "source": [
    "import os\n",
    "import sys\n",
    "module_path = os.path.abspath(os.path.join('..'))\n",
    "if module_path not in sys.path:\n",
    "    sys.path.append(module_path)\n"
   ]
  },
  {
   "cell_type": "code",
   "execution_count": 2,
   "metadata": {},
   "outputs": [],
   "source": [
    "import numpy as np\n",
    "import pandas as pd\n",
    "import tensorflow as tf\n",
    "\n",
    "from matplotlib import pyplot as plt\n",
    "from matplotlib.colors import LinearSegmentedColormap\n",
    "from matplotlib.patches import Patch\n",
    "\n",
    "from tsx.perturbation import TimeSeriesPerturbation\n",
    "from tsx.xai.lime import LIMETimeSeries, XAIModels\n",
    "from tsx.xai import evaluation as eva\n",
    "\n",
    "from data_util import *\n",
    "from viz import *\n",
    "\n",
    "import itertools\n",
    "import pandas as pd\n",
    "from biokit.viz import corrplot"
   ]
  },
  {
   "source": [
    "# Load Data set\n",
    "- Dataset of Beijin pollution\n",
    "- Learns pollution for 128 historical steps\n",
    "- Data is normalized when fitting into the model."
   ],
   "cell_type": "markdown",
   "metadata": {}
  },
  {
   "cell_type": "code",
   "execution_count": 3,
   "metadata": {},
   "outputs": [],
   "source": [
    "independents = [\"dew\", \"temp\", \"press\", \"wind_direction\", \"wind_speed\", \"snow\", \"rain\"]\n",
    "dependent = \"pollution\"\n",
    "\n",
    "# Load data\n",
    "df = load_data_set_bejin()\n",
    "x_scaler, y_scaler = get_xy_scalers(df, independents, dependent)\n",
    "\n",
    "# Normalize data \n",
    "df_norm = df.copy()\n",
    "df_norm[independents] = x_scaler.transform(df[independents].values)\n",
    "df_norm[dependent] = y_scaler.transform(df[dependent].values.reshape(-1, 1))\n",
    "\n",
    "# Global param\n",
    "n_steps = 128\n",
    "window_size = 8\n",
    "n_variables = len(independents)\n",
    "samples_size = 100"
   ]
  },
  {
   "source": [
    "## Test set prepare\n",
    "- We test here for sample size of 1000 instance in test set.\n",
    "- Test-set include tuples of (X, y)\n"
   ],
   "cell_type": "markdown",
   "metadata": {}
  },
  {
   "cell_type": "code",
   "execution_count": 4,
   "metadata": {},
   "outputs": [],
   "source": [
    "# Test set (random)\n",
    "test_set = []\n",
    "n_instances = 1000\n",
    "for i in range(n_instances):\n",
    "    i_df = get_instance_x(df_norm, n_steps + 1, independents + \n",
    "    [dependent])\n",
    "    _x = i_df.loc[:n_steps-1, independents]\n",
    "    _y = i_df[dependent]   \n",
    "    test_set.append((_x.values.T, _y.to_numpy()[-1]))"
   ]
  },
  {
   "source": [
    "# Load Explanations and Models from File\n",
    "\n",
    "The explanations was generated for each options in:\n",
    "- Scales (Synchronous, Asynchronos )\n",
    "- Replacement Methods for perturbation (zeros, local_mean, global_mean)\n",
    "- Models (lstm, wavenet) as (rnn, cnn) based line models\n",
    "\n",
    "Notice:\n",
    "- An option is an XAI model, e.g. async-zeros as asynchronous with zeros replacement for perturbation\n",
    "- An explanation is a averaging over 10 random instances"
   ],
   "cell_type": "markdown",
   "metadata": {}
  },
  {
   "cell_type": "code",
   "execution_count": 5,
   "metadata": {},
   "outputs": [],
   "source": [
    "# Explanations\n",
    "explanations = np.load('data/explanations.npy', allow_pickle=True)\n",
    "\n",
    "# Models\n",
    "wavenet = tf.keras.models.load_model(f\"{DATA_DIR}/wavenet_mts_128_1.h5\")\n",
    "lstm = tf.keras.models.load_model(f\"{DATA_DIR}/lstm_mts_128_1.h5\")"
   ]
  },
  {
   "cell_type": "code",
   "execution_count": 6,
   "metadata": {},
   "outputs": [],
   "source": [
    "# Functions to perturb test set\n",
    "def replacements(t, method='zeros'):    \n",
    "    if method == 'zeros':\n",
    "        # Calculate zeros replacements\n",
    "        r = np.zeros_like(t)\n",
    "    if method == 'mean':\n",
    "        # Calculate means replacements\n",
    "        m = t.mean(axis=1)\n",
    "        r = np.ones_like(t) * m.reshape(t.shape[0], -1)\n",
    "    \n",
    "    return r\n",
    "\n",
    "def mask_percentile(t, percentile=90, axis=1, interpolation='higher', random=False):\n",
    "    # Create a mask based on 90 percentile of x_coef\n",
    "    #   > 1 mean on , 0 means off (disabled)\n",
    "    perc = np.percentile(t, percentile, axis=axis, interpolation=interpolation)\n",
    "\n",
    "    # This is a mask for x based on 90 percentile of x_coef\n",
    "    if perc.ndim == 1: \n",
    "        perc = perc.reshape(t.shape[0], -1)\n",
    "\n",
    "    m = 1 - (t >= perc)\n",
    "    \n",
    "    # Random and ensure the same number of changed in percentile.\n",
    "    if random:\n",
    "        m = m.ravel()\n",
    "        np.random.shuffle(m)\n",
    "        m = m.reshape(t.shape)\n",
    "    return m\n",
    "\n",
    "def perturb(t, m=None, r=None):\n",
    "    if m is None:\n",
    "        m = np.ones_like(t)\n",
    "    if r is None:\n",
    "        r = replacements(t, 'zeros')\n",
    "    # new perturbed x \n",
    "    z = t * m + r * (1 - m)\n",
    "    return z\n",
    "\n",
    "def perturb_X(X, x_coef, method=\"zeros\", axis=1, percentile=90, random=False):\n",
    "    \"\"\" Perturb X based on coefficient or explanations.\n",
    "        param x_coef: if it is None, then randome used.\n",
    "        param axis: \n",
    "            - 1 : get percentile rowwise -> get 90 percentile per feature\n",
    "            - None: consider x_coef as an array -> get 90 percentile overall\n",
    "    \"\"\"\n",
    "    m = mask_percentile(x_coef, percentile, \n",
    "                        axis=axis, interpolation=\"higher\", random=random)\n",
    "\n",
    "    def _f(x):\n",
    "        r = replacements(x, method=method)\n",
    "        z = perturb(x, m, r)\n",
    "        return z\n",
    "\n",
    "    Z = [_f(x_i) for x_i in X]\n",
    "\n",
    "    return Z"
   ]
  },
  {
   "cell_type": "code",
   "execution_count": 7,
   "metadata": {},
   "outputs": [
    {
     "output_type": "display_data",
     "data": {
      "text/plain": "<Figure size 432x288 with 4 Axes>",
      "image/svg+xml": "<?xml version=\"1.0\" encoding=\"utf-8\" standalone=\"no\"?>\n<!DOCTYPE svg PUBLIC \"-//W3C//DTD SVG 1.1//EN\"\n  \"http://www.w3.org/Graphics/SVG/1.1/DTD/svg11.dtd\">\n<!-- Created with matplotlib (https://matplotlib.org/) -->\n<svg height=\"263.8955pt\" version=\"1.1\" viewBox=\"0 0 389.47875 263.8955\" width=\"389.47875pt\" xmlns=\"http://www.w3.org/2000/svg\" xmlns:xlink=\"http://www.w3.org/1999/xlink\">\n <metadata>\n  <rdf:RDF xmlns:cc=\"http://creativecommons.org/ns#\" xmlns:dc=\"http://purl.org/dc/elements/1.1/\" xmlns:rdf=\"http://www.w3.org/1999/02/22-rdf-syntax-ns#\">\n   <cc:Work>\n    <dc:type rdf:resource=\"http://purl.org/dc/dcmitype/StillImage\"/>\n    <dc:date>2021-02-24T10:56:14.672673</dc:date>\n    <dc:format>image/svg+xml</dc:format>\n    <dc:creator>\n     <cc:Agent>\n      <dc:title>Matplotlib v3.3.2, https://matplotlib.org/</dc:title>\n     </cc:Agent>\n    </dc:creator>\n   </cc:Work>\n  </rdf:RDF>\n </metadata>\n <defs>\n  <style type=\"text/css\">*{stroke-linecap:butt;stroke-linejoin:round;}</style>\n </defs>\n <g id=\"figure_1\">\n  <g id=\"patch_1\">\n   <path d=\"M -0 263.8955 \nL 389.47875 263.8955 \nL 389.47875 -0 \nL -0 -0 \nz\n\" style=\"fill:none;\"/>\n  </g>\n  <g id=\"axes_1\">\n   <g id=\"patch_2\">\n    <path d=\"M 26.385937 108.2355 \nL 137.985938 108.2355 \nL 137.985938 35.7555 \nL 26.385937 35.7555 \nz\n\" style=\"fill:#ffffff;\"/>\n   </g>\n   <g clip-path=\"url(#pc1d14ee541)\">\n    <image height=\"73\" id=\"image4bb4e671d6\" transform=\"scale(1 -1)translate(0 -73)\" width=\"112\" x=\"26.385937\" xlink:href=\"data:image/png;base64,\niVBORw0KGgoAAAANSUhEUgAAAHAAAABJCAYAAADllaIuAAADU0lEQVR4nO2cz2sTQRTHv7ObBKtpUqVYQkXbJqCHePHek+DFf8C/zf9DPCiiFw+eBEEoNrFGRFqrpr8kdTvzPBRv8zY4yU7nyfsc8/g+lnw6m9nZmRr7tUdQxJJd9AUos6EChaMChaMChaMChaMChaMChaMChaMChaMChaMChaMChaMChaMChaMChVO76AtQpnNKBVtTgQLYKiwcGW9NBQrg1cltWKhAsTzZ7YN0BMpla6cDMDuXVGDiWHK4/KHB1lWgANpDB6MjUC6twTFg/QZVYOI4ELLPe4BTgWJxP8Yga701FSgAshZwKlAsebsF6AiUSQYDWl2BIf0NFMtJtwXjH4AqUALjXg3G+WsqUABH3TMYXQuVSW4yrG7sc0uhKlAC9ztbbE0FCuDB4ju2pgIF0G+csjUVKIB2tsDWVKAAjt2EralAAbwvcramAgXw/KgPp5ua5PJs945uapKKJYedwQpbV4ECaA5rgK6FymVp28Lolgq5NAeHgL4PlIkDwXzZA6z/HqoCBeDGBzI2NVlifqlx/lolZs+yXEwc3Lk8CbfQ0dkvtrZeb0btWZaLScE8wP8lKYGvJ7e8n+dwWK//jNqTy8WmIH4ZDUhM4NPvd70HGTNDeLT4MmpPLheb8yU0/g8tKYFvRjcB35dmCFiL25PNRYbIYEOCQEsOZvuK/xycAeym++eJTGjP0lxkMgI7gQESEggArQG8x6hmGQihPblcdKZcQ1ICl7Yn3iUjysINhvbkcqmRjEAHQmO0719xyMOeAUN7luYugLOSWjICAcDtfgN5vjQTKHCWnlwuNdIS+LvwHqMiW/4sVEVPLpcaSQnMFi75j1HV69F7srmKcBN+41IZSQk0nev+CccMt9DQnlyuEojgPn4KiiYjMIPBZO2a9xQOBfoL7VmWq4qadIEAMO415v4cGNqTy1UCAcsvwqJJCTzszv9BPrQnl6sEApYDo8kIzE2Ghd5BaT1Wz2m5eeOcAYwpXTLjSEYgAGzeGHo/z2ZYlAztyeWqoHA5RoHZpAQ+vPoW1jO7yGeYTYT25HJVUFANj9ENyiYl8F5jv6Qa9kY+tGd5br4UwP8hsFMLk1RFzyquhaOg8AUD/afnwlGBwlGBwlGBwlGBwvkDJWhrjdCOLn4AAAAASUVORK5CYII=\" y=\"-35.2355\"/>\n   </g>\n   <g id=\"matplotlib.axis_1\"/>\n   <g id=\"matplotlib.axis_2\"/>\n   <g id=\"patch_3\">\n    <path d=\"M 26.385937 108.2355 \nL 26.385937 35.7555 \n\" style=\"fill:none;stroke:#000000;stroke-linecap:square;stroke-linejoin:miter;stroke-width:0.8;\"/>\n   </g>\n   <g id=\"patch_4\">\n    <path d=\"M 137.985938 108.2355 \nL 137.985938 35.7555 \n\" style=\"fill:none;stroke:#000000;stroke-linecap:square;stroke-linejoin:miter;stroke-width:0.8;\"/>\n   </g>\n   <g id=\"patch_5\">\n    <path d=\"M 26.385937 108.2355 \nL 137.985938 108.2355 \n\" style=\"fill:none;stroke:#000000;stroke-linecap:square;stroke-linejoin:miter;stroke-width:0.8;\"/>\n   </g>\n   <g id=\"patch_6\">\n    <path d=\"M 26.385937 35.7555 \nL 137.985938 35.7555 \n\" style=\"fill:none;stroke:#000000;stroke-linecap:square;stroke-linejoin:miter;stroke-width:0.8;\"/>\n   </g>\n   <g id=\"text_1\">\n    <!-- overall 90 percentile -->\n    <g transform=\"translate(20.341875 16.318125)scale(0.12 -0.12)\">\n     <defs>\n      <path d=\"M 30.609375 48.390625 \nQ 23.390625 48.390625 19.1875 42.75 \nQ 14.984375 37.109375 14.984375 27.296875 \nQ 14.984375 17.484375 19.15625 11.84375 \nQ 23.34375 6.203125 30.609375 6.203125 \nQ 37.796875 6.203125 41.984375 11.859375 \nQ 46.1875 17.53125 46.1875 27.296875 \nQ 46.1875 37.015625 41.984375 42.703125 \nQ 37.796875 48.390625 30.609375 48.390625 \nz\nM 30.609375 56 \nQ 42.328125 56 49.015625 48.375 \nQ 55.71875 40.765625 55.71875 27.296875 \nQ 55.71875 13.875 49.015625 6.21875 \nQ 42.328125 -1.421875 30.609375 -1.421875 \nQ 18.84375 -1.421875 12.171875 6.21875 \nQ 5.515625 13.875 5.515625 27.296875 \nQ 5.515625 40.765625 12.171875 48.375 \nQ 18.84375 56 30.609375 56 \nz\n\" id=\"DejaVuSans-111\"/>\n      <path d=\"M 2.984375 54.6875 \nL 12.5 54.6875 \nL 29.59375 8.796875 \nL 46.6875 54.6875 \nL 56.203125 54.6875 \nL 35.6875 0 \nL 23.484375 0 \nz\n\" id=\"DejaVuSans-118\"/>\n      <path d=\"M 56.203125 29.59375 \nL 56.203125 25.203125 \nL 14.890625 25.203125 \nQ 15.484375 15.921875 20.484375 11.0625 \nQ 25.484375 6.203125 34.421875 6.203125 \nQ 39.59375 6.203125 44.453125 7.46875 \nQ 49.3125 8.734375 54.109375 11.28125 \nL 54.109375 2.78125 \nQ 49.265625 0.734375 44.1875 -0.34375 \nQ 39.109375 -1.421875 33.890625 -1.421875 \nQ 20.796875 -1.421875 13.15625 6.1875 \nQ 5.515625 13.8125 5.515625 26.8125 \nQ 5.515625 40.234375 12.765625 48.109375 \nQ 20.015625 56 32.328125 56 \nQ 43.359375 56 49.78125 48.890625 \nQ 56.203125 41.796875 56.203125 29.59375 \nz\nM 47.21875 32.234375 \nQ 47.125 39.59375 43.09375 43.984375 \nQ 39.0625 48.390625 32.421875 48.390625 \nQ 24.90625 48.390625 20.390625 44.140625 \nQ 15.875 39.890625 15.1875 32.171875 \nz\n\" id=\"DejaVuSans-101\"/>\n      <path d=\"M 41.109375 46.296875 \nQ 39.59375 47.171875 37.8125 47.578125 \nQ 36.03125 48 33.890625 48 \nQ 26.265625 48 22.1875 43.046875 \nQ 18.109375 38.09375 18.109375 28.8125 \nL 18.109375 0 \nL 9.078125 0 \nL 9.078125 54.6875 \nL 18.109375 54.6875 \nL 18.109375 46.1875 \nQ 20.953125 51.171875 25.484375 53.578125 \nQ 30.03125 56 36.53125 56 \nQ 37.453125 56 38.578125 55.875 \nQ 39.703125 55.765625 41.0625 55.515625 \nz\n\" id=\"DejaVuSans-114\"/>\n      <path d=\"M 34.28125 27.484375 \nQ 23.390625 27.484375 19.1875 25 \nQ 14.984375 22.515625 14.984375 16.5 \nQ 14.984375 11.71875 18.140625 8.90625 \nQ 21.296875 6.109375 26.703125 6.109375 \nQ 34.1875 6.109375 38.703125 11.40625 \nQ 43.21875 16.703125 43.21875 25.484375 \nL 43.21875 27.484375 \nz\nM 52.203125 31.203125 \nL 52.203125 0 \nL 43.21875 0 \nL 43.21875 8.296875 \nQ 40.140625 3.328125 35.546875 0.953125 \nQ 30.953125 -1.421875 24.3125 -1.421875 \nQ 15.921875 -1.421875 10.953125 3.296875 \nQ 6 8.015625 6 15.921875 \nQ 6 25.140625 12.171875 29.828125 \nQ 18.359375 34.515625 30.609375 34.515625 \nL 43.21875 34.515625 \nL 43.21875 35.40625 \nQ 43.21875 41.609375 39.140625 45 \nQ 35.0625 48.390625 27.6875 48.390625 \nQ 23 48.390625 18.546875 47.265625 \nQ 14.109375 46.140625 10.015625 43.890625 \nL 10.015625 52.203125 \nQ 14.9375 54.109375 19.578125 55.046875 \nQ 24.21875 56 28.609375 56 \nQ 40.484375 56 46.34375 49.84375 \nQ 52.203125 43.703125 52.203125 31.203125 \nz\n\" id=\"DejaVuSans-97\"/>\n      <path d=\"M 9.421875 75.984375 \nL 18.40625 75.984375 \nL 18.40625 0 \nL 9.421875 0 \nz\n\" id=\"DejaVuSans-108\"/>\n      <path id=\"DejaVuSans-32\"/>\n      <path d=\"M 10.984375 1.515625 \nL 10.984375 10.5 \nQ 14.703125 8.734375 18.5 7.8125 \nQ 22.3125 6.890625 25.984375 6.890625 \nQ 35.75 6.890625 40.890625 13.453125 \nQ 46.046875 20.015625 46.78125 33.40625 \nQ 43.953125 29.203125 39.59375 26.953125 \nQ 35.25 24.703125 29.984375 24.703125 \nQ 19.046875 24.703125 12.671875 31.3125 \nQ 6.296875 37.9375 6.296875 49.421875 \nQ 6.296875 60.640625 12.9375 67.421875 \nQ 19.578125 74.21875 30.609375 74.21875 \nQ 43.265625 74.21875 49.921875 64.515625 \nQ 56.59375 54.828125 56.59375 36.375 \nQ 56.59375 19.140625 48.40625 8.859375 \nQ 40.234375 -1.421875 26.421875 -1.421875 \nQ 22.703125 -1.421875 18.890625 -0.6875 \nQ 15.09375 0.046875 10.984375 1.515625 \nz\nM 30.609375 32.421875 \nQ 37.25 32.421875 41.125 36.953125 \nQ 45.015625 41.5 45.015625 49.421875 \nQ 45.015625 57.28125 41.125 61.84375 \nQ 37.25 66.40625 30.609375 66.40625 \nQ 23.96875 66.40625 20.09375 61.84375 \nQ 16.21875 57.28125 16.21875 49.421875 \nQ 16.21875 41.5 20.09375 36.953125 \nQ 23.96875 32.421875 30.609375 32.421875 \nz\n\" id=\"DejaVuSans-57\"/>\n      <path d=\"M 31.78125 66.40625 \nQ 24.171875 66.40625 20.328125 58.90625 \nQ 16.5 51.421875 16.5 36.375 \nQ 16.5 21.390625 20.328125 13.890625 \nQ 24.171875 6.390625 31.78125 6.390625 \nQ 39.453125 6.390625 43.28125 13.890625 \nQ 47.125 21.390625 47.125 36.375 \nQ 47.125 51.421875 43.28125 58.90625 \nQ 39.453125 66.40625 31.78125 66.40625 \nz\nM 31.78125 74.21875 \nQ 44.046875 74.21875 50.515625 64.515625 \nQ 56.984375 54.828125 56.984375 36.375 \nQ 56.984375 17.96875 50.515625 8.265625 \nQ 44.046875 -1.421875 31.78125 -1.421875 \nQ 19.53125 -1.421875 13.0625 8.265625 \nQ 6.59375 17.96875 6.59375 36.375 \nQ 6.59375 54.828125 13.0625 64.515625 \nQ 19.53125 74.21875 31.78125 74.21875 \nz\n\" id=\"DejaVuSans-48\"/>\n      <path d=\"M 18.109375 8.203125 \nL 18.109375 -20.796875 \nL 9.078125 -20.796875 \nL 9.078125 54.6875 \nL 18.109375 54.6875 \nL 18.109375 46.390625 \nQ 20.953125 51.265625 25.265625 53.625 \nQ 29.59375 56 35.59375 56 \nQ 45.5625 56 51.78125 48.09375 \nQ 58.015625 40.1875 58.015625 27.296875 \nQ 58.015625 14.40625 51.78125 6.484375 \nQ 45.5625 -1.421875 35.59375 -1.421875 \nQ 29.59375 -1.421875 25.265625 0.953125 \nQ 20.953125 3.328125 18.109375 8.203125 \nz\nM 48.6875 27.296875 \nQ 48.6875 37.203125 44.609375 42.84375 \nQ 40.53125 48.484375 33.40625 48.484375 \nQ 26.265625 48.484375 22.1875 42.84375 \nQ 18.109375 37.203125 18.109375 27.296875 \nQ 18.109375 17.390625 22.1875 11.75 \nQ 26.265625 6.109375 33.40625 6.109375 \nQ 40.53125 6.109375 44.609375 11.75 \nQ 48.6875 17.390625 48.6875 27.296875 \nz\n\" id=\"DejaVuSans-112\"/>\n      <path d=\"M 48.78125 52.59375 \nL 48.78125 44.1875 \nQ 44.96875 46.296875 41.140625 47.34375 \nQ 37.3125 48.390625 33.40625 48.390625 \nQ 24.65625 48.390625 19.8125 42.84375 \nQ 14.984375 37.3125 14.984375 27.296875 \nQ 14.984375 17.28125 19.8125 11.734375 \nQ 24.65625 6.203125 33.40625 6.203125 \nQ 37.3125 6.203125 41.140625 7.25 \nQ 44.96875 8.296875 48.78125 10.40625 \nL 48.78125 2.09375 \nQ 45.015625 0.34375 40.984375 -0.53125 \nQ 36.96875 -1.421875 32.421875 -1.421875 \nQ 20.0625 -1.421875 12.78125 6.34375 \nQ 5.515625 14.109375 5.515625 27.296875 \nQ 5.515625 40.671875 12.859375 48.328125 \nQ 20.21875 56 33.015625 56 \nQ 37.15625 56 41.109375 55.140625 \nQ 45.0625 54.296875 48.78125 52.59375 \nz\n\" id=\"DejaVuSans-99\"/>\n      <path d=\"M 54.890625 33.015625 \nL 54.890625 0 \nL 45.90625 0 \nL 45.90625 32.71875 \nQ 45.90625 40.484375 42.875 44.328125 \nQ 39.84375 48.1875 33.796875 48.1875 \nQ 26.515625 48.1875 22.3125 43.546875 \nQ 18.109375 38.921875 18.109375 30.90625 \nL 18.109375 0 \nL 9.078125 0 \nL 9.078125 54.6875 \nL 18.109375 54.6875 \nL 18.109375 46.1875 \nQ 21.34375 51.125 25.703125 53.5625 \nQ 30.078125 56 35.796875 56 \nQ 45.21875 56 50.046875 50.171875 \nQ 54.890625 44.34375 54.890625 33.015625 \nz\n\" id=\"DejaVuSans-110\"/>\n      <path d=\"M 18.3125 70.21875 \nL 18.3125 54.6875 \nL 36.8125 54.6875 \nL 36.8125 47.703125 \nL 18.3125 47.703125 \nL 18.3125 18.015625 \nQ 18.3125 11.328125 20.140625 9.421875 \nQ 21.96875 7.515625 27.59375 7.515625 \nL 36.8125 7.515625 \nL 36.8125 0 \nL 27.59375 0 \nQ 17.1875 0 13.234375 3.875 \nQ 9.28125 7.765625 9.28125 18.015625 \nL 9.28125 47.703125 \nL 2.6875 47.703125 \nL 2.6875 54.6875 \nL 9.28125 54.6875 \nL 9.28125 70.21875 \nz\n\" id=\"DejaVuSans-116\"/>\n      <path d=\"M 9.421875 54.6875 \nL 18.40625 54.6875 \nL 18.40625 0 \nL 9.421875 0 \nz\nM 9.421875 75.984375 \nL 18.40625 75.984375 \nL 18.40625 64.59375 \nL 9.421875 64.59375 \nz\n\" id=\"DejaVuSans-105\"/>\n     </defs>\n     <use xlink:href=\"#DejaVuSans-111\"/>\n     <use x=\"61.181641\" xlink:href=\"#DejaVuSans-118\"/>\n     <use x=\"120.361328\" xlink:href=\"#DejaVuSans-101\"/>\n     <use x=\"181.884766\" xlink:href=\"#DejaVuSans-114\"/>\n     <use x=\"222.998047\" xlink:href=\"#DejaVuSans-97\"/>\n     <use x=\"284.277344\" xlink:href=\"#DejaVuSans-108\"/>\n     <use x=\"312.060547\" xlink:href=\"#DejaVuSans-108\"/>\n     <use x=\"339.84375\" xlink:href=\"#DejaVuSans-32\"/>\n     <use x=\"371.630859\" xlink:href=\"#DejaVuSans-57\"/>\n     <use x=\"435.253906\" xlink:href=\"#DejaVuSans-48\"/>\n     <use x=\"498.876953\" xlink:href=\"#DejaVuSans-32\"/>\n     <use x=\"530.664062\" xlink:href=\"#DejaVuSans-112\"/>\n     <use x=\"594.140625\" xlink:href=\"#DejaVuSans-101\"/>\n     <use x=\"655.664062\" xlink:href=\"#DejaVuSans-114\"/>\n     <use x=\"694.527344\" xlink:href=\"#DejaVuSans-99\"/>\n     <use x=\"749.507812\" xlink:href=\"#DejaVuSans-101\"/>\n     <use x=\"811.03125\" xlink:href=\"#DejaVuSans-110\"/>\n     <use x=\"874.410156\" xlink:href=\"#DejaVuSans-116\"/>\n     <use x=\"913.619141\" xlink:href=\"#DejaVuSans-105\"/>\n     <use x=\"941.402344\" xlink:href=\"#DejaVuSans-108\"/>\n     <use x=\"969.185547\" xlink:href=\"#DejaVuSans-101\"/>\n    </g>\n    <!--  -->\n    <g transform=\"translate(82.185937 29.7555)scale(0.12 -0.12)\"/>\n   </g>\n  </g>\n  <g id=\"axes_2\">\n   <g id=\"patch_7\">\n    <path d=\"M 249.585938 108.2355 \nL 361.185938 108.2355 \nL 361.185938 35.7555 \nL 249.585938 35.7555 \nz\n\" style=\"fill:#ffffff;\"/>\n   </g>\n   <g clip-path=\"url(#p537a66a7c0)\">\n    <image height=\"73\" id=\"image641322ad0b\" transform=\"scale(1 -1)translate(0 -73)\" width=\"112\" x=\"249.585938\" xlink:href=\"data:image/png;base64,\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\" y=\"-35.2355\"/>\n   </g>\n   <g id=\"matplotlib.axis_3\"/>\n   <g id=\"matplotlib.axis_4\"/>\n   <g id=\"patch_8\">\n    <path d=\"M 249.585938 108.2355 \nL 249.585938 35.7555 \n\" style=\"fill:none;stroke:#000000;stroke-linecap:square;stroke-linejoin:miter;stroke-width:0.8;\"/>\n   </g>\n   <g id=\"patch_9\">\n    <path d=\"M 361.185938 108.2355 \nL 361.185938 35.7555 \n\" style=\"fill:none;stroke:#000000;stroke-linecap:square;stroke-linejoin:miter;stroke-width:0.8;\"/>\n   </g>\n   <g id=\"patch_10\">\n    <path d=\"M 249.585938 108.2355 \nL 361.185938 108.2355 \n\" style=\"fill:none;stroke:#000000;stroke-linecap:square;stroke-linejoin:miter;stroke-width:0.8;\"/>\n   </g>\n   <g id=\"patch_11\">\n    <path d=\"M 249.585938 35.7555 \nL 361.185938 35.7555 \n\" style=\"fill:none;stroke:#000000;stroke-linecap:square;stroke-linejoin:miter;stroke-width:0.8;\"/>\n   </g>\n   <g id=\"text_2\">\n    <!-- overall 90 percentile  -->\n    <g transform=\"translate(241.635 16.318125)scale(0.12 -0.12)\">\n     <use xlink:href=\"#DejaVuSans-111\"/>\n     <use x=\"61.181641\" xlink:href=\"#DejaVuSans-118\"/>\n     <use x=\"120.361328\" xlink:href=\"#DejaVuSans-101\"/>\n     <use x=\"181.884766\" xlink:href=\"#DejaVuSans-114\"/>\n     <use x=\"222.998047\" xlink:href=\"#DejaVuSans-97\"/>\n     <use x=\"284.277344\" xlink:href=\"#DejaVuSans-108\"/>\n     <use x=\"312.060547\" xlink:href=\"#DejaVuSans-108\"/>\n     <use x=\"339.84375\" xlink:href=\"#DejaVuSans-32\"/>\n     <use x=\"371.630859\" xlink:href=\"#DejaVuSans-57\"/>\n     <use x=\"435.253906\" xlink:href=\"#DejaVuSans-48\"/>\n     <use x=\"498.876953\" xlink:href=\"#DejaVuSans-32\"/>\n     <use x=\"530.664062\" xlink:href=\"#DejaVuSans-112\"/>\n     <use x=\"594.140625\" xlink:href=\"#DejaVuSans-101\"/>\n     <use x=\"655.664062\" xlink:href=\"#DejaVuSans-114\"/>\n     <use x=\"694.527344\" xlink:href=\"#DejaVuSans-99\"/>\n     <use x=\"749.507812\" xlink:href=\"#DejaVuSans-101\"/>\n     <use x=\"811.03125\" xlink:href=\"#DejaVuSans-110\"/>\n     <use x=\"874.410156\" xlink:href=\"#DejaVuSans-116\"/>\n     <use x=\"913.619141\" xlink:href=\"#DejaVuSans-105\"/>\n     <use x=\"941.402344\" xlink:href=\"#DejaVuSans-108\"/>\n     <use x=\"969.185547\" xlink:href=\"#DejaVuSans-101\"/>\n     <use x=\"1030.708984\" xlink:href=\"#DejaVuSans-32\"/>\n    </g>\n    <!-- with random -->\n    <g transform=\"translate(267.48 29.7555)scale(0.12 -0.12)\">\n     <defs>\n      <path d=\"M 4.203125 54.6875 \nL 13.1875 54.6875 \nL 24.421875 12.015625 \nL 35.59375 54.6875 \nL 46.1875 54.6875 \nL 57.421875 12.015625 \nL 68.609375 54.6875 \nL 77.59375 54.6875 \nL 63.28125 0 \nL 52.6875 0 \nL 40.921875 44.828125 \nL 29.109375 0 \nL 18.5 0 \nz\n\" id=\"DejaVuSans-119\"/>\n      <path d=\"M 54.890625 33.015625 \nL 54.890625 0 \nL 45.90625 0 \nL 45.90625 32.71875 \nQ 45.90625 40.484375 42.875 44.328125 \nQ 39.84375 48.1875 33.796875 48.1875 \nQ 26.515625 48.1875 22.3125 43.546875 \nQ 18.109375 38.921875 18.109375 30.90625 \nL 18.109375 0 \nL 9.078125 0 \nL 9.078125 75.984375 \nL 18.109375 75.984375 \nL 18.109375 46.1875 \nQ 21.34375 51.125 25.703125 53.5625 \nQ 30.078125 56 35.796875 56 \nQ 45.21875 56 50.046875 50.171875 \nQ 54.890625 44.34375 54.890625 33.015625 \nz\n\" id=\"DejaVuSans-104\"/>\n      <path d=\"M 45.40625 46.390625 \nL 45.40625 75.984375 \nL 54.390625 75.984375 \nL 54.390625 0 \nL 45.40625 0 \nL 45.40625 8.203125 \nQ 42.578125 3.328125 38.25 0.953125 \nQ 33.9375 -1.421875 27.875 -1.421875 \nQ 17.96875 -1.421875 11.734375 6.484375 \nQ 5.515625 14.40625 5.515625 27.296875 \nQ 5.515625 40.1875 11.734375 48.09375 \nQ 17.96875 56 27.875 56 \nQ 33.9375 56 38.25 53.625 \nQ 42.578125 51.265625 45.40625 46.390625 \nz\nM 14.796875 27.296875 \nQ 14.796875 17.390625 18.875 11.75 \nQ 22.953125 6.109375 30.078125 6.109375 \nQ 37.203125 6.109375 41.296875 11.75 \nQ 45.40625 17.390625 45.40625 27.296875 \nQ 45.40625 37.203125 41.296875 42.84375 \nQ 37.203125 48.484375 30.078125 48.484375 \nQ 22.953125 48.484375 18.875 42.84375 \nQ 14.796875 37.203125 14.796875 27.296875 \nz\n\" id=\"DejaVuSans-100\"/>\n      <path d=\"M 52 44.1875 \nQ 55.375 50.25 60.0625 53.125 \nQ 64.75 56 71.09375 56 \nQ 79.640625 56 84.28125 50.015625 \nQ 88.921875 44.046875 88.921875 33.015625 \nL 88.921875 0 \nL 79.890625 0 \nL 79.890625 32.71875 \nQ 79.890625 40.578125 77.09375 44.375 \nQ 74.3125 48.1875 68.609375 48.1875 \nQ 61.625 48.1875 57.5625 43.546875 \nQ 53.515625 38.921875 53.515625 30.90625 \nL 53.515625 0 \nL 44.484375 0 \nL 44.484375 32.71875 \nQ 44.484375 40.625 41.703125 44.40625 \nQ 38.921875 48.1875 33.109375 48.1875 \nQ 26.21875 48.1875 22.15625 43.53125 \nQ 18.109375 38.875 18.109375 30.90625 \nL 18.109375 0 \nL 9.078125 0 \nL 9.078125 54.6875 \nL 18.109375 54.6875 \nL 18.109375 46.1875 \nQ 21.1875 51.21875 25.484375 53.609375 \nQ 29.78125 56 35.6875 56 \nQ 41.65625 56 45.828125 52.96875 \nQ 50 49.953125 52 44.1875 \nz\n\" id=\"DejaVuSans-109\"/>\n     </defs>\n     <use xlink:href=\"#DejaVuSans-119\"/>\n     <use x=\"81.787109\" xlink:href=\"#DejaVuSans-105\"/>\n     <use x=\"109.570312\" xlink:href=\"#DejaVuSans-116\"/>\n     <use x=\"148.779297\" xlink:href=\"#DejaVuSans-104\"/>\n     <use x=\"212.158203\" xlink:href=\"#DejaVuSans-32\"/>\n     <use x=\"243.945312\" xlink:href=\"#DejaVuSans-114\"/>\n     <use x=\"285.058594\" xlink:href=\"#DejaVuSans-97\"/>\n     <use x=\"346.337891\" xlink:href=\"#DejaVuSans-110\"/>\n     <use x=\"409.716797\" xlink:href=\"#DejaVuSans-100\"/>\n     <use x=\"473.193359\" xlink:href=\"#DejaVuSans-111\"/>\n     <use x=\"534.375\" xlink:href=\"#DejaVuSans-109\"/>\n    </g>\n   </g>\n  </g>\n  <g id=\"axes_3\">\n   <g id=\"patch_12\">\n    <path d=\"M 26.385937 253.1955 \nL 137.985938 253.1955 \nL 137.985938 180.7155 \nL 26.385937 180.7155 \nz\n\" style=\"fill:#ffffff;\"/>\n   </g>\n   <g clip-path=\"url(#p16fdf5146f)\">\n    <image height=\"73\" id=\"imaged9463a4b40\" transform=\"scale(1 -1)translate(0 -73)\" width=\"112\" x=\"26.385937\" xlink:href=\"data:image/png;base64,\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\" y=\"-180.1955\"/>\n   </g>\n   <g id=\"matplotlib.axis_5\"/>\n   <g id=\"matplotlib.axis_6\"/>\n   <g id=\"patch_13\">\n    <path d=\"M 26.385937 253.1955 \nL 26.385937 180.7155 \n\" style=\"fill:none;stroke:#000000;stroke-linecap:square;stroke-linejoin:miter;stroke-width:0.8;\"/>\n   </g>\n   <g id=\"patch_14\">\n    <path d=\"M 137.985938 253.1955 \nL 137.985938 180.7155 \n\" style=\"fill:none;stroke:#000000;stroke-linecap:square;stroke-linejoin:miter;stroke-width:0.8;\"/>\n   </g>\n   <g id=\"patch_15\">\n    <path d=\"M 26.385937 253.1955 \nL 137.985938 253.1955 \n\" style=\"fill:none;stroke:#000000;stroke-linecap:square;stroke-linejoin:miter;stroke-width:0.8;\"/>\n   </g>\n   <g id=\"patch_16\">\n    <path d=\"M 26.385937 180.7155 \nL 137.985938 180.7155 \n\" style=\"fill:none;stroke:#000000;stroke-linecap:square;stroke-linejoin:miter;stroke-width:0.8;\"/>\n   </g>\n   <g id=\"text_3\">\n    <!-- per feature 90 percentile -->\n    <g transform=\"translate(7.2 161.278125)scale(0.12 -0.12)\">\n     <defs>\n      <path d=\"M 37.109375 75.984375 \nL 37.109375 68.5 \nL 28.515625 68.5 \nQ 23.6875 68.5 21.796875 66.546875 \nQ 19.921875 64.59375 19.921875 59.515625 \nL 19.921875 54.6875 \nL 34.71875 54.6875 \nL 34.71875 47.703125 \nL 19.921875 47.703125 \nL 19.921875 0 \nL 10.890625 0 \nL 10.890625 47.703125 \nL 2.296875 47.703125 \nL 2.296875 54.6875 \nL 10.890625 54.6875 \nL 10.890625 58.5 \nQ 10.890625 67.625 15.140625 71.796875 \nQ 19.390625 75.984375 28.609375 75.984375 \nz\n\" id=\"DejaVuSans-102\"/>\n      <path d=\"M 8.5 21.578125 \nL 8.5 54.6875 \nL 17.484375 54.6875 \nL 17.484375 21.921875 \nQ 17.484375 14.15625 20.5 10.265625 \nQ 23.53125 6.390625 29.59375 6.390625 \nQ 36.859375 6.390625 41.078125 11.03125 \nQ 45.3125 15.671875 45.3125 23.6875 \nL 45.3125 54.6875 \nL 54.296875 54.6875 \nL 54.296875 0 \nL 45.3125 0 \nL 45.3125 8.40625 \nQ 42.046875 3.421875 37.71875 1 \nQ 33.40625 -1.421875 27.6875 -1.421875 \nQ 18.265625 -1.421875 13.375 4.4375 \nQ 8.5 10.296875 8.5 21.578125 \nz\nM 31.109375 56 \nz\n\" id=\"DejaVuSans-117\"/>\n     </defs>\n     <use xlink:href=\"#DejaVuSans-112\"/>\n     <use x=\"63.476562\" xlink:href=\"#DejaVuSans-101\"/>\n     <use x=\"125\" xlink:href=\"#DejaVuSans-114\"/>\n     <use x=\"166.113281\" xlink:href=\"#DejaVuSans-32\"/>\n     <use x=\"197.900391\" xlink:href=\"#DejaVuSans-102\"/>\n     <use x=\"233.105469\" xlink:href=\"#DejaVuSans-101\"/>\n     <use x=\"294.628906\" xlink:href=\"#DejaVuSans-97\"/>\n     <use x=\"355.908203\" xlink:href=\"#DejaVuSans-116\"/>\n     <use x=\"395.117188\" xlink:href=\"#DejaVuSans-117\"/>\n     <use x=\"458.496094\" xlink:href=\"#DejaVuSans-114\"/>\n     <use x=\"497.359375\" xlink:href=\"#DejaVuSans-101\"/>\n     <use x=\"558.882812\" xlink:href=\"#DejaVuSans-32\"/>\n     <use x=\"590.669922\" xlink:href=\"#DejaVuSans-57\"/>\n     <use x=\"654.292969\" xlink:href=\"#DejaVuSans-48\"/>\n     <use x=\"717.916016\" xlink:href=\"#DejaVuSans-32\"/>\n     <use x=\"749.703125\" xlink:href=\"#DejaVuSans-112\"/>\n     <use x=\"813.179688\" xlink:href=\"#DejaVuSans-101\"/>\n     <use x=\"874.703125\" xlink:href=\"#DejaVuSans-114\"/>\n     <use x=\"913.566406\" xlink:href=\"#DejaVuSans-99\"/>\n     <use x=\"968.546875\" xlink:href=\"#DejaVuSans-101\"/>\n     <use x=\"1030.070312\" xlink:href=\"#DejaVuSans-110\"/>\n     <use x=\"1093.449219\" xlink:href=\"#DejaVuSans-116\"/>\n     <use x=\"1132.658203\" xlink:href=\"#DejaVuSans-105\"/>\n     <use x=\"1160.441406\" xlink:href=\"#DejaVuSans-108\"/>\n     <use x=\"1188.224609\" xlink:href=\"#DejaVuSans-101\"/>\n    </g>\n    <!--  -->\n    <g transform=\"translate(82.185937 174.7155)scale(0.12 -0.12)\"/>\n   </g>\n  </g>\n  <g id=\"axes_4\">\n   <g id=\"patch_17\">\n    <path d=\"M 249.585938 253.1955 \nL 361.185938 253.1955 \nL 361.185938 180.7155 \nL 249.585938 180.7155 \nz\n\" style=\"fill:#ffffff;\"/>\n   </g>\n   <g clip-path=\"url(#p76d8a08d95)\">\n    <image height=\"73\" id=\"imageb69f4f556b\" transform=\"scale(1 -1)translate(0 -73)\" width=\"112\" x=\"249.585938\" xlink:href=\"data:image/png;base64,\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\" y=\"-180.1955\"/>\n   </g>\n   <g id=\"matplotlib.axis_7\"/>\n   <g id=\"matplotlib.axis_8\"/>\n   <g id=\"patch_18\">\n    <path d=\"M 249.585938 253.1955 \nL 249.585938 180.7155 \n\" style=\"fill:none;stroke:#000000;stroke-linecap:square;stroke-linejoin:miter;stroke-width:0.8;\"/>\n   </g>\n   <g id=\"patch_19\">\n    <path d=\"M 361.185938 253.1955 \nL 361.185938 180.7155 \n\" style=\"fill:none;stroke:#000000;stroke-linecap:square;stroke-linejoin:miter;stroke-width:0.8;\"/>\n   </g>\n   <g id=\"patch_20\">\n    <path d=\"M 249.585938 253.1955 \nL 361.185938 253.1955 \n\" style=\"fill:none;stroke:#000000;stroke-linecap:square;stroke-linejoin:miter;stroke-width:0.8;\"/>\n   </g>\n   <g id=\"patch_21\">\n    <path d=\"M 249.585938 180.7155 \nL 361.185938 180.7155 \n\" style=\"fill:none;stroke:#000000;stroke-linecap:square;stroke-linejoin:miter;stroke-width:0.8;\"/>\n   </g>\n   <g id=\"text_4\">\n    <!-- per feature 90 percentile  -->\n    <g transform=\"translate(228.493125 161.278125)scale(0.12 -0.12)\">\n     <use xlink:href=\"#DejaVuSans-112\"/>\n     <use x=\"63.476562\" xlink:href=\"#DejaVuSans-101\"/>\n     <use x=\"125\" xlink:href=\"#DejaVuSans-114\"/>\n     <use x=\"166.113281\" xlink:href=\"#DejaVuSans-32\"/>\n     <use x=\"197.900391\" xlink:href=\"#DejaVuSans-102\"/>\n     <use x=\"233.105469\" xlink:href=\"#DejaVuSans-101\"/>\n     <use x=\"294.628906\" xlink:href=\"#DejaVuSans-97\"/>\n     <use x=\"355.908203\" xlink:href=\"#DejaVuSans-116\"/>\n     <use x=\"395.117188\" xlink:href=\"#DejaVuSans-117\"/>\n     <use x=\"458.496094\" xlink:href=\"#DejaVuSans-114\"/>\n     <use x=\"497.359375\" xlink:href=\"#DejaVuSans-101\"/>\n     <use x=\"558.882812\" xlink:href=\"#DejaVuSans-32\"/>\n     <use x=\"590.669922\" xlink:href=\"#DejaVuSans-57\"/>\n     <use x=\"654.292969\" xlink:href=\"#DejaVuSans-48\"/>\n     <use x=\"717.916016\" xlink:href=\"#DejaVuSans-32\"/>\n     <use x=\"749.703125\" xlink:href=\"#DejaVuSans-112\"/>\n     <use x=\"813.179688\" xlink:href=\"#DejaVuSans-101\"/>\n     <use x=\"874.703125\" xlink:href=\"#DejaVuSans-114\"/>\n     <use x=\"913.566406\" xlink:href=\"#DejaVuSans-99\"/>\n     <use x=\"968.546875\" xlink:href=\"#DejaVuSans-101\"/>\n     <use x=\"1030.070312\" xlink:href=\"#DejaVuSans-110\"/>\n     <use x=\"1093.449219\" xlink:href=\"#DejaVuSans-116\"/>\n     <use x=\"1132.658203\" xlink:href=\"#DejaVuSans-105\"/>\n     <use x=\"1160.441406\" xlink:href=\"#DejaVuSans-108\"/>\n     <use x=\"1188.224609\" xlink:href=\"#DejaVuSans-101\"/>\n     <use x=\"1249.748047\" xlink:href=\"#DejaVuSans-32\"/>\n    </g>\n    <!-- with random -->\n    <g transform=\"translate(267.48 174.7155)scale(0.12 -0.12)\">\n     <use xlink:href=\"#DejaVuSans-119\"/>\n     <use x=\"81.787109\" xlink:href=\"#DejaVuSans-105\"/>\n     <use x=\"109.570312\" xlink:href=\"#DejaVuSans-116\"/>\n     <use x=\"148.779297\" xlink:href=\"#DejaVuSans-104\"/>\n     <use x=\"212.158203\" xlink:href=\"#DejaVuSans-32\"/>\n     <use x=\"243.945312\" xlink:href=\"#DejaVuSans-114\"/>\n     <use x=\"285.058594\" xlink:href=\"#DejaVuSans-97\"/>\n     <use x=\"346.337891\" xlink:href=\"#DejaVuSans-110\"/>\n     <use x=\"409.716797\" xlink:href=\"#DejaVuSans-100\"/>\n     <use x=\"473.193359\" xlink:href=\"#DejaVuSans-111\"/>\n     <use x=\"534.375\" xlink:href=\"#DejaVuSans-109\"/>\n    </g>\n   </g>\n  </g>\n </g>\n <defs>\n  <clipPath id=\"pc1d14ee541\">\n   <rect height=\"72.48\" width=\"111.6\" x=\"26.385937\" y=\"35.7555\"/>\n  </clipPath>\n  <clipPath id=\"p537a66a7c0\">\n   <rect height=\"72.48\" width=\"111.6\" x=\"249.585938\" y=\"35.7555\"/>\n  </clipPath>\n  <clipPath id=\"p16fdf5146f\">\n   <rect height=\"72.48\" width=\"111.6\" x=\"26.385937\" y=\"180.7155\"/>\n  </clipPath>\n  <clipPath id=\"p76d8a08d95\">\n   <rect height=\"72.48\" width=\"111.6\" x=\"249.585938\" y=\"180.7155\"/>\n  </clipPath>\n </defs>\n</svg>\n",
      "image/png": "[encoded data removed]"
     },
     "metadata": {}
    }
   ],
   "source": [
    "# Compare the difference between overall percentile and percentile per feature w/wo random\n",
    "\n",
    "# Test:\n",
    "e = explanations[0]\n",
    "x_coef = e[\"xcoef\"]\n",
    "X, y_true = zip(*test_set)\n",
    "x_arr = X[0]\n",
    "\n",
    "# Get absolute value for weight, because LIME could be negative -> 90 percentile might not work.\n",
    "m1 = mask_percentile(np.abs(x_coef), axis=None, interpolation=\"higher\")\n",
    "m2 = mask_percentile(np.abs(x_coef), axis=None, interpolation=\"higher\", random=True)\n",
    "m3 = mask_percentile(np.abs(x_coef), axis=1, interpolation=\"higher\")\n",
    "m4 = mask_percentile(np.abs(x_coef), axis=1, interpolation=\"higher\", random=True)\n",
    "\n",
    "fig, axes = plt.subplots(2, 2)\n",
    "ax = axes[0, 0]\n",
    "ax.imshow(m1, aspect='auto')\n",
    "ax.set_title(\"overall 90 percentile\\n\")\n",
    "ax = axes[0, 1]\n",
    "ax.imshow(m2, aspect='auto')\n",
    "ax.set_title(\"overall 90 percentile \\nwith random\")\n",
    "ax = axes[1, 0]\n",
    "ax.imshow(m3, aspect='auto')\n",
    "ax.set_title(\"per feature 90 percentile\\n\")\n",
    "ax = axes[1, 1]\n",
    "ax.imshow(m4, aspect='auto')\n",
    "ax.set_title(\"per feature 90 percentile \\nwith random\")\n",
    "plt.subplots_adjust(hspace=1, wspace=1)\n",
    "\n",
    "plt_hide_ticks(fig)\n",
    "# Test perturb_X\n",
    "#r = replacements(x_arr, method=\"zeros\")\n",
    "#z = perturb(x_arr, m, r)\n",
    "\n",
    "#e = explanations[0]\n",
    "#xcoef = e[\"xcoef\"]\n",
    "#X_perturbed = perturb_X(X, xcoef, method=\"zeros\")\n"
   ]
  },
  {
   "source": [
    "# Methodology for experiments.\n",
    "\n",
    "## Root Mean Squared Error in original as base line\n",
    "1. Fit directy X, y_true, y_pred to f(x) to get the baseline score\n",
    "\n",
    "## rmse in 90 percentile of explanations\n",
    "1. For each XAI model we generate a perturbed test set\n",
    "1. Fit to model and record rmse of perturbed test to the dict\n",
    "1. Save all scores to the dict {\"scale\": ..., \"model\": ...., \"method\": ...., \"xcoef\": ....., \"rmse\": ....}\n",
    "    - xcoef as explanations.\n",
    "    - rmse as root mean squared error score (lower better)\n",
    "\n",
    "## rmse in random perturbed\n",
    "1. Generate a random perturbed set, notice that:\n",
    "    - the number of changes =  perturbed test set"
   ],
   "cell_type": "markdown",
   "metadata": {}
  },
  {
   "source": [
    "## Step 1: RMSE of overall 90 percentile of explanations\n",
    "## Step 2: RMSE of overall Random\n",
    "- number of changes in random = overall 90 percentile of explanations (in step 1)"
   ],
   "cell_type": "markdown",
   "metadata": {}
  },
  {
   "cell_type": "code",
   "execution_count": 8,
   "metadata": {},
   "outputs": [],
   "source": [
    "from sklearn.metrics import mean_squared_error\n",
    "def get_rmse(x, fn, y_true, axis=None, random=False):\n",
    "    x_test = np.stack([x_i.T for x_i in x])\n",
    "    y_pred = fn.predict(x_test).ravel()\n",
    "\n",
    "    mse = mean_squared_error(y_true, y_pred)\n",
    "    return np.sqrt(mse)\n",
    "\n",
    "# Calculate quality measure for each explanation\n",
    "for e in explanations:\n",
    "    \n",
    "    x_coef = e[\"xcoef\"]\n",
    "    fn = eval(e[\"model\"].replace(\"_fn\", \"\"))    # remove \"_fn\" from lstm_fn (custom)\n",
    "\n",
    "    #1 Create perturbed test set + rmse\n",
    "    X_p90 = perturb_X(X, x_coef=x_coef, percentile=90, axis=None) # overall case by set axis=None\n",
    "    rmse = get_rmse(X_p90, fn, y_true)\n",
    "    e.update({\"rmse_p90\": rmse})\n",
    "\n",
    "    #2 Random - same x-coef to get number of changes.\n",
    "    X_random = perturb_X(X, x_coef=x_coef, percentile=90, axis=None, random=True)\n",
    "    rmse = get_rmse(X_random, fn, y_true)\n",
    "    e.update({\"rmse_random\": rmse})"
   ]
  },
  {
   "source": [
    "## Step 3: RMSE of original Test Set X"
   ],
   "cell_type": "markdown",
   "metadata": {}
  },
  {
   "cell_type": "code",
   "execution_count": 9,
   "metadata": {},
   "outputs": [],
   "source": [
    "# Now calculate quality measure for original\n",
    "#   this not dependent on coef or random, hence get directly from X\n",
    "# X, y_true = zip(*test_set)\n",
    "X_test = np.stack([x.T for x in X])\n",
    "for e in explanations:  \n",
    "    fn = eval(e[\"model\"].replace(\"_fn\", \"\"))\n",
    "    y_pred = fn.predict(X_test).ravel()\n",
    "\n",
    "    rmse = get_rmse(X_random, fn, y_true)\n",
    "    e.update({\"rmse_original\": rmse})"
   ]
  },
  {
   "source": [
    "# Evaluation quality for Regression task\n",
    "\n",
    "Assumptions to be used: \n",
    "\\begin{equation}\n",
    "    err(X) < err(X_{random}) < err(X_{p90})\n",
    "\\end{equation}\n",
    "- with X: Original test set\n",
    "- $X_{random}$: Randomly perturbed X, based on number of changes in $X_p90$\n",
    "- $X_{p90}$: Perturbed based on values larger than 90 percentile threshold.\n",
    "\n",
    "We expect to see:\n",
    "- $rmse(X) < rmse(X_{random}) < rmse(X_{p90})$\n",
    "- alternative $0 <= diff_{random} < diff_{p90}$ in comparison with baseline X"
   ],
   "cell_type": "markdown",
   "metadata": {}
  },
  {
   "cell_type": "code",
   "execution_count": 10,
   "metadata": {},
   "outputs": [],
   "source": [
    "eva_df = pd.DataFrame(list(explanations))\n",
    "eva_df = eva_df.drop(\"xcoef\", axis=1)\n",
    "eva_df[\"rmse_diff_random\"] = eva_df.eval(\"rmse_original - rmse_random\")\n",
    "eva_df[\"rmse_diff_p90\"] = eva_df.eval(\"rmse_original - rmse_p90\")"
   ]
  },
  {
   "cell_type": "code",
   "execution_count": 11,
   "metadata": {},
   "outputs": [
    {
     "output_type": "stream",
     "name": "stdout",
     "text": [
      "Evaluation Result for lstm - with overall 90 percentile, all used zeros replacement for test set.\n"
     ]
    },
    {
     "output_type": "execute_result",
     "data": {
      "text/plain": [
       "    scale    model       method  rmse_original  rmse_diff_random  \\\n",
       "0   async  lstm_fn        zeros       0.097153         -0.036921   \n",
       "2   async  lstm_fn   local_mean       0.097153         -0.017144   \n",
       "4   async  lstm_fn  global_mean       0.097153         -0.010676   \n",
       "6    sync  lstm_fn        zeros       0.097153          0.007651   \n",
       "8    sync  lstm_fn   local_mean       0.097153          0.004457   \n",
       "10   sync  lstm_fn  global_mean       0.097153          0.004408   \n",
       "\n",
       "    rmse_diff_p90  \n",
       "0       -0.315850  \n",
       "2       -1.004404  \n",
       "4       -0.355239  \n",
       "6       -0.027730  \n",
       "8        0.002283  \n",
       "10      -0.050861  "
      ],
      "text/html": "<div>\n<style scoped>\n    .dataframe tbody tr th:only-of-type {\n        vertical-align: middle;\n    }\n\n    .dataframe tbody tr th {\n        vertical-align: top;\n    }\n\n    .dataframe thead th {\n        text-align: right;\n    }\n</style>\n<table border=\"1\" class=\"dataframe\">\n  <thead>\n    <tr style=\"text-align: right;\">\n      <th></th>\n      <th>scale</th>\n      <th>model</th>\n      <th>method</th>\n      <th>rmse_original</th>\n      <th>rmse_diff_random</th>\n      <th>rmse_diff_p90</th>\n    </tr>\n  </thead>\n  <tbody>\n    <tr>\n      <th>0</th>\n      <td>async</td>\n      <td>lstm_fn</td>\n      <td>zeros</td>\n      <td>0.097153</td>\n      <td>-0.036921</td>\n      <td>-0.315850</td>\n    </tr>\n    <tr>\n      <th>2</th>\n      <td>async</td>\n      <td>lstm_fn</td>\n      <td>local_mean</td>\n      <td>0.097153</td>\n      <td>-0.017144</td>\n      <td>-1.004404</td>\n    </tr>\n    <tr>\n      <th>4</th>\n      <td>async</td>\n      <td>lstm_fn</td>\n      <td>global_mean</td>\n      <td>0.097153</td>\n      <td>-0.010676</td>\n      <td>-0.355239</td>\n    </tr>\n    <tr>\n      <th>6</th>\n      <td>sync</td>\n      <td>lstm_fn</td>\n      <td>zeros</td>\n      <td>0.097153</td>\n      <td>0.007651</td>\n      <td>-0.027730</td>\n    </tr>\n    <tr>\n      <th>8</th>\n      <td>sync</td>\n      <td>lstm_fn</td>\n      <td>local_mean</td>\n      <td>0.097153</td>\n      <td>0.004457</td>\n      <td>0.002283</td>\n    </tr>\n    <tr>\n      <th>10</th>\n      <td>sync</td>\n      <td>lstm_fn</td>\n      <td>global_mean</td>\n      <td>0.097153</td>\n      <td>0.004408</td>\n      <td>-0.050861</td>\n    </tr>\n  </tbody>\n</table>\n</div>"
     },
     "metadata": {},
     "execution_count": 11
    }
   ],
   "source": [
    "# Evaluation Result for lstm\n",
    "tt = eva_df.loc[:, [\"scale\", \"model\", \"method\", \"rmse_original\",\"rmse_diff_random\", \"rmse_diff_p90\"]]\n",
    "eva_lstm = tt.query(\"model == 'lstm_fn' \")\n",
    "print(\"Evaluation Result for lstm - with overall 90 percentile, all used zeros replacement for test set.\")\n",
    "eva_lstm"
   ]
  },
  {
   "source": [
    "## Discussion\n",
    "\n",
    "The result show the diference in rmse based on the rmse_original. the random have more error than the original then it satisfy the assumption. However the unexpected rmse_diff_p90 is unstable, that does not statisfy the assumption. All async methods turns to better quality with lower rmse after being perturbed. The sync does in the oposite way except for global mean perturbation."
   ],
   "cell_type": "markdown",
   "metadata": {}
  },
  {
   "source": [
    "# Per feature 90 percentile \n",
    "Previously we use overall 90 percentile -> now we experiment on perturbing values over 90 percentile per feature.\n",
    "- repeat the whole process above, but uses per feature by set $\\textbf{axis=1}$\n",
    "- the rmse for the original X does not change, we could skip this.\n"
   ],
   "cell_type": "markdown",
   "metadata": {}
  },
  {
   "cell_type": "code",
   "execution_count": null,
   "metadata": {},
   "outputs": [],
   "source": []
  },
  {
   "cell_type": "code",
   "execution_count": 12,
   "metadata": {},
   "outputs": [],
   "source": [
    "import copy\n",
    "\n",
    "exp2 = copy.deepcopy(explanations)   # copy the explanations\n",
    "for e in exp2:\n",
    "    x_coef = e[\"xcoef\"]\n",
    "    fn = eval(e[\"model\"].replace(\"_fn\", \"\"))    # remove \"_fn\" from lstm_fn (custom)\n",
    "\n",
    "    #1 Create perturbed test set + rmse\n",
    "    X_p90 = perturb_X(X, x_coef=x_coef, percentile=90, axis=1) # per feature\n",
    "    rmse = get_rmse(X_p90, fn, y_true)\n",
    "    e.update({\"rmse_p90\": rmse})\n",
    "\n",
    "    #2 Random - same x-coef to get number of changes.\n",
    "    X_random = perturb_X(X, x_coef=x_coef, percentile=90, axis=1, random=True)\n",
    "    rmse = get_rmse(X_random, fn, y_true)\n",
    "    e.update({\"rmse_random\": rmse})"
   ]
  },
  {
   "cell_type": "code",
   "execution_count": 13,
   "metadata": {},
   "outputs": [
    {
     "output_type": "stream",
     "name": "stdout",
     "text": [
      "Evaluation Result for lstm - with per-feature 90 percentile, all used zeros replacement for test set.\n"
     ]
    },
    {
     "output_type": "execute_result",
     "data": {
      "text/plain": [
       "    scale    model       method  rmse_original  rmse_diff_random  \\\n",
       "0   async  lstm_fn        zeros       0.097153          0.006438   \n",
       "2   async  lstm_fn   local_mean       0.097153         -0.002356   \n",
       "4   async  lstm_fn  global_mean       0.097153          0.010454   \n",
       "6    sync  lstm_fn        zeros       0.097153         -0.029863   \n",
       "8    sync  lstm_fn   local_mean       0.097153         -0.066364   \n",
       "10   sync  lstm_fn  global_mean       0.097153          0.012517   \n",
       "\n",
       "    rmse_diff_p90  \n",
       "0       -0.033142  \n",
       "2       -0.081434  \n",
       "4       -0.024915  \n",
       "6       -0.027730  \n",
       "8        0.002283  \n",
       "10      -0.050861  "
      ],
      "text/html": "<div>\n<style scoped>\n    .dataframe tbody tr th:only-of-type {\n        vertical-align: middle;\n    }\n\n    .dataframe tbody tr th {\n        vertical-align: top;\n    }\n\n    .dataframe thead th {\n        text-align: right;\n    }\n</style>\n<table border=\"1\" class=\"dataframe\">\n  <thead>\n    <tr style=\"text-align: right;\">\n      <th></th>\n      <th>scale</th>\n      <th>model</th>\n      <th>method</th>\n      <th>rmse_original</th>\n      <th>rmse_diff_random</th>\n      <th>rmse_diff_p90</th>\n    </tr>\n  </thead>\n  <tbody>\n    <tr>\n      <th>0</th>\n      <td>async</td>\n      <td>lstm_fn</td>\n      <td>zeros</td>\n      <td>0.097153</td>\n      <td>0.006438</td>\n      <td>-0.033142</td>\n    </tr>\n    <tr>\n      <th>2</th>\n      <td>async</td>\n      <td>lstm_fn</td>\n      <td>local_mean</td>\n      <td>0.097153</td>\n      <td>-0.002356</td>\n      <td>-0.081434</td>\n    </tr>\n    <tr>\n      <th>4</th>\n      <td>async</td>\n      <td>lstm_fn</td>\n      <td>global_mean</td>\n      <td>0.097153</td>\n      <td>0.010454</td>\n      <td>-0.024915</td>\n    </tr>\n    <tr>\n      <th>6</th>\n      <td>sync</td>\n      <td>lstm_fn</td>\n      <td>zeros</td>\n      <td>0.097153</td>\n      <td>-0.029863</td>\n      <td>-0.027730</td>\n    </tr>\n    <tr>\n      <th>8</th>\n      <td>sync</td>\n      <td>lstm_fn</td>\n      <td>local_mean</td>\n      <td>0.097153</td>\n      <td>-0.066364</td>\n      <td>0.002283</td>\n    </tr>\n    <tr>\n      <th>10</th>\n      <td>sync</td>\n      <td>lstm_fn</td>\n      <td>global_mean</td>\n      <td>0.097153</td>\n      <td>0.012517</td>\n      <td>-0.050861</td>\n    </tr>\n  </tbody>\n</table>\n</div>"
     },
     "metadata": {},
     "execution_count": 13
    }
   ],
   "source": [
    "\n",
    "eva2_df = pd.DataFrame(list(exp2))\n",
    "eva2_df = eva2_df.drop(\"xcoef\", axis=1)\n",
    "eva2_df[\"rmse_diff_random\"] = eva2_df.eval(\"rmse_original - rmse_random\")\n",
    "eva2_df[\"rmse_diff_p90\"] = eva2_df.eval(\"rmse_original - rmse_p90\")\n",
    "\n",
    "tt = eva2_df.loc[:, [\"scale\", \"model\", \"method\", \"rmse_original\",\"rmse_diff_random\", \"rmse_diff_p90\"]]\n",
    "eva2_lstm = tt.query(\"model == 'lstm_fn' \")\n",
    "\n",
    "print(\"Evaluation Result for lstm - with per-feature 90 percentile, all used zeros replacement for test set.\")\n",
    "eva2_lstm"
   ]
  },
  {
   "source": [
    "## Discussion\n",
    "In this per-feature 90 percentile, the assumption above does not hold for both. However, the score is very close with difference close to zeros."
   ],
   "cell_type": "markdown",
   "metadata": {}
  },
  {
   "source": [
    "# Absolute value for coeficiencts\n",
    "\n",
    "Experiments above was done when coefs is not get absolute. For LIME in regression the weight could be significant negative or positive. In this case, we would like to run it to check if the absolute Weight will hold the assumption\n",
    "- Again we do not need to calculate rmse for the original X"
   ],
   "cell_type": "markdown",
   "metadata": {}
  },
  {
   "cell_type": "code",
   "execution_count": 14,
   "metadata": {},
   "outputs": [],
   "source": [
    "exp3 = copy.deepcopy(explanations)   # copy the explanations\n",
    "for e in exp3:\n",
    "    x_coef = np.abs(e[\"xcoef\"]) # Absolute explanations.\n",
    "    fn = eval(e[\"model\"].replace(\"_fn\", \"\"))\n",
    "\n",
    "    #1 Create perturbed test set + rmse\n",
    "    X_p90 = perturb_X(X, x_coef=x_coef, percentile=90, axis=None) # Overall\n",
    "    rmse = get_rmse(X_p90, fn, y_true)\n",
    "    e.update({\"rmse_p90\": rmse})\n",
    "\n",
    "    #2 Random - same x-coef to get number of changes.\n",
    "    X_random = perturb_X(X, x_coef=x_coef, percentile=90, axis=None, random=True)\n",
    "    rmse = get_rmse(X_random, fn, y_true)\n",
    "    e.update({\"rmse_random\": rmse})"
   ]
  },
  {
   "cell_type": "code",
   "execution_count": 15,
   "metadata": {},
   "outputs": [
    {
     "output_type": "stream",
     "name": "stdout",
     "text": [
      "Evaluation Result for lstm - absolute weight for overall 90 percentile.\n"
     ]
    },
    {
     "output_type": "execute_result",
     "data": {
      "text/plain": [
       "    scale    model       method  rmse_original  rmse_diff_random  \\\n",
       "0   async  lstm_fn        zeros       0.097153         -0.007361   \n",
       "2   async  lstm_fn   local_mean       0.097153         -0.000349   \n",
       "4   async  lstm_fn  global_mean       0.097153         -0.009572   \n",
       "6    sync  lstm_fn        zeros       0.097153         -0.069585   \n",
       "8    sync  lstm_fn   local_mean       0.097153         -0.069109   \n",
       "10   sync  lstm_fn  global_mean       0.097153         -0.049607   \n",
       "\n",
       "    rmse_diff_p90  \n",
       "0       -0.004502  \n",
       "2       -0.514291  \n",
       "4       -0.366000  \n",
       "6       -0.047128  \n",
       "8        0.002283  \n",
       "10      -0.050861  "
      ],
      "text/html": "<div>\n<style scoped>\n    .dataframe tbody tr th:only-of-type {\n        vertical-align: middle;\n    }\n\n    .dataframe tbody tr th {\n        vertical-align: top;\n    }\n\n    .dataframe thead th {\n        text-align: right;\n    }\n</style>\n<table border=\"1\" class=\"dataframe\">\n  <thead>\n    <tr style=\"text-align: right;\">\n      <th></th>\n      <th>scale</th>\n      <th>model</th>\n      <th>method</th>\n      <th>rmse_original</th>\n      <th>rmse_diff_random</th>\n      <th>rmse_diff_p90</th>\n    </tr>\n  </thead>\n  <tbody>\n    <tr>\n      <th>0</th>\n      <td>async</td>\n      <td>lstm_fn</td>\n      <td>zeros</td>\n      <td>0.097153</td>\n      <td>-0.007361</td>\n      <td>-0.004502</td>\n    </tr>\n    <tr>\n      <th>2</th>\n      <td>async</td>\n      <td>lstm_fn</td>\n      <td>local_mean</td>\n      <td>0.097153</td>\n      <td>-0.000349</td>\n      <td>-0.514291</td>\n    </tr>\n    <tr>\n      <th>4</th>\n      <td>async</td>\n      <td>lstm_fn</td>\n      <td>global_mean</td>\n      <td>0.097153</td>\n      <td>-0.009572</td>\n      <td>-0.366000</td>\n    </tr>\n    <tr>\n      <th>6</th>\n      <td>sync</td>\n      <td>lstm_fn</td>\n      <td>zeros</td>\n      <td>0.097153</td>\n      <td>-0.069585</td>\n      <td>-0.047128</td>\n    </tr>\n    <tr>\n      <th>8</th>\n      <td>sync</td>\n      <td>lstm_fn</td>\n      <td>local_mean</td>\n      <td>0.097153</td>\n      <td>-0.069109</td>\n      <td>0.002283</td>\n    </tr>\n    <tr>\n      <th>10</th>\n      <td>sync</td>\n      <td>lstm_fn</td>\n      <td>global_mean</td>\n      <td>0.097153</td>\n      <td>-0.049607</td>\n      <td>-0.050861</td>\n    </tr>\n  </tbody>\n</table>\n</div>"
     },
     "metadata": {},
     "execution_count": 15
    }
   ],
   "source": [
    "\n",
    "eva3_df = pd.DataFrame(list(exp3))\n",
    "eva3_df = eva3_df.drop(\"xcoef\", axis=1)\n",
    "eva3_df[\"rmse_diff_random\"] = eva3_df.eval(\"rmse_original - rmse_random\")\n",
    "eva3_df[\"rmse_diff_p90\"] = eva3_df.eval(\"rmse_original - rmse_p90\")\n",
    "\n",
    "tt = eva3_df.loc[:, [\"scale\", \"model\", \"method\", \"rmse_original\",\"rmse_diff_random\", \"rmse_diff_p90\"]]\n",
    "eva3_lstm = tt.query(\"model == 'lstm_fn' \")\n",
    "\n",
    "print(\"Evaluation Result for lstm - absolute weight for overall 90 percentile.\")\n",
    "eva3_lstm"
   ]
  },
  {
   "source": [
    "## Conclusion\n",
    "- The absolute overall 90 percentile for explanations does similarly. The assumption does not hold for percentile 90 (overall), but it holds for random"
   ],
   "cell_type": "markdown",
   "metadata": {}
  },
  {
   "source": [
    "# Absolute value for coeficiencts per feature (90 percentile)\n",
    "\n",
    "Continue the exp 3, but with each feature for threshold 90 percentile."
   ],
   "cell_type": "markdown",
   "metadata": {}
  },
  {
   "cell_type": "code",
   "execution_count": 134,
   "metadata": {},
   "outputs": [],
   "source": [
    "exp4 = copy.deepcopy(explanations)   # copy the explanations\n",
    "for e in exp4:\n",
    "    x_coef = np.abs(e[\"xcoef\"]) # Absolute explanations.\n",
    "    fn = eval(e[\"model\"].replace(\"_fn\", \"\"))\n",
    "\n",
    "    #1 Create perturbed test set + rmse\n",
    "    X_p90 = perturb_X(X, x_coef=x_coef, percentile=90, axis=1) # Per feature\n",
    "    rmse = get_rmse(X_p90, fn, y_true)\n",
    "    e.update({\"rmse_p90\": rmse})\n",
    "\n",
    "    #2 Random - same x-coef to get number of changes.\n",
    "    X_random = perturb_X(X, x_coef=x_coef, percentile=90, axis=1, random=True) # Random\n",
    "    rmse = get_rmse(X_random, fn, y_true)\n",
    "    e.update({\"rmse_random\": rmse})"
   ]
  },
  {
   "cell_type": "code",
   "execution_count": 135,
   "metadata": {},
   "outputs": [
    {
     "output_type": "stream",
     "name": "stdout",
     "text": [
      "Evaluation Result for lstm - absolute weight for overall 90 percentile.\n"
     ]
    },
    {
     "output_type": "execute_result",
     "data": {
      "text/plain": [
       "    scale    model       method  rmse_original  rmse_diff_random  \\\n",
       "0   async  lstm_fn        zeros        0.14725          0.035404   \n",
       "2   async  lstm_fn   local_mean        0.14725          0.048594   \n",
       "4   async  lstm_fn  global_mean        0.14725         -0.016343   \n",
       "6    sync  lstm_fn        zeros        0.14725          0.058071   \n",
       "8    sync  lstm_fn   local_mean        0.14725          0.041022   \n",
       "10   sync  lstm_fn  global_mean        0.14725          0.054007   \n",
       "\n",
       "    rmse_diff_p90  \n",
       "0       -0.002168  \n",
       "2        0.006032  \n",
       "4       -0.012235  \n",
       "6       -0.000264  \n",
       "8        0.054290  \n",
       "10      -0.001663  "
      ],
      "text/html": "<div>\n<style scoped>\n    .dataframe tbody tr th:only-of-type {\n        vertical-align: middle;\n    }\n\n    .dataframe tbody tr th {\n        vertical-align: top;\n    }\n\n    .dataframe thead th {\n        text-align: right;\n    }\n</style>\n<table border=\"1\" class=\"dataframe\">\n  <thead>\n    <tr style=\"text-align: right;\">\n      <th></th>\n      <th>scale</th>\n      <th>model</th>\n      <th>method</th>\n      <th>rmse_original</th>\n      <th>rmse_diff_random</th>\n      <th>rmse_diff_p90</th>\n    </tr>\n  </thead>\n  <tbody>\n    <tr>\n      <th>0</th>\n      <td>async</td>\n      <td>lstm_fn</td>\n      <td>zeros</td>\n      <td>0.14725</td>\n      <td>0.035404</td>\n      <td>-0.002168</td>\n    </tr>\n    <tr>\n      <th>2</th>\n      <td>async</td>\n      <td>lstm_fn</td>\n      <td>local_mean</td>\n      <td>0.14725</td>\n      <td>0.048594</td>\n      <td>0.006032</td>\n    </tr>\n    <tr>\n      <th>4</th>\n      <td>async</td>\n      <td>lstm_fn</td>\n      <td>global_mean</td>\n      <td>0.14725</td>\n      <td>-0.016343</td>\n      <td>-0.012235</td>\n    </tr>\n    <tr>\n      <th>6</th>\n      <td>sync</td>\n      <td>lstm_fn</td>\n      <td>zeros</td>\n      <td>0.14725</td>\n      <td>0.058071</td>\n      <td>-0.000264</td>\n    </tr>\n    <tr>\n      <th>8</th>\n      <td>sync</td>\n      <td>lstm_fn</td>\n      <td>local_mean</td>\n      <td>0.14725</td>\n      <td>0.041022</td>\n      <td>0.054290</td>\n    </tr>\n    <tr>\n      <th>10</th>\n      <td>sync</td>\n      <td>lstm_fn</td>\n      <td>global_mean</td>\n      <td>0.14725</td>\n      <td>0.054007</td>\n      <td>-0.001663</td>\n    </tr>\n  </tbody>\n</table>\n</div>"
     },
     "metadata": {},
     "execution_count": 135
    }
   ],
   "source": [
    "\n",
    "eva4_df = pd.DataFrame(list(exp4))\n",
    "eva4_df = eva4_df.drop(\"xcoef\", axis=1)\n",
    "eva4_df[\"rmse_diff_random\"] = eva4_df.eval(\"rmse_original - rmse_random\")\n",
    "eva4_df[\"rmse_diff_p90\"] = eva4_df.eval(\"rmse_original - rmse_p90\")\n",
    "\n",
    "tt = eva4_df.loc[:, [\"scale\", \"model\", \"method\", \"rmse_original\",\"rmse_diff_random\", \"rmse_diff_p90\"]]\n",
    "eva4_lstm = tt.query(\"model == 'lstm_fn' \")\n",
    "\n",
    "print(\"Evaluation Result for lstm - absolute weight for overall 90 percentile.\")\n",
    "eva4_lstm"
   ]
  },
  {
   "source": [
    "## Conclusion:\n",
    "The assumption does not hold also for the both cases. However the result is very close to the original. (diff close to zeros)"
   ],
   "cell_type": "markdown",
   "metadata": {}
  },
  {
   "cell_type": "code",
   "execution_count": null,
   "metadata": {},
   "outputs": [],
   "source": []
  }
 ],
 "metadata": {
  "language_info": {
   "codemirror_mode": {
    "name": "ipython",
    "version": 3
   },
   "file_extension": ".py",
   "mimetype": "text/x-python",
   "name": "python",
   "nbconvert_exporter": "python",
   "pygments_lexer": "ipython3",
   "version": "3.7.7-final"
  },
  "orig_nbformat": 2,
  "kernelspec": {
   "name": "python3",
   "display_name": "Python 3.7.7 64-bit ('dev37': conda)",
   "metadata": {
    "interpreter": {
     "hash": "76fdbec98d1ff00acce9daf8fa18366555273267a59abb67ea09584c9e70ea1a"
    }
   }
  }
 },
 "nbformat": 4,
 "nbformat_minor": 2
}