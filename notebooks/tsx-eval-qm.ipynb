{
 "cells": [
  {
   "cell_type": "code",
   "execution_count": 1,
   "metadata": {},
   "outputs": [],
   "source": [
    "import os\n",
    "import sys\n",
    "module_path = os.path.abspath(os.path.join('..'))\n",
    "if module_path not in sys.path:\n",
    "    sys.path.append(module_path)\n"
   ]
  },
  {
   "cell_type": "code",
   "execution_count": 2,
   "metadata": {},
   "outputs": [],
   "source": [
    "import numpy as np\n",
    "import pandas as pd\n",
    "import tensorflow as tf\n",
    "\n",
    "from matplotlib import pyplot as plt\n",
    "from matplotlib.colors import LinearSegmentedColormap\n",
    "from matplotlib.patches import Patch\n",
    "\n",
    "from tsx.perturbation import TimeSeriesPerturbation\n",
    "from tsx.xai.lime import LIMETimeSeries, XAIModels\n",
    "from tsx.xai import evaluation as eva\n",
    "\n",
    "from data_util import *\n",
    "from viz import *\n",
    "\n",
    "import itertools\n",
    "import pandas as pd\n",
    "from biokit.viz import corrplot"
   ]
  },
  {
   "source": [
    "# Load Data set\n",
    "- Dataset of Beijin pollution\n",
    "- Learns pollution for 128 historical steps\n",
    "- Data is normalized when fitting into the model."
   ],
   "cell_type": "markdown",
   "metadata": {}
  },
  {
   "cell_type": "code",
   "execution_count": null,
   "metadata": {},
   "outputs": [],
   "source": [
    "independents = [\"dew\", \"temp\", \"press\", \"wind_direction\", \"wind_speed\", \"snow\", \"rain\"]\n",
    "dependent = \"pollution\"\n",
    "\n",
    "# Load data\n",
    "df = load_data_set_bejin()\n",
    "x_scaler, y_scaler = get_xy_scalers(df, independents, dependent)\n",
    "\n",
    "# Normalize data \n",
    "df_norm = df.copy()\n",
    "df_norm[independents] = x_scaler.transform(df[independents].values)\n",
    "df_norm[dependent] = y_scaler.transform(df[dependent].values.reshape(-1, 1))\n",
    "\n",
    "# Global param\n",
    "n_steps = 128\n",
    "window_size = 8\n",
    "n_variables = len(independents)\n",
    "samples_size = 100"
   ]
  },
  {
   "source": [
    "## Test set prepare\n",
    "- We test here for sample size of 1000 instance in test set.\n",
    "- Test-set include tuples of (X, y)\n"
   ],
   "cell_type": "markdown",
   "metadata": {}
  },
  {
   "cell_type": "code",
   "execution_count": null,
   "metadata": {},
   "outputs": [],
   "source": [
    "# Test set (random)\n",
    "test_set = []\n",
    "n_instances = 1000\n",
    "for i in range(n_instances):\n",
    "    i_df = get_instance_x(df_norm, n_steps + 1, independents + \n",
    "    [dependent])\n",
    "    _x = i_df.loc[:n_steps-1, independents]\n",
    "    _y = i_df[dependent]   \n",
    "    test_set.append((_x.values.T, _y.to_numpy()[-1]))"
   ]
  },
  {
   "source": [
    "# Load Explanations and Models from File\n",
    "\n",
    "The explanations was generated for each options in:\n",
    "- Scales (Synchronous, Asynchronos )\n",
    "- Replacement Methods for perturbation (zeros, local_mean, global_mean)\n",
    "- Models (lstm, wavenet) as (rnn, cnn) based line models\n",
    "\n",
    "Notice:\n",
    "- An option is an XAI model, e.g. async-zeros as asynchronous with zeros replacement for perturbation\n",
    "- An explanation is a averaging over 10 random instances"
   ],
   "cell_type": "markdown",
   "metadata": {}
  },
  {
   "cell_type": "code",
   "execution_count": 9,
   "metadata": {},
   "outputs": [],
   "source": [
    "# Explanations\n",
    "explanations = np.load('data/explanations.npy', allow_pickle=True)\n",
    "\n",
    "# Models\n",
    "wavenet = tf.keras.models.load_model(f\"{DATA_DIR}/wavenet_mts_128_1.h5\")\n",
    "lstm = tf.keras.models.load_model(f\"{DATA_DIR}/lstm_mts_128_1.h5\")"
   ]
  },
  {
   "cell_type": "code",
   "execution_count": 96,
   "metadata": {},
   "outputs": [],
   "source": [
    "# Functions to perturb test set\n",
    "def replacements(t, method='zeros'):    \n",
    "    if method == 'zeros':\n",
    "        # Calculate zeros replacements\n",
    "        r = np.zeros_like(t)\n",
    "    if method == 'mean':\n",
    "        # Calculate means replacements\n",
    "        m = t.mean(axis=1)\n",
    "        r = np.ones_like(t) * m.reshape(t.shape[0], -1)\n",
    "    \n",
    "    return r\n",
    "\n",
    "def mask_percentile(t, percentile=90, axis=1, interpolation='higher', random=False):\n",
    "    # Create a mask based on 90 percentile of x_coef\n",
    "    #   > 1 mean on , 0 means off (disabled)\n",
    "    perc = np.percentile(t, percentile, axis=axis, interpolation=interpolation)\n",
    "\n",
    "    # This is a mask for x based on 90 percentile of x_coef\n",
    "    if perc.ndim == 1: \n",
    "        perc = perc.reshape(t.shape[0], -1)\n",
    "\n",
    "    m = 1 - (t >= perc)\n",
    "    \n",
    "    # Random and ensure the same number of changed in percentile.\n",
    "    if random:\n",
    "        m = m.ravel()\n",
    "        np.random.shuffle(m)\n",
    "        m = m.reshape(t.shape)\n",
    "    return m\n",
    "\n",
    "def perturb(t, m=None, r=None):\n",
    "    if m is None:\n",
    "        m = np.ones_like(t)\n",
    "    if r is None:\n",
    "        r = replacements(t, 'zeros')\n",
    "    # new perturbed x \n",
    "    z = t * m + r * (1 - m)\n",
    "    return z\n",
    "\n",
    "def perturb_X(X, x_coef, method=\"zeros\", axis=1, percentile=90, random=False):\n",
    "    \"\"\" Perturb X based on coefficient or explanations.\n",
    "        param x_coef: if it is None, then randome used.\n",
    "        param axis: \n",
    "            - 1 : get percentile rowwise -> get 90 percentile per feature\n",
    "            - None: consider x_coef as an array -> get 90 percentile overall\n",
    "    \"\"\"\n",
    "    m = mask_percentile(x_coef, percentile, \n",
    "                        axis=axis, interpolation=\"higher\", random=random)\n",
    "\n",
    "    def _f(x):\n",
    "        r = replacements(x, method=method)\n",
    "        z = perturb(x, m, r)\n",
    "        return z\n",
    "\n",
    "    Z = [_f(x_i) for x_i in X]\n",
    "\n",
    "    return Z"
   ]
  },
  {
   "cell_type": "code",
   "execution_count": 97,
   "metadata": {},
   "outputs": [
    {
     "output_type": "display_data",
     "data": {
      "text/plain": "<Figure size 432x288 with 4 Axes>",
      "image/svg+xml": "<?xml version=\"1.0\" encoding=\"utf-8\" standalone=\"no\"?>\n<!DOCTYPE svg PUBLIC \"-//W3C//DTD SVG 1.1//EN\"\n  \"http://www.w3.org/Graphics/SVG/1.1/DTD/svg11.dtd\">\n<!-- Created with matplotlib (https://matplotlib.org/) -->\n<svg height=\"277.073625pt\" version=\"1.1\" viewBox=\"0 0 393.195938 277.073625\" width=\"393.195938pt\" xmlns=\"http://www.w3.org/2000/svg\" xmlns:xlink=\"http://www.w3.org/1999/xlink\">\n <metadata>\n  <rdf:RDF xmlns:cc=\"http://creativecommons.org/ns#\" xmlns:dc=\"http://purl.org/dc/elements/1.1/\" xmlns:rdf=\"http://www.w3.org/1999/02/22-rdf-syntax-ns#\">\n   <cc:Work>\n    <dc:type rdf:resource=\"http://purl.org/dc/dcmitype/StillImage\"/>\n    <dc:date>2021-02-23T16:06:16.103404</dc:date>\n    <dc:format>image/svg+xml</dc:format>\n    <dc:creator>\n     <cc:Agent>\n      <dc:title>Matplotlib v3.3.2, https://matplotlib.org/</dc:title>\n     </cc:Agent>\n    </dc:creator>\n   </cc:Work>\n  </rdf:RDF>\n </metadata>\n <defs>\n  <style type=\"text/css\">*{stroke-linecap:butt;stroke-linejoin:round;}</style>\n </defs>\n <g id=\"figure_1\">\n  <g id=\"patch_1\">\n   <path d=\"M 0 277.073625 \nL 393.195938 277.073625 \nL 393.195938 0 \nL 0 0 \nz\n\" style=\"fill:none;\"/>\n  </g>\n  <g id=\"axes_1\">\n   <g id=\"patch_2\">\n    <path d=\"M 30.103125 108.2355 \nL 141.703125 108.2355 \nL 141.703125 35.7555 \nL 30.103125 35.7555 \nz\n\" style=\"fill:#ffffff;\"/>\n   </g>\n   <g clip-path=\"url(#p4b7897696e)\">\n    <image height=\"73\" id=\"image2aad843c3b\" transform=\"scale(1 -1)translate(0 -73)\" width=\"112\" x=\"30.103125\" xlink:href=\"data:image/png;base64,\niVBORw0KGgoAAAANSUhEUgAAAHAAAABJCAYAAADllaIuAAADU0lEQVR4nO2cz2sTQRTHv7ObBKtpUqVYQkXbJqCHePHek+DFf8C/zf9DPCiiFw+eBEEoNrFGRFqrpr8kdTvzPBRv8zY4yU7nyfsc8/g+lnw6m9nZmRr7tUdQxJJd9AUos6EChaMChaMChaMChaMChaMChaMChaMChaMChaMChaMChaMChaMChaMChVO76AtQpnNKBVtTgQLYKiwcGW9NBQrg1cltWKhAsTzZ7YN0BMpla6cDMDuXVGDiWHK4/KHB1lWgANpDB6MjUC6twTFg/QZVYOI4ELLPe4BTgWJxP8Yga701FSgAshZwKlAsebsF6AiUSQYDWl2BIf0NFMtJtwXjH4AqUALjXg3G+WsqUABH3TMYXQuVSW4yrG7sc0uhKlAC9ztbbE0FCuDB4ju2pgIF0G+csjUVKIB2tsDWVKAAjt2EralAAbwvcramAgXw/KgPp5ua5PJs945uapKKJYedwQpbV4ECaA5rgK6FymVp28Lolgq5NAeHgL4PlIkDwXzZA6z/HqoCBeDGBzI2NVlifqlx/lolZs+yXEwc3Lk8CbfQ0dkvtrZeb0btWZaLScE8wP8lKYGvJ7e8n+dwWK//jNqTy8WmIH4ZDUhM4NPvd70HGTNDeLT4MmpPLheb8yU0/g8tKYFvRjcB35dmCFiL25PNRYbIYEOCQEsOZvuK/xycAeym++eJTGjP0lxkMgI7gQESEggArQG8x6hmGQihPblcdKZcQ1ICl7Yn3iUjysINhvbkcqmRjEAHQmO0719xyMOeAUN7luYugLOSWjICAcDtfgN5vjQTKHCWnlwuNdIS+LvwHqMiW/4sVEVPLpcaSQnMFi75j1HV69F7srmKcBN+41IZSQk0nev+CccMt9DQnlyuEojgPn4KiiYjMIPBZO2a9xQOBfoL7VmWq4qadIEAMO415v4cGNqTy1UCAcsvwqJJCTzszv9BPrQnl6sEApYDo8kIzE2Ghd5BaT1Wz2m5eeOcAYwpXTLjSEYgAGzeGHo/z2ZYlAztyeWqoHA5RoHZpAQ+vPoW1jO7yGeYTYT25HJVUFANj9ENyiYl8F5jv6Qa9kY+tGd5br4UwP8hsFMLk1RFzyquhaOg8AUD/afnwlGBwlGBwlGBwlGBwvkDJWhrjdCOLn4AAAAASUVORK5CYII=\" y=\"-35.2355\"/>\n   </g>\n   <g id=\"matplotlib.axis_1\">\n    <g id=\"xtick_1\">\n     <g id=\"line2d_1\">\n      <defs>\n       <path d=\"M 0 0 \nL 0 3.5 \n\" id=\"m89f39c766e\" style=\"stroke:#000000;stroke-width:0.8;\"/>\n      </defs>\n      <g>\n       <use style=\"stroke:#000000;stroke-width:0.8;\" x=\"30.539063\" xlink:href=\"#m89f39c766e\" y=\"108.2355\"/>\n      </g>\n     </g>\n     <g id=\"text_1\">\n      <!-- 0 -->\n      <g transform=\"translate(27.357813 122.833937)scale(0.1 -0.1)\">\n       <defs>\n        <path d=\"M 31.78125 66.40625 \nQ 24.171875 66.40625 20.328125 58.90625 \nQ 16.5 51.421875 16.5 36.375 \nQ 16.5 21.390625 20.328125 13.890625 \nQ 24.171875 6.390625 31.78125 6.390625 \nQ 39.453125 6.390625 43.28125 13.890625 \nQ 47.125 21.390625 47.125 36.375 \nQ 47.125 51.421875 43.28125 58.90625 \nQ 39.453125 66.40625 31.78125 66.40625 \nz\nM 31.78125 74.21875 \nQ 44.046875 74.21875 50.515625 64.515625 \nQ 56.984375 54.828125 56.984375 36.375 \nQ 56.984375 17.96875 50.515625 8.265625 \nQ 44.046875 -1.421875 31.78125 -1.421875 \nQ 19.53125 -1.421875 13.0625 8.265625 \nQ 6.59375 17.96875 6.59375 36.375 \nQ 6.59375 54.828125 13.0625 64.515625 \nQ 19.53125 74.21875 31.78125 74.21875 \nz\n\" id=\"DejaVuSans-48\"/>\n       </defs>\n       <use xlink:href=\"#DejaVuSans-48\"/>\n      </g>\n     </g>\n    </g>\n    <g id=\"xtick_2\">\n     <g id=\"line2d_2\">\n      <g>\n       <use style=\"stroke:#000000;stroke-width:0.8;\" x=\"74.132813\" xlink:href=\"#m89f39c766e\" y=\"108.2355\"/>\n      </g>\n     </g>\n     <g id=\"text_2\">\n      <!-- 50 -->\n      <g transform=\"translate(67.770313 122.833937)scale(0.1 -0.1)\">\n       <defs>\n        <path d=\"M 10.796875 72.90625 \nL 49.515625 72.90625 \nL 49.515625 64.59375 \nL 19.828125 64.59375 \nL 19.828125 46.734375 \nQ 21.96875 47.46875 24.109375 47.828125 \nQ 26.265625 48.1875 28.421875 48.1875 \nQ 40.625 48.1875 47.75 41.5 \nQ 54.890625 34.8125 54.890625 23.390625 \nQ 54.890625 11.625 47.5625 5.09375 \nQ 40.234375 -1.421875 26.90625 -1.421875 \nQ 22.3125 -1.421875 17.546875 -0.640625 \nQ 12.796875 0.140625 7.71875 1.703125 \nL 7.71875 11.625 \nQ 12.109375 9.234375 16.796875 8.0625 \nQ 21.484375 6.890625 26.703125 6.890625 \nQ 35.15625 6.890625 40.078125 11.328125 \nQ 45.015625 15.765625 45.015625 23.390625 \nQ 45.015625 31 40.078125 35.4375 \nQ 35.15625 39.890625 26.703125 39.890625 \nQ 22.75 39.890625 18.8125 39.015625 \nQ 14.890625 38.140625 10.796875 36.28125 \nz\n\" id=\"DejaVuSans-53\"/>\n       </defs>\n       <use xlink:href=\"#DejaVuSans-53\"/>\n       <use x=\"63.623047\" xlink:href=\"#DejaVuSans-48\"/>\n      </g>\n     </g>\n    </g>\n    <g id=\"xtick_3\">\n     <g id=\"line2d_3\">\n      <g>\n       <use style=\"stroke:#000000;stroke-width:0.8;\" x=\"117.726563\" xlink:href=\"#m89f39c766e\" y=\"108.2355\"/>\n      </g>\n     </g>\n     <g id=\"text_3\">\n      <!-- 100 -->\n      <g transform=\"translate(108.182813 122.833937)scale(0.1 -0.1)\">\n       <defs>\n        <path d=\"M 12.40625 8.296875 \nL 28.515625 8.296875 \nL 28.515625 63.921875 \nL 10.984375 60.40625 \nL 10.984375 69.390625 \nL 28.421875 72.90625 \nL 38.28125 72.90625 \nL 38.28125 8.296875 \nL 54.390625 8.296875 \nL 54.390625 0 \nL 12.40625 0 \nz\n\" id=\"DejaVuSans-49\"/>\n       </defs>\n       <use xlink:href=\"#DejaVuSans-49\"/>\n       <use x=\"63.623047\" xlink:href=\"#DejaVuSans-48\"/>\n       <use x=\"127.246094\" xlink:href=\"#DejaVuSans-48\"/>\n      </g>\n     </g>\n    </g>\n   </g>\n   <g id=\"matplotlib.axis_2\">\n    <g id=\"ytick_1\">\n     <g id=\"line2d_4\">\n      <defs>\n       <path d=\"M 0 0 \nL -3.5 0 \n\" id=\"m1e93914d12\" style=\"stroke:#000000;stroke-width:0.8;\"/>\n      </defs>\n      <g>\n       <use style=\"stroke:#000000;stroke-width:0.8;\" x=\"30.103125\" xlink:href=\"#m1e93914d12\" y=\"40.932643\"/>\n      </g>\n     </g>\n     <g id=\"text_4\">\n      <!-- 0.0 -->\n      <g transform=\"translate(7.2 44.731862)scale(0.1 -0.1)\">\n       <defs>\n        <path d=\"M 10.6875 12.40625 \nL 21 12.40625 \nL 21 0 \nL 10.6875 0 \nz\n\" id=\"DejaVuSans-46\"/>\n       </defs>\n       <use xlink:href=\"#DejaVuSans-48\"/>\n       <use x=\"63.623047\" xlink:href=\"#DejaVuSans-46\"/>\n       <use x=\"95.410156\" xlink:href=\"#DejaVuSans-48\"/>\n      </g>\n     </g>\n    </g>\n    <g id=\"ytick_2\">\n     <g id=\"line2d_5\">\n      <g>\n       <use style=\"stroke:#000000;stroke-width:0.8;\" x=\"30.103125\" xlink:href=\"#m1e93914d12\" y=\"66.818357\"/>\n      </g>\n     </g>\n     <g id=\"text_5\">\n      <!-- 2.5 -->\n      <g transform=\"translate(7.2 70.617576)scale(0.1 -0.1)\">\n       <defs>\n        <path d=\"M 19.1875 8.296875 \nL 53.609375 8.296875 \nL 53.609375 0 \nL 7.328125 0 \nL 7.328125 8.296875 \nQ 12.9375 14.109375 22.625 23.890625 \nQ 32.328125 33.6875 34.8125 36.53125 \nQ 39.546875 41.84375 41.421875 45.53125 \nQ 43.3125 49.21875 43.3125 52.78125 \nQ 43.3125 58.59375 39.234375 62.25 \nQ 35.15625 65.921875 28.609375 65.921875 \nQ 23.96875 65.921875 18.8125 64.3125 \nQ 13.671875 62.703125 7.8125 59.421875 \nL 7.8125 69.390625 \nQ 13.765625 71.78125 18.9375 73 \nQ 24.125 74.21875 28.421875 74.21875 \nQ 39.75 74.21875 46.484375 68.546875 \nQ 53.21875 62.890625 53.21875 53.421875 \nQ 53.21875 48.921875 51.53125 44.890625 \nQ 49.859375 40.875 45.40625 35.40625 \nQ 44.1875 33.984375 37.640625 27.21875 \nQ 31.109375 20.453125 19.1875 8.296875 \nz\n\" id=\"DejaVuSans-50\"/>\n       </defs>\n       <use xlink:href=\"#DejaVuSans-50\"/>\n       <use x=\"63.623047\" xlink:href=\"#DejaVuSans-46\"/>\n       <use x=\"95.410156\" xlink:href=\"#DejaVuSans-53\"/>\n      </g>\n     </g>\n    </g>\n    <g id=\"ytick_3\">\n     <g id=\"line2d_6\">\n      <g>\n       <use style=\"stroke:#000000;stroke-width:0.8;\" x=\"30.103125\" xlink:href=\"#m1e93914d12\" y=\"92.704071\"/>\n      </g>\n     </g>\n     <g id=\"text_6\">\n      <!-- 5.0 -->\n      <g transform=\"translate(7.2 96.50329)scale(0.1 -0.1)\">\n       <use xlink:href=\"#DejaVuSans-53\"/>\n       <use x=\"63.623047\" xlink:href=\"#DejaVuSans-46\"/>\n       <use x=\"95.410156\" xlink:href=\"#DejaVuSans-48\"/>\n      </g>\n     </g>\n    </g>\n   </g>\n   <g id=\"patch_3\">\n    <path d=\"M 30.103125 108.2355 \nL 30.103125 35.7555 \n\" style=\"fill:none;stroke:#000000;stroke-linecap:square;stroke-linejoin:miter;stroke-width:0.8;\"/>\n   </g>\n   <g id=\"patch_4\">\n    <path d=\"M 141.703125 108.2355 \nL 141.703125 35.7555 \n\" style=\"fill:none;stroke:#000000;stroke-linecap:square;stroke-linejoin:miter;stroke-width:0.8;\"/>\n   </g>\n   <g id=\"patch_5\">\n    <path d=\"M 30.103125 108.2355 \nL 141.703125 108.2355 \n\" style=\"fill:none;stroke:#000000;stroke-linecap:square;stroke-linejoin:miter;stroke-width:0.8;\"/>\n   </g>\n   <g id=\"patch_6\">\n    <path d=\"M 30.103125 35.7555 \nL 141.703125 35.7555 \n\" style=\"fill:none;stroke:#000000;stroke-linecap:square;stroke-linejoin:miter;stroke-width:0.8;\"/>\n   </g>\n   <g id=\"text_7\">\n    <!-- overall 90 percentile -->\n    <g transform=\"translate(24.059063 16.318125)scale(0.12 -0.12)\">\n     <defs>\n      <path d=\"M 30.609375 48.390625 \nQ 23.390625 48.390625 19.1875 42.75 \nQ 14.984375 37.109375 14.984375 27.296875 \nQ 14.984375 17.484375 19.15625 11.84375 \nQ 23.34375 6.203125 30.609375 6.203125 \nQ 37.796875 6.203125 41.984375 11.859375 \nQ 46.1875 17.53125 46.1875 27.296875 \nQ 46.1875 37.015625 41.984375 42.703125 \nQ 37.796875 48.390625 30.609375 48.390625 \nz\nM 30.609375 56 \nQ 42.328125 56 49.015625 48.375 \nQ 55.71875 40.765625 55.71875 27.296875 \nQ 55.71875 13.875 49.015625 6.21875 \nQ 42.328125 -1.421875 30.609375 -1.421875 \nQ 18.84375 -1.421875 12.171875 6.21875 \nQ 5.515625 13.875 5.515625 27.296875 \nQ 5.515625 40.765625 12.171875 48.375 \nQ 18.84375 56 30.609375 56 \nz\n\" id=\"DejaVuSans-111\"/>\n      <path d=\"M 2.984375 54.6875 \nL 12.5 54.6875 \nL 29.59375 8.796875 \nL 46.6875 54.6875 \nL 56.203125 54.6875 \nL 35.6875 0 \nL 23.484375 0 \nz\n\" id=\"DejaVuSans-118\"/>\n      <path d=\"M 56.203125 29.59375 \nL 56.203125 25.203125 \nL 14.890625 25.203125 \nQ 15.484375 15.921875 20.484375 11.0625 \nQ 25.484375 6.203125 34.421875 6.203125 \nQ 39.59375 6.203125 44.453125 7.46875 \nQ 49.3125 8.734375 54.109375 11.28125 \nL 54.109375 2.78125 \nQ 49.265625 0.734375 44.1875 -0.34375 \nQ 39.109375 -1.421875 33.890625 -1.421875 \nQ 20.796875 -1.421875 13.15625 6.1875 \nQ 5.515625 13.8125 5.515625 26.8125 \nQ 5.515625 40.234375 12.765625 48.109375 \nQ 20.015625 56 32.328125 56 \nQ 43.359375 56 49.78125 48.890625 \nQ 56.203125 41.796875 56.203125 29.59375 \nz\nM 47.21875 32.234375 \nQ 47.125 39.59375 43.09375 43.984375 \nQ 39.0625 48.390625 32.421875 48.390625 \nQ 24.90625 48.390625 20.390625 44.140625 \nQ 15.875 39.890625 15.1875 32.171875 \nz\n\" id=\"DejaVuSans-101\"/>\n      <path d=\"M 41.109375 46.296875 \nQ 39.59375 47.171875 37.8125 47.578125 \nQ 36.03125 48 33.890625 48 \nQ 26.265625 48 22.1875 43.046875 \nQ 18.109375 38.09375 18.109375 28.8125 \nL 18.109375 0 \nL 9.078125 0 \nL 9.078125 54.6875 \nL 18.109375 54.6875 \nL 18.109375 46.1875 \nQ 20.953125 51.171875 25.484375 53.578125 \nQ 30.03125 56 36.53125 56 \nQ 37.453125 56 38.578125 55.875 \nQ 39.703125 55.765625 41.0625 55.515625 \nz\n\" id=\"DejaVuSans-114\"/>\n      <path d=\"M 34.28125 27.484375 \nQ 23.390625 27.484375 19.1875 25 \nQ 14.984375 22.515625 14.984375 16.5 \nQ 14.984375 11.71875 18.140625 8.90625 \nQ 21.296875 6.109375 26.703125 6.109375 \nQ 34.1875 6.109375 38.703125 11.40625 \nQ 43.21875 16.703125 43.21875 25.484375 \nL 43.21875 27.484375 \nz\nM 52.203125 31.203125 \nL 52.203125 0 \nL 43.21875 0 \nL 43.21875 8.296875 \nQ 40.140625 3.328125 35.546875 0.953125 \nQ 30.953125 -1.421875 24.3125 -1.421875 \nQ 15.921875 -1.421875 10.953125 3.296875 \nQ 6 8.015625 6 15.921875 \nQ 6 25.140625 12.171875 29.828125 \nQ 18.359375 34.515625 30.609375 34.515625 \nL 43.21875 34.515625 \nL 43.21875 35.40625 \nQ 43.21875 41.609375 39.140625 45 \nQ 35.0625 48.390625 27.6875 48.390625 \nQ 23 48.390625 18.546875 47.265625 \nQ 14.109375 46.140625 10.015625 43.890625 \nL 10.015625 52.203125 \nQ 14.9375 54.109375 19.578125 55.046875 \nQ 24.21875 56 28.609375 56 \nQ 40.484375 56 46.34375 49.84375 \nQ 52.203125 43.703125 52.203125 31.203125 \nz\n\" id=\"DejaVuSans-97\"/>\n      <path d=\"M 9.421875 75.984375 \nL 18.40625 75.984375 \nL 18.40625 0 \nL 9.421875 0 \nz\n\" id=\"DejaVuSans-108\"/>\n      <path id=\"DejaVuSans-32\"/>\n      <path d=\"M 10.984375 1.515625 \nL 10.984375 10.5 \nQ 14.703125 8.734375 18.5 7.8125 \nQ 22.3125 6.890625 25.984375 6.890625 \nQ 35.75 6.890625 40.890625 13.453125 \nQ 46.046875 20.015625 46.78125 33.40625 \nQ 43.953125 29.203125 39.59375 26.953125 \nQ 35.25 24.703125 29.984375 24.703125 \nQ 19.046875 24.703125 12.671875 31.3125 \nQ 6.296875 37.9375 6.296875 49.421875 \nQ 6.296875 60.640625 12.9375 67.421875 \nQ 19.578125 74.21875 30.609375 74.21875 \nQ 43.265625 74.21875 49.921875 64.515625 \nQ 56.59375 54.828125 56.59375 36.375 \nQ 56.59375 19.140625 48.40625 8.859375 \nQ 40.234375 -1.421875 26.421875 -1.421875 \nQ 22.703125 -1.421875 18.890625 -0.6875 \nQ 15.09375 0.046875 10.984375 1.515625 \nz\nM 30.609375 32.421875 \nQ 37.25 32.421875 41.125 36.953125 \nQ 45.015625 41.5 45.015625 49.421875 \nQ 45.015625 57.28125 41.125 61.84375 \nQ 37.25 66.40625 30.609375 66.40625 \nQ 23.96875 66.40625 20.09375 61.84375 \nQ 16.21875 57.28125 16.21875 49.421875 \nQ 16.21875 41.5 20.09375 36.953125 \nQ 23.96875 32.421875 30.609375 32.421875 \nz\n\" id=\"DejaVuSans-57\"/>\n      <path d=\"M 18.109375 8.203125 \nL 18.109375 -20.796875 \nL 9.078125 -20.796875 \nL 9.078125 54.6875 \nL 18.109375 54.6875 \nL 18.109375 46.390625 \nQ 20.953125 51.265625 25.265625 53.625 \nQ 29.59375 56 35.59375 56 \nQ 45.5625 56 51.78125 48.09375 \nQ 58.015625 40.1875 58.015625 27.296875 \nQ 58.015625 14.40625 51.78125 6.484375 \nQ 45.5625 -1.421875 35.59375 -1.421875 \nQ 29.59375 -1.421875 25.265625 0.953125 \nQ 20.953125 3.328125 18.109375 8.203125 \nz\nM 48.6875 27.296875 \nQ 48.6875 37.203125 44.609375 42.84375 \nQ 40.53125 48.484375 33.40625 48.484375 \nQ 26.265625 48.484375 22.1875 42.84375 \nQ 18.109375 37.203125 18.109375 27.296875 \nQ 18.109375 17.390625 22.1875 11.75 \nQ 26.265625 6.109375 33.40625 6.109375 \nQ 40.53125 6.109375 44.609375 11.75 \nQ 48.6875 17.390625 48.6875 27.296875 \nz\n\" id=\"DejaVuSans-112\"/>\n      <path d=\"M 48.78125 52.59375 \nL 48.78125 44.1875 \nQ 44.96875 46.296875 41.140625 47.34375 \nQ 37.3125 48.390625 33.40625 48.390625 \nQ 24.65625 48.390625 19.8125 42.84375 \nQ 14.984375 37.3125 14.984375 27.296875 \nQ 14.984375 17.28125 19.8125 11.734375 \nQ 24.65625 6.203125 33.40625 6.203125 \nQ 37.3125 6.203125 41.140625 7.25 \nQ 44.96875 8.296875 48.78125 10.40625 \nL 48.78125 2.09375 \nQ 45.015625 0.34375 40.984375 -0.53125 \nQ 36.96875 -1.421875 32.421875 -1.421875 \nQ 20.0625 -1.421875 12.78125 6.34375 \nQ 5.515625 14.109375 5.515625 27.296875 \nQ 5.515625 40.671875 12.859375 48.328125 \nQ 20.21875 56 33.015625 56 \nQ 37.15625 56 41.109375 55.140625 \nQ 45.0625 54.296875 48.78125 52.59375 \nz\n\" id=\"DejaVuSans-99\"/>\n      <path d=\"M 54.890625 33.015625 \nL 54.890625 0 \nL 45.90625 0 \nL 45.90625 32.71875 \nQ 45.90625 40.484375 42.875 44.328125 \nQ 39.84375 48.1875 33.796875 48.1875 \nQ 26.515625 48.1875 22.3125 43.546875 \nQ 18.109375 38.921875 18.109375 30.90625 \nL 18.109375 0 \nL 9.078125 0 \nL 9.078125 54.6875 \nL 18.109375 54.6875 \nL 18.109375 46.1875 \nQ 21.34375 51.125 25.703125 53.5625 \nQ 30.078125 56 35.796875 56 \nQ 45.21875 56 50.046875 50.171875 \nQ 54.890625 44.34375 54.890625 33.015625 \nz\n\" id=\"DejaVuSans-110\"/>\n      <path d=\"M 18.3125 70.21875 \nL 18.3125 54.6875 \nL 36.8125 54.6875 \nL 36.8125 47.703125 \nL 18.3125 47.703125 \nL 18.3125 18.015625 \nQ 18.3125 11.328125 20.140625 9.421875 \nQ 21.96875 7.515625 27.59375 7.515625 \nL 36.8125 7.515625 \nL 36.8125 0 \nL 27.59375 0 \nQ 17.1875 0 13.234375 3.875 \nQ 9.28125 7.765625 9.28125 18.015625 \nL 9.28125 47.703125 \nL 2.6875 47.703125 \nL 2.6875 54.6875 \nL 9.28125 54.6875 \nL 9.28125 70.21875 \nz\n\" id=\"DejaVuSans-116\"/>\n      <path d=\"M 9.421875 54.6875 \nL 18.40625 54.6875 \nL 18.40625 0 \nL 9.421875 0 \nz\nM 9.421875 75.984375 \nL 18.40625 75.984375 \nL 18.40625 64.59375 \nL 9.421875 64.59375 \nz\n\" id=\"DejaVuSans-105\"/>\n     </defs>\n     <use xlink:href=\"#DejaVuSans-111\"/>\n     <use x=\"61.181641\" xlink:href=\"#DejaVuSans-118\"/>\n     <use x=\"120.361328\" xlink:href=\"#DejaVuSans-101\"/>\n     <use x=\"181.884766\" xlink:href=\"#DejaVuSans-114\"/>\n     <use x=\"222.998047\" xlink:href=\"#DejaVuSans-97\"/>\n     <use x=\"284.277344\" xlink:href=\"#DejaVuSans-108\"/>\n     <use x=\"312.060547\" xlink:href=\"#DejaVuSans-108\"/>\n     <use x=\"339.84375\" xlink:href=\"#DejaVuSans-32\"/>\n     <use x=\"371.630859\" xlink:href=\"#DejaVuSans-57\"/>\n     <use x=\"435.253906\" xlink:href=\"#DejaVuSans-48\"/>\n     <use x=\"498.876953\" xlink:href=\"#DejaVuSans-32\"/>\n     <use x=\"530.664062\" xlink:href=\"#DejaVuSans-112\"/>\n     <use x=\"594.140625\" xlink:href=\"#DejaVuSans-101\"/>\n     <use x=\"655.664062\" xlink:href=\"#DejaVuSans-114\"/>\n     <use x=\"694.527344\" xlink:href=\"#DejaVuSans-99\"/>\n     <use x=\"749.507812\" xlink:href=\"#DejaVuSans-101\"/>\n     <use x=\"811.03125\" xlink:href=\"#DejaVuSans-110\"/>\n     <use x=\"874.410156\" xlink:href=\"#DejaVuSans-116\"/>\n     <use x=\"913.619141\" xlink:href=\"#DejaVuSans-105\"/>\n     <use x=\"941.402344\" xlink:href=\"#DejaVuSans-108\"/>\n     <use x=\"969.185547\" xlink:href=\"#DejaVuSans-101\"/>\n    </g>\n    <!--  -->\n    <g transform=\"translate(85.903125 29.7555)scale(0.12 -0.12)\"/>\n   </g>\n  </g>\n  <g id=\"axes_2\">\n   <g id=\"patch_7\">\n    <path d=\"M 253.303125 108.2355 \nL 364.903125 108.2355 \nL 364.903125 35.7555 \nL 253.303125 35.7555 \nz\n\" style=\"fill:#ffffff;\"/>\n   </g>\n   <g clip-path=\"url(#pbc371b2b5f)\">\n    <image height=\"73\" id=\"image34db58cff9\" transform=\"scale(1 -1)translate(0 -73)\" width=\"112\" x=\"253.303125\" xlink:href=\"data:image/png;base64,\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\" y=\"-35.2355\"/>\n   </g>\n   <g id=\"matplotlib.axis_3\">\n    <g id=\"xtick_4\">\n     <g id=\"line2d_7\">\n      <g>\n       <use style=\"stroke:#000000;stroke-width:0.8;\" x=\"253.739063\" xlink:href=\"#m89f39c766e\" y=\"108.2355\"/>\n      </g>\n     </g>\n     <g id=\"text_8\">\n      <!-- 0 -->\n      <g transform=\"translate(250.557813 122.833937)scale(0.1 -0.1)\">\n       <use xlink:href=\"#DejaVuSans-48\"/>\n      </g>\n     </g>\n    </g>\n    <g id=\"xtick_5\">\n     <g id=\"line2d_8\">\n      <g>\n       <use style=\"stroke:#000000;stroke-width:0.8;\" x=\"297.332813\" xlink:href=\"#m89f39c766e\" y=\"108.2355\"/>\n      </g>\n     </g>\n     <g id=\"text_9\">\n      <!-- 50 -->\n      <g transform=\"translate(290.970313 122.833937)scale(0.1 -0.1)\">\n       <use xlink:href=\"#DejaVuSans-53\"/>\n       <use x=\"63.623047\" xlink:href=\"#DejaVuSans-48\"/>\n      </g>\n     </g>\n    </g>\n    <g id=\"xtick_6\">\n     <g id=\"line2d_9\">\n      <g>\n       <use style=\"stroke:#000000;stroke-width:0.8;\" x=\"340.926563\" xlink:href=\"#m89f39c766e\" y=\"108.2355\"/>\n      </g>\n     </g>\n     <g id=\"text_10\">\n      <!-- 100 -->\n      <g transform=\"translate(331.382813 122.833937)scale(0.1 -0.1)\">\n       <use xlink:href=\"#DejaVuSans-49\"/>\n       <use x=\"63.623047\" xlink:href=\"#DejaVuSans-48\"/>\n       <use x=\"127.246094\" xlink:href=\"#DejaVuSans-48\"/>\n      </g>\n     </g>\n    </g>\n   </g>\n   <g id=\"matplotlib.axis_4\">\n    <g id=\"ytick_4\">\n     <g id=\"line2d_10\">\n      <g>\n       <use style=\"stroke:#000000;stroke-width:0.8;\" x=\"253.303125\" xlink:href=\"#m1e93914d12\" y=\"40.932643\"/>\n      </g>\n     </g>\n     <g id=\"text_11\">\n      <!-- 0.0 -->\n      <g transform=\"translate(230.4 44.731862)scale(0.1 -0.1)\">\n       <use xlink:href=\"#DejaVuSans-48\"/>\n       <use x=\"63.623047\" xlink:href=\"#DejaVuSans-46\"/>\n       <use x=\"95.410156\" xlink:href=\"#DejaVuSans-48\"/>\n      </g>\n     </g>\n    </g>\n    <g id=\"ytick_5\">\n     <g id=\"line2d_11\">\n      <g>\n       <use style=\"stroke:#000000;stroke-width:0.8;\" x=\"253.303125\" xlink:href=\"#m1e93914d12\" y=\"66.818357\"/>\n      </g>\n     </g>\n     <g id=\"text_12\">\n      <!-- 2.5 -->\n      <g transform=\"translate(230.4 70.617576)scale(0.1 -0.1)\">\n       <use xlink:href=\"#DejaVuSans-50\"/>\n       <use x=\"63.623047\" xlink:href=\"#DejaVuSans-46\"/>\n       <use x=\"95.410156\" xlink:href=\"#DejaVuSans-53\"/>\n      </g>\n     </g>\n    </g>\n    <g id=\"ytick_6\">\n     <g id=\"line2d_12\">\n      <g>\n       <use style=\"stroke:#000000;stroke-width:0.8;\" x=\"253.303125\" xlink:href=\"#m1e93914d12\" y=\"92.704071\"/>\n      </g>\n     </g>\n     <g id=\"text_13\">\n      <!-- 5.0 -->\n      <g transform=\"translate(230.4 96.50329)scale(0.1 -0.1)\">\n       <use xlink:href=\"#DejaVuSans-53\"/>\n       <use x=\"63.623047\" xlink:href=\"#DejaVuSans-46\"/>\n       <use x=\"95.410156\" xlink:href=\"#DejaVuSans-48\"/>\n      </g>\n     </g>\n    </g>\n   </g>\n   <g id=\"patch_8\">\n    <path d=\"M 253.303125 108.2355 \nL 253.303125 35.7555 \n\" style=\"fill:none;stroke:#000000;stroke-linecap:square;stroke-linejoin:miter;stroke-width:0.8;\"/>\n   </g>\n   <g id=\"patch_9\">\n    <path d=\"M 364.903125 108.2355 \nL 364.903125 35.7555 \n\" style=\"fill:none;stroke:#000000;stroke-linecap:square;stroke-linejoin:miter;stroke-width:0.8;\"/>\n   </g>\n   <g id=\"patch_10\">\n    <path d=\"M 253.303125 108.2355 \nL 364.903125 108.2355 \n\" style=\"fill:none;stroke:#000000;stroke-linecap:square;stroke-linejoin:miter;stroke-width:0.8;\"/>\n   </g>\n   <g id=\"patch_11\">\n    <path d=\"M 253.303125 35.7555 \nL 364.903125 35.7555 \n\" style=\"fill:none;stroke:#000000;stroke-linecap:square;stroke-linejoin:miter;stroke-width:0.8;\"/>\n   </g>\n   <g id=\"text_14\">\n    <!-- overall 90 percentile  -->\n    <g transform=\"translate(245.352188 16.318125)scale(0.12 -0.12)\">\n     <use xlink:href=\"#DejaVuSans-111\"/>\n     <use x=\"61.181641\" xlink:href=\"#DejaVuSans-118\"/>\n     <use x=\"120.361328\" xlink:href=\"#DejaVuSans-101\"/>\n     <use x=\"181.884766\" xlink:href=\"#DejaVuSans-114\"/>\n     <use x=\"222.998047\" xlink:href=\"#DejaVuSans-97\"/>\n     <use x=\"284.277344\" xlink:href=\"#DejaVuSans-108\"/>\n     <use x=\"312.060547\" xlink:href=\"#DejaVuSans-108\"/>\n     <use x=\"339.84375\" xlink:href=\"#DejaVuSans-32\"/>\n     <use x=\"371.630859\" xlink:href=\"#DejaVuSans-57\"/>\n     <use x=\"435.253906\" xlink:href=\"#DejaVuSans-48\"/>\n     <use x=\"498.876953\" xlink:href=\"#DejaVuSans-32\"/>\n     <use x=\"530.664062\" xlink:href=\"#DejaVuSans-112\"/>\n     <use x=\"594.140625\" xlink:href=\"#DejaVuSans-101\"/>\n     <use x=\"655.664062\" xlink:href=\"#DejaVuSans-114\"/>\n     <use x=\"694.527344\" xlink:href=\"#DejaVuSans-99\"/>\n     <use x=\"749.507812\" xlink:href=\"#DejaVuSans-101\"/>\n     <use x=\"811.03125\" xlink:href=\"#DejaVuSans-110\"/>\n     <use x=\"874.410156\" xlink:href=\"#DejaVuSans-116\"/>\n     <use x=\"913.619141\" xlink:href=\"#DejaVuSans-105\"/>\n     <use x=\"941.402344\" xlink:href=\"#DejaVuSans-108\"/>\n     <use x=\"969.185547\" xlink:href=\"#DejaVuSans-101\"/>\n     <use x=\"1030.708984\" xlink:href=\"#DejaVuSans-32\"/>\n    </g>\n    <!-- with random -->\n    <g transform=\"translate(271.197188 29.7555)scale(0.12 -0.12)\">\n     <defs>\n      <path d=\"M 4.203125 54.6875 \nL 13.1875 54.6875 \nL 24.421875 12.015625 \nL 35.59375 54.6875 \nL 46.1875 54.6875 \nL 57.421875 12.015625 \nL 68.609375 54.6875 \nL 77.59375 54.6875 \nL 63.28125 0 \nL 52.6875 0 \nL 40.921875 44.828125 \nL 29.109375 0 \nL 18.5 0 \nz\n\" id=\"DejaVuSans-119\"/>\n      <path d=\"M 54.890625 33.015625 \nL 54.890625 0 \nL 45.90625 0 \nL 45.90625 32.71875 \nQ 45.90625 40.484375 42.875 44.328125 \nQ 39.84375 48.1875 33.796875 48.1875 \nQ 26.515625 48.1875 22.3125 43.546875 \nQ 18.109375 38.921875 18.109375 30.90625 \nL 18.109375 0 \nL 9.078125 0 \nL 9.078125 75.984375 \nL 18.109375 75.984375 \nL 18.109375 46.1875 \nQ 21.34375 51.125 25.703125 53.5625 \nQ 30.078125 56 35.796875 56 \nQ 45.21875 56 50.046875 50.171875 \nQ 54.890625 44.34375 54.890625 33.015625 \nz\n\" id=\"DejaVuSans-104\"/>\n      <path d=\"M 45.40625 46.390625 \nL 45.40625 75.984375 \nL 54.390625 75.984375 \nL 54.390625 0 \nL 45.40625 0 \nL 45.40625 8.203125 \nQ 42.578125 3.328125 38.25 0.953125 \nQ 33.9375 -1.421875 27.875 -1.421875 \nQ 17.96875 -1.421875 11.734375 6.484375 \nQ 5.515625 14.40625 5.515625 27.296875 \nQ 5.515625 40.1875 11.734375 48.09375 \nQ 17.96875 56 27.875 56 \nQ 33.9375 56 38.25 53.625 \nQ 42.578125 51.265625 45.40625 46.390625 \nz\nM 14.796875 27.296875 \nQ 14.796875 17.390625 18.875 11.75 \nQ 22.953125 6.109375 30.078125 6.109375 \nQ 37.203125 6.109375 41.296875 11.75 \nQ 45.40625 17.390625 45.40625 27.296875 \nQ 45.40625 37.203125 41.296875 42.84375 \nQ 37.203125 48.484375 30.078125 48.484375 \nQ 22.953125 48.484375 18.875 42.84375 \nQ 14.796875 37.203125 14.796875 27.296875 \nz\n\" id=\"DejaVuSans-100\"/>\n      <path d=\"M 52 44.1875 \nQ 55.375 50.25 60.0625 53.125 \nQ 64.75 56 71.09375 56 \nQ 79.640625 56 84.28125 50.015625 \nQ 88.921875 44.046875 88.921875 33.015625 \nL 88.921875 0 \nL 79.890625 0 \nL 79.890625 32.71875 \nQ 79.890625 40.578125 77.09375 44.375 \nQ 74.3125 48.1875 68.609375 48.1875 \nQ 61.625 48.1875 57.5625 43.546875 \nQ 53.515625 38.921875 53.515625 30.90625 \nL 53.515625 0 \nL 44.484375 0 \nL 44.484375 32.71875 \nQ 44.484375 40.625 41.703125 44.40625 \nQ 38.921875 48.1875 33.109375 48.1875 \nQ 26.21875 48.1875 22.15625 43.53125 \nQ 18.109375 38.875 18.109375 30.90625 \nL 18.109375 0 \nL 9.078125 0 \nL 9.078125 54.6875 \nL 18.109375 54.6875 \nL 18.109375 46.1875 \nQ 21.1875 51.21875 25.484375 53.609375 \nQ 29.78125 56 35.6875 56 \nQ 41.65625 56 45.828125 52.96875 \nQ 50 49.953125 52 44.1875 \nz\n\" id=\"DejaVuSans-109\"/>\n     </defs>\n     <use xlink:href=\"#DejaVuSans-119\"/>\n     <use x=\"81.787109\" xlink:href=\"#DejaVuSans-105\"/>\n     <use x=\"109.570312\" xlink:href=\"#DejaVuSans-116\"/>\n     <use x=\"148.779297\" xlink:href=\"#DejaVuSans-104\"/>\n     <use x=\"212.158203\" xlink:href=\"#DejaVuSans-32\"/>\n     <use x=\"243.945312\" xlink:href=\"#DejaVuSans-114\"/>\n     <use x=\"285.058594\" xlink:href=\"#DejaVuSans-97\"/>\n     <use x=\"346.337891\" xlink:href=\"#DejaVuSans-110\"/>\n     <use x=\"409.716797\" xlink:href=\"#DejaVuSans-100\"/>\n     <use x=\"473.193359\" xlink:href=\"#DejaVuSans-111\"/>\n     <use x=\"534.375\" xlink:href=\"#DejaVuSans-109\"/>\n    </g>\n   </g>\n  </g>\n  <g id=\"axes_3\">\n   <g id=\"patch_12\">\n    <path d=\"M 30.103125 253.1955 \nL 141.703125 253.1955 \nL 141.703125 180.7155 \nL 30.103125 180.7155 \nz\n\" style=\"fill:#ffffff;\"/>\n   </g>\n   <g clip-path=\"url(#pddb6510ee5)\">\n    <image height=\"73\" id=\"imagefcdc9d2adb\" transform=\"scale(1 -1)translate(0 -73)\" width=\"112\" x=\"30.103125\" xlink:href=\"data:image/png;base64,\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\" y=\"-180.1955\"/>\n   </g>\n   <g id=\"matplotlib.axis_5\">\n    <g id=\"xtick_7\">\n     <g id=\"line2d_13\">\n      <g>\n       <use style=\"stroke:#000000;stroke-width:0.8;\" x=\"30.539063\" xlink:href=\"#m89f39c766e\" y=\"253.1955\"/>\n      </g>\n     </g>\n     <g id=\"text_15\">\n      <!-- 0 -->\n      <g transform=\"translate(27.357813 267.793937)scale(0.1 -0.1)\">\n       <use xlink:href=\"#DejaVuSans-48\"/>\n      </g>\n     </g>\n    </g>\n    <g id=\"xtick_8\">\n     <g id=\"line2d_14\">\n      <g>\n       <use style=\"stroke:#000000;stroke-width:0.8;\" x=\"74.132813\" xlink:href=\"#m89f39c766e\" y=\"253.1955\"/>\n      </g>\n     </g>\n     <g id=\"text_16\">\n      <!-- 50 -->\n      <g transform=\"translate(67.770313 267.793937)scale(0.1 -0.1)\">\n       <use xlink:href=\"#DejaVuSans-53\"/>\n       <use x=\"63.623047\" xlink:href=\"#DejaVuSans-48\"/>\n      </g>\n     </g>\n    </g>\n    <g id=\"xtick_9\">\n     <g id=\"line2d_15\">\n      <g>\n       <use style=\"stroke:#000000;stroke-width:0.8;\" x=\"117.726563\" xlink:href=\"#m89f39c766e\" y=\"253.1955\"/>\n      </g>\n     </g>\n     <g id=\"text_17\">\n      <!-- 100 -->\n      <g transform=\"translate(108.182813 267.793937)scale(0.1 -0.1)\">\n       <use xlink:href=\"#DejaVuSans-49\"/>\n       <use x=\"63.623047\" xlink:href=\"#DejaVuSans-48\"/>\n       <use x=\"127.246094\" xlink:href=\"#DejaVuSans-48\"/>\n      </g>\n     </g>\n    </g>\n   </g>\n   <g id=\"matplotlib.axis_6\">\n    <g id=\"ytick_7\">\n     <g id=\"line2d_16\">\n      <g>\n       <use style=\"stroke:#000000;stroke-width:0.8;\" x=\"30.103125\" xlink:href=\"#m1e93914d12\" y=\"185.892643\"/>\n      </g>\n     </g>\n     <g id=\"text_18\">\n      <!-- 0.0 -->\n      <g transform=\"translate(7.2 189.691862)scale(0.1 -0.1)\">\n       <use xlink:href=\"#DejaVuSans-48\"/>\n       <use x=\"63.623047\" xlink:href=\"#DejaVuSans-46\"/>\n       <use x=\"95.410156\" xlink:href=\"#DejaVuSans-48\"/>\n      </g>\n     </g>\n    </g>\n    <g id=\"ytick_8\">\n     <g id=\"line2d_17\">\n      <g>\n       <use style=\"stroke:#000000;stroke-width:0.8;\" x=\"30.103125\" xlink:href=\"#m1e93914d12\" y=\"211.778357\"/>\n      </g>\n     </g>\n     <g id=\"text_19\">\n      <!-- 2.5 -->\n      <g transform=\"translate(7.2 215.577576)scale(0.1 -0.1)\">\n       <use xlink:href=\"#DejaVuSans-50\"/>\n       <use x=\"63.623047\" xlink:href=\"#DejaVuSans-46\"/>\n       <use x=\"95.410156\" xlink:href=\"#DejaVuSans-53\"/>\n      </g>\n     </g>\n    </g>\n    <g id=\"ytick_9\">\n     <g id=\"line2d_18\">\n      <g>\n       <use style=\"stroke:#000000;stroke-width:0.8;\" x=\"30.103125\" xlink:href=\"#m1e93914d12\" y=\"237.664071\"/>\n      </g>\n     </g>\n     <g id=\"text_20\">\n      <!-- 5.0 -->\n      <g transform=\"translate(7.2 241.46329)scale(0.1 -0.1)\">\n       <use xlink:href=\"#DejaVuSans-53\"/>\n       <use x=\"63.623047\" xlink:href=\"#DejaVuSans-46\"/>\n       <use x=\"95.410156\" xlink:href=\"#DejaVuSans-48\"/>\n      </g>\n     </g>\n    </g>\n   </g>\n   <g id=\"patch_13\">\n    <path d=\"M 30.103125 253.1955 \nL 30.103125 180.7155 \n\" style=\"fill:none;stroke:#000000;stroke-linecap:square;stroke-linejoin:miter;stroke-width:0.8;\"/>\n   </g>\n   <g id=\"patch_14\">\n    <path d=\"M 141.703125 253.1955 \nL 141.703125 180.7155 \n\" style=\"fill:none;stroke:#000000;stroke-linecap:square;stroke-linejoin:miter;stroke-width:0.8;\"/>\n   </g>\n   <g id=\"patch_15\">\n    <path d=\"M 30.103125 253.1955 \nL 141.703125 253.1955 \n\" style=\"fill:none;stroke:#000000;stroke-linecap:square;stroke-linejoin:miter;stroke-width:0.8;\"/>\n   </g>\n   <g id=\"patch_16\">\n    <path d=\"M 30.103125 180.7155 \nL 141.703125 180.7155 \n\" style=\"fill:none;stroke:#000000;stroke-linecap:square;stroke-linejoin:miter;stroke-width:0.8;\"/>\n   </g>\n   <g id=\"text_21\">\n    <!-- per feature 90 percentile -->\n    <g transform=\"translate(10.917188 161.278125)scale(0.12 -0.12)\">\n     <defs>\n      <path d=\"M 37.109375 75.984375 \nL 37.109375 68.5 \nL 28.515625 68.5 \nQ 23.6875 68.5 21.796875 66.546875 \nQ 19.921875 64.59375 19.921875 59.515625 \nL 19.921875 54.6875 \nL 34.71875 54.6875 \nL 34.71875 47.703125 \nL 19.921875 47.703125 \nL 19.921875 0 \nL 10.890625 0 \nL 10.890625 47.703125 \nL 2.296875 47.703125 \nL 2.296875 54.6875 \nL 10.890625 54.6875 \nL 10.890625 58.5 \nQ 10.890625 67.625 15.140625 71.796875 \nQ 19.390625 75.984375 28.609375 75.984375 \nz\n\" id=\"DejaVuSans-102\"/>\n      <path d=\"M 8.5 21.578125 \nL 8.5 54.6875 \nL 17.484375 54.6875 \nL 17.484375 21.921875 \nQ 17.484375 14.15625 20.5 10.265625 \nQ 23.53125 6.390625 29.59375 6.390625 \nQ 36.859375 6.390625 41.078125 11.03125 \nQ 45.3125 15.671875 45.3125 23.6875 \nL 45.3125 54.6875 \nL 54.296875 54.6875 \nL 54.296875 0 \nL 45.3125 0 \nL 45.3125 8.40625 \nQ 42.046875 3.421875 37.71875 1 \nQ 33.40625 -1.421875 27.6875 -1.421875 \nQ 18.265625 -1.421875 13.375 4.4375 \nQ 8.5 10.296875 8.5 21.578125 \nz\nM 31.109375 56 \nz\n\" id=\"DejaVuSans-117\"/>\n     </defs>\n     <use xlink:href=\"#DejaVuSans-112\"/>\n     <use x=\"63.476562\" xlink:href=\"#DejaVuSans-101\"/>\n     <use x=\"125\" xlink:href=\"#DejaVuSans-114\"/>\n     <use x=\"166.113281\" xlink:href=\"#DejaVuSans-32\"/>\n     <use x=\"197.900391\" xlink:href=\"#DejaVuSans-102\"/>\n     <use x=\"233.105469\" xlink:href=\"#DejaVuSans-101\"/>\n     <use x=\"294.628906\" xlink:href=\"#DejaVuSans-97\"/>\n     <use x=\"355.908203\" xlink:href=\"#DejaVuSans-116\"/>\n     <use x=\"395.117188\" xlink:href=\"#DejaVuSans-117\"/>\n     <use x=\"458.496094\" xlink:href=\"#DejaVuSans-114\"/>\n     <use x=\"497.359375\" xlink:href=\"#DejaVuSans-101\"/>\n     <use x=\"558.882812\" xlink:href=\"#DejaVuSans-32\"/>\n     <use x=\"590.669922\" xlink:href=\"#DejaVuSans-57\"/>\n     <use x=\"654.292969\" xlink:href=\"#DejaVuSans-48\"/>\n     <use x=\"717.916016\" xlink:href=\"#DejaVuSans-32\"/>\n     <use x=\"749.703125\" xlink:href=\"#DejaVuSans-112\"/>\n     <use x=\"813.179688\" xlink:href=\"#DejaVuSans-101\"/>\n     <use x=\"874.703125\" xlink:href=\"#DejaVuSans-114\"/>\n     <use x=\"913.566406\" xlink:href=\"#DejaVuSans-99\"/>\n     <use x=\"968.546875\" xlink:href=\"#DejaVuSans-101\"/>\n     <use x=\"1030.070312\" xlink:href=\"#DejaVuSans-110\"/>\n     <use x=\"1093.449219\" xlink:href=\"#DejaVuSans-116\"/>\n     <use x=\"1132.658203\" xlink:href=\"#DejaVuSans-105\"/>\n     <use x=\"1160.441406\" xlink:href=\"#DejaVuSans-108\"/>\n     <use x=\"1188.224609\" xlink:href=\"#DejaVuSans-101\"/>\n    </g>\n    <!--  -->\n    <g transform=\"translate(85.903125 174.7155)scale(0.12 -0.12)\"/>\n   </g>\n  </g>\n  <g id=\"axes_4\">\n   <g id=\"patch_17\">\n    <path d=\"M 253.303125 253.1955 \nL 364.903125 253.1955 \nL 364.903125 180.7155 \nL 253.303125 180.7155 \nz\n\" style=\"fill:#ffffff;\"/>\n   </g>\n   <g clip-path=\"url(#pe4bb4d9a66)\">\n    <image height=\"73\" id=\"image363cd8d8da\" transform=\"scale(1 -1)translate(0 -73)\" width=\"112\" x=\"253.303125\" xlink:href=\"data:image/png;base64,\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\" y=\"-180.1955\"/>\n   </g>\n   <g id=\"matplotlib.axis_7\">\n    <g id=\"xtick_10\">\n     <g id=\"line2d_19\">\n      <g>\n       <use style=\"stroke:#000000;stroke-width:0.8;\" x=\"253.739063\" xlink:href=\"#m89f39c766e\" y=\"253.1955\"/>\n      </g>\n     </g>\n     <g id=\"text_22\">\n      <!-- 0 -->\n      <g transform=\"translate(250.557813 267.793937)scale(0.1 -0.1)\">\n       <use xlink:href=\"#DejaVuSans-48\"/>\n      </g>\n     </g>\n    </g>\n    <g id=\"xtick_11\">\n     <g id=\"line2d_20\">\n      <g>\n       <use style=\"stroke:#000000;stroke-width:0.8;\" x=\"297.332813\" xlink:href=\"#m89f39c766e\" y=\"253.1955\"/>\n      </g>\n     </g>\n     <g id=\"text_23\">\n      <!-- 50 -->\n      <g transform=\"translate(290.970313 267.793937)scale(0.1 -0.1)\">\n       <use xlink:href=\"#DejaVuSans-53\"/>\n       <use x=\"63.623047\" xlink:href=\"#DejaVuSans-48\"/>\n      </g>\n     </g>\n    </g>\n    <g id=\"xtick_12\">\n     <g id=\"line2d_21\">\n      <g>\n       <use style=\"stroke:#000000;stroke-width:0.8;\" x=\"340.926563\" xlink:href=\"#m89f39c766e\" y=\"253.1955\"/>\n      </g>\n     </g>\n     <g id=\"text_24\">\n      <!-- 100 -->\n      <g transform=\"translate(331.382813 267.793937)scale(0.1 -0.1)\">\n       <use xlink:href=\"#DejaVuSans-49\"/>\n       <use x=\"63.623047\" xlink:href=\"#DejaVuSans-48\"/>\n       <use x=\"127.246094\" xlink:href=\"#DejaVuSans-48\"/>\n      </g>\n     </g>\n    </g>\n   </g>\n   <g id=\"matplotlib.axis_8\">\n    <g id=\"ytick_10\">\n     <g id=\"line2d_22\">\n      <g>\n       <use style=\"stroke:#000000;stroke-width:0.8;\" x=\"253.303125\" xlink:href=\"#m1e93914d12\" y=\"185.892643\"/>\n      </g>\n     </g>\n     <g id=\"text_25\">\n      <!-- 0.0 -->\n      <g transform=\"translate(230.4 189.691862)scale(0.1 -0.1)\">\n       <use xlink:href=\"#DejaVuSans-48\"/>\n       <use x=\"63.623047\" xlink:href=\"#DejaVuSans-46\"/>\n       <use x=\"95.410156\" xlink:href=\"#DejaVuSans-48\"/>\n      </g>\n     </g>\n    </g>\n    <g id=\"ytick_11\">\n     <g id=\"line2d_23\">\n      <g>\n       <use style=\"stroke:#000000;stroke-width:0.8;\" x=\"253.303125\" xlink:href=\"#m1e93914d12\" y=\"211.778357\"/>\n      </g>\n     </g>\n     <g id=\"text_26\">\n      <!-- 2.5 -->\n      <g transform=\"translate(230.4 215.577576)scale(0.1 -0.1)\">\n       <use xlink:href=\"#DejaVuSans-50\"/>\n       <use x=\"63.623047\" xlink:href=\"#DejaVuSans-46\"/>\n       <use x=\"95.410156\" xlink:href=\"#DejaVuSans-53\"/>\n      </g>\n     </g>\n    </g>\n    <g id=\"ytick_12\">\n     <g id=\"line2d_24\">\n      <g>\n       <use style=\"stroke:#000000;stroke-width:0.8;\" x=\"253.303125\" xlink:href=\"#m1e93914d12\" y=\"237.664071\"/>\n      </g>\n     </g>\n     <g id=\"text_27\">\n      <!-- 5.0 -->\n      <g transform=\"translate(230.4 241.46329)scale(0.1 -0.1)\">\n       <use xlink:href=\"#DejaVuSans-53\"/>\n       <use x=\"63.623047\" xlink:href=\"#DejaVuSans-46\"/>\n       <use x=\"95.410156\" xlink:href=\"#DejaVuSans-48\"/>\n      </g>\n     </g>\n    </g>\n   </g>\n   <g id=\"patch_18\">\n    <path d=\"M 253.303125 253.1955 \nL 253.303125 180.7155 \n\" style=\"fill:none;stroke:#000000;stroke-linecap:square;stroke-linejoin:miter;stroke-width:0.8;\"/>\n   </g>\n   <g id=\"patch_19\">\n    <path d=\"M 364.903125 253.1955 \nL 364.903125 180.7155 \n\" style=\"fill:none;stroke:#000000;stroke-linecap:square;stroke-linejoin:miter;stroke-width:0.8;\"/>\n   </g>\n   <g id=\"patch_20\">\n    <path d=\"M 253.303125 253.1955 \nL 364.903125 253.1955 \n\" style=\"fill:none;stroke:#000000;stroke-linecap:square;stroke-linejoin:miter;stroke-width:0.8;\"/>\n   </g>\n   <g id=\"patch_21\">\n    <path d=\"M 253.303125 180.7155 \nL 364.903125 180.7155 \n\" style=\"fill:none;stroke:#000000;stroke-linecap:square;stroke-linejoin:miter;stroke-width:0.8;\"/>\n   </g>\n   <g id=\"text_28\">\n    <!-- per feature 90 percentile  -->\n    <g transform=\"translate(232.210313 161.278125)scale(0.12 -0.12)\">\n     <use xlink:href=\"#DejaVuSans-112\"/>\n     <use x=\"63.476562\" xlink:href=\"#DejaVuSans-101\"/>\n     <use x=\"125\" xlink:href=\"#DejaVuSans-114\"/>\n     <use x=\"166.113281\" xlink:href=\"#DejaVuSans-32\"/>\n     <use x=\"197.900391\" xlink:href=\"#DejaVuSans-102\"/>\n     <use x=\"233.105469\" xlink:href=\"#DejaVuSans-101\"/>\n     <use x=\"294.628906\" xlink:href=\"#DejaVuSans-97\"/>\n     <use x=\"355.908203\" xlink:href=\"#DejaVuSans-116\"/>\n     <use x=\"395.117188\" xlink:href=\"#DejaVuSans-117\"/>\n     <use x=\"458.496094\" xlink:href=\"#DejaVuSans-114\"/>\n     <use x=\"497.359375\" xlink:href=\"#DejaVuSans-101\"/>\n     <use x=\"558.882812\" xlink:href=\"#DejaVuSans-32\"/>\n     <use x=\"590.669922\" xlink:href=\"#DejaVuSans-57\"/>\n     <use x=\"654.292969\" xlink:href=\"#DejaVuSans-48\"/>\n     <use x=\"717.916016\" xlink:href=\"#DejaVuSans-32\"/>\n     <use x=\"749.703125\" xlink:href=\"#DejaVuSans-112\"/>\n     <use x=\"813.179688\" xlink:href=\"#DejaVuSans-101\"/>\n     <use x=\"874.703125\" xlink:href=\"#DejaVuSans-114\"/>\n     <use x=\"913.566406\" xlink:href=\"#DejaVuSans-99\"/>\n     <use x=\"968.546875\" xlink:href=\"#DejaVuSans-101\"/>\n     <use x=\"1030.070312\" xlink:href=\"#DejaVuSans-110\"/>\n     <use x=\"1093.449219\" xlink:href=\"#DejaVuSans-116\"/>\n     <use x=\"1132.658203\" xlink:href=\"#DejaVuSans-105\"/>\n     <use x=\"1160.441406\" xlink:href=\"#DejaVuSans-108\"/>\n     <use x=\"1188.224609\" xlink:href=\"#DejaVuSans-101\"/>\n     <use x=\"1249.748047\" xlink:href=\"#DejaVuSans-32\"/>\n    </g>\n    <!-- with random -->\n    <g transform=\"translate(271.197188 174.7155)scale(0.12 -0.12)\">\n     <use xlink:href=\"#DejaVuSans-119\"/>\n     <use x=\"81.787109\" xlink:href=\"#DejaVuSans-105\"/>\n     <use x=\"109.570312\" xlink:href=\"#DejaVuSans-116\"/>\n     <use x=\"148.779297\" xlink:href=\"#DejaVuSans-104\"/>\n     <use x=\"212.158203\" xlink:href=\"#DejaVuSans-32\"/>\n     <use x=\"243.945312\" xlink:href=\"#DejaVuSans-114\"/>\n     <use x=\"285.058594\" xlink:href=\"#DejaVuSans-97\"/>\n     <use x=\"346.337891\" xlink:href=\"#DejaVuSans-110\"/>\n     <use x=\"409.716797\" xlink:href=\"#DejaVuSans-100\"/>\n     <use x=\"473.193359\" xlink:href=\"#DejaVuSans-111\"/>\n     <use x=\"534.375\" xlink:href=\"#DejaVuSans-109\"/>\n    </g>\n   </g>\n  </g>\n </g>\n <defs>\n  <clipPath id=\"p4b7897696e\">\n   <rect height=\"72.48\" width=\"111.6\" x=\"30.103125\" y=\"35.7555\"/>\n  </clipPath>\n  <clipPath id=\"pbc371b2b5f\">\n   <rect height=\"72.48\" width=\"111.6\" x=\"253.303125\" y=\"35.7555\"/>\n  </clipPath>\n  <clipPath id=\"pddb6510ee5\">\n   <rect height=\"72.48\" width=\"111.6\" x=\"30.103125\" y=\"180.7155\"/>\n  </clipPath>\n  <clipPath id=\"pe4bb4d9a66\">\n   <rect height=\"72.48\" width=\"111.6\" x=\"253.303125\" y=\"180.7155\"/>\n  </clipPath>\n </defs>\n</svg>\n",
      "image/png": "[encoded data removed]"
     },
     "metadata": {
      "needs_background": "light"
     }
    }
   ],
   "source": [
    "# Compare the difference between overall percentile and percentile per feature w/wo random\n",
    "\n",
    "# Test:\n",
    "e = explanations[0]\n",
    "x_coef = e[\"xcoef\"]\n",
    "X, y_true = zip(*test_set)\n",
    "x_arr = X[0]\n",
    "\n",
    "# Get absolute value for weight, because LIME could be negative -> 90 percentile might not work.\n",
    "m1 = mask_percentile(np.abs(x_coef), axis=None, interpolation=\"higher\")\n",
    "m2 = mask_percentile(np.abs(x_coef), axis=None, interpolation=\"higher\", random=True)\n",
    "m3 = mask_percentile(np.abs(x_coef), axis=1, interpolation=\"higher\")\n",
    "m4 = mask_percentile(np.abs(x_coef), axis=1, interpolation=\"higher\", random=True)\n",
    "\n",
    "fig, axes = plt.subplots(2, 2)\n",
    "ax = axes[0, 0]\n",
    "ax.imshow(m1, aspect='auto')\n",
    "ax.set_title(\"overall 90 percentile\\n\")\n",
    "ax = axes[0, 1]\n",
    "ax.imshow(m2, aspect='auto')\n",
    "ax.set_title(\"overall 90 percentile \\nwith random\")\n",
    "ax = axes[1, 0]\n",
    "ax.imshow(m3, aspect='auto')\n",
    "ax.set_title(\"per feature 90 percentile\\n\")\n",
    "ax = axes[1, 1]\n",
    "ax.imshow(m4, aspect='auto')\n",
    "ax.set_title(\"per feature 90 percentile \\nwith random\")\n",
    "plt.subplots_adjust(hspace=1, wspace=1)\n",
    "\n",
    "# Test perturb_X\n",
    "#r = replacements(x_arr, method=\"zeros\")\n",
    "#z = perturb(x_arr, m, r)\n",
    "\n",
    "#e = explanations[0]\n",
    "#xcoef = e[\"xcoef\"]\n",
    "#X_perturbed = perturb_X(X, xcoef, method=\"zeros\")\n"
   ]
  },
  {
   "source": [
    "# Methodology for experiments.\n",
    "\n",
    "## Root Mean Squared Error in original as base line\n",
    "1. Fit directy X, y_true, y_pred to f(x) to get the baseline score\n",
    "\n",
    "## rmse in 90 percentile of explanations\n",
    "1. For each XAI model we generate a perturbed test set\n",
    "1. Fit to model and record rmse of perturbed test to the dict\n",
    "1. Save all scores to the dict {\"scale\": ..., \"model\": ...., \"method\": ...., \"xcoef\": ....., \"rmse\": ....}\n",
    "    - xcoef as explanations.\n",
    "    - rmse as root mean squared error score (lower better)\n",
    "\n",
    "## rmse in random perturbed\n",
    "1. Generate a random perturbed set, notice that:\n",
    "    - the number of changes =  perturbed test set"
   ],
   "cell_type": "markdown",
   "metadata": {}
  },
  {
   "source": [
    "## Step 1: RMSE of overall 90 percentile of explanations\n",
    "## Step 2: RMSE of overall Random\n",
    "- number of changes in random = overall 90 percentile of explanations (in step 1)"
   ],
   "cell_type": "markdown",
   "metadata": {}
  },
  {
   "cell_type": "code",
   "execution_count": 114,
   "metadata": {},
   "outputs": [],
   "source": [
    "def get_rmse(x, fn, y_true, axis=None, random=False):\n",
    "    x_test = np.stack([x_i.T for x_i in x])\n",
    "    y_pred = fn.predict(x_test).ravel()\n",
    "\n",
    "    mse = mean_squared_error(y_true, y_pred)\n",
    "    return np.sqrt(mse)\n",
    "\n",
    "# Calculate quality measure for each explanation\n",
    "from sklearn.metrics import mean_squared_error\n",
    "for e in explanations:\n",
    "    \n",
    "    x_coef = e[\"xcoef\"]\n",
    "    fn = eval(e[\"model\"].replace(\"_fn\", \"\"))    # remove \"_fn\" from lstm_fn (custom)\n",
    "\n",
    "    #1 Create perturbed test set + rmse\n",
    "    X_p90 = perturb_X(X, x_coef=x_coef, percentile=90, axis=None) # overall case by set axis=None\n",
    "    rmse = get_rmse(X_p90, fn, y_true)\n",
    "    e.update({\"rmse_p90\": rmse})\n",
    "\n",
    "    #2 Random - same x-coef to get number of changes.\n",
    "    X_random = perturb_X(X, x_coef=x_coef, percentile=90, axis=None, random=True)\n",
    "    rmse = get_rmse(X_random, fn, y_true)\n",
    "    e.update({\"rmse_random\": rmse})"
   ]
  },
  {
   "source": [
    "## Step 3: RMSE of original Test Set X"
   ],
   "cell_type": "markdown",
   "metadata": {}
  },
  {
   "cell_type": "code",
   "execution_count": 115,
   "metadata": {},
   "outputs": [],
   "source": [
    "# Now calculate quality measure for original\n",
    "#   this not dependent on coef or random, hence get directly from X\n",
    "# X, y_true = zip(*test_set)\n",
    "X_test = np.stack([x.T for x in X])\n",
    "for e in explanations:  \n",
    "    fn = eval(e[\"model\"].replace(\"_fn\", \"\"))\n",
    "    y_pred = fn.predict(X_test).ravel()\n",
    "\n",
    "    rmse = get_rmse(X_random, fn, y_true)\n",
    "    e.update({\"rmse_random\": rmse})"
   ]
  },
  {
   "source": [
    "# Evaluation quality for Regression task\n",
    "\n",
    "Assumptions to be used: \n",
    "\\begin{equation}\n",
    "    err(X) < err(X_{random}) < err(X_{p90})\n",
    "\\end{equation}\n",
    "- with X: Original test set\n",
    "- $X_{random}$: Randomly perturbed X, based on number of changes in $X_p90$\n",
    "- $X_{p90}$: Perturbed based on values larger than 90 percentile threshold.\n",
    "\n",
    "We expect to see:\n",
    "- $rmse(X) < rmse(X_{random} < rmse(X_{p90})$\n",
    "- alternative $0 <= diff_{random} < diff(X_{p90})$ in comparison with baseline X"
   ],
   "cell_type": "markdown",
   "metadata": {}
  },
  {
   "cell_type": "code",
   "execution_count": 117,
   "metadata": {},
   "outputs": [],
   "source": [
    "eva_df = pd.DataFrame(list(explanations))\n",
    "eva_df = eva_df.drop(\"xcoef\", axis=1)\n",
    "eva_df[\"rmse_diff_random\"] = eva_df.eval(\"rmse_original - rmse_random\")\n",
    "eva_df[\"rmse_diff_p90\"] = eva_df.eval(\"rmse_original - rmse_p90\")"
   ]
  },
  {
   "cell_type": "code",
   "execution_count": 121,
   "metadata": {},
   "outputs": [
    {
     "output_type": "stream",
     "name": "stdout",
     "text": [
      "Evaluation Result for lstm - with overall 90 percentile, all used zeros replacement for test set.\n"
     ]
    },
    {
     "output_type": "execute_result",
     "data": {
      "text/plain": [
       "    scale    model       method  rmse_original  rmse_diff_random  \\\n",
       "0   async  lstm_fn        zeros        0.14725          0.028208   \n",
       "2   async  lstm_fn   local_mean        0.14725          0.028208   \n",
       "4   async  lstm_fn  global_mean        0.14725          0.028208   \n",
       "6    sync  lstm_fn        zeros        0.14725          0.028208   \n",
       "8    sync  lstm_fn   local_mean        0.14725          0.028208   \n",
       "10   sync  lstm_fn  global_mean        0.14725          0.028208   \n",
       "\n",
       "    rmse_diff_p90  \n",
       "0       -0.289072  \n",
       "2       -0.912497  \n",
       "4       -0.298715  \n",
       "6        0.019254  \n",
       "8        0.054290  \n",
       "10      -0.001663  "
      ],
      "text/html": "<div>\n<style scoped>\n    .dataframe tbody tr th:only-of-type {\n        vertical-align: middle;\n    }\n\n    .dataframe tbody tr th {\n        vertical-align: top;\n    }\n\n    .dataframe thead th {\n        text-align: right;\n    }\n</style>\n<table border=\"1\" class=\"dataframe\">\n  <thead>\n    <tr style=\"text-align: right;\">\n      <th></th>\n      <th>scale</th>\n      <th>model</th>\n      <th>method</th>\n      <th>rmse_original</th>\n      <th>rmse_diff_random</th>\n      <th>rmse_diff_p90</th>\n    </tr>\n  </thead>\n  <tbody>\n    <tr>\n      <th>0</th>\n      <td>async</td>\n      <td>lstm_fn</td>\n      <td>zeros</td>\n      <td>0.14725</td>\n      <td>0.028208</td>\n      <td>-0.289072</td>\n    </tr>\n    <tr>\n      <th>2</th>\n      <td>async</td>\n      <td>lstm_fn</td>\n      <td>local_mean</td>\n      <td>0.14725</td>\n      <td>0.028208</td>\n      <td>-0.912497</td>\n    </tr>\n    <tr>\n      <th>4</th>\n      <td>async</td>\n      <td>lstm_fn</td>\n      <td>global_mean</td>\n      <td>0.14725</td>\n      <td>0.028208</td>\n      <td>-0.298715</td>\n    </tr>\n    <tr>\n      <th>6</th>\n      <td>sync</td>\n      <td>lstm_fn</td>\n      <td>zeros</td>\n      <td>0.14725</td>\n      <td>0.028208</td>\n      <td>0.019254</td>\n    </tr>\n    <tr>\n      <th>8</th>\n      <td>sync</td>\n      <td>lstm_fn</td>\n      <td>local_mean</td>\n      <td>0.14725</td>\n      <td>0.028208</td>\n      <td>0.054290</td>\n    </tr>\n    <tr>\n      <th>10</th>\n      <td>sync</td>\n      <td>lstm_fn</td>\n      <td>global_mean</td>\n      <td>0.14725</td>\n      <td>0.028208</td>\n      <td>-0.001663</td>\n    </tr>\n  </tbody>\n</table>\n</div>"
     },
     "metadata": {},
     "execution_count": 121
    }
   ],
   "source": [
    "# Evaluation Result for lstm\n",
    "tt = eva_df.loc[:, [\"scale\", \"model\", \"method\", \"rmse_original\",\"rmse_diff_random\", \"rmse_diff_p90\"]]\n",
    "eva_lstm = tt.query(\"model == 'lstm_fn' \")\n",
    "print(\"Evaluation Result for lstm - with overall 90 percentile, all used zeros replacement for test set.\")\n",
    "eva_lstm"
   ]
  },
  {
   "source": [
    "## Discussion\n",
    "\n",
    "The result show the diference in rmse based on the rmse_original. the random have more error than the original then it satisfy the assumption. However the unexpected rmse_diff_p90 is unstable, that does not statisfy the assumption. All async methods turns to better quality with lower rmse after being perturbed. The sync does in the oposite way except for global mean perturbation."
   ],
   "cell_type": "markdown",
   "metadata": {}
  },
  {
   "source": [
    "# Per feature 90 percentile \n",
    "Previously we use overall 90 percentile -> now we experiment on perturbing values over 90 percentile per feature.\n",
    "- repeat the whole process above, but uses per feature by set $\\textbf{axis=1}$\n",
    "- the rmse for the original X does not change, we could skip this.\n"
   ],
   "cell_type": "markdown",
   "metadata": {}
  },
  {
   "cell_type": "code",
   "execution_count": null,
   "metadata": {},
   "outputs": [],
   "source": []
  },
  {
   "cell_type": "code",
   "execution_count": 127,
   "metadata": {},
   "outputs": [],
   "source": [
    "import copy\n",
    "\n",
    "exp2 = copy.deepcopy(explanations)   # copy the explanations\n",
    "for e in exp2:\n",
    "    x_coef = e[\"xcoef\"]\n",
    "    fn = eval(e[\"model\"].replace(\"_fn\", \"\"))    # remove \"_fn\" from lstm_fn (custom)\n",
    "\n",
    "    #1 Create perturbed test set + rmse\n",
    "    X_p90 = perturb_X(X, x_coef=x_coef, percentile=90, axis=1) # per feature\n",
    "    rmse = get_rmse(X_p90, fn, y_true)\n",
    "    e.update({\"rmse_p90\": rmse})\n",
    "\n",
    "    #2 Random - same x-coef to get number of changes.\n",
    "    X_random = perturb_X(X, x_coef=x_coef, percentile=90, axis=1, random=True)\n",
    "    rmse = get_rmse(X_random, fn, y_true)\n",
    "    e.update({\"rmse_random\": rmse})"
   ]
  },
  {
   "cell_type": "code",
   "execution_count": 129,
   "metadata": {},
   "outputs": [
    {
     "output_type": "stream",
     "name": "stdout",
     "text": [
      "Evaluation Result for lstm - with per-feature 90 percentile, all used zeros replacement for test set.\n"
     ]
    },
    {
     "output_type": "execute_result",
     "data": {
      "text/plain": [
       "    scale    model       method  rmse_original  rmse_diff_random  \\\n",
       "0   async  lstm_fn        zeros        0.14725          0.045759   \n",
       "2   async  lstm_fn   local_mean        0.14725          0.034220   \n",
       "4   async  lstm_fn  global_mean        0.14725         -0.002035   \n",
       "6    sync  lstm_fn        zeros        0.14725          0.029453   \n",
       "8    sync  lstm_fn   local_mean        0.14725          0.032845   \n",
       "10   sync  lstm_fn  global_mean        0.14725          0.037247   \n",
       "\n",
       "    rmse_diff_p90  \n",
       "0        0.017801  \n",
       "2       -0.021313  \n",
       "4        0.024027  \n",
       "6        0.019254  \n",
       "8        0.054290  \n",
       "10      -0.001663  "
      ],
      "text/html": "<div>\n<style scoped>\n    .dataframe tbody tr th:only-of-type {\n        vertical-align: middle;\n    }\n\n    .dataframe tbody tr th {\n        vertical-align: top;\n    }\n\n    .dataframe thead th {\n        text-align: right;\n    }\n</style>\n<table border=\"1\" class=\"dataframe\">\n  <thead>\n    <tr style=\"text-align: right;\">\n      <th></th>\n      <th>scale</th>\n      <th>model</th>\n      <th>method</th>\n      <th>rmse_original</th>\n      <th>rmse_diff_random</th>\n      <th>rmse_diff_p90</th>\n    </tr>\n  </thead>\n  <tbody>\n    <tr>\n      <th>0</th>\n      <td>async</td>\n      <td>lstm_fn</td>\n      <td>zeros</td>\n      <td>0.14725</td>\n      <td>0.045759</td>\n      <td>0.017801</td>\n    </tr>\n    <tr>\n      <th>2</th>\n      <td>async</td>\n      <td>lstm_fn</td>\n      <td>local_mean</td>\n      <td>0.14725</td>\n      <td>0.034220</td>\n      <td>-0.021313</td>\n    </tr>\n    <tr>\n      <th>4</th>\n      <td>async</td>\n      <td>lstm_fn</td>\n      <td>global_mean</td>\n      <td>0.14725</td>\n      <td>-0.002035</td>\n      <td>0.024027</td>\n    </tr>\n    <tr>\n      <th>6</th>\n      <td>sync</td>\n      <td>lstm_fn</td>\n      <td>zeros</td>\n      <td>0.14725</td>\n      <td>0.029453</td>\n      <td>0.019254</td>\n    </tr>\n    <tr>\n      <th>8</th>\n      <td>sync</td>\n      <td>lstm_fn</td>\n      <td>local_mean</td>\n      <td>0.14725</td>\n      <td>0.032845</td>\n      <td>0.054290</td>\n    </tr>\n    <tr>\n      <th>10</th>\n      <td>sync</td>\n      <td>lstm_fn</td>\n      <td>global_mean</td>\n      <td>0.14725</td>\n      <td>0.037247</td>\n      <td>-0.001663</td>\n    </tr>\n  </tbody>\n</table>\n</div>"
     },
     "metadata": {},
     "execution_count": 129
    }
   ],
   "source": [
    "\n",
    "eva2_df = pd.DataFrame(list(exp2))\n",
    "eva2_df = eva2_df.drop(\"xcoef\", axis=1)\n",
    "eva2_df[\"rmse_diff_random\"] = eva2_df.eval(\"rmse_original - rmse_random\")\n",
    "eva2_df[\"rmse_diff_p90\"] = eva2_df.eval(\"rmse_original - rmse_p90\")\n",
    "\n",
    "tt = eva2_df.loc[:, [\"scale\", \"model\", \"method\", \"rmse_original\",\"rmse_diff_random\", \"rmse_diff_p90\"]]\n",
    "eva2_lstm = tt.query(\"model == 'lstm_fn' \")\n",
    "\n",
    "print(\"Evaluation Result for lstm - with per-feature 90 percentile, all used zeros replacement for test set.\")\n",
    "eva2_lstm"
   ]
  },
  {
   "source": [
    "## Discussion\n",
    "In this per-feature 90 percentile, the assumption above does not hold for both. However, the score is very close with difference close to zeros."
   ],
   "cell_type": "markdown",
   "metadata": {}
  },
  {
   "source": [
    "# Absolute value for coeficiencts\n",
    "\n",
    "Experiments above was done when coefs is not get absolute. For LIME in regression the weight could be significant negative or positive. In this case, we would like to run it to check if the absolute Weight will hold the assumption\n",
    "- Again we do not need to calculate rmse for the original X"
   ],
   "cell_type": "markdown",
   "metadata": {}
  },
  {
   "cell_type": "code",
   "execution_count": 131,
   "metadata": {},
   "outputs": [],
   "source": [
    "exp3 = copy.deepcopy(explanations)   # copy the explanations\n",
    "for e in exp3:\n",
    "    x_coef = np.abs(e[\"xcoef\"]) # Absolute explanations.\n",
    "    fn = eval(e[\"model\"].replace(\"_fn\", \"\"))\n",
    "\n",
    "    #1 Create perturbed test set + rmse\n",
    "    X_p90 = perturb_X(X, x_coef=x_coef, percentile=90, axis=None) # Overall\n",
    "    rmse = get_rmse(X_p90, fn, y_true)\n",
    "    e.update({\"rmse_p90\": rmse})\n",
    "\n",
    "    #2 Random - same x-coef to get number of changes.\n",
    "    X_random = perturb_X(X, x_coef=x_coef, percentile=90, axis=None, random=True)\n",
    "    rmse = get_rmse(X_random, fn, y_true)\n",
    "    e.update({\"rmse_random\": rmse})"
   ]
  },
  {
   "cell_type": "code",
   "execution_count": 132,
   "metadata": {},
   "outputs": [
    {
     "output_type": "stream",
     "name": "stdout",
     "text": [
      "Evaluation Result for lstm - absolute weight for overall 90 percentile.\n"
     ]
    },
    {
     "output_type": "execute_result",
     "data": {
      "text/plain": [
       "    scale    model       method  rmse_original  rmse_diff_random  \\\n",
       "0   async  lstm_fn        zeros        0.14725          0.059748   \n",
       "2   async  lstm_fn   local_mean        0.14725          0.044201   \n",
       "4   async  lstm_fn  global_mean        0.14725          0.042748   \n",
       "6    sync  lstm_fn        zeros        0.14725          0.046190   \n",
       "8    sync  lstm_fn   local_mean        0.14725          0.033906   \n",
       "10   sync  lstm_fn  global_mean        0.14725          0.037074   \n",
       "\n",
       "    rmse_diff_p90  \n",
       "0        0.036485  \n",
       "2       -0.439493  \n",
       "4       -0.294439  \n",
       "6       -0.000264  \n",
       "8        0.054290  \n",
       "10      -0.001663  "
      ],
      "text/html": "<div>\n<style scoped>\n    .dataframe tbody tr th:only-of-type {\n        vertical-align: middle;\n    }\n\n    .dataframe tbody tr th {\n        vertical-align: top;\n    }\n\n    .dataframe thead th {\n        text-align: right;\n    }\n</style>\n<table border=\"1\" class=\"dataframe\">\n  <thead>\n    <tr style=\"text-align: right;\">\n      <th></th>\n      <th>scale</th>\n      <th>model</th>\n      <th>method</th>\n      <th>rmse_original</th>\n      <th>rmse_diff_random</th>\n      <th>rmse_diff_p90</th>\n    </tr>\n  </thead>\n  <tbody>\n    <tr>\n      <th>0</th>\n      <td>async</td>\n      <td>lstm_fn</td>\n      <td>zeros</td>\n      <td>0.14725</td>\n      <td>0.059748</td>\n      <td>0.036485</td>\n    </tr>\n    <tr>\n      <th>2</th>\n      <td>async</td>\n      <td>lstm_fn</td>\n      <td>local_mean</td>\n      <td>0.14725</td>\n      <td>0.044201</td>\n      <td>-0.439493</td>\n    </tr>\n    <tr>\n      <th>4</th>\n      <td>async</td>\n      <td>lstm_fn</td>\n      <td>global_mean</td>\n      <td>0.14725</td>\n      <td>0.042748</td>\n      <td>-0.294439</td>\n    </tr>\n    <tr>\n      <th>6</th>\n      <td>sync</td>\n      <td>lstm_fn</td>\n      <td>zeros</td>\n      <td>0.14725</td>\n      <td>0.046190</td>\n      <td>-0.000264</td>\n    </tr>\n    <tr>\n      <th>8</th>\n      <td>sync</td>\n      <td>lstm_fn</td>\n      <td>local_mean</td>\n      <td>0.14725</td>\n      <td>0.033906</td>\n      <td>0.054290</td>\n    </tr>\n    <tr>\n      <th>10</th>\n      <td>sync</td>\n      <td>lstm_fn</td>\n      <td>global_mean</td>\n      <td>0.14725</td>\n      <td>0.037074</td>\n      <td>-0.001663</td>\n    </tr>\n  </tbody>\n</table>\n</div>"
     },
     "metadata": {},
     "execution_count": 132
    }
   ],
   "source": [
    "\n",
    "eva3_df = pd.DataFrame(list(exp3))\n",
    "eva3_df = eva3_df.drop(\"xcoef\", axis=1)\n",
    "eva3_df[\"rmse_diff_random\"] = eva3_df.eval(\"rmse_original - rmse_random\")\n",
    "eva3_df[\"rmse_diff_p90\"] = eva3_df.eval(\"rmse_original - rmse_p90\")\n",
    "\n",
    "tt = eva3_df.loc[:, [\"scale\", \"model\", \"method\", \"rmse_original\",\"rmse_diff_random\", \"rmse_diff_p90\"]]\n",
    "eva3_lstm = tt.query(\"model == 'lstm_fn' \")\n",
    "\n",
    "print(\"Evaluation Result for lstm - absolute weight for overall 90 percentile.\")\n",
    "eva3_lstm"
   ]
  },
  {
   "source": [
    "## Conclusion\n",
    "- The absolute overall 90 percentile for explanations does similarly. The assumption does not hold for percentile 90 (overall), but it holds for random"
   ],
   "cell_type": "markdown",
   "metadata": {}
  },
  {
   "source": [
    "# Absolute value for coeficiencts per feature (90 percentile)\n",
    "\n",
    "Continue the exp 3, but with each feature for threshold 90 percentile."
   ],
   "cell_type": "markdown",
   "metadata": {}
  },
  {
   "cell_type": "code",
   "execution_count": 134,
   "metadata": {},
   "outputs": [],
   "source": [
    "exp4 = copy.deepcopy(explanations)   # copy the explanations\n",
    "for e in exp4:\n",
    "    x_coef = np.abs(e[\"xcoef\"]) # Absolute explanations.\n",
    "    fn = eval(e[\"model\"].replace(\"_fn\", \"\"))\n",
    "\n",
    "    #1 Create perturbed test set + rmse\n",
    "    X_p90 = perturb_X(X, x_coef=x_coef, percentile=90, axis=1) # Per feature\n",
    "    rmse = get_rmse(X_p90, fn, y_true)\n",
    "    e.update({\"rmse_p90\": rmse})\n",
    "\n",
    "    #2 Random - same x-coef to get number of changes.\n",
    "    X_random = perturb_X(X, x_coef=x_coef, percentile=90, axis=1, random=True) # Random\n",
    "    rmse = get_rmse(X_random, fn, y_true)\n",
    "    e.update({\"rmse_random\": rmse})"
   ]
  },
  {
   "cell_type": "code",
   "execution_count": 135,
   "metadata": {},
   "outputs": [
    {
     "output_type": "stream",
     "name": "stdout",
     "text": [
      "Evaluation Result for lstm - absolute weight for overall 90 percentile.\n"
     ]
    },
    {
     "output_type": "execute_result",
     "data": {
      "text/plain": [
       "    scale    model       method  rmse_original  rmse_diff_random  \\\n",
       "0   async  lstm_fn        zeros        0.14725          0.035404   \n",
       "2   async  lstm_fn   local_mean        0.14725          0.048594   \n",
       "4   async  lstm_fn  global_mean        0.14725         -0.016343   \n",
       "6    sync  lstm_fn        zeros        0.14725          0.058071   \n",
       "8    sync  lstm_fn   local_mean        0.14725          0.041022   \n",
       "10   sync  lstm_fn  global_mean        0.14725          0.054007   \n",
       "\n",
       "    rmse_diff_p90  \n",
       "0       -0.002168  \n",
       "2        0.006032  \n",
       "4       -0.012235  \n",
       "6       -0.000264  \n",
       "8        0.054290  \n",
       "10      -0.001663  "
      ],
      "text/html": "<div>\n<style scoped>\n    .dataframe tbody tr th:only-of-type {\n        vertical-align: middle;\n    }\n\n    .dataframe tbody tr th {\n        vertical-align: top;\n    }\n\n    .dataframe thead th {\n        text-align: right;\n    }\n</style>\n<table border=\"1\" class=\"dataframe\">\n  <thead>\n    <tr style=\"text-align: right;\">\n      <th></th>\n      <th>scale</th>\n      <th>model</th>\n      <th>method</th>\n      <th>rmse_original</th>\n      <th>rmse_diff_random</th>\n      <th>rmse_diff_p90</th>\n    </tr>\n  </thead>\n  <tbody>\n    <tr>\n      <th>0</th>\n      <td>async</td>\n      <td>lstm_fn</td>\n      <td>zeros</td>\n      <td>0.14725</td>\n      <td>0.035404</td>\n      <td>-0.002168</td>\n    </tr>\n    <tr>\n      <th>2</th>\n      <td>async</td>\n      <td>lstm_fn</td>\n      <td>local_mean</td>\n      <td>0.14725</td>\n      <td>0.048594</td>\n      <td>0.006032</td>\n    </tr>\n    <tr>\n      <th>4</th>\n      <td>async</td>\n      <td>lstm_fn</td>\n      <td>global_mean</td>\n      <td>0.14725</td>\n      <td>-0.016343</td>\n      <td>-0.012235</td>\n    </tr>\n    <tr>\n      <th>6</th>\n      <td>sync</td>\n      <td>lstm_fn</td>\n      <td>zeros</td>\n      <td>0.14725</td>\n      <td>0.058071</td>\n      <td>-0.000264</td>\n    </tr>\n    <tr>\n      <th>8</th>\n      <td>sync</td>\n      <td>lstm_fn</td>\n      <td>local_mean</td>\n      <td>0.14725</td>\n      <td>0.041022</td>\n      <td>0.054290</td>\n    </tr>\n    <tr>\n      <th>10</th>\n      <td>sync</td>\n      <td>lstm_fn</td>\n      <td>global_mean</td>\n      <td>0.14725</td>\n      <td>0.054007</td>\n      <td>-0.001663</td>\n    </tr>\n  </tbody>\n</table>\n</div>"
     },
     "metadata": {},
     "execution_count": 135
    }
   ],
   "source": [
    "\n",
    "eva4_df = pd.DataFrame(list(exp4))\n",
    "eva4_df = eva4_df.drop(\"xcoef\", axis=1)\n",
    "eva4_df[\"rmse_diff_random\"] = eva4_df.eval(\"rmse_original - rmse_random\")\n",
    "eva4_df[\"rmse_diff_p90\"] = eva4_df.eval(\"rmse_original - rmse_p90\")\n",
    "\n",
    "tt = eva4_df.loc[:, [\"scale\", \"model\", \"method\", \"rmse_original\",\"rmse_diff_random\", \"rmse_diff_p90\"]]\n",
    "eva4_lstm = tt.query(\"model == 'lstm_fn' \")\n",
    "\n",
    "print(\"Evaluation Result for lstm - absolute weight for overall 90 percentile.\")\n",
    "eva4_lstm"
   ]
  },
  {
   "cell_type": "code",
   "execution_count": null,
   "metadata": {},
   "outputs": [],
   "source": []
  }
 ],
 "metadata": {
  "language_info": {
   "codemirror_mode": {
    "name": "ipython",
    "version": 3
   },
   "file_extension": ".py",
   "mimetype": "text/x-python",
   "name": "python",
   "nbconvert_exporter": "python",
   "pygments_lexer": "ipython3",
   "version": "3.7.7-final"
  },
  "orig_nbformat": 2,
  "kernelspec": {
   "name": "python3",
   "display_name": "Python 3.7.7 64-bit ('dev37': conda)",
   "metadata": {
    "interpreter": {
     "hash": "76fdbec98d1ff00acce9daf8fa18366555273267a59abb67ea09584c9e70ea1a"
    }
   }
  }
 },
 "nbformat": 4,
 "nbformat_minor": 2
}