{
 "cells": [
  {
   "cell_type": "code",
   "execution_count": 1,
   "metadata": {},
   "outputs": [],
   "source": [
    "import os\n",
    "import sys\n",
    "module_path = os.path.abspath(os.path.join('..'))\n",
    "if module_path not in sys.path:\n",
    "    sys.path.append(module_path)\n"
   ]
  },
  {
   "cell_type": "code",
   "execution_count": 2,
   "metadata": {},
   "outputs": [],
   "source": [
    "import numpy as np\n",
    "import pandas as pd\n",
    "import tensorflow as tf\n",
    "\n",
    "from matplotlib import pyplot as plt\n",
    "from matplotlib.colors import LinearSegmentedColormap\n",
    "from matplotlib.patches import Patch\n",
    "\n",
    "from tsx.perturbation import TimeSeriesPerturbation\n",
    "from tsx.xai.lime import LIMETimeSeries, XAIModels\n",
    "from tsx.xai import evaluation as eva\n",
    "\n",
    "from data_util import *\n",
    "from viz import *\n",
    "\n",
    "import itertools\n",
    "import pandas as pd\n",
    "from biokit.viz import corrplot"
   ]
  },
  {
   "source": [
    "# Load Data set\n",
    "- Dataset of Beijin pollution\n",
    "- Learns pollution for 128 historical steps\n",
    "- Data is normalized when fitting into the model."
   ],
   "cell_type": "markdown",
   "metadata": {}
  },
  {
   "cell_type": "code",
   "execution_count": 3,
   "metadata": {},
   "outputs": [],
   "source": [
    "independents = [\"dew\", \"temp\", \"press\", \"wind_direction\", \"wind_speed\", \"snow\", \"rain\"]\n",
    "dependent = \"pollution\"\n",
    "\n",
    "# Load data\n",
    "df = load_data_set_bejin()\n",
    "x_scaler, y_scaler = get_xy_scalers(df, independents, dependent)\n",
    "\n",
    "# Normalize data \n",
    "df_norm = df.copy()\n",
    "df_norm[independents] = x_scaler.transform(df[independents].values)\n",
    "df_norm[dependent] = y_scaler.transform(df[dependent].values.reshape(-1, 1))\n",
    "\n",
    "# Global param\n",
    "n_steps = 128\n",
    "window_size = 8\n",
    "n_variables = len(independents)\n",
    "samples_size = 100"
   ]
  },
  {
   "source": [
    "## Test set prepare\n",
    "- We test here for sample size of 1000 instance in test set.\n",
    "- Test-set include tuples of (X, y)\n"
   ],
   "cell_type": "markdown",
   "metadata": {}
  },
  {
   "cell_type": "code",
   "execution_count": 4,
   "metadata": {},
   "outputs": [],
   "source": [
    "# Test set (random)\n",
    "test_set = []\n",
    "n_instances = 1000\n",
    "for i in range(n_instances):\n",
    "    i_df = get_instance_x(df_norm, n_steps + 1, independents + \n",
    "    [dependent])\n",
    "    _x = i_df.loc[:n_steps-1, independents]\n",
    "    _y = i_df[dependent]   \n",
    "    test_set.append((_x.values.T, _y.to_numpy()[-1]))"
   ]
  },
  {
   "source": [
    "# Load Explanations and Models from File\n",
    "\n",
    "The explanations was generated for each options in:\n",
    "- Scales (Synchronous, Asynchronos )\n",
    "- Replacement Methods for perturbation (zeros, local_mean, global_mean)\n",
    "- Models (lstm, wavenet) as (rnn, cnn) based line models\n",
    "\n",
    "Notice:\n",
    "- An option is an XAI model, e.g. async-zeros as asynchronous with zeros replacement for perturbation\n",
    "- An explanation is a averaging over 10 random instances"
   ],
   "cell_type": "markdown",
   "metadata": {}
  },
  {
   "cell_type": "code",
   "execution_count": 5,
   "metadata": {},
   "outputs": [],
   "source": [
    "# Explanations\n",
    "explanations = np.load('data/explanations.npy', allow_pickle=True)\n",
    "\n",
    "# Models\n",
    "wavenet = tf.keras.models.load_model(f\"{DATA_DIR}/wavenet_mts_128_1.h5\")\n",
    "lstm = tf.keras.models.load_model(f\"{DATA_DIR}/lstm_mts_128_1.h5\")"
   ]
  },
  {
   "cell_type": "code",
   "execution_count": 6,
   "metadata": {},
   "outputs": [],
   "source": [
    "# Functions to perturb test set\n",
    "def replacements(t, method='zeros', v=-1, **kwargs):\n",
    "    if method == 'zeros':\n",
    "        # Calculate zeros replacements\n",
    "        r = np.zeros_like(t)\n",
    "    if method== 'constant':\n",
    "        # ! Be careful when the input data is normalized, \n",
    "        #   so this will make output significant change.\n",
    "        r = np.zeros_like(t)\n",
    "        r.fill(v)\n",
    "    if method == 'mean':\n",
    "        # Calculate means replacements\n",
    "        v = t.mean(axis=1)\n",
    "        r = np.ones_like(t) * v.reshape(t.shape[0], -1)\n",
    "    if method == 'max':\n",
    "        v = t.max(axis=1)\n",
    "        r = np.ones_like(t) * v.reshape(t.shape[0], -1)\n",
    "    if method == 'min':\n",
    "        v = t.min(axis=1)\n",
    "        r = np.ones_like(t) * v.reshape(t.shape[0], -1)\n",
    "    \n",
    "    return r\n",
    "\n",
    "def mask_percentile(t, percentile=90, axis=1, interpolation='higher', random=0):\n",
    "    # Create a mask based on 90 percentile of x_coef\n",
    "    #   > 1 mean on , 0 means off (disabled)\n",
    "    perc = np.percentile(t, percentile, axis=axis, interpolation=interpolation)\n",
    "\n",
    "    # This is a mask for x based on 90 percentile of x_coef\n",
    "    if perc.ndim == 1: \n",
    "        perc = perc.reshape(t.shape[0], -1)\n",
    "\n",
    "    m = 1 - (t >= perc)\n",
    "    \n",
    "    # Random and ensure the same number of changed in percentile.\n",
    "    if random == 1:\n",
    "        m = m.ravel()\n",
    "        np.random.shuffle(m)\n",
    "        m = m.reshape(t.shape)\n",
    "    if random == 2:\n",
    "        np.apply_along_axis(np.random.shuffle, axis=1, arr=m)\n",
    "    return m\n",
    "\n",
    "def perturb(t, m=None, r=None):\n",
    "    if m is None:\n",
    "        m = np.ones_like(t)\n",
    "    if r is None:\n",
    "        r = replacements(t, 'zeros')\n",
    "    # new perturbed x \n",
    "    z = t * m + r * (1 - m)\n",
    "    return z\n",
    "\n",
    "def perturb_X(X, x_coef, method=\"zeros\", axis=1, percentile=90, random=False, **kwargs):\n",
    "    \"\"\" Perturb X based on coefficient or explanations.\n",
    "        :param x_coef: if it is None, then randome used.\n",
    "        :param axis: \n",
    "            - 1 : get percentile rowwise -> get 90 percentile per feature\n",
    "            - None: consider x_coef as an array -> get 90 percentile overall\n",
    "        :param method: perturbation method to generate perturbed test set.\n",
    "        :param random:\n",
    "            - 0/False: no random, use percentile\n",
    "            - 1/True: use random in general\n",
    "            - 2 : random only variables having segments changed\n",
    "    \"\"\"\n",
    "    m = mask_percentile(x_coef, percentile, \n",
    "                        axis=axis, interpolation=\"higher\", random=random)\n",
    "\n",
    "    def _f(x):\n",
    "        r = replacements(x, method=method, **kwargs)\n",
    "        z = perturb(x, m, r)\n",
    "        return z\n",
    "\n",
    "    Z = [_f(x_i) for x_i in X]\n",
    "\n",
    "    return Z"
   ]
  },
  {
   "cell_type": "code",
   "execution_count": 7,
   "metadata": {},
   "outputs": [
    {
     "output_type": "display_data",
     "data": {
      "text/plain": "<Figure size 432x288 with 6 Axes>",
      "image/svg+xml": "<?xml version=\"1.0\" encoding=\"utf-8\" standalone=\"no\"?>\n<!DOCTYPE svg PUBLIC \"-//W3C//DTD SVG 1.1//EN\"\n  \"http://www.w3.org/Graphics/SVG/1.1/DTD/svg11.dtd\">\n<!-- Created with matplotlib (https://matplotlib.org/) -->\n<svg height=\"250.458125pt\" version=\"1.1\" viewBox=\"0 0 402.763125 250.458125\" width=\"402.763125pt\" xmlns=\"http://www.w3.org/2000/svg\" xmlns:xlink=\"http://www.w3.org/1999/xlink\">\n <metadata>\n  <rdf:RDF xmlns:cc=\"http://creativecommons.org/ns#\" xmlns:dc=\"http://purl.org/dc/elements/1.1/\" xmlns:rdf=\"http://www.w3.org/1999/02/22-rdf-syntax-ns#\">\n   <cc:Work>\n    <dc:type rdf:resource=\"http://purl.org/dc/dcmitype/StillImage\"/>\n    <dc:date>2021-02-24T18:00:38.552607</dc:date>\n    <dc:format>image/svg+xml</dc:format>\n    <dc:creator>\n     <cc:Agent>\n      <dc:title>Matplotlib v3.3.2, https://matplotlib.org/</dc:title>\n     </cc:Agent>\n    </dc:creator>\n   </cc:Work>\n  </rdf:RDF>\n </metadata>\n <defs>\n  <style type=\"text/css\">*{stroke-linecap:butt;stroke-linejoin:round;}</style>\n </defs>\n <g id=\"figure_1\">\n  <g id=\"patch_1\">\n   <path d=\"M 0 250.458125 \nL 402.763125 250.458125 \nL 402.763125 0 \nL 0 0 \nz\n\" style=\"fill:none;\"/>\n  </g>\n  <g id=\"axes_1\">\n   <g id=\"patch_2\">\n    <path d=\"M 48.705937 94.798125 \nL 115.665937 94.798125 \nL 115.665937 22.318125 \nL 48.705937 22.318125 \nz\n\" style=\"fill:#ffffff;\"/>\n   </g>\n   <g clip-path=\"url(#p7e80b8cefb)\">\n    <image height=\"73\" id=\"image5b9de251f3\" transform=\"scale(1 -1)translate(0 -73)\" width=\"67\" x=\"48.705937\" xlink:href=\"data:image/png;base64,\niVBORw0KGgoAAAANSUhEUgAAAEMAAABJCAYAAABmUZsVAAAFSUlEQVR4nO2bzW8bRRiHn5ndtddfsZM2UdK0aZW0EqihqD1waw+IC/y9oKIKcQYVCShqUUUc2iSl5Mux4zj+WM8MBwd7J2nW0KwJ0u7v9v5mZjX77Hjm3dmxUG9vG1IBIC+7A/8npTBCSmGElMIIKYURUgojpBRGSCmMkFIYIaUwQkphhJTCCCmFEVIKI6QURkjuZXfgMtU1gRUnFkbXBLwMFNqIoZdYGE3d49vWXctLLIyahq+372LSkQE15fPy9wXLSyyMHVUiv5axvMTCqKkilaq2vOTC6BcpVZsQ4pFYGMc6g9zYsbzEwuhoD7Vfs7zEwgDAaDCjD4qJheEJhVOeAZ3CIO90YXHe8hILo+y0aS2XIfTZPbEwrjhHHNxxESkMmHUPOVpRlpdcGPKYhZVdy0ssjIrUfLbw0vJEUk/uHOseP/bssZDYkZEVLquZruUlFoYjJGWRs7zEwlBG0zY9y0ssjK7p8yJwLC+xMI5MwDfNB2jSPVD2leDJnx9aXmJh7Oo8r9fnLC+xMGqqSLHqpi9qADv9KSprCpFu7kBD5ShWG5aXWBjHKovY3La8xMIIjINqHA72QU80ERjK2B9nHDH+GMi4NqfLL6rAOKAnvJ+hjGajf2x5190cnnDOaQEN3aamRh0rSMGcUxjGgVFs9dux9nOvWwSOLC92GH0UT7uLBGZwaQfNbOFtJIytPvzUvTmMb3j7zIWqd03A950bqBgPGlUPr5KdNIxjHfC4do+uGlxaCsOn+S2KEW2e9+b5au/eML5f3uCRXx3GTd3ny/2PrYMlF9XW7jQrvLK82GG0jOa7zVuo/uApCmmoL2I96dN6drzEDxtLw7iz6MJMCIYRPN1cwuj4YIg3/hkv/pFhBKpaRPx9XEpC/ZNMZJsXh/OItfww/tWdh9uj8rrOwFoBEeMcWtg+C3YCPxOX0jo4J1sF2oGm9gF1bptX9RnKo4HA3nTeKq+rPFNVYoXhH/TPeBP4mXiU13u47cHNa0/S1DlOz9xhNRp5Vn4brRbNJRtGU+eoVDuIfnzbtU6rx2m2scPoGA9/s4Fondyc59LSWaJg6JaH9/rNMM4e3LTKWzpDZqMGwdmn+b4yQXDGix1GYFzYP0A1mgAIPztIcCIkOxK1PfqG4bWWrPKOyaB39jC9szfw3npHEjeRDNR0e5hgtL+oTHR+IBRWffGO6cX0AqvOJBQ7DIlG5HPIk2Eo/CzOmJlPuyD90VKnPbvcQSNzPsZ5/6TLKD0WZuwwMkJhZmeQhcEkaDwXXzyLbGN8hbw2Oh4QlOxlz5cBzM8i++evSONkmi3U7m5kndhh+CKgfbOE0x68W2hPkJfdyDZOKaBz68ow7k7bq0ZBduncmr7QapLdzsJ/DSMvA+rLHk5v0HHtCKZkJ7LN1coR9Tuzw7g7Z4+AkmxTX/EulGeU3RLe8+g6scMoiD7NZY0MBkPdSE1FtoHsuW2Wy/s8XRnBmJpvWuUV2eZwxSAukI67bY/KuDrvffVzlBcwtVynr0/eTYShJAOiYKyW/uCXO6Ojyx/NvbXKK7JH/nbDOuf9b9Xar1wCDOnwcLFK/yS3kBjKMvomVnObPLw+PYzvFt5Y5SUpeLS4bn3w+bd6cvX+2DoTmEBdvqg8o3cCwxGavPAi23yQ2YXKaMVZdOvA6OWuKDw+n/55bL4SpcfTq2PrxA7DxeFBtoYKbcFnRT6iBVxzHErZ0WldX0jCMLLC5UFm70L98orjE7bYYThCWlt2/0RF6VOMeOiOkCy4UdtD45XJjM9R0j/shZTCCCmFEVIKI6QURkh/AZmq2KsyFPEuAAAAAElFTkSuQmCC\" y=\"-21.798125\"/>\n   </g>\n   <g id=\"matplotlib.axis_1\"/>\n   <g id=\"matplotlib.axis_2\"/>\n   <g id=\"patch_3\">\n    <path d=\"M 48.705937 94.798125 \nL 48.705937 22.318125 \n\" style=\"fill:none;stroke:#000000;stroke-linecap:square;stroke-linejoin:miter;stroke-width:0.8;\"/>\n   </g>\n   <g id=\"patch_4\">\n    <path d=\"M 115.665937 94.798125 \nL 115.665937 22.318125 \n\" style=\"fill:none;stroke:#000000;stroke-linecap:square;stroke-linejoin:miter;stroke-width:0.8;\"/>\n   </g>\n   <g id=\"patch_5\">\n    <path d=\"M 48.705937 94.798125 \nL 115.665937 94.798125 \n\" style=\"fill:none;stroke:#000000;stroke-linecap:square;stroke-linejoin:miter;stroke-width:0.8;\"/>\n   </g>\n   <g id=\"patch_6\">\n    <path d=\"M 48.705937 22.318125 \nL 115.665937 22.318125 \n\" style=\"fill:none;stroke:#000000;stroke-linecap:square;stroke-linejoin:miter;stroke-width:0.8;\"/>\n   </g>\n   <g id=\"text_1\">\n    <!-- overall 90 percentile -->\n    <g transform=\"translate(20.341875 16.318125)scale(0.12 -0.12)\">\n     <defs>\n      <path d=\"M 30.609375 48.390625 \nQ 23.390625 48.390625 19.1875 42.75 \nQ 14.984375 37.109375 14.984375 27.296875 \nQ 14.984375 17.484375 19.15625 11.84375 \nQ 23.34375 6.203125 30.609375 6.203125 \nQ 37.796875 6.203125 41.984375 11.859375 \nQ 46.1875 17.53125 46.1875 27.296875 \nQ 46.1875 37.015625 41.984375 42.703125 \nQ 37.796875 48.390625 30.609375 48.390625 \nz\nM 30.609375 56 \nQ 42.328125 56 49.015625 48.375 \nQ 55.71875 40.765625 55.71875 27.296875 \nQ 55.71875 13.875 49.015625 6.21875 \nQ 42.328125 -1.421875 30.609375 -1.421875 \nQ 18.84375 -1.421875 12.171875 6.21875 \nQ 5.515625 13.875 5.515625 27.296875 \nQ 5.515625 40.765625 12.171875 48.375 \nQ 18.84375 56 30.609375 56 \nz\n\" id=\"DejaVuSans-111\"/>\n      <path d=\"M 2.984375 54.6875 \nL 12.5 54.6875 \nL 29.59375 8.796875 \nL 46.6875 54.6875 \nL 56.203125 54.6875 \nL 35.6875 0 \nL 23.484375 0 \nz\n\" id=\"DejaVuSans-118\"/>\n      <path d=\"M 56.203125 29.59375 \nL 56.203125 25.203125 \nL 14.890625 25.203125 \nQ 15.484375 15.921875 20.484375 11.0625 \nQ 25.484375 6.203125 34.421875 6.203125 \nQ 39.59375 6.203125 44.453125 7.46875 \nQ 49.3125 8.734375 54.109375 11.28125 \nL 54.109375 2.78125 \nQ 49.265625 0.734375 44.1875 -0.34375 \nQ 39.109375 -1.421875 33.890625 -1.421875 \nQ 20.796875 -1.421875 13.15625 6.1875 \nQ 5.515625 13.8125 5.515625 26.8125 \nQ 5.515625 40.234375 12.765625 48.109375 \nQ 20.015625 56 32.328125 56 \nQ 43.359375 56 49.78125 48.890625 \nQ 56.203125 41.796875 56.203125 29.59375 \nz\nM 47.21875 32.234375 \nQ 47.125 39.59375 43.09375 43.984375 \nQ 39.0625 48.390625 32.421875 48.390625 \nQ 24.90625 48.390625 20.390625 44.140625 \nQ 15.875 39.890625 15.1875 32.171875 \nz\n\" id=\"DejaVuSans-101\"/>\n      <path d=\"M 41.109375 46.296875 \nQ 39.59375 47.171875 37.8125 47.578125 \nQ 36.03125 48 33.890625 48 \nQ 26.265625 48 22.1875 43.046875 \nQ 18.109375 38.09375 18.109375 28.8125 \nL 18.109375 0 \nL 9.078125 0 \nL 9.078125 54.6875 \nL 18.109375 54.6875 \nL 18.109375 46.1875 \nQ 20.953125 51.171875 25.484375 53.578125 \nQ 30.03125 56 36.53125 56 \nQ 37.453125 56 38.578125 55.875 \nQ 39.703125 55.765625 41.0625 55.515625 \nz\n\" id=\"DejaVuSans-114\"/>\n      <path d=\"M 34.28125 27.484375 \nQ 23.390625 27.484375 19.1875 25 \nQ 14.984375 22.515625 14.984375 16.5 \nQ 14.984375 11.71875 18.140625 8.90625 \nQ 21.296875 6.109375 26.703125 6.109375 \nQ 34.1875 6.109375 38.703125 11.40625 \nQ 43.21875 16.703125 43.21875 25.484375 \nL 43.21875 27.484375 \nz\nM 52.203125 31.203125 \nL 52.203125 0 \nL 43.21875 0 \nL 43.21875 8.296875 \nQ 40.140625 3.328125 35.546875 0.953125 \nQ 30.953125 -1.421875 24.3125 -1.421875 \nQ 15.921875 -1.421875 10.953125 3.296875 \nQ 6 8.015625 6 15.921875 \nQ 6 25.140625 12.171875 29.828125 \nQ 18.359375 34.515625 30.609375 34.515625 \nL 43.21875 34.515625 \nL 43.21875 35.40625 \nQ 43.21875 41.609375 39.140625 45 \nQ 35.0625 48.390625 27.6875 48.390625 \nQ 23 48.390625 18.546875 47.265625 \nQ 14.109375 46.140625 10.015625 43.890625 \nL 10.015625 52.203125 \nQ 14.9375 54.109375 19.578125 55.046875 \nQ 24.21875 56 28.609375 56 \nQ 40.484375 56 46.34375 49.84375 \nQ 52.203125 43.703125 52.203125 31.203125 \nz\n\" id=\"DejaVuSans-97\"/>\n      <path d=\"M 9.421875 75.984375 \nL 18.40625 75.984375 \nL 18.40625 0 \nL 9.421875 0 \nz\n\" id=\"DejaVuSans-108\"/>\n      <path id=\"DejaVuSans-32\"/>\n      <path d=\"M 10.984375 1.515625 \nL 10.984375 10.5 \nQ 14.703125 8.734375 18.5 7.8125 \nQ 22.3125 6.890625 25.984375 6.890625 \nQ 35.75 6.890625 40.890625 13.453125 \nQ 46.046875 20.015625 46.78125 33.40625 \nQ 43.953125 29.203125 39.59375 26.953125 \nQ 35.25 24.703125 29.984375 24.703125 \nQ 19.046875 24.703125 12.671875 31.3125 \nQ 6.296875 37.9375 6.296875 49.421875 \nQ 6.296875 60.640625 12.9375 67.421875 \nQ 19.578125 74.21875 30.609375 74.21875 \nQ 43.265625 74.21875 49.921875 64.515625 \nQ 56.59375 54.828125 56.59375 36.375 \nQ 56.59375 19.140625 48.40625 8.859375 \nQ 40.234375 -1.421875 26.421875 -1.421875 \nQ 22.703125 -1.421875 18.890625 -0.6875 \nQ 15.09375 0.046875 10.984375 1.515625 \nz\nM 30.609375 32.421875 \nQ 37.25 32.421875 41.125 36.953125 \nQ 45.015625 41.5 45.015625 49.421875 \nQ 45.015625 57.28125 41.125 61.84375 \nQ 37.25 66.40625 30.609375 66.40625 \nQ 23.96875 66.40625 20.09375 61.84375 \nQ 16.21875 57.28125 16.21875 49.421875 \nQ 16.21875 41.5 20.09375 36.953125 \nQ 23.96875 32.421875 30.609375 32.421875 \nz\n\" id=\"DejaVuSans-57\"/>\n      <path d=\"M 31.78125 66.40625 \nQ 24.171875 66.40625 20.328125 58.90625 \nQ 16.5 51.421875 16.5 36.375 \nQ 16.5 21.390625 20.328125 13.890625 \nQ 24.171875 6.390625 31.78125 6.390625 \nQ 39.453125 6.390625 43.28125 13.890625 \nQ 47.125 21.390625 47.125 36.375 \nQ 47.125 51.421875 43.28125 58.90625 \nQ 39.453125 66.40625 31.78125 66.40625 \nz\nM 31.78125 74.21875 \nQ 44.046875 74.21875 50.515625 64.515625 \nQ 56.984375 54.828125 56.984375 36.375 \nQ 56.984375 17.96875 50.515625 8.265625 \nQ 44.046875 -1.421875 31.78125 -1.421875 \nQ 19.53125 -1.421875 13.0625 8.265625 \nQ 6.59375 17.96875 6.59375 36.375 \nQ 6.59375 54.828125 13.0625 64.515625 \nQ 19.53125 74.21875 31.78125 74.21875 \nz\n\" id=\"DejaVuSans-48\"/>\n      <path d=\"M 18.109375 8.203125 \nL 18.109375 -20.796875 \nL 9.078125 -20.796875 \nL 9.078125 54.6875 \nL 18.109375 54.6875 \nL 18.109375 46.390625 \nQ 20.953125 51.265625 25.265625 53.625 \nQ 29.59375 56 35.59375 56 \nQ 45.5625 56 51.78125 48.09375 \nQ 58.015625 40.1875 58.015625 27.296875 \nQ 58.015625 14.40625 51.78125 6.484375 \nQ 45.5625 -1.421875 35.59375 -1.421875 \nQ 29.59375 -1.421875 25.265625 0.953125 \nQ 20.953125 3.328125 18.109375 8.203125 \nz\nM 48.6875 27.296875 \nQ 48.6875 37.203125 44.609375 42.84375 \nQ 40.53125 48.484375 33.40625 48.484375 \nQ 26.265625 48.484375 22.1875 42.84375 \nQ 18.109375 37.203125 18.109375 27.296875 \nQ 18.109375 17.390625 22.1875 11.75 \nQ 26.265625 6.109375 33.40625 6.109375 \nQ 40.53125 6.109375 44.609375 11.75 \nQ 48.6875 17.390625 48.6875 27.296875 \nz\n\" id=\"DejaVuSans-112\"/>\n      <path d=\"M 48.78125 52.59375 \nL 48.78125 44.1875 \nQ 44.96875 46.296875 41.140625 47.34375 \nQ 37.3125 48.390625 33.40625 48.390625 \nQ 24.65625 48.390625 19.8125 42.84375 \nQ 14.984375 37.3125 14.984375 27.296875 \nQ 14.984375 17.28125 19.8125 11.734375 \nQ 24.65625 6.203125 33.40625 6.203125 \nQ 37.3125 6.203125 41.140625 7.25 \nQ 44.96875 8.296875 48.78125 10.40625 \nL 48.78125 2.09375 \nQ 45.015625 0.34375 40.984375 -0.53125 \nQ 36.96875 -1.421875 32.421875 -1.421875 \nQ 20.0625 -1.421875 12.78125 6.34375 \nQ 5.515625 14.109375 5.515625 27.296875 \nQ 5.515625 40.671875 12.859375 48.328125 \nQ 20.21875 56 33.015625 56 \nQ 37.15625 56 41.109375 55.140625 \nQ 45.0625 54.296875 48.78125 52.59375 \nz\n\" id=\"DejaVuSans-99\"/>\n      <path d=\"M 54.890625 33.015625 \nL 54.890625 0 \nL 45.90625 0 \nL 45.90625 32.71875 \nQ 45.90625 40.484375 42.875 44.328125 \nQ 39.84375 48.1875 33.796875 48.1875 \nQ 26.515625 48.1875 22.3125 43.546875 \nQ 18.109375 38.921875 18.109375 30.90625 \nL 18.109375 0 \nL 9.078125 0 \nL 9.078125 54.6875 \nL 18.109375 54.6875 \nL 18.109375 46.1875 \nQ 21.34375 51.125 25.703125 53.5625 \nQ 30.078125 56 35.796875 56 \nQ 45.21875 56 50.046875 50.171875 \nQ 54.890625 44.34375 54.890625 33.015625 \nz\n\" id=\"DejaVuSans-110\"/>\n      <path d=\"M 18.3125 70.21875 \nL 18.3125 54.6875 \nL 36.8125 54.6875 \nL 36.8125 47.703125 \nL 18.3125 47.703125 \nL 18.3125 18.015625 \nQ 18.3125 11.328125 20.140625 9.421875 \nQ 21.96875 7.515625 27.59375 7.515625 \nL 36.8125 7.515625 \nL 36.8125 0 \nL 27.59375 0 \nQ 17.1875 0 13.234375 3.875 \nQ 9.28125 7.765625 9.28125 18.015625 \nL 9.28125 47.703125 \nL 2.6875 47.703125 \nL 2.6875 54.6875 \nL 9.28125 54.6875 \nL 9.28125 70.21875 \nz\n\" id=\"DejaVuSans-116\"/>\n      <path d=\"M 9.421875 54.6875 \nL 18.40625 54.6875 \nL 18.40625 0 \nL 9.421875 0 \nz\nM 9.421875 75.984375 \nL 18.40625 75.984375 \nL 18.40625 64.59375 \nL 9.421875 64.59375 \nz\n\" id=\"DejaVuSans-105\"/>\n     </defs>\n     <use xlink:href=\"#DejaVuSans-111\"/>\n     <use x=\"61.181641\" xlink:href=\"#DejaVuSans-118\"/>\n     <use x=\"120.361328\" xlink:href=\"#DejaVuSans-101\"/>\n     <use x=\"181.884766\" xlink:href=\"#DejaVuSans-114\"/>\n     <use x=\"222.998047\" xlink:href=\"#DejaVuSans-97\"/>\n     <use x=\"284.277344\" xlink:href=\"#DejaVuSans-108\"/>\n     <use x=\"312.060547\" xlink:href=\"#DejaVuSans-108\"/>\n     <use x=\"339.84375\" xlink:href=\"#DejaVuSans-32\"/>\n     <use x=\"371.630859\" xlink:href=\"#DejaVuSans-57\"/>\n     <use x=\"435.253906\" xlink:href=\"#DejaVuSans-48\"/>\n     <use x=\"498.876953\" xlink:href=\"#DejaVuSans-32\"/>\n     <use x=\"530.664062\" xlink:href=\"#DejaVuSans-112\"/>\n     <use x=\"594.140625\" xlink:href=\"#DejaVuSans-101\"/>\n     <use x=\"655.664062\" xlink:href=\"#DejaVuSans-114\"/>\n     <use x=\"694.527344\" xlink:href=\"#DejaVuSans-99\"/>\n     <use x=\"749.507812\" xlink:href=\"#DejaVuSans-101\"/>\n     <use x=\"811.03125\" xlink:href=\"#DejaVuSans-110\"/>\n     <use x=\"874.410156\" xlink:href=\"#DejaVuSans-116\"/>\n     <use x=\"913.619141\" xlink:href=\"#DejaVuSans-105\"/>\n     <use x=\"941.402344\" xlink:href=\"#DejaVuSans-108\"/>\n     <use x=\"969.185547\" xlink:href=\"#DejaVuSans-101\"/>\n    </g>\n   </g>\n  </g>\n  <g id=\"axes_2\">\n   <g id=\"patch_7\">\n    <path d=\"M 182.625937 94.798125 \nL 249.585937 94.798125 \nL 249.585937 22.318125 \nL 182.625937 22.318125 \nz\n\" style=\"fill:#ffffff;\"/>\n   </g>\n   <g clip-path=\"url(#p7da3e1ec8f)\">\n    <image height=\"73\" id=\"image539fe00dc1\" transform=\"scale(1 -1)translate(0 -73)\" width=\"67\" x=\"182.625937\" xlink:href=\"data:image/png;base64,\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\" y=\"-21.798125\"/>\n   </g>\n   <g id=\"matplotlib.axis_3\"/>\n   <g id=\"matplotlib.axis_4\"/>\n   <g id=\"patch_8\">\n    <path d=\"M 182.625937 94.798125 \nL 182.625937 22.318125 \n\" style=\"fill:none;stroke:#000000;stroke-linecap:square;stroke-linejoin:miter;stroke-width:0.8;\"/>\n   </g>\n   <g id=\"patch_9\">\n    <path d=\"M 249.585937 94.798125 \nL 249.585937 22.318125 \n\" style=\"fill:none;stroke:#000000;stroke-linecap:square;stroke-linejoin:miter;stroke-width:0.8;\"/>\n   </g>\n   <g id=\"patch_10\">\n    <path d=\"M 182.625937 94.798125 \nL 249.585937 94.798125 \n\" style=\"fill:none;stroke:#000000;stroke-linecap:square;stroke-linejoin:miter;stroke-width:0.8;\"/>\n   </g>\n   <g id=\"patch_11\">\n    <path d=\"M 182.625937 22.318125 \nL 249.585937 22.318125 \n\" style=\"fill:none;stroke:#000000;stroke-linecap:square;stroke-linejoin:miter;stroke-width:0.8;\"/>\n   </g>\n   <g id=\"text_2\">\n    <!-- with random 1 -->\n    <g transform=\"translate(172.475625 16.318125)scale(0.12 -0.12)\">\n     <defs>\n      <path d=\"M 4.203125 54.6875 \nL 13.1875 54.6875 \nL 24.421875 12.015625 \nL 35.59375 54.6875 \nL 46.1875 54.6875 \nL 57.421875 12.015625 \nL 68.609375 54.6875 \nL 77.59375 54.6875 \nL 63.28125 0 \nL 52.6875 0 \nL 40.921875 44.828125 \nL 29.109375 0 \nL 18.5 0 \nz\n\" id=\"DejaVuSans-119\"/>\n      <path d=\"M 54.890625 33.015625 \nL 54.890625 0 \nL 45.90625 0 \nL 45.90625 32.71875 \nQ 45.90625 40.484375 42.875 44.328125 \nQ 39.84375 48.1875 33.796875 48.1875 \nQ 26.515625 48.1875 22.3125 43.546875 \nQ 18.109375 38.921875 18.109375 30.90625 \nL 18.109375 0 \nL 9.078125 0 \nL 9.078125 75.984375 \nL 18.109375 75.984375 \nL 18.109375 46.1875 \nQ 21.34375 51.125 25.703125 53.5625 \nQ 30.078125 56 35.796875 56 \nQ 45.21875 56 50.046875 50.171875 \nQ 54.890625 44.34375 54.890625 33.015625 \nz\n\" id=\"DejaVuSans-104\"/>\n      <path d=\"M 45.40625 46.390625 \nL 45.40625 75.984375 \nL 54.390625 75.984375 \nL 54.390625 0 \nL 45.40625 0 \nL 45.40625 8.203125 \nQ 42.578125 3.328125 38.25 0.953125 \nQ 33.9375 -1.421875 27.875 -1.421875 \nQ 17.96875 -1.421875 11.734375 6.484375 \nQ 5.515625 14.40625 5.515625 27.296875 \nQ 5.515625 40.1875 11.734375 48.09375 \nQ 17.96875 56 27.875 56 \nQ 33.9375 56 38.25 53.625 \nQ 42.578125 51.265625 45.40625 46.390625 \nz\nM 14.796875 27.296875 \nQ 14.796875 17.390625 18.875 11.75 \nQ 22.953125 6.109375 30.078125 6.109375 \nQ 37.203125 6.109375 41.296875 11.75 \nQ 45.40625 17.390625 45.40625 27.296875 \nQ 45.40625 37.203125 41.296875 42.84375 \nQ 37.203125 48.484375 30.078125 48.484375 \nQ 22.953125 48.484375 18.875 42.84375 \nQ 14.796875 37.203125 14.796875 27.296875 \nz\n\" id=\"DejaVuSans-100\"/>\n      <path d=\"M 52 44.1875 \nQ 55.375 50.25 60.0625 53.125 \nQ 64.75 56 71.09375 56 \nQ 79.640625 56 84.28125 50.015625 \nQ 88.921875 44.046875 88.921875 33.015625 \nL 88.921875 0 \nL 79.890625 0 \nL 79.890625 32.71875 \nQ 79.890625 40.578125 77.09375 44.375 \nQ 74.3125 48.1875 68.609375 48.1875 \nQ 61.625 48.1875 57.5625 43.546875 \nQ 53.515625 38.921875 53.515625 30.90625 \nL 53.515625 0 \nL 44.484375 0 \nL 44.484375 32.71875 \nQ 44.484375 40.625 41.703125 44.40625 \nQ 38.921875 48.1875 33.109375 48.1875 \nQ 26.21875 48.1875 22.15625 43.53125 \nQ 18.109375 38.875 18.109375 30.90625 \nL 18.109375 0 \nL 9.078125 0 \nL 9.078125 54.6875 \nL 18.109375 54.6875 \nL 18.109375 46.1875 \nQ 21.1875 51.21875 25.484375 53.609375 \nQ 29.78125 56 35.6875 56 \nQ 41.65625 56 45.828125 52.96875 \nQ 50 49.953125 52 44.1875 \nz\n\" id=\"DejaVuSans-109\"/>\n      <path d=\"M 12.40625 8.296875 \nL 28.515625 8.296875 \nL 28.515625 63.921875 \nL 10.984375 60.40625 \nL 10.984375 69.390625 \nL 28.421875 72.90625 \nL 38.28125 72.90625 \nL 38.28125 8.296875 \nL 54.390625 8.296875 \nL 54.390625 0 \nL 12.40625 0 \nz\n\" id=\"DejaVuSans-49\"/>\n     </defs>\n     <use xlink:href=\"#DejaVuSans-119\"/>\n     <use x=\"81.787109\" xlink:href=\"#DejaVuSans-105\"/>\n     <use x=\"109.570312\" xlink:href=\"#DejaVuSans-116\"/>\n     <use x=\"148.779297\" xlink:href=\"#DejaVuSans-104\"/>\n     <use x=\"212.158203\" xlink:href=\"#DejaVuSans-32\"/>\n     <use x=\"243.945312\" xlink:href=\"#DejaVuSans-114\"/>\n     <use x=\"285.058594\" xlink:href=\"#DejaVuSans-97\"/>\n     <use x=\"346.337891\" xlink:href=\"#DejaVuSans-110\"/>\n     <use x=\"409.716797\" xlink:href=\"#DejaVuSans-100\"/>\n     <use x=\"473.193359\" xlink:href=\"#DejaVuSans-111\"/>\n     <use x=\"534.375\" xlink:href=\"#DejaVuSans-109\"/>\n     <use x=\"631.787109\" xlink:href=\"#DejaVuSans-32\"/>\n     <use x=\"663.574219\" xlink:href=\"#DejaVuSans-49\"/>\n    </g>\n   </g>\n  </g>\n  <g id=\"axes_3\">\n   <g id=\"patch_12\">\n    <path d=\"M 316.545937 94.798125 \nL 383.505938 94.798125 \nL 383.505938 22.318125 \nL 316.545937 22.318125 \nz\n\" style=\"fill:#ffffff;\"/>\n   </g>\n   <g clip-path=\"url(#p66c9e94a2f)\">\n    <image height=\"73\" id=\"imageba81d5b9bb\" transform=\"scale(1 -1)translate(0 -73)\" width=\"67\" x=\"316.545937\" xlink:href=\"data:image/png;base64,\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\" y=\"-21.798125\"/>\n   </g>\n   <g id=\"matplotlib.axis_5\"/>\n   <g id=\"matplotlib.axis_6\"/>\n   <g id=\"patch_13\">\n    <path d=\"M 316.545937 94.798125 \nL 316.545937 22.318125 \n\" style=\"fill:none;stroke:#000000;stroke-linecap:square;stroke-linejoin:miter;stroke-width:0.8;\"/>\n   </g>\n   <g id=\"patch_14\">\n    <path d=\"M 383.505938 94.798125 \nL 383.505938 22.318125 \n\" style=\"fill:none;stroke:#000000;stroke-linecap:square;stroke-linejoin:miter;stroke-width:0.8;\"/>\n   </g>\n   <g id=\"patch_15\">\n    <path d=\"M 316.545937 94.798125 \nL 383.505938 94.798125 \n\" style=\"fill:none;stroke:#000000;stroke-linecap:square;stroke-linejoin:miter;stroke-width:0.8;\"/>\n   </g>\n   <g id=\"patch_16\">\n    <path d=\"M 316.545937 22.318125 \nL 383.505938 22.318125 \n\" style=\"fill:none;stroke:#000000;stroke-linecap:square;stroke-linejoin:miter;stroke-width:0.8;\"/>\n   </g>\n   <g id=\"text_3\">\n    <!-- with random 2  -->\n    <g transform=\"translate(304.48875 16.318125)scale(0.12 -0.12)\">\n     <defs>\n      <path d=\"M 19.1875 8.296875 \nL 53.609375 8.296875 \nL 53.609375 0 \nL 7.328125 0 \nL 7.328125 8.296875 \nQ 12.9375 14.109375 22.625 23.890625 \nQ 32.328125 33.6875 34.8125 36.53125 \nQ 39.546875 41.84375 41.421875 45.53125 \nQ 43.3125 49.21875 43.3125 52.78125 \nQ 43.3125 58.59375 39.234375 62.25 \nQ 35.15625 65.921875 28.609375 65.921875 \nQ 23.96875 65.921875 18.8125 64.3125 \nQ 13.671875 62.703125 7.8125 59.421875 \nL 7.8125 69.390625 \nQ 13.765625 71.78125 18.9375 73 \nQ 24.125 74.21875 28.421875 74.21875 \nQ 39.75 74.21875 46.484375 68.546875 \nQ 53.21875 62.890625 53.21875 53.421875 \nQ 53.21875 48.921875 51.53125 44.890625 \nQ 49.859375 40.875 45.40625 35.40625 \nQ 44.1875 33.984375 37.640625 27.21875 \nQ 31.109375 20.453125 19.1875 8.296875 \nz\n\" id=\"DejaVuSans-50\"/>\n     </defs>\n     <use xlink:href=\"#DejaVuSans-119\"/>\n     <use x=\"81.787109\" xlink:href=\"#DejaVuSans-105\"/>\n     <use x=\"109.570312\" xlink:href=\"#DejaVuSans-116\"/>\n     <use x=\"148.779297\" xlink:href=\"#DejaVuSans-104\"/>\n     <use x=\"212.158203\" xlink:href=\"#DejaVuSans-32\"/>\n     <use x=\"243.945312\" xlink:href=\"#DejaVuSans-114\"/>\n     <use x=\"285.058594\" xlink:href=\"#DejaVuSans-97\"/>\n     <use x=\"346.337891\" xlink:href=\"#DejaVuSans-110\"/>\n     <use x=\"409.716797\" xlink:href=\"#DejaVuSans-100\"/>\n     <use x=\"473.193359\" xlink:href=\"#DejaVuSans-111\"/>\n     <use x=\"534.375\" xlink:href=\"#DejaVuSans-109\"/>\n     <use x=\"631.787109\" xlink:href=\"#DejaVuSans-32\"/>\n     <use x=\"663.574219\" xlink:href=\"#DejaVuSans-50\"/>\n     <use x=\"727.197266\" xlink:href=\"#DejaVuSans-32\"/>\n    </g>\n   </g>\n  </g>\n  <g id=\"axes_4\">\n   <g id=\"patch_17\">\n    <path d=\"M 48.705937 239.758125 \nL 115.665937 239.758125 \nL 115.665937 167.278125 \nL 48.705937 167.278125 \nz\n\" style=\"fill:#ffffff;\"/>\n   </g>\n   <g clip-path=\"url(#p5dd45ccf1c)\">\n    <image height=\"73\" id=\"image0961d7c02f\" transform=\"scale(1 -1)translate(0 -73)\" width=\"67\" x=\"48.705937\" xlink:href=\"data:image/png;base64,\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\" y=\"-166.758125\"/>\n   </g>\n   <g id=\"matplotlib.axis_7\"/>\n   <g id=\"matplotlib.axis_8\"/>\n   <g id=\"patch_18\">\n    <path d=\"M 48.705937 239.758125 \nL 48.705937 167.278125 \n\" style=\"fill:none;stroke:#000000;stroke-linecap:square;stroke-linejoin:miter;stroke-width:0.8;\"/>\n   </g>\n   <g id=\"patch_19\">\n    <path d=\"M 115.665937 239.758125 \nL 115.665937 167.278125 \n\" style=\"fill:none;stroke:#000000;stroke-linecap:square;stroke-linejoin:miter;stroke-width:0.8;\"/>\n   </g>\n   <g id=\"patch_20\">\n    <path d=\"M 48.705937 239.758125 \nL 115.665937 239.758125 \n\" style=\"fill:none;stroke:#000000;stroke-linecap:square;stroke-linejoin:miter;stroke-width:0.8;\"/>\n   </g>\n   <g id=\"patch_21\">\n    <path d=\"M 48.705937 167.278125 \nL 115.665937 167.278125 \n\" style=\"fill:none;stroke:#000000;stroke-linecap:square;stroke-linejoin:miter;stroke-width:0.8;\"/>\n   </g>\n   <g id=\"text_4\">\n    <!-- per feature 90 percentile -->\n    <g transform=\"translate(7.2 161.278125)scale(0.12 -0.12)\">\n     <defs>\n      <path d=\"M 37.109375 75.984375 \nL 37.109375 68.5 \nL 28.515625 68.5 \nQ 23.6875 68.5 21.796875 66.546875 \nQ 19.921875 64.59375 19.921875 59.515625 \nL 19.921875 54.6875 \nL 34.71875 54.6875 \nL 34.71875 47.703125 \nL 19.921875 47.703125 \nL 19.921875 0 \nL 10.890625 0 \nL 10.890625 47.703125 \nL 2.296875 47.703125 \nL 2.296875 54.6875 \nL 10.890625 54.6875 \nL 10.890625 58.5 \nQ 10.890625 67.625 15.140625 71.796875 \nQ 19.390625 75.984375 28.609375 75.984375 \nz\n\" id=\"DejaVuSans-102\"/>\n      <path d=\"M 8.5 21.578125 \nL 8.5 54.6875 \nL 17.484375 54.6875 \nL 17.484375 21.921875 \nQ 17.484375 14.15625 20.5 10.265625 \nQ 23.53125 6.390625 29.59375 6.390625 \nQ 36.859375 6.390625 41.078125 11.03125 \nQ 45.3125 15.671875 45.3125 23.6875 \nL 45.3125 54.6875 \nL 54.296875 54.6875 \nL 54.296875 0 \nL 45.3125 0 \nL 45.3125 8.40625 \nQ 42.046875 3.421875 37.71875 1 \nQ 33.40625 -1.421875 27.6875 -1.421875 \nQ 18.265625 -1.421875 13.375 4.4375 \nQ 8.5 10.296875 8.5 21.578125 \nz\nM 31.109375 56 \nz\n\" id=\"DejaVuSans-117\"/>\n     </defs>\n     <use xlink:href=\"#DejaVuSans-112\"/>\n     <use x=\"63.476562\" xlink:href=\"#DejaVuSans-101\"/>\n     <use x=\"125\" xlink:href=\"#DejaVuSans-114\"/>\n     <use x=\"166.113281\" xlink:href=\"#DejaVuSans-32\"/>\n     <use x=\"197.900391\" xlink:href=\"#DejaVuSans-102\"/>\n     <use x=\"233.105469\" xlink:href=\"#DejaVuSans-101\"/>\n     <use x=\"294.628906\" xlink:href=\"#DejaVuSans-97\"/>\n     <use x=\"355.908203\" xlink:href=\"#DejaVuSans-116\"/>\n     <use x=\"395.117188\" xlink:href=\"#DejaVuSans-117\"/>\n     <use x=\"458.496094\" xlink:href=\"#DejaVuSans-114\"/>\n     <use x=\"497.359375\" xlink:href=\"#DejaVuSans-101\"/>\n     <use x=\"558.882812\" xlink:href=\"#DejaVuSans-32\"/>\n     <use x=\"590.669922\" xlink:href=\"#DejaVuSans-57\"/>\n     <use x=\"654.292969\" xlink:href=\"#DejaVuSans-48\"/>\n     <use x=\"717.916016\" xlink:href=\"#DejaVuSans-32\"/>\n     <use x=\"749.703125\" xlink:href=\"#DejaVuSans-112\"/>\n     <use x=\"813.179688\" xlink:href=\"#DejaVuSans-101\"/>\n     <use x=\"874.703125\" xlink:href=\"#DejaVuSans-114\"/>\n     <use x=\"913.566406\" xlink:href=\"#DejaVuSans-99\"/>\n     <use x=\"968.546875\" xlink:href=\"#DejaVuSans-101\"/>\n     <use x=\"1030.070312\" xlink:href=\"#DejaVuSans-110\"/>\n     <use x=\"1093.449219\" xlink:href=\"#DejaVuSans-116\"/>\n     <use x=\"1132.658203\" xlink:href=\"#DejaVuSans-105\"/>\n     <use x=\"1160.441406\" xlink:href=\"#DejaVuSans-108\"/>\n     <use x=\"1188.224609\" xlink:href=\"#DejaVuSans-101\"/>\n    </g>\n   </g>\n  </g>\n  <g id=\"axes_5\">\n   <g id=\"patch_22\">\n    <path d=\"M 182.625937 239.758125 \nL 249.585937 239.758125 \nL 249.585937 167.278125 \nL 182.625937 167.278125 \nz\n\" style=\"fill:#ffffff;\"/>\n   </g>\n   <g clip-path=\"url(#p4d60d5fd66)\">\n    <image height=\"73\" id=\"imagef24f123e19\" transform=\"scale(1 -1)translate(0 -73)\" width=\"67\" x=\"182.625937\" xlink:href=\"data:image/png;base64,\niVBORw0KGgoAAAANSUhEUgAAAEMAAABJCAYAAABmUZsVAAAYxklEQVR4nO2cW4xkSXrXfxFxbnnyVveqrq7q7qnpmsvOzF7A6wVWgC0LLbZBAiGBxBNIyMgCXnhGvPCOxAtCMn6xDPjBSGAhWQgjS8Yg767sufRceqanr9Vd98rKe55bRPBwsk7myczqnkWrfWG+l+k6+X0RX3zni4h//OM7I/TRXXuph/zc7/5zHv69f8es/IfeKv/qw1/hd7777/nb/+Of8vhv/AYAf/HDv8Ov3vyEf7F2n/3f/nX+0S//AX/4D36e3/2vv0lNBgDc/cN/yL/53n/ir1eGvPkf/wk//5fu8yd/9gb733jBf3/7vwHw2n/5Nf7gV/81r7u1Ur9/99EvEaiU37r9R3M+vfZ7v0b41OGTf/Zvi2f7v/3r/P0f/BF/8o//PL/3n38TX7hzdgB/68EPWA/6/Mbu/wbgd3rL/Mv3/yZf/JXfQi60+P9Uvg7GlHwdjCn5OhhT8tMNhhA/1eZ+1iKHJrn2x44ZkVqFtQKNALN4sMa1uEKjAwc5FV+pNApL38ZYx+JIjVW2bKzs3BsZmgRPalxhir9L4hjMzGZhnIkP0zZDk9A3UaHnqQxXagC0NSRW4Th5P/JIXx+Mx6lkYHzsOAhyJEmtng9GxeDLlHjVKz33/QyJ4UQbTMVQcxJwysEQFY2aifGRTqg6MVUnLv6eFlXRZGG5HRMaQpkQr+RROtEJ2hpOdMJBZgq9qpNQVXm7sc0YGp/AS/Px3U/Xrg3Gj6LXuMyqGCNJrcIZCGKbzumpRsKSGtK/oVBTU2U5HBHIlPvJOk4jYcUdIPxyMKv1aC4z7qdrLLkjlt0hAA/S1bJNNSJbKrejGgk1FdHfUkgkD9JlDJZHWZN7yY1Cb8UdsOzk7fZtSkeHLIejPBgfDm9fG4wfdva4TEOMzqeJ1xVECzJjbanPkhowuFl+vl3rUBUJH492WV3qs+l2cYOspLPV6OHNrDUfj3a54bXZcLsAfDi6hbaTt7tV7xGsjuZ8WFV9Bjt5xnwa3yS1mk+jHT4YTMa44fVYc3sAtA2cpzVuVtt5MD7qzYxgSj442+YsqWEzSWod/EtLZO2c3t2lc1blgPR2XFoz7lbPCITm4942d5fO2XYvqVbiku1+4wyXSTC0NXzY3WHbvWTL6QBwb8bH/cYZr61dzPmw7nTRtyIkgk/6N0nRfDzY5s8udwu9Ha/FltMeB8PjPKnxenieB+NRu5yC09I6btJOQsjyzPDbhqGdX0Tfq7+gKWPe2DlBTg3sjeCIUGged1d4r/6CLadNsxKVbN8Oj/CFU3r2qLPKTeeSm84lAA87qxgmL+Ht6iHfXno+58OqHPHmzRMAvuyukVrDl911nl6sFHq77kUR5LYOuYxD7ga5jXNxWT4TTIt36tC9HYARaCvxLzMiq+b0vlV5xqqy/OL6F6Xnb3gnVKXg/LLOd/afsKWGLPtDBqk/GURwUFpnAM7bNbbUcJxjNc4v6xgMkPf9jv+iGNC0DytS84vrn6OE5KRTxwAn3TrRRaXQ21IDXCzg0jYhnSRg3zsGXBzTW3ygAfBbgmHqIrQgReF2E1I7D0323QtqwuOvVu+jxCRYO84IF0nWc9l3L1mSkqYXlYKx53ZxCEvt6a7HipTIcZCyGR/33C6bqg9TdvvuBXXp8JfDLwBF1PfR1jLs+zidiU/rUiBFPoaerjBKXXZVnAdDDa/HXW7PkmYKxmuXHKakCzLjhvLwhcPbXgxM3sK68kmtRkSKTeXhCkVVlbfJTeWjRNkHOZLU5CRgIlJzNlqW165ZH2yk0IAdKZzhJPNq0i+mcmRdkkyxovK+HJFdjxplCqkVYEFbiUizHHzNSChzfNEUldJzX7hoa5HZRMeRek5nWgwWkQncqQyT5Q0ot5lxY9YHkYn8HWqBmLKfbtdYiTay8EFeZf2C7J88k6CEwboOaryQSTG/q1xJajXammI7nG5bYRAvsY1tyuzPC9bsQqa33Om/7VXmvOLAoeTE3jGBQQqB9c2cog4EArC+wUWTLQVIkS9kgZPhy3kABnCuRyghcBFIITDBpG1fZoTO9aj3UQZixpVp+1kZ2QQXhS9cYpsS2SzPDs/kcXDNXBZNfEnx3UnaSFvVKASyNj+wdLzRqGqKJzSjLR9vvIA0vRF1Gc3Z5AMKeZJ5HGpBag2iOumwpmKa3mI7gB+P7pTSGijZz8qZzuiMzyE9k3Cu82noVlMU4IYpC5Y5AKoypulPfJG15RyaNhvDOeVkKU+15caQUMb0dhW+yDvbqvRYUvM2AB9Et7kX7fIgXWdoLfXGBC2uuT02/N5CO20N/7P1NjIpv8p6c1QCc9NyqEPa48RpGXih8ze40hzgCkGzPpo/HF61K0dsVCa+yN2lNhLJrWZ7Tjldzgd+u9miLlL6twzBOId3/EtWVH9hJx/0bnFvuMODeJPICm4vXxa/bThddrzLhXYGy/uHO8zOvmn7WXmSrnOm80WzpQOeJPlZ61bjEldIbtS7GGex7ZIacqsyadt5p3mEKxTvNg/nlIPVEVJY3mkcUZWG6msdqjJ/a3v+KRuqD/hzdp9dblJ1EwY1n2H1U95tTNpeV13w5kwAMBjSp1XCMmLn7cZxCdlOy9N4jaqMgT4XpsrjeAM45536EQrBfu2Uz9RrC21X5ahAnwDOe+EBEsG7ledzyltLXdrDCu9UnhMKwfduPMMfY4I77jlNmS4MxkmrgR/kr3ew7vLN8GAqGCMCkXFdRKrP5VxmTNvPymG8ND549bnIahzGTQDerTzHFYr9ysm106QpNXveafG3/Kb/AoBv+EdzynfqLQDe8k4IhctfW/6YYHyO2HZGLMnF8zjreAw6AWeDKpF1S22vSNhUi3cTbS21FxqZlp1/xzucA2ZXchrX6BTTpMbJqFH47KDY806vXUDrUrE7NdXlbUejhGRXzW9fN/wOQlh2lcEXDt/1X+CMzwcr0imhxGlxegoxdBhGHql1Sm3XpceKvGaeAJWzdA5k3XbmaYMr6SYBfZ3f0wy1T28M9beVRQnJTad7bWaEwmNdTRYUpzG+8Ln677Qsu4PiNyUkt5yweEO1BfpXIhMwjiDLFBpRansRerwSg8HpxQhdDvIi364k1g7RmAOMrUOcOSWbutTX9ucKVUa6V4NblIZXaPNlOi+VMXT8iewMc87/xP1O2fwklnKaLJ0VV2i8mRQdmoSOGc3pTrdjHLCuLQjhRTqzMjQJGouuuswkxpxd30R0zIi+icbEsS78ddXE34JIFnCU9dHWENu04HG1NRxl/UJPTpOlsxLKmKpXXuxOdMLjdD7e0+3omsGGmkqQ4k7ByZf1daITUmuI1n2SRjk1Zu1OdMbjVHKQGepeRF1FY38T6t5kXz7SSY6XBfww3mJkE3omoW9ynZFN+GG8xcmYcJafpxvXOlhXI1aDQenZo6zJB/HunO50O6KZ4NdjVqpDqiJZqDMrT7MGqbUMtiTxannBezBDWj9IV/kg3uVBusaqP6A5RsJNNWTVn/j7MF1G2/zQ9vuX79EzGSda0jJ5cHsm4/cv3+Nplu9A8v2XEMJLcshupYz+Po12+FFvb073w+Gt4t8rywO2lnrcrHYIp0DDy/q6H98gstC/BelmORvfH94pnU4/jW7yo94eH41use13WHHy7XHV6XMzaE/04ptFZvzxwR5tI3mRNTjWOSnUNpI/Ptjjfpyz5/JeZ/v6YKghd4Iy8fr5cIuPLuZt7nW3C4f3l8/Yb56xXz2lOjVNPunemLO7kgejTYZWYW5FbG21S7990rtR4kA/G9zgo4ttPu5tc9s/Z0Pl54t11eWWf1HS0whQluRhg47xOcyWOc6WAOgYn+Rhg/uj3C/n8eX1hPCqjNnzT0rPvuytcXTWnNN93J6Qrt9pPiMQGetOl7qczP9HL+nrYX+daEXx7s4ht6qtmbbLdl921zg6b5Joxe7WBetqAFRYkRF33LMpvXX0hgBpaXwJbRPyPFlh2RkAXdompPElPPpePg2dTqfMP05LUwruOJdMU3mn/RpczIOtdqda/PtbwTM8oanLiHBqH39ZX8eDOpF1+IW1z1l3yqfay061RAif9Wpw7tOSll2nS33MBq0qC3S44kZPezUMeTCWHia0dchpUkeP2aa2Dll6mHA6yE+6Di8hhEPhsqnKB4X+IMBrz+8m08TyW94lEvCEwBfBQp1Z6Q4DIuvyC+HnY5pgEjg9Yzfs+3gdSVxxWZeioO1qwsVVk2k5HOQvTUhL8LjFwPi000qxFQ+MT/D4gsNBPQ+GHF3PqfnCKSE0gCxRePMwAzmaBGhzTLBKZMleja6HQEnioK3krmuRlM/cMirb2VjhDCGJVIngnfXXRDkCRoA5uyCyLsPMoz/2L7Iu5uyCNFnOgyH09cFQQjJ7xrFazp0dAIQWGCyKeZJ3Wuc6sVpgkAth/izzhRbIDIQuE7xz/o77E8JiBkOMlWRGYcbTxFiJGQy52qjkdYeYWblCbUKZhadAYRnPa0o39anVxWX1or4m7Vrk2H6aTM7t8hPtdLtXJPGii/BCxv0JCbKS87dmnEXaGiLrIKTA2vxCXZrg1cFIreZyDIkdT5NV5nWEoeAiz/WoGEzHRDzPcsQ321dqNZ1xu66rUWMWrW9jYjtJBxMYUia6QHHouGp7kUg/Pw64XobcWMMVujjI9W3MeVoHpcDCiY6R1F8S2bHENuUgy1O/GsYkzXlYLVI41nnKPM0qBS441Ip7yVauNNNXbFOej52rhxGByH8/17oILICsp8TWFLpIixln5wfx9TipUk1whaEeRsR3VmnIEYM0pw9aWvN0uIJwHKyW3E+WkfXmgtVwRiKreZiuA7BR62NX58kZlQgOxmDmfnKjSOlH6Ro/6ueIdZoYBhhOtbtV61EdB+OFrtEyk7nYbAyJrC10ERRT9f/07l7r93q9TyAsG9U+7T2fuhoxiPNgnOgKB70lhOeBFrw/uoN8bbl1bWMTpy2fjfKygNcb52xudOZ0ZAqP4k0A7g12ijT/PLrBj1s5DJ/ta2Asn0X5m92rnROOV+YnyRpneoJb9pYvGBjJ59EYwQpblDH9+Px6iL9XvyAQgr3aOd39/HgxjPJgPMtWOGk1EH4ejD/t3EJ+ozFP983KwEgeDPJD1hvhMe+uHM/pqBieRDlSfNDfIB1Pky+HGzw5yZ/Pks496/BwmL/t/coJ4Rg8PU9WOdX1Qu+dxhHDKV0kWMeCgOcny9f6/VbtCBfBm+Excq/PkoxJo3yqHabLmJYPrgsGvmyt4Xy7+vSVwRhah+f9JQC+4b8glPPTRMZwMMode95pkoyLWg4GS5jTfLv8Tljua2hcnvVzm7f8Q6pjQuYwXqLpDMnRJHyzcsDAejwbjAcubEH/q+PF1CPAe8FzfOHwln/I9289pik1dpQbHiVLeC2J9V1EJri8qCHf8ebf8qxE1uFikCPC191Lvh3MB1CllosoT+1uv8IVp3sxrOK18kG+5ZXPOZF1aY3bveN0CGWe++dJlU42QaBveSdExi18ENIW27Tfuh677LktXKG443T4wco96lIhxhdUraSK2xWgFMIIZNtF7lxzwTItqXWIRvlc21QO+878DiQyGCS5jh46V1UMDGMXb3zUmO0rsm4xhzeVU5DNOck7eeM7DqSoQnd6AfU610ODbZVznJvK4S8ELwiFh0zzYHTSAHdgwclLLpy+wGnKBaBhRhKrMGM0dx0RLAwk2djDTBalC1mmuCKfZvvSCPTYZrrd1KhSHUhTVkitU+jmHQI2X6uuk6s2azKgIgxKyAIFJ9pBJmCFQNh8N/zpVQj/DIqD7VRtghU/WZ9XBHGpvEHAdBHqK4PRMSOUMCjH0DdRgSyviOErOJxVmJDHjimIYMfR6Klkim1aELAKi1pwJ+JOkbyQI9WuDjCpzPu3YD2D8QxZ8NUiMjQJqdUYz+LLjMBJ0YFAVz2sAO3PVyrPyfMsZ52DSsKh1mTkTrZMwvMsLwMASJqCup/nrBNmRcPVICGd7JIMTVqgy0CkhMH8ztTwImpT+R/blPOsgR2qAr+IMEOEmmSeZ1oo5yZhaBNsqKk6MXUnJmlAsuxhFWS1rxCMT5ItApGyWh3yKF0hGjtzqH3uJ5u0xitltGpZD3IuslEf4o5f2Fo4IF6dvOWWMZxotwjGWq1MOANs+L2C14ScuH0RL+F082BYI6g2IsJGRLx6PeM+LQdZSM9o/GbEmttj3esRrRn6Ww4oi11Kv0IwRjsEQrNbu+TT6CbxeJo8Sdf4eLRTlAOYzZiblTYANxvdoup3t3qJsz45YJ3pCs+yHC+EMmVnXJ07LVtetxwMKzgYLeN1BANrwAq2G11uNjvYrZesoFPyMNmgYxQ3lrusOz02vC5iM2Z4Q2Ady/Jq79XBuNfZJhCaN6qnfDa4UVQIP443+Ky/VZCrt7ZavB7kN9pvN46L2/q74Sl7m+dFe8e6ydMkR5J1kbEfnjIrt/3zUp1n23i86DcJWpaekWDg7aVj3myecGvz1ccJgIfxJm3j8/bSCdvOJbtui9ubF4x2MnAMb66c8UqU8bSzTCAsbwRH/K+zuwxMPsiDaIUnnRXOlutAl++uPS2u99+pPMcdY4Z9/4TOygRAnWYNjsYTvSoFbwbzx4Fd94JVOeKKe23rkMt+yHLLMLQOWMF74XM0En8R07RAno1WaFdDvlk9YMvp0TARP7f6jLN+lX475DvNZ68ORrtTJRCCN9xTjnt14vH+fxzVaXWqtLKcTP1+/QG7Tk7GvuUfFQzUvnuGW5s4fJlVOYnzS5tQKPa9U6CMXXZVvyiKAeiZCtHAI2hlDKwHJq8ShrwS6KvI0bBBW1d5LzhgXWakMuP7tS94ur7Cj/u3+XOVJ68Ohum7uAh2nIzh0CcZz6xOUiEduEVtxHveMSvjeo07ToIcv9VNZQjFOZAHrZNVuEzy33zhsq3m719XlCoyC2BgPOzIwemN8ht3K7jt5HTAuhoVbb9MeonPwPjsOUOa0sNgeMc75e3aMX8qb/Gm23l1MGSUly03RIBOJvzhMHURsWI03hl2HL+A08vjEob835W8LGAssXEYZjmsdoVieQECroly1XBkPUQq8grlcR9rarxw89V2k1HiEhuXNVUpCOQdR3HbP0dIw6aqvDoYGFAIlJBYIwqYbawAQxGcaRJ4nqSdDEwjS0hyYSnEohIEIxBmMvBJH9eU5cyIHq91Jd+QBbvmClXeTa4qe6fFOhaNzZGmnh5EfnKcLX9+lSgMSpq58oCXydDkmWRl/t0L0ha2V+TxtN+LSGJHaaSY143s5CWWgtExUYmIBbCBwVjLiY4R8US96iYQmIXcxsukolJCJyFDc6JjzvWracfTpIGwYCsubR0igtz2yt++jenbCd440fPYo+JmBCKla6KybtosDiylYJxpUSJiAZxaSmQNj9IGqj9RXw6G+LWYpvPqwUxL0xmy7I0YmpRHaYOD2cqUBfJkmDNlad3jJG0ShAmP0gaHWjG06ZhAnmTYo7Qxl+ErlSFVGdMypqT7NJrc45aC8TRbLhGxAKtLfVLgXrSL15lMk62gy1pjwNrMveirZN3psR206VmTVxFfMecvkae9HLEmTYcX8RJr9QGfxDd5kq7QMZZjHXI8FdR70W7p1h7gRqXDkhryQtc405MCuwfd9WINKy2gT5I1QllOsb1mTsZ+1N/Bm+KB7wTntJoh619xn7+SdadLYh3axuHjwTZbfhfqFy+1OW01wELckBxHDXZqbT4Z3CQNFVtOhxfZcr4Q+nnRykf9HczSl0wvrreDFktyyJN0jboaAfmWfthuFGErZcazeJWWLu/Z79YPia3iQWedSmuSene88/F3Z/NM+ctkS3W55V7QNgFfdDZ40L++mudKdMsHm5+MjwcN9munfN7Z4Em0RkvXeJ6scphOiOEHnXX0zIeFd4NjVlTEQbrCcbpUPB+2wsVrxlHc5CIrB+Nb4VMi63DSqeO3J3PtjnPBe8Fz1uVXOyhdyYpM2HXa9EzASafO4eDVZ3B3fOuf1qA9CngjOOa4U+dw1KStQ07SBufZhCfIv08rrxl33HOWZL4Yn6STPp1Lh6u4labJWVSjUyvXUOy7FxzrKlHXx+1MFtdtJ6MuL1hRX22fv5IVpahbwyeJz6gb0HpJweuVeF2BrliyqiUdedxxzxj1As4aNbqmQiupkjlTIK3ro2fWjF0VEwqH86T8st2eIF4UjEHqFXt6MWilOMgUYqRQg8mxuik9QqGvvXG/TkLhYYTJYXUkiaJX248/UEb7FpMottQQO1IMEo/YuAwyb/xRUC6z37QBrKgcIQ8yj4qaLLZqajMsBSPVau6DvJoM8u/TMoGIJxjEF+5PHAi4QoCK1DqIVGL0qzPrqpbcOnlJRCjyb9AynX+WnhhFMvUdhUgFZmbNuPI10Q7p1I45XbRfWjNeeh//1SoXfnbyMn/+H339+n8mMiVfB2NKvg7GlHwdjCn5v9kAbPuHtS7LAAAAAElFTkSuQmCC\" y=\"-166.758125\"/>\n   </g>\n   <g id=\"matplotlib.axis_9\"/>\n   <g id=\"matplotlib.axis_10\"/>\n   <g id=\"patch_23\">\n    <path d=\"M 182.625937 239.758125 \nL 182.625937 167.278125 \n\" style=\"fill:none;stroke:#000000;stroke-linecap:square;stroke-linejoin:miter;stroke-width:0.8;\"/>\n   </g>\n   <g id=\"patch_24\">\n    <path d=\"M 249.585937 239.758125 \nL 249.585937 167.278125 \n\" style=\"fill:none;stroke:#000000;stroke-linecap:square;stroke-linejoin:miter;stroke-width:0.8;\"/>\n   </g>\n   <g id=\"patch_25\">\n    <path d=\"M 182.625937 239.758125 \nL 249.585937 239.758125 \n\" style=\"fill:none;stroke:#000000;stroke-linecap:square;stroke-linejoin:miter;stroke-width:0.8;\"/>\n   </g>\n   <g id=\"patch_26\">\n    <path d=\"M 182.625937 167.278125 \nL 249.585937 167.278125 \n\" style=\"fill:none;stroke:#000000;stroke-linecap:square;stroke-linejoin:miter;stroke-width:0.8;\"/>\n   </g>\n   <g id=\"text_5\">\n    <!-- with random 1 -->\n    <g transform=\"translate(172.475625 161.278125)scale(0.12 -0.12)\">\n     <use xlink:href=\"#DejaVuSans-119\"/>\n     <use x=\"81.787109\" xlink:href=\"#DejaVuSans-105\"/>\n     <use x=\"109.570312\" xlink:href=\"#DejaVuSans-116\"/>\n     <use x=\"148.779297\" xlink:href=\"#DejaVuSans-104\"/>\n     <use x=\"212.158203\" xlink:href=\"#DejaVuSans-32\"/>\n     <use x=\"243.945312\" xlink:href=\"#DejaVuSans-114\"/>\n     <use x=\"285.058594\" xlink:href=\"#DejaVuSans-97\"/>\n     <use x=\"346.337891\" xlink:href=\"#DejaVuSans-110\"/>\n     <use x=\"409.716797\" xlink:href=\"#DejaVuSans-100\"/>\n     <use x=\"473.193359\" xlink:href=\"#DejaVuSans-111\"/>\n     <use x=\"534.375\" xlink:href=\"#DejaVuSans-109\"/>\n     <use x=\"631.787109\" xlink:href=\"#DejaVuSans-32\"/>\n     <use x=\"663.574219\" xlink:href=\"#DejaVuSans-49\"/>\n    </g>\n   </g>\n  </g>\n  <g id=\"axes_6\">\n   <g id=\"patch_27\">\n    <path d=\"M 316.545937 239.758125 \nL 383.505938 239.758125 \nL 383.505938 167.278125 \nL 316.545937 167.278125 \nz\n\" style=\"fill:#ffffff;\"/>\n   </g>\n   <g clip-path=\"url(#p8e03733551)\">\n    <image height=\"73\" id=\"image7c3b9811aa\" transform=\"scale(1 -1)translate(0 -73)\" width=\"67\" x=\"316.545937\" xlink:href=\"data:image/png;base64,\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\" y=\"-166.758125\"/>\n   </g>\n   <g id=\"matplotlib.axis_11\"/>\n   <g id=\"matplotlib.axis_12\"/>\n   <g id=\"patch_28\">\n    <path d=\"M 316.545937 239.758125 \nL 316.545937 167.278125 \n\" style=\"fill:none;stroke:#000000;stroke-linecap:square;stroke-linejoin:miter;stroke-width:0.8;\"/>\n   </g>\n   <g id=\"patch_29\">\n    <path d=\"M 383.505938 239.758125 \nL 383.505938 167.278125 \n\" style=\"fill:none;stroke:#000000;stroke-linecap:square;stroke-linejoin:miter;stroke-width:0.8;\"/>\n   </g>\n   <g id=\"patch_30\">\n    <path d=\"M 316.545937 239.758125 \nL 383.505938 239.758125 \n\" style=\"fill:none;stroke:#000000;stroke-linecap:square;stroke-linejoin:miter;stroke-width:0.8;\"/>\n   </g>\n   <g id=\"patch_31\">\n    <path d=\"M 316.545937 167.278125 \nL 383.505938 167.278125 \n\" style=\"fill:none;stroke:#000000;stroke-linecap:square;stroke-linejoin:miter;stroke-width:0.8;\"/>\n   </g>\n   <g id=\"text_6\">\n    <!-- with random 2 -->\n    <g transform=\"translate(306.395625 161.278125)scale(0.12 -0.12)\">\n     <use xlink:href=\"#DejaVuSans-119\"/>\n     <use x=\"81.787109\" xlink:href=\"#DejaVuSans-105\"/>\n     <use x=\"109.570312\" xlink:href=\"#DejaVuSans-116\"/>\n     <use x=\"148.779297\" xlink:href=\"#DejaVuSans-104\"/>\n     <use x=\"212.158203\" xlink:href=\"#DejaVuSans-32\"/>\n     <use x=\"243.945312\" xlink:href=\"#DejaVuSans-114\"/>\n     <use x=\"285.058594\" xlink:href=\"#DejaVuSans-97\"/>\n     <use x=\"346.337891\" xlink:href=\"#DejaVuSans-110\"/>\n     <use x=\"409.716797\" xlink:href=\"#DejaVuSans-100\"/>\n     <use x=\"473.193359\" xlink:href=\"#DejaVuSans-111\"/>\n     <use x=\"534.375\" xlink:href=\"#DejaVuSans-109\"/>\n     <use x=\"631.787109\" xlink:href=\"#DejaVuSans-32\"/>\n     <use x=\"663.574219\" xlink:href=\"#DejaVuSans-50\"/>\n    </g>\n   </g>\n  </g>\n </g>\n <defs>\n  <clipPath id=\"p7e80b8cefb\">\n   <rect height=\"72.48\" width=\"66.96\" x=\"48.705937\" y=\"22.318125\"/>\n  </clipPath>\n  <clipPath id=\"p7da3e1ec8f\">\n   <rect height=\"72.48\" width=\"66.96\" x=\"182.625937\" y=\"22.318125\"/>\n  </clipPath>\n  <clipPath id=\"p66c9e94a2f\">\n   <rect height=\"72.48\" width=\"66.96\" x=\"316.545937\" y=\"22.318125\"/>\n  </clipPath>\n  <clipPath id=\"p5dd45ccf1c\">\n   <rect height=\"72.48\" width=\"66.96\" x=\"48.705937\" y=\"167.278125\"/>\n  </clipPath>\n  <clipPath id=\"p4d60d5fd66\">\n   <rect height=\"72.48\" width=\"66.96\" x=\"182.625937\" y=\"167.278125\"/>\n  </clipPath>\n  <clipPath id=\"p8e03733551\">\n   <rect height=\"72.48\" width=\"66.96\" x=\"316.545937\" y=\"167.278125\"/>\n  </clipPath>\n </defs>\n</svg>\n",
      "image/png": "[encoded data removed]"
     },
     "metadata": {}
    }
   ],
   "source": [
    "# Compare the difference between overall percentile and percentile per feature w/wo random\n",
    "\n",
    "# Test:\n",
    "e = explanations[0]\n",
    "x_coef = e[\"xcoef\"]\n",
    "X, y_true = zip(*test_set)\n",
    "x_arr = X[0]\n",
    "\n",
    "# Get absolute value for weight, because LIME could be negative -> 90 percentile might not work.\n",
    "m1 = mask_percentile(np.abs(x_coef), axis=None, interpolation=\"higher\")\n",
    "m2 = mask_percentile(np.abs(x_coef), axis=None, interpolation=\"higher\", random=1)\n",
    "m3 = mask_percentile(np.abs(x_coef), axis=None, interpolation=\"higher\", random=2)\n",
    "\n",
    "m4 = mask_percentile(np.abs(x_coef), axis=1, interpolation=\"higher\")\n",
    "m5 = mask_percentile(np.abs(x_coef), axis=1, interpolation=\"higher\", random=1)\n",
    "m6 = mask_percentile(np.abs(x_coef), axis=1, interpolation=\"higher\", random=2)\n",
    "\n",
    "\n",
    "fig, axes = plt.subplots(2, 3)\n",
    "ax = axes[0, 0]\n",
    "ax.imshow(m1, aspect='auto')\n",
    "ax.set_title(\"overall 90 percentile\")\n",
    "ax = axes[0, 1]\n",
    "ax.imshow(m2, aspect='auto')\n",
    "ax.set_title(\"with random 1\")\n",
    "ax = axes[0, 2]\n",
    "ax.imshow(m3, aspect='auto')\n",
    "ax.set_title(\"with random 2 \")\n",
    "ax = axes[1, 0]\n",
    "ax.imshow(m4, aspect='auto')\n",
    "ax.set_title(\"per feature 90 percentile\")\n",
    "ax = axes[1, 1]\n",
    "ax.imshow(m5, aspect='auto')\n",
    "ax.set_title(\"with random 1\")\n",
    "ax = axes[1, 2]\n",
    "ax.imshow(m6, aspect='auto')\n",
    "ax.set_title(\"with random 2\")\n",
    "\n",
    "plt.subplots_adjust(hspace=1, wspace=1)\n",
    "\n",
    "plt_hide_ticks(fig)\n",
    "# Test perturb_X\n",
    "#r = replacements(x_arr, method=\"zeros\")\n",
    "#z = perturb(x_arr, m, r)\n",
    "\n",
    "#e = explanations[0]\n",
    "#xcoef = e[\"xcoef\"]\n",
    "#X_perturbed = perturb_X(X, xcoef, method=\"zeros\")\n"
   ]
  },
  {
   "source": [
    "# Methodology for experiments.\n",
    "\n",
    "## Root Mean Squared Error in original as base line\n",
    "1. Fit directy X, y_true, y_pred to f(x) to get the baseline score\n",
    "\n",
    "## rmse in 90 percentile of explanations\n",
    "1. For each XAI model we generate a perturbed test set\n",
    "1. Fit to model and record rmse of perturbed test to the dict\n",
    "1. Save all scores to the dict {\"scale\": ..., \"model\": ...., \"method\": ...., \"xcoef\": ....., \"rmse\": ....}\n",
    "    - xcoef as explanations.\n",
    "    - rmse as root mean squared error score (lower better)\n",
    "\n",
    "## rmse in random perturbed\n",
    "1. Generate a random perturbed set, notice that:\n",
    "    - the number of changes =  perturbed test set"
   ],
   "cell_type": "markdown",
   "metadata": {}
  },
  {
   "source": [
    "## Step 1: RMSE of original Test Set X\n",
    "## Step 2: RMSE of overall 90 percentile of explanations\n",
    "## Step 3: RMSE of overall Random\n",
    "- number of changes in random = overall 90 percentile of explanations (in step 1)"
   ],
   "cell_type": "markdown",
   "metadata": {}
  },
  {
   "cell_type": "code",
   "execution_count": 8,
   "metadata": {},
   "outputs": [],
   "source": [
    "import copy\n",
    "import tqdm\n",
    "from sklearn.metrics import mean_squared_error\n",
    "\n",
    "def get_rmse(x, fn, y_true):\n",
    "    x_test = np.stack([x_i.T for x_i in x])\n",
    "    y_pred = fn.predict(x_test).ravel()\n",
    "\n",
    "    mse = mean_squared_error(y_true, y_pred)\n",
    "    return np.sqrt(mse)\n",
    "\n",
    "def qm_rmse_exp(X, y_true, explanations, axis=None, absolute=False, **kwargs):\n",
    "    exp = copy.deepcopy(explanations)\n",
    "\n",
    "    # Calculate quality measure for each explanation\n",
    "    for e in tqdm.tqdm(exp):\n",
    "        x_coef = e[\"xcoef\"]\n",
    "        fn = eval(e[\"model\"].replace(\"_fn\", \"\"))    # remove \"_fn\" from lstm_fn (custom)\n",
    "\n",
    "        if absolute:\n",
    "            x_coef = np.abs(x_coef)\n",
    "        \n",
    "        #1 Get original rmse for X\n",
    "        e.update({\"rmse_original\": get_rmse(X, fn, y_true)})\n",
    "\n",
    "        #2 Create perturbed test set + rmse\n",
    "        X_p90 = perturb_X(X, x_coef=x_coef, percentile=90, axis=axis, **kwargs) # overall case by set axis=None\n",
    "        e.update({\"rmse_p90\": get_rmse(X_p90, fn, y_true)})\n",
    "\n",
    "        #3 Random - same x-coef to get number of changes.\n",
    "        X_random = perturb_X(X, x_coef=x_coef, percentile=90, axis=axis, random=2, **kwargs)\n",
    "        e.update({\"rmse_random\": get_rmse(X_random, fn, y_true)})\n",
    "    return exp\n",
    "\n",
    "def eva_explainations(exp, m='lstm_fn'):\n",
    "    eva_df = pd.DataFrame(list(exp))\n",
    "    eva_df = eva_df.drop(\"xcoef\", axis=1)\n",
    "\n",
    "    eva_df[\"rmse_diff_random\"] = eva_df.eval(\"rmse_random - rmse_original\")\n",
    "    eva_df[\"rmse_diff_p90\"] = eva_df.eval(\"rmse_p90 - rmse_original\")\n",
    "    eva_df[\"diff\"] = eva_df.eval(\"rmse_diff_p90 - rmse_diff_random\")\n",
    "\n",
    "    eva_df[\"assumption_hold\"] = eva_df.eval(\"rmse_diff_random > 0 and rmse_diff_p90 > 0 and diff > 0\")\n",
    "\n",
    "    # Select columns to presents\n",
    "    c =[\"scale\", \"model\", \"method\", \"rmse_original\",\"rmse_diff_random\", \"rmse_diff_p90\", \"diff\", \"assumption_hold\"]\n",
    "    tt = eva_df.loc[:, c]\n",
    "    result = tt.query(f\"model == '{m}' \")\n",
    "    return result"
   ]
  },
  {
   "source": [
    "# Evaluation quality for Regression task\n",
    "\n",
    "Assumptions to be used: \n",
    "\\begin{equation}\n",
    "    err(X) < err(X_{random}) < err(X_{p90})\n",
    "\\end{equation}\n",
    "- with X: Original test set\n",
    "- $X_{random}$: Randomly perturbed X, based on number of changes in $X_p90$\n",
    "- $X_{p90}$: Perturbed based on values larger than 90 percentile threshold.\n",
    "\n",
    "We expect to see:\n",
    "- $rmse(X) <= rmse(X_{random}) < rmse(X_{p90})$\n",
    "- alternative $0 <= diff_{random} < diff_{p90}$ in comparison with rmse X\n",
    "    - $diff_{random} = rmse_{random} - rmse_{origingal}$\n",
    "    - $diff_{p90} = rmse_{p90} - rmse_{origingal}$\n",
    "    - $diff = diff_{p90} - diff_{random} = rmse_{p90} - rmse_{random}$\n",
    "\n",
    "### Assumption would be hold only if: $0 <= diff_{random} < diff_{p90}  \\land  diff > 0 $ "
   ],
   "cell_type": "markdown",
   "metadata": {}
  },
  {
   "cell_type": "code",
   "execution_count": 9,
   "metadata": {},
   "outputs": [],
   "source": [
    "# Evaluation Result for lstm\n",
    "from IPython.display import Math, display\n",
    "_math_text_ = r\"\"\"$\\text{Expect to see: } 0 <= diff_{random} < diff_{p90}  \\land  diff > 0 $\"\"\"\n",
    "X, y_true = zip(*test_set)"
   ]
  },
  {
   "cell_type": "code",
   "execution_count": 10,
   "metadata": {
    "tags": []
   },
   "outputs": [
    {
     "output_type": "stream",
     "name": "stderr",
     "text": [
      "100%|██████████| 12/12 [00:09<00:00,  1.27it/s]\n"
     ]
    }
   ],
   "source": [
    "test_case_1 = \"Overall 90 percentile\"\n",
    "exp1 = qm_rmse_exp(X[:100], y_true[:100], explanations, axis=None, method='min')"
   ]
  },
  {
   "cell_type": "code",
   "execution_count": 11,
   "metadata": {},
   "outputs": [
    {
     "output_type": "display_data",
     "data": {
      "text/plain": "<IPython.core.display.Math object>",
      "text/latex": "$\\displaystyle \\text{Expect to see: } 0 <= diff_{random} < diff_{p90}  \\land  diff > 0 $"
     },
     "metadata": {}
    },
    {
     "output_type": "stream",
     "name": "stdout",
     "text": [
      "Overall 90 percentile\n"
     ]
    },
    {
     "output_type": "execute_result",
     "data": {
      "text/plain": [
       "    scale    model       method  rmse_original  rmse_diff_random  \\\n",
       "0   async  lstm_fn        zeros       0.159352          0.408710   \n",
       "2   async  lstm_fn   local_mean       0.159352          0.455518   \n",
       "4   async  lstm_fn  global_mean       0.159352          0.489024   \n",
       "6    sync  lstm_fn        zeros       0.159352          0.023047   \n",
       "8    sync  lstm_fn   local_mean       0.159352         -0.030827   \n",
       "10   sync  lstm_fn  global_mean       0.159352          0.014919   \n",
       "\n",
       "    rmse_diff_p90      diff  assumption_hold  \n",
       "0        0.353558 -0.055153            False  \n",
       "2        1.121779  0.666261             True  \n",
       "4        0.391286 -0.097738            False  \n",
       "6        0.019914 -0.003133            False  \n",
       "8        0.033578  0.064405            False  \n",
       "10       0.012074 -0.002845            False  "
      ],
      "text/html": "<div>\n<style scoped>\n    .dataframe tbody tr th:only-of-type {\n        vertical-align: middle;\n    }\n\n    .dataframe tbody tr th {\n        vertical-align: top;\n    }\n\n    .dataframe thead th {\n        text-align: right;\n    }\n</style>\n<table border=\"1\" class=\"dataframe\">\n  <thead>\n    <tr style=\"text-align: right;\">\n      <th></th>\n      <th>scale</th>\n      <th>model</th>\n      <th>method</th>\n      <th>rmse_original</th>\n      <th>rmse_diff_random</th>\n      <th>rmse_diff_p90</th>\n      <th>diff</th>\n      <th>assumption_hold</th>\n    </tr>\n  </thead>\n  <tbody>\n    <tr>\n      <th>0</th>\n      <td>async</td>\n      <td>lstm_fn</td>\n      <td>zeros</td>\n      <td>0.159352</td>\n      <td>0.408710</td>\n      <td>0.353558</td>\n      <td>-0.055153</td>\n      <td>False</td>\n    </tr>\n    <tr>\n      <th>2</th>\n      <td>async</td>\n      <td>lstm_fn</td>\n      <td>local_mean</td>\n      <td>0.159352</td>\n      <td>0.455518</td>\n      <td>1.121779</td>\n      <td>0.666261</td>\n      <td>True</td>\n    </tr>\n    <tr>\n      <th>4</th>\n      <td>async</td>\n      <td>lstm_fn</td>\n      <td>global_mean</td>\n      <td>0.159352</td>\n      <td>0.489024</td>\n      <td>0.391286</td>\n      <td>-0.097738</td>\n      <td>False</td>\n    </tr>\n    <tr>\n      <th>6</th>\n      <td>sync</td>\n      <td>lstm_fn</td>\n      <td>zeros</td>\n      <td>0.159352</td>\n      <td>0.023047</td>\n      <td>0.019914</td>\n      <td>-0.003133</td>\n      <td>False</td>\n    </tr>\n    <tr>\n      <th>8</th>\n      <td>sync</td>\n      <td>lstm_fn</td>\n      <td>local_mean</td>\n      <td>0.159352</td>\n      <td>-0.030827</td>\n      <td>0.033578</td>\n      <td>0.064405</td>\n      <td>False</td>\n    </tr>\n    <tr>\n      <th>10</th>\n      <td>sync</td>\n      <td>lstm_fn</td>\n      <td>global_mean</td>\n      <td>0.159352</td>\n      <td>0.014919</td>\n      <td>0.012074</td>\n      <td>-0.002845</td>\n      <td>False</td>\n    </tr>\n  </tbody>\n</table>\n</div>"
     },
     "metadata": {},
     "execution_count": 11
    }
   ],
   "source": [
    "# Case 1\n",
    "display(Math(_math_text_))\n",
    "print(test_case_1)\n",
    "eva_explainations(exp1)"
   ]
  },
  {
   "source": [
    "## Discussion\n",
    "\n",
    "The result show the diference in rmse based on the rmse_original. the random have more error than the original then it satisfy the assumption. However the unexpected rmse_diff_p90 is unstable, that does not statisfy the assumption. All async methods turns to better quality with lower rmse after being perturbed. The sync does in the oposite way except for global mean perturbation."
   ],
   "cell_type": "markdown",
   "metadata": {}
  },
  {
   "source": [
    "# Per feature 90 percentile \n",
    "Previously we use overall 90 percentile -> now we experiment on perturbing values over 90 percentile per feature.\n",
    "- repeat the whole process above, but uses per feature by set $\\textbf{axis=1}$\n",
    "- the rmse for the original X does not change, we could skip this.\n"
   ],
   "cell_type": "markdown",
   "metadata": {}
  },
  {
   "cell_type": "code",
   "execution_count": 12,
   "metadata": {},
   "outputs": [
    {
     "output_type": "stream",
     "name": "stderr",
     "text": [
      "100%|██████████| 12/12 [00:08<00:00,  1.43it/s]\n"
     ]
    }
   ],
   "source": [
    "test_case_2 = \"Per-feature 90 percentile\"\n",
    "exp2 = qm_rmse_exp(X[:100], y_true[:100], explanations, axis=1, method='min')\n"
   ]
  },
  {
   "cell_type": "code",
   "execution_count": 13,
   "metadata": {},
   "outputs": [
    {
     "output_type": "display_data",
     "data": {
      "text/plain": "<IPython.core.display.Math object>",
      "text/latex": "$\\displaystyle \\text{Expect to see: } 0 <= diff_{random} < diff_{p90}  \\land  diff > 0 $"
     },
     "metadata": {}
    },
    {
     "output_type": "stream",
     "name": "stdout",
     "text": [
      "Per-feature 90 percentile\n"
     ]
    },
    {
     "output_type": "execute_result",
     "data": {
      "text/plain": [
       "    scale    model       method  rmse_original  rmse_diff_random  \\\n",
       "0   async  lstm_fn        zeros       0.159352          0.026205   \n",
       "2   async  lstm_fn   local_mean       0.159352          0.033323   \n",
       "4   async  lstm_fn  global_mean       0.159352         -0.025092   \n",
       "6    sync  lstm_fn        zeros       0.159352          0.055230   \n",
       "8    sync  lstm_fn   local_mean       0.159352         -0.009861   \n",
       "10   sync  lstm_fn  global_mean       0.159352         -0.008135   \n",
       "\n",
       "    rmse_diff_p90      diff  assumption_hold  \n",
       "0       -0.022780 -0.048985            False  \n",
       "2        0.059270  0.025948             True  \n",
       "4        0.037783  0.062875            False  \n",
       "6        0.019914 -0.035316            False  \n",
       "8        0.033578  0.043439            False  \n",
       "10       0.012074  0.020209            False  "
      ],
      "text/html": "<div>\n<style scoped>\n    .dataframe tbody tr th:only-of-type {\n        vertical-align: middle;\n    }\n\n    .dataframe tbody tr th {\n        vertical-align: top;\n    }\n\n    .dataframe thead th {\n        text-align: right;\n    }\n</style>\n<table border=\"1\" class=\"dataframe\">\n  <thead>\n    <tr style=\"text-align: right;\">\n      <th></th>\n      <th>scale</th>\n      <th>model</th>\n      <th>method</th>\n      <th>rmse_original</th>\n      <th>rmse_diff_random</th>\n      <th>rmse_diff_p90</th>\n      <th>diff</th>\n      <th>assumption_hold</th>\n    </tr>\n  </thead>\n  <tbody>\n    <tr>\n      <th>0</th>\n      <td>async</td>\n      <td>lstm_fn</td>\n      <td>zeros</td>\n      <td>0.159352</td>\n      <td>0.026205</td>\n      <td>-0.022780</td>\n      <td>-0.048985</td>\n      <td>False</td>\n    </tr>\n    <tr>\n      <th>2</th>\n      <td>async</td>\n      <td>lstm_fn</td>\n      <td>local_mean</td>\n      <td>0.159352</td>\n      <td>0.033323</td>\n      <td>0.059270</td>\n      <td>0.025948</td>\n      <td>True</td>\n    </tr>\n    <tr>\n      <th>4</th>\n      <td>async</td>\n      <td>lstm_fn</td>\n      <td>global_mean</td>\n      <td>0.159352</td>\n      <td>-0.025092</td>\n      <td>0.037783</td>\n      <td>0.062875</td>\n      <td>False</td>\n    </tr>\n    <tr>\n      <th>6</th>\n      <td>sync</td>\n      <td>lstm_fn</td>\n      <td>zeros</td>\n      <td>0.159352</td>\n      <td>0.055230</td>\n      <td>0.019914</td>\n      <td>-0.035316</td>\n      <td>False</td>\n    </tr>\n    <tr>\n      <th>8</th>\n      <td>sync</td>\n      <td>lstm_fn</td>\n      <td>local_mean</td>\n      <td>0.159352</td>\n      <td>-0.009861</td>\n      <td>0.033578</td>\n      <td>0.043439</td>\n      <td>False</td>\n    </tr>\n    <tr>\n      <th>10</th>\n      <td>sync</td>\n      <td>lstm_fn</td>\n      <td>global_mean</td>\n      <td>0.159352</td>\n      <td>-0.008135</td>\n      <td>0.012074</td>\n      <td>0.020209</td>\n      <td>False</td>\n    </tr>\n  </tbody>\n</table>\n</div>"
     },
     "metadata": {},
     "execution_count": 13
    }
   ],
   "source": [
    "# Case 2\n",
    "display(Math(_math_text_))\n",
    "print(test_case_2)\n",
    "eva_explainations(exp2)"
   ]
  },
  {
   "source": [
    "## Discussion\n",
    "In this per-feature 90 percentile, the assumption above does not hold for both. However, the score is very close with difference close to zeros."
   ],
   "cell_type": "markdown",
   "metadata": {}
  },
  {
   "source": [
    "# Absolute value for coeficiencts\n",
    "\n",
    "Experiments above was done when coefs is not get absolute. For LIME in regression the weight could be significant negative or positive. In this case, we would like to run it to check if the absolute Weight will hold the assumption\n",
    "- Again we do not need to calculate rmse for the original X"
   ],
   "cell_type": "markdown",
   "metadata": {}
  },
  {
   "cell_type": "code",
   "execution_count": 14,
   "metadata": {},
   "outputs": [
    {
     "output_type": "stream",
     "name": "stderr",
     "text": [
      "100%|██████████| 12/12 [00:08<00:00,  1.45it/s]\n"
     ]
    }
   ],
   "source": [
    "test_case_3 = \"Overall 90 percentile + absolute\"\n",
    "exp3 = qm_rmse_exp(X[:100], y_true[:100], explanations, axis=None, method='min')"
   ]
  },
  {
   "cell_type": "code",
   "execution_count": 15,
   "metadata": {},
   "outputs": [
    {
     "output_type": "display_data",
     "data": {
      "text/plain": "<IPython.core.display.Math object>",
      "text/latex": "$\\displaystyle \\text{Expect to see: } 0 <= diff_{random} < diff_{p90}  \\land  diff > 0 $"
     },
     "metadata": {}
    },
    {
     "output_type": "stream",
     "name": "stdout",
     "text": [
      "Overall 90 percentile + absolute\n"
     ]
    },
    {
     "output_type": "execute_result",
     "data": {
      "text/plain": [
       "    scale    model       method  rmse_original  rmse_diff_random  \\\n",
       "0   async  lstm_fn        zeros       0.159352          0.432718   \n",
       "2   async  lstm_fn   local_mean       0.159352          0.345508   \n",
       "4   async  lstm_fn  global_mean       0.159352          0.466027   \n",
       "6    sync  lstm_fn        zeros       0.159352          0.018595   \n",
       "8    sync  lstm_fn   local_mean       0.159352          0.026496   \n",
       "10   sync  lstm_fn  global_mean       0.159352          0.018999   \n",
       "\n",
       "    rmse_diff_p90      diff  assumption_hold  \n",
       "0        0.353558 -0.079160            False  \n",
       "2        1.121779  0.776271             True  \n",
       "4        0.391286 -0.074741            False  \n",
       "6        0.019914  0.001319             True  \n",
       "8        0.033578  0.007082             True  \n",
       "10       0.012074 -0.006924            False  "
      ],
      "text/html": "<div>\n<style scoped>\n    .dataframe tbody tr th:only-of-type {\n        vertical-align: middle;\n    }\n\n    .dataframe tbody tr th {\n        vertical-align: top;\n    }\n\n    .dataframe thead th {\n        text-align: right;\n    }\n</style>\n<table border=\"1\" class=\"dataframe\">\n  <thead>\n    <tr style=\"text-align: right;\">\n      <th></th>\n      <th>scale</th>\n      <th>model</th>\n      <th>method</th>\n      <th>rmse_original</th>\n      <th>rmse_diff_random</th>\n      <th>rmse_diff_p90</th>\n      <th>diff</th>\n      <th>assumption_hold</th>\n    </tr>\n  </thead>\n  <tbody>\n    <tr>\n      <th>0</th>\n      <td>async</td>\n      <td>lstm_fn</td>\n      <td>zeros</td>\n      <td>0.159352</td>\n      <td>0.432718</td>\n      <td>0.353558</td>\n      <td>-0.079160</td>\n      <td>False</td>\n    </tr>\n    <tr>\n      <th>2</th>\n      <td>async</td>\n      <td>lstm_fn</td>\n      <td>local_mean</td>\n      <td>0.159352</td>\n      <td>0.345508</td>\n      <td>1.121779</td>\n      <td>0.776271</td>\n      <td>True</td>\n    </tr>\n    <tr>\n      <th>4</th>\n      <td>async</td>\n      <td>lstm_fn</td>\n      <td>global_mean</td>\n      <td>0.159352</td>\n      <td>0.466027</td>\n      <td>0.391286</td>\n      <td>-0.074741</td>\n      <td>False</td>\n    </tr>\n    <tr>\n      <th>6</th>\n      <td>sync</td>\n      <td>lstm_fn</td>\n      <td>zeros</td>\n      <td>0.159352</td>\n      <td>0.018595</td>\n      <td>0.019914</td>\n      <td>0.001319</td>\n      <td>True</td>\n    </tr>\n    <tr>\n      <th>8</th>\n      <td>sync</td>\n      <td>lstm_fn</td>\n      <td>local_mean</td>\n      <td>0.159352</td>\n      <td>0.026496</td>\n      <td>0.033578</td>\n      <td>0.007082</td>\n      <td>True</td>\n    </tr>\n    <tr>\n      <th>10</th>\n      <td>sync</td>\n      <td>lstm_fn</td>\n      <td>global_mean</td>\n      <td>0.159352</td>\n      <td>0.018999</td>\n      <td>0.012074</td>\n      <td>-0.006924</td>\n      <td>False</td>\n    </tr>\n  </tbody>\n</table>\n</div>"
     },
     "metadata": {},
     "execution_count": 15
    }
   ],
   "source": [
    "# Case 3\n",
    "display(Math(_math_text_))\n",
    "print(test_case_3)\n",
    "eva_explainations(exp3)"
   ]
  },
  {
   "source": [
    "## Conclusion\n",
    "- The absolute overall 90 percentile for explanations does similarly. The assumption does not hold for percentile 90 (overall), but it holds for random"
   ],
   "cell_type": "markdown",
   "metadata": {}
  },
  {
   "source": [
    "# Absolute value for coeficiencts per feature (90 percentile)\n",
    "\n",
    "Continue the exp 3, but with each feature for threshold 90 percentile."
   ],
   "cell_type": "markdown",
   "metadata": {}
  },
  {
   "cell_type": "code",
   "execution_count": 16,
   "metadata": {},
   "outputs": [
    {
     "output_type": "stream",
     "name": "stderr",
     "text": [
      "100%|██████████| 12/12 [00:08<00:00,  1.44it/s]\n"
     ]
    }
   ],
   "source": [
    "test_case_4 = \"Per-feature 90 percentile + absolute\"\n",
    "exp4 = qm_rmse_exp(X[:100], y_true[:100], explanations, axis=1, absolute=True, method='min')"
   ]
  },
  {
   "cell_type": "code",
   "execution_count": 17,
   "metadata": {},
   "outputs": [
    {
     "output_type": "display_data",
     "data": {
      "text/plain": "<IPython.core.display.Math object>",
      "text/latex": "$\\displaystyle \\text{Expect to see: } 0 <= diff_{random} < diff_{p90}  \\land  diff > 0 $"
     },
     "metadata": {}
    },
    {
     "output_type": "stream",
     "name": "stdout",
     "text": [
      "Per-feature 90 percentile + absolute\n"
     ]
    },
    {
     "output_type": "execute_result",
     "data": {
      "text/plain": [
       "    scale    model       method  rmse_original  rmse_diff_random  \\\n",
       "0   async  lstm_fn        zeros       0.159352          0.031640   \n",
       "2   async  lstm_fn   local_mean       0.159352          0.010613   \n",
       "4   async  lstm_fn  global_mean       0.159352          0.020610   \n",
       "6    sync  lstm_fn        zeros       0.159352          0.019783   \n",
       "8    sync  lstm_fn   local_mean       0.159352          0.054424   \n",
       "10   sync  lstm_fn  global_mean       0.159352          0.006826   \n",
       "\n",
       "    rmse_diff_p90      diff  assumption_hold  \n",
       "0       -0.010082 -0.041723            False  \n",
       "2       -0.004198 -0.014812            False  \n",
       "4        0.049877  0.029267             True  \n",
       "6        0.019765 -0.000018            False  \n",
       "8        0.033578 -0.020846            False  \n",
       "10       0.012074  0.005248             True  "
      ],
      "text/html": "<div>\n<style scoped>\n    .dataframe tbody tr th:only-of-type {\n        vertical-align: middle;\n    }\n\n    .dataframe tbody tr th {\n        vertical-align: top;\n    }\n\n    .dataframe thead th {\n        text-align: right;\n    }\n</style>\n<table border=\"1\" class=\"dataframe\">\n  <thead>\n    <tr style=\"text-align: right;\">\n      <th></th>\n      <th>scale</th>\n      <th>model</th>\n      <th>method</th>\n      <th>rmse_original</th>\n      <th>rmse_diff_random</th>\n      <th>rmse_diff_p90</th>\n      <th>diff</th>\n      <th>assumption_hold</th>\n    </tr>\n  </thead>\n  <tbody>\n    <tr>\n      <th>0</th>\n      <td>async</td>\n      <td>lstm_fn</td>\n      <td>zeros</td>\n      <td>0.159352</td>\n      <td>0.031640</td>\n      <td>-0.010082</td>\n      <td>-0.041723</td>\n      <td>False</td>\n    </tr>\n    <tr>\n      <th>2</th>\n      <td>async</td>\n      <td>lstm_fn</td>\n      <td>local_mean</td>\n      <td>0.159352</td>\n      <td>0.010613</td>\n      <td>-0.004198</td>\n      <td>-0.014812</td>\n      <td>False</td>\n    </tr>\n    <tr>\n      <th>4</th>\n      <td>async</td>\n      <td>lstm_fn</td>\n      <td>global_mean</td>\n      <td>0.159352</td>\n      <td>0.020610</td>\n      <td>0.049877</td>\n      <td>0.029267</td>\n      <td>True</td>\n    </tr>\n    <tr>\n      <th>6</th>\n      <td>sync</td>\n      <td>lstm_fn</td>\n      <td>zeros</td>\n      <td>0.159352</td>\n      <td>0.019783</td>\n      <td>0.019765</td>\n      <td>-0.000018</td>\n      <td>False</td>\n    </tr>\n    <tr>\n      <th>8</th>\n      <td>sync</td>\n      <td>lstm_fn</td>\n      <td>local_mean</td>\n      <td>0.159352</td>\n      <td>0.054424</td>\n      <td>0.033578</td>\n      <td>-0.020846</td>\n      <td>False</td>\n    </tr>\n    <tr>\n      <th>10</th>\n      <td>sync</td>\n      <td>lstm_fn</td>\n      <td>global_mean</td>\n      <td>0.159352</td>\n      <td>0.006826</td>\n      <td>0.012074</td>\n      <td>0.005248</td>\n      <td>True</td>\n    </tr>\n  </tbody>\n</table>\n</div>"
     },
     "metadata": {},
     "execution_count": 17
    }
   ],
   "source": [
    "# Case 4\n",
    "display(Math(_math_text_))\n",
    "print(test_case_4)\n",
    "eva_explainations(exp4)"
   ]
  },
  {
   "source": [
    "## Conclusion:\n",
    "The assumption does not hold also for the both cases. However the result is very close to the original. (diff close to zeros)"
   ],
   "cell_type": "markdown",
   "metadata": {}
  },
  {
   "cell_type": "code",
   "execution_count": null,
   "metadata": {},
   "outputs": [],
   "source": []
  }
 ],
 "metadata": {
  "language_info": {
   "codemirror_mode": {
    "name": "ipython",
    "version": 3
   },
   "file_extension": ".py",
   "mimetype": "text/x-python",
   "name": "python",
   "nbconvert_exporter": "python",
   "pygments_lexer": "ipython3",
   "version": "3.7.7-final"
  },
  "orig_nbformat": 2,
  "kernelspec": {
   "name": "python3",
   "display_name": "Python 3.7.7 64-bit ('dev37': conda)",
   "metadata": {
    "interpreter": {
     "hash": "76fdbec98d1ff00acce9daf8fa18366555273267a59abb67ea09584c9e70ea1a"
    }
   }
  }
 },
 "nbformat": 4,
 "nbformat_minor": 2
}