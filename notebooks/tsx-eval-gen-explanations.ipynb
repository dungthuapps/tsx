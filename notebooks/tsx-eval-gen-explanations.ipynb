{
 "cells": [
  {
   "cell_type": "code",
   "execution_count": 1,
   "metadata": {},
   "outputs": [],
   "source": [
    "import os\n",
    "import sys\n",
    "import pyts\n",
    "module_path = os.path.abspath(os.path.join('..'))\n",
    "if module_path not in sys.path:\n",
    "    sys.path.append(module_path)\n"
   ]
  },
  {
   "cell_type": "code",
   "execution_count": 2,
   "metadata": {},
   "outputs": [],
   "source": [
    "import numpy as np\n",
    "import pandas as pd\n",
    "import tensorflow as tf\n",
    "\n",
    "from matplotlib import pyplot as plt\n",
    "from matplotlib.colors import LinearSegmentedColormap\n",
    "from matplotlib.patches import Patch\n",
    "\n",
    "from tsx.perturbation import TimeSeriesPerturbation\n",
    "from tsx.xai.lime import LIMETimeSeries, XAIModels\n",
    "from tsx.xai import evaluation as eva\n",
    "\n",
    "from data_util import *\n",
    "from viz import *\n",
    "\n",
    "import itertools\n",
    "import pandas as pd\n",
    "from biokit.viz import corrplot"
   ]
  },
  {
   "source": [
    "### Objectives\n",
    "1. Evaluate between different XAI models but same family (Ridge, for example)\n",
    "1. Evaluate between different DL model, but same XAI model\n",
    "1. Evaluate the same on Multivariate Time Series\n",
    "1. (Todo) -> Evaluate the same on Univariate Time Series\n",
    "\n",
    "### Metrics to Evaluation\n",
    "1. coef correlations\n",
    "1. r2-scores\n",
    "    the scores when building XAI model in approximation process $f(z) ~ g(z') = w * z'$\n"
   ],
   "cell_type": "markdown",
   "metadata": {}
  },
  {
   "source": [
    "## Prepare Data Set"
   ],
   "cell_type": "markdown",
   "metadata": {}
  },
  {
   "cell_type": "code",
   "execution_count": 3,
   "metadata": {},
   "outputs": [],
   "source": [
    "independents = [\"dew\", \"temp\", \"press\", \"wind_direction\", \"wind_speed\", \"snow\", \"rain\"]\n",
    "dependent = \"pollution\"\n",
    "\n",
    "# Load data\n",
    "df = load_data_set_bejin()\n",
    "x_scaler, y_scaler = get_xy_scalers(df, independents, dependent)\n",
    "\n",
    "# Normalize data \n",
    "df_norm = df.copy()\n",
    "df_norm[independents] = x_scaler.transform(df[independents].values)\n",
    "df_norm[dependent] = y_scaler.transform(df[dependent].values.reshape(-1, 1))\n",
    "\n",
    "# Global param\n",
    "n_steps = 128\n",
    "window_size = 8\n",
    "n_variables = len(independents)\n",
    "samples_size = 100"
   ]
  },
  {
   "cell_type": "code",
   "execution_count": 4,
   "metadata": {},
   "outputs": [],
   "source": [
    "# Prepare predict function\n",
    "wavenet = tf.keras.models.load_model(f\"{DATA_DIR}/wavenet_mts_128_1.h5\")\n",
    "lstm = tf.keras.models.load_model(f\"{DATA_DIR}/lstm_mts_128_1.h5\")\n",
    "\n",
    "def predict_fn(z, model=lstm):\n",
    "    z_reshaped = z.T.reshape(1, 128, 7)\n",
    "    z_hat = model.predict(z_reshaped)\n",
    "    # to avoid zero coef_ for z_hat in[0, 1]\n",
    "    z_hat = y_scaler.inverse_transform(z_hat.reshape(-1, 1))  \n",
    "    z_hat = z_hat.ravel()   # z_hat will arround 50 - 150\n",
    "    return z_hat[0]\n",
    "\n",
    "def lstm_fn(z):\n",
    "    return predict_fn(z, model=lstm)\n",
    "\n",
    "def wavenet_fn(z):\n",
    "    return predict_fn(z, model=wavenet)"
   ]
  },
  {
   "cell_type": "code",
   "execution_count": 5,
   "metadata": {},
   "outputs": [],
   "source": [
    "# Test set (random)\n",
    "test_set = []\n",
    "n_instances = 1000\n",
    "for i in range(n_instances):\n",
    "    i_df = get_instance_x(df_norm, n_steps + 1, independents + \n",
    "    [dependent])\n",
    "    _x = i_df.loc[:n_steps-1, independents]\n",
    "    _y = i_df[dependent]   \n",
    "    test_set.append((_x.values.T, _y.to_numpy()[-1]))"
   ]
  },
  {
   "cell_type": "code",
   "execution_count": 6,
   "metadata": {},
   "outputs": [
    {
     "output_type": "execute_result",
     "data": {
      "text/plain": [
       "<pandas.io.formats.style.Styler at 0x7fe1297c6a10>"
      ],
      "text/html": "<style  type=\"text/css\" >\n#T_c62ed_row0_col0,#T_c62ed_row1_col0,#T_c62ed_row2_col0,#T_c62ed_row3_col0,#T_c62ed_row4_col0,#T_c62ed_row5_col0{\n            background-color:  grey;\n            background-color:  ;\n            color:  ;\n            color:  ;\n        }#T_c62ed_row0_col1,#T_c62ed_row1_col1,#T_c62ed_row2_col1,#T_c62ed_row3_col1,#T_c62ed_row4_col1,#T_c62ed_row5_col1,#T_c62ed_row6_col1,#T_c62ed_row7_col1,#T_c62ed_row8_col1,#T_c62ed_row9_col1,#T_c62ed_row10_col1,#T_c62ed_row11_col1{\n            background-color:  ;\n            background-color:  ;\n            color:  ;\n            color:  ;\n        }#T_c62ed_row0_col2,#T_c62ed_row2_col2,#T_c62ed_row4_col2,#T_c62ed_row6_col2,#T_c62ed_row8_col2,#T_c62ed_row10_col2{\n            background-color:  ;\n            background-color:  ;\n            color:  cyan;\n            color:  ;\n        }#T_c62ed_row1_col2,#T_c62ed_row3_col2,#T_c62ed_row5_col2,#T_c62ed_row7_col2,#T_c62ed_row9_col2,#T_c62ed_row11_col2{\n            background-color:  ;\n            background-color:  ;\n            color:  ;\n            color:  orange;\n        }#T_c62ed_row6_col0,#T_c62ed_row7_col0,#T_c62ed_row8_col0,#T_c62ed_row9_col0,#T_c62ed_row10_col0,#T_c62ed_row11_col0{\n            background-color:  ;\n            background-color:  green;\n            color:  ;\n            color:  ;\n        }</style><table id=\"T_c62ed_\" ><thead>    <tr>        <th class=\"blank level0\" ></th>        <th class=\"col_heading level0 col0\" >scale</th>        <th class=\"col_heading level0 col1\" >method</th>        <th class=\"col_heading level0 col2\" >model</th>    </tr></thead><tbody>\n                <tr>\n                        <th id=\"T_c62ed_level0_row0\" class=\"row_heading level0 row0\" >0</th>\n                        <td id=\"T_c62ed_row0_col0\" class=\"data row0 col0\" >async</td>\n                        <td id=\"T_c62ed_row0_col1\" class=\"data row0 col1\" >zeros</td>\n                        <td id=\"T_c62ed_row0_col2\" class=\"data row0 col2\" >lstm_fn</td>\n            </tr>\n            <tr>\n                        <th id=\"T_c62ed_level0_row1\" class=\"row_heading level0 row1\" >1</th>\n                        <td id=\"T_c62ed_row1_col0\" class=\"data row1 col0\" >async</td>\n                        <td id=\"T_c62ed_row1_col1\" class=\"data row1 col1\" >zeros</td>\n                        <td id=\"T_c62ed_row1_col2\" class=\"data row1 col2\" >wavenet_fn</td>\n            </tr>\n            <tr>\n                        <th id=\"T_c62ed_level0_row2\" class=\"row_heading level0 row2\" >2</th>\n                        <td id=\"T_c62ed_row2_col0\" class=\"data row2 col0\" >async</td>\n                        <td id=\"T_c62ed_row2_col1\" class=\"data row2 col1\" >local_mean</td>\n                        <td id=\"T_c62ed_row2_col2\" class=\"data row2 col2\" >lstm_fn</td>\n            </tr>\n            <tr>\n                        <th id=\"T_c62ed_level0_row3\" class=\"row_heading level0 row3\" >3</th>\n                        <td id=\"T_c62ed_row3_col0\" class=\"data row3 col0\" >async</td>\n                        <td id=\"T_c62ed_row3_col1\" class=\"data row3 col1\" >local_mean</td>\n                        <td id=\"T_c62ed_row3_col2\" class=\"data row3 col2\" >wavenet_fn</td>\n            </tr>\n            <tr>\n                        <th id=\"T_c62ed_level0_row4\" class=\"row_heading level0 row4\" >4</th>\n                        <td id=\"T_c62ed_row4_col0\" class=\"data row4 col0\" >async</td>\n                        <td id=\"T_c62ed_row4_col1\" class=\"data row4 col1\" >global_mean</td>\n                        <td id=\"T_c62ed_row4_col2\" class=\"data row4 col2\" >lstm_fn</td>\n            </tr>\n            <tr>\n                        <th id=\"T_c62ed_level0_row5\" class=\"row_heading level0 row5\" >5</th>\n                        <td id=\"T_c62ed_row5_col0\" class=\"data row5 col0\" >async</td>\n                        <td id=\"T_c62ed_row5_col1\" class=\"data row5 col1\" >global_mean</td>\n                        <td id=\"T_c62ed_row5_col2\" class=\"data row5 col2\" >wavenet_fn</td>\n            </tr>\n            <tr>\n                        <th id=\"T_c62ed_level0_row6\" class=\"row_heading level0 row6\" >6</th>\n                        <td id=\"T_c62ed_row6_col0\" class=\"data row6 col0\" >sync</td>\n                        <td id=\"T_c62ed_row6_col1\" class=\"data row6 col1\" >zeros</td>\n                        <td id=\"T_c62ed_row6_col2\" class=\"data row6 col2\" >lstm_fn</td>\n            </tr>\n            <tr>\n                        <th id=\"T_c62ed_level0_row7\" class=\"row_heading level0 row7\" >7</th>\n                        <td id=\"T_c62ed_row7_col0\" class=\"data row7 col0\" >sync</td>\n                        <td id=\"T_c62ed_row7_col1\" class=\"data row7 col1\" >zeros</td>\n                        <td id=\"T_c62ed_row7_col2\" class=\"data row7 col2\" >wavenet_fn</td>\n            </tr>\n            <tr>\n                        <th id=\"T_c62ed_level0_row8\" class=\"row_heading level0 row8\" >8</th>\n                        <td id=\"T_c62ed_row8_col0\" class=\"data row8 col0\" >sync</td>\n                        <td id=\"T_c62ed_row8_col1\" class=\"data row8 col1\" >local_mean</td>\n                        <td id=\"T_c62ed_row8_col2\" class=\"data row8 col2\" >lstm_fn</td>\n            </tr>\n            <tr>\n                        <th id=\"T_c62ed_level0_row9\" class=\"row_heading level0 row9\" >9</th>\n                        <td id=\"T_c62ed_row9_col0\" class=\"data row9 col0\" >sync</td>\n                        <td id=\"T_c62ed_row9_col1\" class=\"data row9 col1\" >local_mean</td>\n                        <td id=\"T_c62ed_row9_col2\" class=\"data row9 col2\" >wavenet_fn</td>\n            </tr>\n            <tr>\n                        <th id=\"T_c62ed_level0_row10\" class=\"row_heading level0 row10\" >10</th>\n                        <td id=\"T_c62ed_row10_col0\" class=\"data row10 col0\" >sync</td>\n                        <td id=\"T_c62ed_row10_col1\" class=\"data row10 col1\" >global_mean</td>\n                        <td id=\"T_c62ed_row10_col2\" class=\"data row10 col2\" >lstm_fn</td>\n            </tr>\n            <tr>\n                        <th id=\"T_c62ed_level0_row11\" class=\"row_heading level0 row11\" >11</th>\n                        <td id=\"T_c62ed_row11_col0\" class=\"data row11 col0\" >sync</td>\n                        <td id=\"T_c62ed_row11_col1\" class=\"data row11 col1\" >global_mean</td>\n                        <td id=\"T_c62ed_row11_col2\" class=\"data row11 col2\" >wavenet_fn</td>\n            </tr>\n    </tbody></table>"
     },
     "metadata": {},
     "execution_count": 6
    }
   ],
   "source": [
    "# Prepare Params for different models\n",
    "scales = [\"async\", \"sync\"]\n",
    "repl_fn = [\"zeros\", \"local_mean\", \"global_mean\"]\n",
    "model_fn = [\"lstm_fn\", \"wavenet_fn\"]\n",
    "\n",
    "params = list(itertools.product(scales, repl_fn, model_fn))\n",
    "params_df = pd.DataFrame([{\"scale\": s, \"method\": m, \"model\":model} for s, m, model in params])\n",
    "# print(params_df)\n",
    "params_df.style\\\n",
    "    .apply(lambda s: ['background-color: %s' % ('grey' if v else '') for v in s == \"async\"]) \\\n",
    "    .apply(lambda s: ['background-color: %s' % ('green' if v else '') for v in s == \"sync\"]) \\\n",
    "    .applymap(lambda s: 'color: %s' % ('cyan' if s == \"lstm_fn\" else '' )) \\\n",
    "    .applymap(lambda s: 'color: %s' % ('orange' if s == \"wavenet_fn\" else '' ))"
   ]
  },
  {
   "cell_type": "code",
   "execution_count": 7,
   "metadata": {},
   "outputs": [],
   "source": [
    "# Multinrun average explains for different xai models (# dl model)\n",
    "\n",
    "# Todo: add this function to lime.py\n",
    "#   coef_to_original = m.perturb_obj._x_masked\n",
    "# x_df = get_instance_x(df_norm, n_steps, independents)\n",
    "# x_arr = X[0]\n",
    "\n",
    "# Generate Explanations over 10 instances\n",
    "def get_xcoef(model, \n",
    "              instances,\n",
    "              scale=\"sync\", \n",
    "              r_fn='zeros',\n",
    "              window_size=window_size, \n",
    "              sample_size=samples_size):\n",
    "   \n",
    "    lime_ts = LIMETimeSeries(\n",
    "            scale=scale, \n",
    "            window_size=window_size,                                \n",
    "            sample_size=sample_size, \n",
    "            perturb_method=r_fn\n",
    "        )\n",
    "    lime_ts.xai_estimator = XAIModels.Ridge\n",
    "    lime_ts.explain_instances(instances, predict_fn=eval(model))\n",
    "\n",
    "    coef = lime_ts.coef\n",
    "    x_arr = instances[0]    # this to get x-coef in original format\n",
    "    x_coef = lime_ts.perturb_obj._x_masked(x_arr, coef)\n",
    "\n",
    "    return x_coef"
   ]
  },
  {
   "cell_type": "code",
   "execution_count": 8,
   "metadata": {},
   "outputs": [],
   "source": [
    "# Generate explanations for each option\n",
    "def generate_explanations():\n",
    "    X, y_true = zip(*test_set)\n",
    "    explanations = []\n",
    "    for scale, method, model in params:\n",
    "        sample_size = 200 if scale == 'sync' else 500\n",
    "        x_coef = get_xcoef(model, X[:10], scale, method, \n",
    "                        window_size=window_size, \n",
    "                        sample_size=sample_size)\n",
    "        d = {\"model\": model, \"scale\": scale, \"method\": method, \"xcoef\":x_coef}\n",
    "        explanations.append(d)\n",
    "    return explanations\n",
    "# Skip if explanations already generated:\n",
    "# explanations = generate_explanations()\n",
    "# np.save('data/explanations.npy',explanations)"
   ]
  }
 ],
 "metadata": {
  "language_info": {
   "codemirror_mode": {
    "name": "ipython",
    "version": 3
   },
   "file_extension": ".py",
   "mimetype": "text/x-python",
   "name": "python",
   "nbconvert_exporter": "python",
   "pygments_lexer": "ipython3",
   "version": "3.7.7-final"
  },
  "orig_nbformat": 2,
  "kernelspec": {
   "name": "python3",
   "display_name": "Python 3.7.7 64-bit ('dev37': conda)",
   "metadata": {
    "interpreter": {
     "hash": "76fdbec98d1ff00acce9daf8fa18366555273267a59abb67ea09584c9e70ea1a"
    }
   }
  }
 },
 "nbformat": 4,
 "nbformat_minor": 2
}