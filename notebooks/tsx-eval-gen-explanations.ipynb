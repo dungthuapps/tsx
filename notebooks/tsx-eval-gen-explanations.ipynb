{
 "cells": [
  {
   "cell_type": "code",
   "execution_count": 1,
   "metadata": {},
   "outputs": [],
   "source": [
    "import os\n",
    "import sys\n",
    "import pyts\n",
    "module_path = os.path.abspath(os.path.join('..'))\n",
    "if module_path not in sys.path:\n",
    "    sys.path.append(module_path)\n"
   ]
  },
  {
   "cell_type": "code",
   "execution_count": 2,
   "metadata": {},
   "outputs": [],
   "source": [
    "import numpy as np\n",
    "import pandas as pd\n",
    "import tensorflow as tf\n",
    "\n",
    "from matplotlib import pyplot as plt\n",
    "from matplotlib.colors import LinearSegmentedColormap\n",
    "from matplotlib.patches import Patch\n",
    "\n",
    "from tsx.perturbation import TimeSeriesPerturbation\n",
    "from tsx.xai.lime import LIMETimeSeries, XAIModels\n",
    "from tsx.xai import evaluation as eva\n",
    "\n",
    "from data_util import *\n",
    "from viz import *\n",
    "\n",
    "import itertools\n",
    "import pandas as pd\n",
    "from biokit.viz import corrplot"
   ]
  },
  {
   "source": [
    "### Objectives\n",
    "1. Evaluate between different XAI models but same family (Ridge, for example)\n",
    "1. Evaluate between different DL model, but same XAI model\n",
    "1. Evaluate the same on Multivariate Time Series\n",
    "1. (Todo) -> Evaluate the same on Univariate Time Series\n",
    "\n",
    "### Metrics to Evaluation\n",
    "1. coef correlations\n",
    "1. r2-scores\n",
    "    the scores when building XAI model in approximation process $f(z) ~ g(z') = w * z'$\n"
   ],
   "cell_type": "markdown",
   "metadata": {}
  },
  {
   "source": [
    "## Prepare Data Set"
   ],
   "cell_type": "markdown",
   "metadata": {}
  },
  {
   "cell_type": "code",
   "execution_count": 3,
   "metadata": {},
   "outputs": [],
   "source": [
    "independents = [\"dew\", \"temp\", \"press\", \"wind_direction\", \"wind_speed\", \"snow\", \"rain\"]\n",
    "dependent = \"pollution\"\n",
    "\n",
    "# Load data\n",
    "df = load_data_set_bejin()\n",
    "x_scaler, y_scaler = get_xy_scalers(df, independents, dependent)\n",
    "\n",
    "# Normalize data \n",
    "df[independents] = x_scaler.transform(df[independents].values)\n",
    "df[dependent] = y_scaler.transform(df[dependent].values.reshape(-1, 1))\n",
    "\n",
    "# Global param\n",
    "n_steps = 128\n",
    "window_size = 8\n",
    "n_variables = len(independents)\n",
    "samples_size = 100"
   ]
  },
  {
   "cell_type": "code",
   "execution_count": 4,
   "metadata": {},
   "outputs": [
    {
     "output_type": "stream",
     "name": "stdout",
     "text": [
      "(34936, 128, 7) (34936,)\n",
      "(8735, 128, 7) (8735,)\n"
     ]
    }
   ],
   "source": [
    "indices = [i for i in range(len(df) - 129)]\n",
    "train, test = np.split(indices, [int(len(indices)*0.8)])\n",
    "\n",
    "X = []\n",
    "y = []\n",
    "for index in train:\n",
    "    X.append(df.iloc[index:index+n_steps][independents].values)\n",
    "    y.append(df.iloc[index+n_steps][dependent])\n",
    "    \n",
    "X = np.array(X)\n",
    "y = np.array(y)\n",
    "print(X.shape, y.shape)\n",
    "\n",
    "\n",
    "X_test = []\n",
    "y_test = []\n",
    "for index in test:\n",
    "    X_test.append(df.iloc[index:index+n_steps][independents].values)\n",
    "    y_test.append(df.iloc[index+n_steps][dependent])\n",
    "    \n",
    "X_test = np.array(X_test)\n",
    "y_test = np.array(y_test)\n",
    "print(X_test.shape, y_test.shape)"
   ]
  },
  {
   "cell_type": "code",
   "execution_count": 5,
   "metadata": {},
   "outputs": [],
   "source": [
    "# from temporalnn.models.temporal import WaveNet\n",
    "# wavenet = WaveNet().build_model(input_shape=(128, 7),\n",
    "#                           x_steps=128,\n",
    "#                           y_steps=1,\n",
    "#                          gated_activations=['relu', 'sigmoid'],\n",
    "#                           n_conv_filters=32)\n",
    "# early_stopper = EarlyStopping(monitor='loss', min_delta=0.01, patience=3, verbose=1)\n",
    "# wavenet.compile(optimizer='adam', loss='mse')\n",
    "# wavenet.fit(X, y, callbacks=[early_stopper], epochs=20, batch_size=64, verbose=1)\n",
    "# wavenet.save(\"data/wavenet_mts_128_1.h5\")"
   ]
  },
  {
   "cell_type": "code",
   "execution_count": 6,
   "metadata": {},
   "outputs": [],
   "source": [
    "# from tensorflow.keras.models import Sequential\n",
    "# from tensorflow.keras.layers import LSTM\n",
    "# from tensorflow.keras.layers import Dense\n",
    "# from keras.callbacks import (EarlyStopping, ReduceLROnPlateau)\n",
    "# lstm = Sequential()\n",
    "# lstm.add(LSTM(units=50, activation='relu', input_shape=(128, 7)))\n",
    "# lstm.add(Dense(1))\n",
    "# lstm.compile(optimizer='adam', loss='mse')\n",
    "\n",
    "# early_stopper = EarlyStopping(monitor='loss', min_delta=0.002, patience=3, verbose=1)\n",
    "# lstm.fit(X, y, callbacks=[early_stopper], epochs=20, batch_size=64, verbose=1)\n",
    "# lstm.save(\"data/lstm_mts_128_1.h5\")"
   ]
  },
  {
   "cell_type": "code",
   "execution_count": 7,
   "metadata": {},
   "outputs": [],
   "source": [
    "# Models (re-train if something wrong)\n",
    "import tensorflow as tf\n",
    "wavenet = tf.keras.models.load_model(\"data/wavenet_mts_128_1.h5\")\n",
    "lstm = tf.keras.models.load_model(\"data/lstm_mts_128_1.h5\")"
   ]
  },
  {
   "cell_type": "code",
   "execution_count": 8,
   "metadata": {},
   "outputs": [],
   "source": [
    "def predict_fn(z, model=lstm):\n",
    "    z_reshaped = z.T.reshape(1, 128, 7)\n",
    "    z_hat = model.predict(z_reshaped)\n",
    "    # to avoid zero coef_ for z_hat in[0, 1]\n",
    "    z_hat = y_scaler.inverse_transform(z_hat.reshape(-1, 1))  \n",
    "    z_hat = z_hat.ravel()   # z_hat will arround 50 - 150\n",
    "    return z_hat[0]\n",
    "\n",
    "def lstm_fn(z):\n",
    "    return predict_fn(z, model=lstm)\n",
    "\n",
    "def wavenet_fn(z):\n",
    "    return predict_fn(z, model=wavenet)"
   ]
  },
  {
   "cell_type": "code",
   "execution_count": 9,
   "metadata": {},
   "outputs": [
    {
     "output_type": "execute_result",
     "data": {
      "text/plain": [
       "<pandas.io.formats.style.Styler at 0x7fe88bfe94d0>"
      ],
      "text/html": "<style  type=\"text/css\" >\n#T_8b9d7_row0_col0,#T_8b9d7_row1_col0,#T_8b9d7_row2_col0,#T_8b9d7_row3_col0,#T_8b9d7_row4_col0,#T_8b9d7_row5_col0{\n            background-color:  grey;\n            background-color:  ;\n            color:  ;\n            color:  ;\n        }#T_8b9d7_row0_col1,#T_8b9d7_row0_col2,#T_8b9d7_row1_col1,#T_8b9d7_row1_col2,#T_8b9d7_row2_col1,#T_8b9d7_row2_col2,#T_8b9d7_row3_col1,#T_8b9d7_row3_col2,#T_8b9d7_row4_col1,#T_8b9d7_row4_col2,#T_8b9d7_row5_col1,#T_8b9d7_row5_col2,#T_8b9d7_row6_col1,#T_8b9d7_row6_col2,#T_8b9d7_row7_col1,#T_8b9d7_row7_col2,#T_8b9d7_row8_col1,#T_8b9d7_row8_col2,#T_8b9d7_row9_col1,#T_8b9d7_row9_col2,#T_8b9d7_row10_col1,#T_8b9d7_row10_col2,#T_8b9d7_row11_col1,#T_8b9d7_row11_col2{\n            background-color:  ;\n            background-color:  ;\n            color:  ;\n            color:  ;\n        }#T_8b9d7_row6_col0,#T_8b9d7_row7_col0,#T_8b9d7_row8_col0,#T_8b9d7_row9_col0,#T_8b9d7_row10_col0,#T_8b9d7_row11_col0{\n            background-color:  ;\n            background-color:  green;\n            color:  ;\n            color:  ;\n        }</style><table id=\"T_8b9d7_\" ><thead>    <tr>        <th class=\"blank level0\" ></th>        <th class=\"col_heading level0 col0\" >scale</th>        <th class=\"col_heading level0 col1\" >method</th>        <th class=\"col_heading level0 col2\" >model</th>    </tr></thead><tbody>\n                <tr>\n                        <th id=\"T_8b9d7_level0_row0\" class=\"row_heading level0 row0\" >0</th>\n                        <td id=\"T_8b9d7_row0_col0\" class=\"data row0 col0\" >async</td>\n                        <td id=\"T_8b9d7_row0_col1\" class=\"data row0 col1\" >zeros</td>\n                        <td id=\"T_8b9d7_row0_col2\" class=\"data row0 col2\" >lstm</td>\n            </tr>\n            <tr>\n                        <th id=\"T_8b9d7_level0_row1\" class=\"row_heading level0 row1\" >1</th>\n                        <td id=\"T_8b9d7_row1_col0\" class=\"data row1 col0\" >async</td>\n                        <td id=\"T_8b9d7_row1_col1\" class=\"data row1 col1\" >zeros</td>\n                        <td id=\"T_8b9d7_row1_col2\" class=\"data row1 col2\" >wavenet</td>\n            </tr>\n            <tr>\n                        <th id=\"T_8b9d7_level0_row2\" class=\"row_heading level0 row2\" >2</th>\n                        <td id=\"T_8b9d7_row2_col0\" class=\"data row2 col0\" >async</td>\n                        <td id=\"T_8b9d7_row2_col1\" class=\"data row2 col1\" >local_mean</td>\n                        <td id=\"T_8b9d7_row2_col2\" class=\"data row2 col2\" >lstm</td>\n            </tr>\n            <tr>\n                        <th id=\"T_8b9d7_level0_row3\" class=\"row_heading level0 row3\" >3</th>\n                        <td id=\"T_8b9d7_row3_col0\" class=\"data row3 col0\" >async</td>\n                        <td id=\"T_8b9d7_row3_col1\" class=\"data row3 col1\" >local_mean</td>\n                        <td id=\"T_8b9d7_row3_col2\" class=\"data row3 col2\" >wavenet</td>\n            </tr>\n            <tr>\n                        <th id=\"T_8b9d7_level0_row4\" class=\"row_heading level0 row4\" >4</th>\n                        <td id=\"T_8b9d7_row4_col0\" class=\"data row4 col0\" >async</td>\n                        <td id=\"T_8b9d7_row4_col1\" class=\"data row4 col1\" >global_mean</td>\n                        <td id=\"T_8b9d7_row4_col2\" class=\"data row4 col2\" >lstm</td>\n            </tr>\n            <tr>\n                        <th id=\"T_8b9d7_level0_row5\" class=\"row_heading level0 row5\" >5</th>\n                        <td id=\"T_8b9d7_row5_col0\" class=\"data row5 col0\" >async</td>\n                        <td id=\"T_8b9d7_row5_col1\" class=\"data row5 col1\" >global_mean</td>\n                        <td id=\"T_8b9d7_row5_col2\" class=\"data row5 col2\" >wavenet</td>\n            </tr>\n            <tr>\n                        <th id=\"T_8b9d7_level0_row6\" class=\"row_heading level0 row6\" >6</th>\n                        <td id=\"T_8b9d7_row6_col0\" class=\"data row6 col0\" >sync</td>\n                        <td id=\"T_8b9d7_row6_col1\" class=\"data row6 col1\" >zeros</td>\n                        <td id=\"T_8b9d7_row6_col2\" class=\"data row6 col2\" >lstm</td>\n            </tr>\n            <tr>\n                        <th id=\"T_8b9d7_level0_row7\" class=\"row_heading level0 row7\" >7</th>\n                        <td id=\"T_8b9d7_row7_col0\" class=\"data row7 col0\" >sync</td>\n                        <td id=\"T_8b9d7_row7_col1\" class=\"data row7 col1\" >zeros</td>\n                        <td id=\"T_8b9d7_row7_col2\" class=\"data row7 col2\" >wavenet</td>\n            </tr>\n            <tr>\n                        <th id=\"T_8b9d7_level0_row8\" class=\"row_heading level0 row8\" >8</th>\n                        <td id=\"T_8b9d7_row8_col0\" class=\"data row8 col0\" >sync</td>\n                        <td id=\"T_8b9d7_row8_col1\" class=\"data row8 col1\" >local_mean</td>\n                        <td id=\"T_8b9d7_row8_col2\" class=\"data row8 col2\" >lstm</td>\n            </tr>\n            <tr>\n                        <th id=\"T_8b9d7_level0_row9\" class=\"row_heading level0 row9\" >9</th>\n                        <td id=\"T_8b9d7_row9_col0\" class=\"data row9 col0\" >sync</td>\n                        <td id=\"T_8b9d7_row9_col1\" class=\"data row9 col1\" >local_mean</td>\n                        <td id=\"T_8b9d7_row9_col2\" class=\"data row9 col2\" >wavenet</td>\n            </tr>\n            <tr>\n                        <th id=\"T_8b9d7_level0_row10\" class=\"row_heading level0 row10\" >10</th>\n                        <td id=\"T_8b9d7_row10_col0\" class=\"data row10 col0\" >sync</td>\n                        <td id=\"T_8b9d7_row10_col1\" class=\"data row10 col1\" >global_mean</td>\n                        <td id=\"T_8b9d7_row10_col2\" class=\"data row10 col2\" >lstm</td>\n            </tr>\n            <tr>\n                        <th id=\"T_8b9d7_level0_row11\" class=\"row_heading level0 row11\" >11</th>\n                        <td id=\"T_8b9d7_row11_col0\" class=\"data row11 col0\" >sync</td>\n                        <td id=\"T_8b9d7_row11_col1\" class=\"data row11 col1\" >global_mean</td>\n                        <td id=\"T_8b9d7_row11_col2\" class=\"data row11 col2\" >wavenet</td>\n            </tr>\n    </tbody></table>"
     },
     "metadata": {},
     "execution_count": 9
    }
   ],
   "source": [
    "# Prepare Params for different models\n",
    "scales = [\"async\", \"sync\"]\n",
    "repl_fn = [\"zeros\", \"local_mean\", \"global_mean\"]\n",
    "model_fn = [\"lstm\", \"wavenet\"]\n",
    "\n",
    "# params = list(itertools.product(scales, [\"zeros\"], [\"lstm\"]))\n",
    "params = list(itertools.product(scales, repl_fn, model_fn))\n",
    "\n",
    "params_df = pd.DataFrame([{\"scale\": s, \"method\": m, \"model\":model} for s, m, model in params])\n",
    "# print(params_df)\n",
    "params_df.style\\\n",
    "    .apply(lambda s: ['background-color: %s' % ('grey' if v else '') for v in s == \"async\"]) \\\n",
    "    .apply(lambda s: ['background-color: %s' % ('green' if v else '') for v in s == \"sync\"]) \\\n",
    "    .applymap(lambda s: 'color: %s' % ('cyan' if s == \"lstm_fn\" else '' )) \\\n",
    "    .applymap(lambda s: 'color: %s' % ('orange' if s == \"wavenet_fn\" else '' ))"
   ]
  },
  {
   "cell_type": "code",
   "execution_count": 10,
   "metadata": {},
   "outputs": [],
   "source": [
    "def get_xcoef(sample, scale=\"async\", method=\"zeros\", model=\"lstm\", **kwargs):\n",
    "    lime_ts = LIMETimeSeries(scale=scale, perturb_method=method, **kwargs)\n",
    "    lime_ts.explain(sample, predict_fn=eval(f\"{model}_fn\"))\n",
    "    coef = lime_ts.coef\n",
    "    x_coef = lime_ts.perturb_obj._x_masked(sample, coef)\n",
    "    return x_coef"
   ]
  },
  {
   "cell_type": "code",
   "execution_count": 11,
   "metadata": {},
   "outputs": [
    {
     "output_type": "stream",
     "name": "stdout",
     "text": [
      "Generating explanations for:  ('async', 'zeros', 'lstm')\n"
     ]
    },
    {
     "output_type": "display_data",
     "data": {
      "text/plain": "  0%|          | 0/500 [00:00<?, ?it/s]",
      "application/vnd.jupyter.widget-view+json": {
       "version_major": 2,
       "version_minor": 0,
       "model_id": "92da41a8ce0948d08635e62d0c9537ae"
      }
     },
     "metadata": {}
    },
    {
     "output_type": "stream",
     "name": "stdout",
     "text": [
      "Done\nGenerating explanations for:  ('async', 'zeros', 'wavenet')\n"
     ]
    },
    {
     "output_type": "display_data",
     "data": {
      "text/plain": "  0%|          | 0/500 [00:00<?, ?it/s]",
      "application/vnd.jupyter.widget-view+json": {
       "version_major": 2,
       "version_minor": 0,
       "model_id": "eebb3caf9ff0466390861c25d97229f9"
      }
     },
     "metadata": {}
    },
    {
     "output_type": "stream",
     "name": "stdout",
     "text": [
      "Done\nGenerating explanations for:  ('async', 'local_mean', 'lstm')\n"
     ]
    },
    {
     "output_type": "display_data",
     "data": {
      "text/plain": "  0%|          | 0/500 [00:00<?, ?it/s]",
      "application/vnd.jupyter.widget-view+json": {
       "version_major": 2,
       "version_minor": 0,
       "model_id": "e1b970011a73417a91c4cb8db68884f1"
      }
     },
     "metadata": {}
    },
    {
     "output_type": "stream",
     "name": "stdout",
     "text": [
      "Done\nGenerating explanations for:  ('async', 'local_mean', 'wavenet')\n"
     ]
    },
    {
     "output_type": "display_data",
     "data": {
      "text/plain": "  0%|          | 0/500 [00:00<?, ?it/s]",
      "application/vnd.jupyter.widget-view+json": {
       "version_major": 2,
       "version_minor": 0,
       "model_id": "f7f0d7c2cb5447b982c8544d4a1e5ac7"
      }
     },
     "metadata": {}
    },
    {
     "output_type": "stream",
     "name": "stdout",
     "text": [
      "Done\nGenerating explanations for:  ('async', 'global_mean', 'lstm')\n"
     ]
    },
    {
     "output_type": "display_data",
     "data": {
      "text/plain": "  0%|          | 0/500 [00:00<?, ?it/s]",
      "application/vnd.jupyter.widget-view+json": {
       "version_major": 2,
       "version_minor": 0,
       "model_id": "5d97953689134ed08056493bb85c53be"
      }
     },
     "metadata": {}
    },
    {
     "output_type": "stream",
     "name": "stdout",
     "text": [
      "Done\nGenerating explanations for:  ('async', 'global_mean', 'wavenet')\n"
     ]
    },
    {
     "output_type": "display_data",
     "data": {
      "text/plain": "  0%|          | 0/500 [00:00<?, ?it/s]",
      "application/vnd.jupyter.widget-view+json": {
       "version_major": 2,
       "version_minor": 0,
       "model_id": "93b5bd26baff43bfa2713693dbdc4302"
      }
     },
     "metadata": {}
    },
    {
     "output_type": "stream",
     "name": "stdout",
     "text": [
      "Done\nGenerating explanations for:  ('sync', 'zeros', 'lstm')\n"
     ]
    },
    {
     "output_type": "display_data",
     "data": {
      "text/plain": "  0%|          | 0/500 [00:00<?, ?it/s]",
      "application/vnd.jupyter.widget-view+json": {
       "version_major": 2,
       "version_minor": 0,
       "model_id": "58ab2f6ce28a4de29bfac7d975715155"
      }
     },
     "metadata": {}
    },
    {
     "output_type": "stream",
     "name": "stdout",
     "text": [
      "Done\nGenerating explanations for:  ('sync', 'zeros', 'wavenet')\n"
     ]
    },
    {
     "output_type": "display_data",
     "data": {
      "text/plain": "  0%|          | 0/500 [00:00<?, ?it/s]",
      "application/vnd.jupyter.widget-view+json": {
       "version_major": 2,
       "version_minor": 0,
       "model_id": "879238a1b7a045f6bfd66e5ec51f4f64"
      }
     },
     "metadata": {}
    },
    {
     "output_type": "stream",
     "name": "stdout",
     "text": [
      "Done\nGenerating explanations for:  ('sync', 'local_mean', 'lstm')\n"
     ]
    },
    {
     "output_type": "display_data",
     "data": {
      "text/plain": "  0%|          | 0/500 [00:00<?, ?it/s]",
      "application/vnd.jupyter.widget-view+json": {
       "version_major": 2,
       "version_minor": 0,
       "model_id": "fc9142c7ea554b84a7f857c101d6f2e9"
      }
     },
     "metadata": {}
    },
    {
     "output_type": "stream",
     "name": "stdout",
     "text": [
      "Done\nGenerating explanations for:  ('sync', 'local_mean', 'wavenet')\n"
     ]
    },
    {
     "output_type": "display_data",
     "data": {
      "text/plain": "  0%|          | 0/500 [00:00<?, ?it/s]",
      "application/vnd.jupyter.widget-view+json": {
       "version_major": 2,
       "version_minor": 0,
       "model_id": "6fe19c4f216a4e6a9e79cf09c1587009"
      }
     },
     "metadata": {}
    },
    {
     "output_type": "stream",
     "name": "stdout",
     "text": [
      "Done\nGenerating explanations for:  ('sync', 'global_mean', 'lstm')\n"
     ]
    },
    {
     "output_type": "display_data",
     "data": {
      "text/plain": "  0%|          | 0/500 [00:00<?, ?it/s]",
      "application/vnd.jupyter.widget-view+json": {
       "version_major": 2,
       "version_minor": 0,
       "model_id": "52468cfaa0434355b199026e7393e424"
      }
     },
     "metadata": {}
    },
    {
     "output_type": "stream",
     "name": "stdout",
     "text": [
      "Done\nGenerating explanations for:  ('sync', 'global_mean', 'wavenet')\n"
     ]
    },
    {
     "output_type": "display_data",
     "data": {
      "text/plain": "  0%|          | 0/500 [00:00<?, ?it/s]",
      "application/vnd.jupyter.widget-view+json": {
       "version_major": 2,
       "version_minor": 0,
       "model_id": "6b664468e4c449af868c6d923e583bbf"
      }
     },
     "metadata": {}
    },
    {
     "output_type": "stream",
     "name": "stdout",
     "text": [
      "Done\n"
     ]
    }
   ],
   "source": [
    "from tqdm.notebook import tqdm\n",
    "import time\n",
    "# Generate explanations for each option\n",
    "# X_test \n",
    "# y_test\n",
    "N = 500\n",
    "explanations = []\n",
    "for p in params:   # scale, method, model\n",
    "    print(\"Generating explanations for: \", p)\n",
    "\n",
    "    time.sleep(1)\n",
    "    # sample_size = 200 if p[0] == 'sync' else 500 \n",
    "    sample_size = 100   \n",
    "    exp = [get_xcoef(x.T, *p, samples_size=sample_size, window_size=4) for x in tqdm(X_test[:N])]\n",
    "    exp = np.array(exp, copy=True)\n",
    "    d = {\"scale\": p[0], \"method\": p[1], \"model\": p[2], \"explanations\":exp}\n",
    "    explanations.append(d)\n",
    "\n",
    "    time.sleep(1)\n",
    "    print(\"Done\")"
   ]
  },
  {
   "cell_type": "code",
   "execution_count": 12,
   "metadata": {},
   "outputs": [],
   "source": [
    "# Skip if explanations already generated:\n",
    "# explanations = generate_explanations()\n",
    "t = np.array((X_test[:N], y_test[:N], explanations))\n",
    "np.save('data/explanations_and_test_set_w4.npy',t)"
   ]
  },
  {
   "cell_type": "code",
   "execution_count": 13,
   "metadata": {},
   "outputs": [],
   "source": [
    "# set 1 -> windows size = 8, sample_size = 200\n",
    "# set 2 -> windows size = 8, sample size = 100  (not much different in the result)\n",
    "# set 3 -> windows size = 1, sample size = 100\n",
    "# set 4 -> windows size = 4, sample size = 100"
   ]
  }
 ],
 "metadata": {
  "language_info": {
   "codemirror_mode": {
    "name": "ipython",
    "version": 3
   },
   "file_extension": ".py",
   "mimetype": "text/x-python",
   "name": "python",
   "nbconvert_exporter": "python",
   "pygments_lexer": "ipython3",
   "version": "3.7.7-final"
  },
  "orig_nbformat": 2,
  "kernelspec": {
   "name": "python3",
   "display_name": "Python 3.7.7 64-bit ('dev37': conda)",
   "metadata": {
    "interpreter": {
     "hash": "76fdbec98d1ff00acce9daf8fa18366555273267a59abb67ea09584c9e70ea1a"
    }
   }
  }
 },
 "nbformat": 4,
 "nbformat_minor": 2
}